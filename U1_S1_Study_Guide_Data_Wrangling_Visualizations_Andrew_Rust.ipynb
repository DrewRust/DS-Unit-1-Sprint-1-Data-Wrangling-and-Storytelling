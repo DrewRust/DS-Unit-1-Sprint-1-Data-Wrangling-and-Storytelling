{
  "nbformat": 4,
  "nbformat_minor": 0,
  "metadata": {
    "colab": {
      "name": "U1 S1_Study_Guide_Data Wrangling_Visualizations_Andrew_Rust.ipynb",
      "provenance": [],
      "collapsed_sections": [],
      "include_colab_link": true
    },
    "kernelspec": {
      "name": "python3",
      "display_name": "Python 3"
    }
  },
  "cells": [
    {
      "cell_type": "markdown",
      "metadata": {
        "id": "view-in-github",
        "colab_type": "text"
      },
      "source": [
        "<a href=\"https://colab.research.google.com/github/DrewRust/DS-Unit-1-Sprint-1-Data-Wrangling-and-Storytelling/blob/master/U1_S1_Study_Guide_Data_Wrangling_Visualizations_Andrew_Rust.ipynb\" target=\"_parent\"><img src=\"https://colab.research.google.com/assets/colab-badge.svg\" alt=\"Open In Colab\"/></a>"
      ]
    },
    {
      "cell_type": "markdown",
      "metadata": {
        "id": "LC39gYz8ZVKF",
        "colab_type": "text"
      },
      "source": [
        "This study guide should reinforce and provide practice for all of the concepts you have seen in the past week. There are a mix of written questions and coding exercises, both are equally important to prepare you for the sprint challenge as well as to be able to speak on these topics comfortably in interviews and on the job.\n",
        "\n",
        "If you get stuck or are unsure of something remember the 20 minute rule. If that doesn't help, then research a solution with google and stackoverflow. Only once you have exausted these methods should you turn to your Team Lead - they won't be there on your SC or during an interview. That being said, don't hesitate to ask for help if you truly are stuck.\n",
        "\n",
        "Have fun studying!"
      ]
    },
    {
      "cell_type": "markdown",
      "metadata": {
        "id": "DI3Ev_xu1KRN",
        "colab_type": "text"
      },
      "source": [
        "# Resources\n",
        "[Pandas Documentation](https://pandas.pydata.org/pandas-docs/stable/reference/index.html)\n",
        "\n",
        "[Matplotlib Documentation](https://matplotlib.org/3.1.1/api/pyplot_summary.html)\n",
        "\n",
        "[Pandas EDA Cheat Sheet](https://github.com/bundickm/CheatSheets/blob/master/Data_Cleaning_and_Exploring_Cheat_Sheet.ipynb)\n",
        "\n",
        "[Pandas Data Wrangling Cheat Sheet](https://github.com/bundickm/CheatSheets/blob/master/Data_wrangling_cheatsheet.pdf)\n",
        "\n",
        "[Matplotlib Cheat Sheet](https://github.com/bundickm/CheatSheets/blob/master/MatplotLib_Cheat_Sheet.ipynb)"
      ]
    },
    {
      "cell_type": "markdown",
      "metadata": {
        "id": "-_4LgTTcDz-5",
        "colab_type": "text"
      },
      "source": [
        "# Setup"
      ]
    },
    {
      "cell_type": "markdown",
      "metadata": {
        "id": "xKAlguQSD7kl",
        "colab_type": "text"
      },
      "source": [
        "Import and alias the following libraries:\n",
        "- numpy\n",
        "- pandas\n",
        "- matplot\n",
        "- seaborn"
      ]
    },
    {
      "cell_type": "code",
      "metadata": {
        "id": "_HUoZ4slCjSf",
        "colab_type": "code",
        "colab": {}
      },
      "source": [
        "import pandas as pd\n",
        "import numpy as np\n",
        "import matplotlib.pyplot as plt\n",
        "import seaborn as sns\n",
        "%matplotlib inline"
      ],
      "execution_count": 0,
      "outputs": []
    },
    {
      "cell_type": "markdown",
      "metadata": {
        "id": "9s_RXnzmEZjn",
        "colab_type": "text"
      },
      "source": [
        "Read in the auto data csv below and verify it's contents"
      ]
    },
    {
      "cell_type": "code",
      "metadata": {
        "id": "qyfFozmfFMln",
        "colab_type": "code",
        "colab": {}
      },
      "source": [
        "auto_url = 'https://archive.ics.uci.edu/ml/machine-learning-databases/autos/imports-85.data'"
      ],
      "execution_count": 0,
      "outputs": []
    },
    {
      "cell_type": "code",
      "metadata": {
        "id": "VeKPIs40G98C",
        "colab_type": "code",
        "colab": {
          "base_uri": "https://localhost:8080/",
          "height": 198
        },
        "outputId": "e5a108ef-0b52-466a-d085-86ccc89fd5b9"
      },
      "source": [
        "auto_df = pd.read_csv(auto_url)\n",
        "auto_df.head()"
      ],
      "execution_count": 257,
      "outputs": [
        {
          "output_type": "execute_result",
          "data": {
            "text/html": [
              "<div>\n",
              "<style scoped>\n",
              "    .dataframe tbody tr th:only-of-type {\n",
              "        vertical-align: middle;\n",
              "    }\n",
              "\n",
              "    .dataframe tbody tr th {\n",
              "        vertical-align: top;\n",
              "    }\n",
              "\n",
              "    .dataframe thead th {\n",
              "        text-align: right;\n",
              "    }\n",
              "</style>\n",
              "<table border=\"1\" class=\"dataframe\">\n",
              "  <thead>\n",
              "    <tr style=\"text-align: right;\">\n",
              "      <th></th>\n",
              "      <th>3</th>\n",
              "      <th>?</th>\n",
              "      <th>alfa-romero</th>\n",
              "      <th>gas</th>\n",
              "      <th>std</th>\n",
              "      <th>two</th>\n",
              "      <th>convertible</th>\n",
              "      <th>rwd</th>\n",
              "      <th>front</th>\n",
              "      <th>88.60</th>\n",
              "      <th>168.80</th>\n",
              "      <th>64.10</th>\n",
              "      <th>48.80</th>\n",
              "      <th>2548</th>\n",
              "      <th>dohc</th>\n",
              "      <th>four</th>\n",
              "      <th>130</th>\n",
              "      <th>mpfi</th>\n",
              "      <th>3.47</th>\n",
              "      <th>2.68</th>\n",
              "      <th>9.00</th>\n",
              "      <th>111</th>\n",
              "      <th>5000</th>\n",
              "      <th>21</th>\n",
              "      <th>27</th>\n",
              "      <th>13495</th>\n",
              "    </tr>\n",
              "  </thead>\n",
              "  <tbody>\n",
              "    <tr>\n",
              "      <th>0</th>\n",
              "      <td>3</td>\n",
              "      <td>?</td>\n",
              "      <td>alfa-romero</td>\n",
              "      <td>gas</td>\n",
              "      <td>std</td>\n",
              "      <td>two</td>\n",
              "      <td>convertible</td>\n",
              "      <td>rwd</td>\n",
              "      <td>front</td>\n",
              "      <td>88.6</td>\n",
              "      <td>168.8</td>\n",
              "      <td>64.1</td>\n",
              "      <td>48.8</td>\n",
              "      <td>2548</td>\n",
              "      <td>dohc</td>\n",
              "      <td>four</td>\n",
              "      <td>130</td>\n",
              "      <td>mpfi</td>\n",
              "      <td>3.47</td>\n",
              "      <td>2.68</td>\n",
              "      <td>9.0</td>\n",
              "      <td>111</td>\n",
              "      <td>5000</td>\n",
              "      <td>21</td>\n",
              "      <td>27</td>\n",
              "      <td>16500</td>\n",
              "    </tr>\n",
              "    <tr>\n",
              "      <th>1</th>\n",
              "      <td>1</td>\n",
              "      <td>?</td>\n",
              "      <td>alfa-romero</td>\n",
              "      <td>gas</td>\n",
              "      <td>std</td>\n",
              "      <td>two</td>\n",
              "      <td>hatchback</td>\n",
              "      <td>rwd</td>\n",
              "      <td>front</td>\n",
              "      <td>94.5</td>\n",
              "      <td>171.2</td>\n",
              "      <td>65.5</td>\n",
              "      <td>52.4</td>\n",
              "      <td>2823</td>\n",
              "      <td>ohcv</td>\n",
              "      <td>six</td>\n",
              "      <td>152</td>\n",
              "      <td>mpfi</td>\n",
              "      <td>2.68</td>\n",
              "      <td>3.47</td>\n",
              "      <td>9.0</td>\n",
              "      <td>154</td>\n",
              "      <td>5000</td>\n",
              "      <td>19</td>\n",
              "      <td>26</td>\n",
              "      <td>16500</td>\n",
              "    </tr>\n",
              "    <tr>\n",
              "      <th>2</th>\n",
              "      <td>2</td>\n",
              "      <td>164</td>\n",
              "      <td>audi</td>\n",
              "      <td>gas</td>\n",
              "      <td>std</td>\n",
              "      <td>four</td>\n",
              "      <td>sedan</td>\n",
              "      <td>fwd</td>\n",
              "      <td>front</td>\n",
              "      <td>99.8</td>\n",
              "      <td>176.6</td>\n",
              "      <td>66.2</td>\n",
              "      <td>54.3</td>\n",
              "      <td>2337</td>\n",
              "      <td>ohc</td>\n",
              "      <td>four</td>\n",
              "      <td>109</td>\n",
              "      <td>mpfi</td>\n",
              "      <td>3.19</td>\n",
              "      <td>3.40</td>\n",
              "      <td>10.0</td>\n",
              "      <td>102</td>\n",
              "      <td>5500</td>\n",
              "      <td>24</td>\n",
              "      <td>30</td>\n",
              "      <td>13950</td>\n",
              "    </tr>\n",
              "    <tr>\n",
              "      <th>3</th>\n",
              "      <td>2</td>\n",
              "      <td>164</td>\n",
              "      <td>audi</td>\n",
              "      <td>gas</td>\n",
              "      <td>std</td>\n",
              "      <td>four</td>\n",
              "      <td>sedan</td>\n",
              "      <td>4wd</td>\n",
              "      <td>front</td>\n",
              "      <td>99.4</td>\n",
              "      <td>176.6</td>\n",
              "      <td>66.4</td>\n",
              "      <td>54.3</td>\n",
              "      <td>2824</td>\n",
              "      <td>ohc</td>\n",
              "      <td>five</td>\n",
              "      <td>136</td>\n",
              "      <td>mpfi</td>\n",
              "      <td>3.19</td>\n",
              "      <td>3.40</td>\n",
              "      <td>8.0</td>\n",
              "      <td>115</td>\n",
              "      <td>5500</td>\n",
              "      <td>18</td>\n",
              "      <td>22</td>\n",
              "      <td>17450</td>\n",
              "    </tr>\n",
              "    <tr>\n",
              "      <th>4</th>\n",
              "      <td>2</td>\n",
              "      <td>?</td>\n",
              "      <td>audi</td>\n",
              "      <td>gas</td>\n",
              "      <td>std</td>\n",
              "      <td>two</td>\n",
              "      <td>sedan</td>\n",
              "      <td>fwd</td>\n",
              "      <td>front</td>\n",
              "      <td>99.8</td>\n",
              "      <td>177.3</td>\n",
              "      <td>66.3</td>\n",
              "      <td>53.1</td>\n",
              "      <td>2507</td>\n",
              "      <td>ohc</td>\n",
              "      <td>five</td>\n",
              "      <td>136</td>\n",
              "      <td>mpfi</td>\n",
              "      <td>3.19</td>\n",
              "      <td>3.40</td>\n",
              "      <td>8.5</td>\n",
              "      <td>110</td>\n",
              "      <td>5500</td>\n",
              "      <td>19</td>\n",
              "      <td>25</td>\n",
              "      <td>15250</td>\n",
              "    </tr>\n",
              "  </tbody>\n",
              "</table>\n",
              "</div>"
            ],
            "text/plain": [
              "   3    ?  alfa-romero  gas  std   two  ...  9.00  111  5000  21  27  13495\n",
              "0  3    ?  alfa-romero  gas  std   two  ...   9.0  111  5000  21  27  16500\n",
              "1  1    ?  alfa-romero  gas  std   two  ...   9.0  154  5000  19  26  16500\n",
              "2  2  164         audi  gas  std  four  ...  10.0  102  5500  24  30  13950\n",
              "3  2  164         audi  gas  std  four  ...   8.0  115  5500  18  22  17450\n",
              "4  2    ?         audi  gas  std   two  ...   8.5  110  5500  19  25  15250\n",
              "\n",
              "[5 rows x 26 columns]"
            ]
          },
          "metadata": {
            "tags": []
          },
          "execution_count": 257
        }
      ]
    },
    {
      "cell_type": "markdown",
      "metadata": {
        "id": "t27UxbeWFxIo",
        "colab_type": "text"
      },
      "source": [
        "You should see there are no column headers. Read in the csv with the column names below and then check the first 5 and last 5 rows of the data frame"
      ]
    },
    {
      "cell_type": "code",
      "metadata": {
        "id": "Tw59O017GDGu",
        "colab_type": "code",
        "colab": {}
      },
      "source": [
        "columns = ['symboling','norm_loss','make','fuel','aspiration','doors',\n",
        "           'bod_style','drv_wheels','eng_loc','wheel_base','length','width',\n",
        "           'height','curb_weight','engine','cylinders','engine_size',\n",
        "           'fuel_system','bore','stroke','compression','hp','peak_rpm',\n",
        "           'city_mpg','hgwy_mpg','price']"
      ],
      "execution_count": 0,
      "outputs": []
    },
    {
      "cell_type": "code",
      "metadata": {
        "id": "V7m4Bl3UHqHt",
        "colab_type": "code",
        "colab": {
          "base_uri": "https://localhost:8080/",
          "height": 270
        },
        "outputId": "61d67886-98d9-49a3-bbe5-9116d4b42249"
      },
      "source": [
        "auto_df = pd.read_csv(auto_url, header = None, names=columns)\n",
        "auto_df.reset_index(drop=True)\n",
        "auto_df.head()"
      ],
      "execution_count": 259,
      "outputs": [
        {
          "output_type": "execute_result",
          "data": {
            "text/html": [
              "<div>\n",
              "<style scoped>\n",
              "    .dataframe tbody tr th:only-of-type {\n",
              "        vertical-align: middle;\n",
              "    }\n",
              "\n",
              "    .dataframe tbody tr th {\n",
              "        vertical-align: top;\n",
              "    }\n",
              "\n",
              "    .dataframe thead th {\n",
              "        text-align: right;\n",
              "    }\n",
              "</style>\n",
              "<table border=\"1\" class=\"dataframe\">\n",
              "  <thead>\n",
              "    <tr style=\"text-align: right;\">\n",
              "      <th></th>\n",
              "      <th>symboling</th>\n",
              "      <th>norm_loss</th>\n",
              "      <th>make</th>\n",
              "      <th>fuel</th>\n",
              "      <th>aspiration</th>\n",
              "      <th>doors</th>\n",
              "      <th>bod_style</th>\n",
              "      <th>drv_wheels</th>\n",
              "      <th>eng_loc</th>\n",
              "      <th>wheel_base</th>\n",
              "      <th>length</th>\n",
              "      <th>width</th>\n",
              "      <th>height</th>\n",
              "      <th>curb_weight</th>\n",
              "      <th>engine</th>\n",
              "      <th>cylinders</th>\n",
              "      <th>engine_size</th>\n",
              "      <th>fuel_system</th>\n",
              "      <th>bore</th>\n",
              "      <th>stroke</th>\n",
              "      <th>compression</th>\n",
              "      <th>hp</th>\n",
              "      <th>peak_rpm</th>\n",
              "      <th>city_mpg</th>\n",
              "      <th>hgwy_mpg</th>\n",
              "      <th>price</th>\n",
              "    </tr>\n",
              "  </thead>\n",
              "  <tbody>\n",
              "    <tr>\n",
              "      <th>0</th>\n",
              "      <td>3</td>\n",
              "      <td>?</td>\n",
              "      <td>alfa-romero</td>\n",
              "      <td>gas</td>\n",
              "      <td>std</td>\n",
              "      <td>two</td>\n",
              "      <td>convertible</td>\n",
              "      <td>rwd</td>\n",
              "      <td>front</td>\n",
              "      <td>88.6</td>\n",
              "      <td>168.8</td>\n",
              "      <td>64.1</td>\n",
              "      <td>48.8</td>\n",
              "      <td>2548</td>\n",
              "      <td>dohc</td>\n",
              "      <td>four</td>\n",
              "      <td>130</td>\n",
              "      <td>mpfi</td>\n",
              "      <td>3.47</td>\n",
              "      <td>2.68</td>\n",
              "      <td>9.0</td>\n",
              "      <td>111</td>\n",
              "      <td>5000</td>\n",
              "      <td>21</td>\n",
              "      <td>27</td>\n",
              "      <td>13495</td>\n",
              "    </tr>\n",
              "    <tr>\n",
              "      <th>1</th>\n",
              "      <td>3</td>\n",
              "      <td>?</td>\n",
              "      <td>alfa-romero</td>\n",
              "      <td>gas</td>\n",
              "      <td>std</td>\n",
              "      <td>two</td>\n",
              "      <td>convertible</td>\n",
              "      <td>rwd</td>\n",
              "      <td>front</td>\n",
              "      <td>88.6</td>\n",
              "      <td>168.8</td>\n",
              "      <td>64.1</td>\n",
              "      <td>48.8</td>\n",
              "      <td>2548</td>\n",
              "      <td>dohc</td>\n",
              "      <td>four</td>\n",
              "      <td>130</td>\n",
              "      <td>mpfi</td>\n",
              "      <td>3.47</td>\n",
              "      <td>2.68</td>\n",
              "      <td>9.0</td>\n",
              "      <td>111</td>\n",
              "      <td>5000</td>\n",
              "      <td>21</td>\n",
              "      <td>27</td>\n",
              "      <td>16500</td>\n",
              "    </tr>\n",
              "    <tr>\n",
              "      <th>2</th>\n",
              "      <td>1</td>\n",
              "      <td>?</td>\n",
              "      <td>alfa-romero</td>\n",
              "      <td>gas</td>\n",
              "      <td>std</td>\n",
              "      <td>two</td>\n",
              "      <td>hatchback</td>\n",
              "      <td>rwd</td>\n",
              "      <td>front</td>\n",
              "      <td>94.5</td>\n",
              "      <td>171.2</td>\n",
              "      <td>65.5</td>\n",
              "      <td>52.4</td>\n",
              "      <td>2823</td>\n",
              "      <td>ohcv</td>\n",
              "      <td>six</td>\n",
              "      <td>152</td>\n",
              "      <td>mpfi</td>\n",
              "      <td>2.68</td>\n",
              "      <td>3.47</td>\n",
              "      <td>9.0</td>\n",
              "      <td>154</td>\n",
              "      <td>5000</td>\n",
              "      <td>19</td>\n",
              "      <td>26</td>\n",
              "      <td>16500</td>\n",
              "    </tr>\n",
              "    <tr>\n",
              "      <th>3</th>\n",
              "      <td>2</td>\n",
              "      <td>164</td>\n",
              "      <td>audi</td>\n",
              "      <td>gas</td>\n",
              "      <td>std</td>\n",
              "      <td>four</td>\n",
              "      <td>sedan</td>\n",
              "      <td>fwd</td>\n",
              "      <td>front</td>\n",
              "      <td>99.8</td>\n",
              "      <td>176.6</td>\n",
              "      <td>66.2</td>\n",
              "      <td>54.3</td>\n",
              "      <td>2337</td>\n",
              "      <td>ohc</td>\n",
              "      <td>four</td>\n",
              "      <td>109</td>\n",
              "      <td>mpfi</td>\n",
              "      <td>3.19</td>\n",
              "      <td>3.40</td>\n",
              "      <td>10.0</td>\n",
              "      <td>102</td>\n",
              "      <td>5500</td>\n",
              "      <td>24</td>\n",
              "      <td>30</td>\n",
              "      <td>13950</td>\n",
              "    </tr>\n",
              "    <tr>\n",
              "      <th>4</th>\n",
              "      <td>2</td>\n",
              "      <td>164</td>\n",
              "      <td>audi</td>\n",
              "      <td>gas</td>\n",
              "      <td>std</td>\n",
              "      <td>four</td>\n",
              "      <td>sedan</td>\n",
              "      <td>4wd</td>\n",
              "      <td>front</td>\n",
              "      <td>99.4</td>\n",
              "      <td>176.6</td>\n",
              "      <td>66.4</td>\n",
              "      <td>54.3</td>\n",
              "      <td>2824</td>\n",
              "      <td>ohc</td>\n",
              "      <td>five</td>\n",
              "      <td>136</td>\n",
              "      <td>mpfi</td>\n",
              "      <td>3.19</td>\n",
              "      <td>3.40</td>\n",
              "      <td>8.0</td>\n",
              "      <td>115</td>\n",
              "      <td>5500</td>\n",
              "      <td>18</td>\n",
              "      <td>22</td>\n",
              "      <td>17450</td>\n",
              "    </tr>\n",
              "  </tbody>\n",
              "</table>\n",
              "</div>"
            ],
            "text/plain": [
              "   symboling norm_loss         make fuel  ... peak_rpm city_mpg hgwy_mpg  price\n",
              "0          3         ?  alfa-romero  gas  ...     5000       21       27  13495\n",
              "1          3         ?  alfa-romero  gas  ...     5000       21       27  16500\n",
              "2          1         ?  alfa-romero  gas  ...     5000       19       26  16500\n",
              "3          2       164         audi  gas  ...     5500       24       30  13950\n",
              "4          2       164         audi  gas  ...     5500       18       22  17450\n",
              "\n",
              "[5 rows x 26 columns]"
            ]
          },
          "metadata": {
            "tags": []
          },
          "execution_count": 259
        }
      ]
    },
    {
      "cell_type": "code",
      "metadata": {
        "id": "wcQSNUISH1-Q",
        "colab_type": "code",
        "colab": {
          "base_uri": "https://localhost:8080/",
          "height": 218
        },
        "outputId": "361cf812-3460-4e2b-df49-33afef6852a5"
      },
      "source": [
        "auto_df.tail()"
      ],
      "execution_count": 260,
      "outputs": [
        {
          "output_type": "execute_result",
          "data": {
            "text/html": [
              "<div>\n",
              "<style scoped>\n",
              "    .dataframe tbody tr th:only-of-type {\n",
              "        vertical-align: middle;\n",
              "    }\n",
              "\n",
              "    .dataframe tbody tr th {\n",
              "        vertical-align: top;\n",
              "    }\n",
              "\n",
              "    .dataframe thead th {\n",
              "        text-align: right;\n",
              "    }\n",
              "</style>\n",
              "<table border=\"1\" class=\"dataframe\">\n",
              "  <thead>\n",
              "    <tr style=\"text-align: right;\">\n",
              "      <th></th>\n",
              "      <th>symboling</th>\n",
              "      <th>norm_loss</th>\n",
              "      <th>make</th>\n",
              "      <th>fuel</th>\n",
              "      <th>aspiration</th>\n",
              "      <th>doors</th>\n",
              "      <th>bod_style</th>\n",
              "      <th>drv_wheels</th>\n",
              "      <th>eng_loc</th>\n",
              "      <th>wheel_base</th>\n",
              "      <th>length</th>\n",
              "      <th>width</th>\n",
              "      <th>height</th>\n",
              "      <th>curb_weight</th>\n",
              "      <th>engine</th>\n",
              "      <th>cylinders</th>\n",
              "      <th>engine_size</th>\n",
              "      <th>fuel_system</th>\n",
              "      <th>bore</th>\n",
              "      <th>stroke</th>\n",
              "      <th>compression</th>\n",
              "      <th>hp</th>\n",
              "      <th>peak_rpm</th>\n",
              "      <th>city_mpg</th>\n",
              "      <th>hgwy_mpg</th>\n",
              "      <th>price</th>\n",
              "    </tr>\n",
              "  </thead>\n",
              "  <tbody>\n",
              "    <tr>\n",
              "      <th>200</th>\n",
              "      <td>-1</td>\n",
              "      <td>95</td>\n",
              "      <td>volvo</td>\n",
              "      <td>gas</td>\n",
              "      <td>std</td>\n",
              "      <td>four</td>\n",
              "      <td>sedan</td>\n",
              "      <td>rwd</td>\n",
              "      <td>front</td>\n",
              "      <td>109.1</td>\n",
              "      <td>188.8</td>\n",
              "      <td>68.9</td>\n",
              "      <td>55.5</td>\n",
              "      <td>2952</td>\n",
              "      <td>ohc</td>\n",
              "      <td>four</td>\n",
              "      <td>141</td>\n",
              "      <td>mpfi</td>\n",
              "      <td>3.78</td>\n",
              "      <td>3.15</td>\n",
              "      <td>9.5</td>\n",
              "      <td>114</td>\n",
              "      <td>5400</td>\n",
              "      <td>23</td>\n",
              "      <td>28</td>\n",
              "      <td>16845</td>\n",
              "    </tr>\n",
              "    <tr>\n",
              "      <th>201</th>\n",
              "      <td>-1</td>\n",
              "      <td>95</td>\n",
              "      <td>volvo</td>\n",
              "      <td>gas</td>\n",
              "      <td>turbo</td>\n",
              "      <td>four</td>\n",
              "      <td>sedan</td>\n",
              "      <td>rwd</td>\n",
              "      <td>front</td>\n",
              "      <td>109.1</td>\n",
              "      <td>188.8</td>\n",
              "      <td>68.8</td>\n",
              "      <td>55.5</td>\n",
              "      <td>3049</td>\n",
              "      <td>ohc</td>\n",
              "      <td>four</td>\n",
              "      <td>141</td>\n",
              "      <td>mpfi</td>\n",
              "      <td>3.78</td>\n",
              "      <td>3.15</td>\n",
              "      <td>8.7</td>\n",
              "      <td>160</td>\n",
              "      <td>5300</td>\n",
              "      <td>19</td>\n",
              "      <td>25</td>\n",
              "      <td>19045</td>\n",
              "    </tr>\n",
              "    <tr>\n",
              "      <th>202</th>\n",
              "      <td>-1</td>\n",
              "      <td>95</td>\n",
              "      <td>volvo</td>\n",
              "      <td>gas</td>\n",
              "      <td>std</td>\n",
              "      <td>four</td>\n",
              "      <td>sedan</td>\n",
              "      <td>rwd</td>\n",
              "      <td>front</td>\n",
              "      <td>109.1</td>\n",
              "      <td>188.8</td>\n",
              "      <td>68.9</td>\n",
              "      <td>55.5</td>\n",
              "      <td>3012</td>\n",
              "      <td>ohcv</td>\n",
              "      <td>six</td>\n",
              "      <td>173</td>\n",
              "      <td>mpfi</td>\n",
              "      <td>3.58</td>\n",
              "      <td>2.87</td>\n",
              "      <td>8.8</td>\n",
              "      <td>134</td>\n",
              "      <td>5500</td>\n",
              "      <td>18</td>\n",
              "      <td>23</td>\n",
              "      <td>21485</td>\n",
              "    </tr>\n",
              "    <tr>\n",
              "      <th>203</th>\n",
              "      <td>-1</td>\n",
              "      <td>95</td>\n",
              "      <td>volvo</td>\n",
              "      <td>diesel</td>\n",
              "      <td>turbo</td>\n",
              "      <td>four</td>\n",
              "      <td>sedan</td>\n",
              "      <td>rwd</td>\n",
              "      <td>front</td>\n",
              "      <td>109.1</td>\n",
              "      <td>188.8</td>\n",
              "      <td>68.9</td>\n",
              "      <td>55.5</td>\n",
              "      <td>3217</td>\n",
              "      <td>ohc</td>\n",
              "      <td>six</td>\n",
              "      <td>145</td>\n",
              "      <td>idi</td>\n",
              "      <td>3.01</td>\n",
              "      <td>3.40</td>\n",
              "      <td>23.0</td>\n",
              "      <td>106</td>\n",
              "      <td>4800</td>\n",
              "      <td>26</td>\n",
              "      <td>27</td>\n",
              "      <td>22470</td>\n",
              "    </tr>\n",
              "    <tr>\n",
              "      <th>204</th>\n",
              "      <td>-1</td>\n",
              "      <td>95</td>\n",
              "      <td>volvo</td>\n",
              "      <td>gas</td>\n",
              "      <td>turbo</td>\n",
              "      <td>four</td>\n",
              "      <td>sedan</td>\n",
              "      <td>rwd</td>\n",
              "      <td>front</td>\n",
              "      <td>109.1</td>\n",
              "      <td>188.8</td>\n",
              "      <td>68.9</td>\n",
              "      <td>55.5</td>\n",
              "      <td>3062</td>\n",
              "      <td>ohc</td>\n",
              "      <td>four</td>\n",
              "      <td>141</td>\n",
              "      <td>mpfi</td>\n",
              "      <td>3.78</td>\n",
              "      <td>3.15</td>\n",
              "      <td>9.5</td>\n",
              "      <td>114</td>\n",
              "      <td>5400</td>\n",
              "      <td>19</td>\n",
              "      <td>25</td>\n",
              "      <td>22625</td>\n",
              "    </tr>\n",
              "  </tbody>\n",
              "</table>\n",
              "</div>"
            ],
            "text/plain": [
              "     symboling norm_loss   make    fuel  ... peak_rpm city_mpg hgwy_mpg  price\n",
              "200         -1        95  volvo     gas  ...     5400       23       28  16845\n",
              "201         -1        95  volvo     gas  ...     5300       19       25  19045\n",
              "202         -1        95  volvo     gas  ...     5500       18       23  21485\n",
              "203         -1        95  volvo  diesel  ...     4800       26       27  22470\n",
              "204         -1        95  volvo     gas  ...     5400       19       25  22625\n",
              "\n",
              "[5 rows x 26 columns]"
            ]
          },
          "metadata": {
            "tags": []
          },
          "execution_count": 260
        }
      ]
    },
    {
      "cell_type": "code",
      "metadata": {
        "id": "Kv6qj2ZGm_EN",
        "colab_type": "code",
        "colab": {
          "base_uri": "https://localhost:8080/",
          "height": 518
        },
        "outputId": "5e945fa1-9226-436c-e978-6936a4c704b9"
      },
      "source": [
        "# HAS ? marks for empty values.\n",
        "auto_df.sample(15)"
      ],
      "execution_count": 261,
      "outputs": [
        {
          "output_type": "execute_result",
          "data": {
            "text/html": [
              "<div>\n",
              "<style scoped>\n",
              "    .dataframe tbody tr th:only-of-type {\n",
              "        vertical-align: middle;\n",
              "    }\n",
              "\n",
              "    .dataframe tbody tr th {\n",
              "        vertical-align: top;\n",
              "    }\n",
              "\n",
              "    .dataframe thead th {\n",
              "        text-align: right;\n",
              "    }\n",
              "</style>\n",
              "<table border=\"1\" class=\"dataframe\">\n",
              "  <thead>\n",
              "    <tr style=\"text-align: right;\">\n",
              "      <th></th>\n",
              "      <th>symboling</th>\n",
              "      <th>norm_loss</th>\n",
              "      <th>make</th>\n",
              "      <th>fuel</th>\n",
              "      <th>aspiration</th>\n",
              "      <th>doors</th>\n",
              "      <th>bod_style</th>\n",
              "      <th>drv_wheels</th>\n",
              "      <th>eng_loc</th>\n",
              "      <th>wheel_base</th>\n",
              "      <th>length</th>\n",
              "      <th>width</th>\n",
              "      <th>height</th>\n",
              "      <th>curb_weight</th>\n",
              "      <th>engine</th>\n",
              "      <th>cylinders</th>\n",
              "      <th>engine_size</th>\n",
              "      <th>fuel_system</th>\n",
              "      <th>bore</th>\n",
              "      <th>stroke</th>\n",
              "      <th>compression</th>\n",
              "      <th>hp</th>\n",
              "      <th>peak_rpm</th>\n",
              "      <th>city_mpg</th>\n",
              "      <th>hgwy_mpg</th>\n",
              "      <th>price</th>\n",
              "    </tr>\n",
              "  </thead>\n",
              "  <tbody>\n",
              "    <tr>\n",
              "      <th>56</th>\n",
              "      <td>3</td>\n",
              "      <td>150</td>\n",
              "      <td>mazda</td>\n",
              "      <td>gas</td>\n",
              "      <td>std</td>\n",
              "      <td>two</td>\n",
              "      <td>hatchback</td>\n",
              "      <td>rwd</td>\n",
              "      <td>front</td>\n",
              "      <td>95.3</td>\n",
              "      <td>169.0</td>\n",
              "      <td>65.7</td>\n",
              "      <td>49.6</td>\n",
              "      <td>2380</td>\n",
              "      <td>rotor</td>\n",
              "      <td>two</td>\n",
              "      <td>70</td>\n",
              "      <td>4bbl</td>\n",
              "      <td>?</td>\n",
              "      <td>?</td>\n",
              "      <td>9.4</td>\n",
              "      <td>101</td>\n",
              "      <td>6000</td>\n",
              "      <td>17</td>\n",
              "      <td>23</td>\n",
              "      <td>11845</td>\n",
              "    </tr>\n",
              "    <tr>\n",
              "      <th>3</th>\n",
              "      <td>2</td>\n",
              "      <td>164</td>\n",
              "      <td>audi</td>\n",
              "      <td>gas</td>\n",
              "      <td>std</td>\n",
              "      <td>four</td>\n",
              "      <td>sedan</td>\n",
              "      <td>fwd</td>\n",
              "      <td>front</td>\n",
              "      <td>99.8</td>\n",
              "      <td>176.6</td>\n",
              "      <td>66.2</td>\n",
              "      <td>54.3</td>\n",
              "      <td>2337</td>\n",
              "      <td>ohc</td>\n",
              "      <td>four</td>\n",
              "      <td>109</td>\n",
              "      <td>mpfi</td>\n",
              "      <td>3.19</td>\n",
              "      <td>3.40</td>\n",
              "      <td>10.0</td>\n",
              "      <td>102</td>\n",
              "      <td>5500</td>\n",
              "      <td>24</td>\n",
              "      <td>30</td>\n",
              "      <td>13950</td>\n",
              "    </tr>\n",
              "    <tr>\n",
              "      <th>2</th>\n",
              "      <td>1</td>\n",
              "      <td>?</td>\n",
              "      <td>alfa-romero</td>\n",
              "      <td>gas</td>\n",
              "      <td>std</td>\n",
              "      <td>two</td>\n",
              "      <td>hatchback</td>\n",
              "      <td>rwd</td>\n",
              "      <td>front</td>\n",
              "      <td>94.5</td>\n",
              "      <td>171.2</td>\n",
              "      <td>65.5</td>\n",
              "      <td>52.4</td>\n",
              "      <td>2823</td>\n",
              "      <td>ohcv</td>\n",
              "      <td>six</td>\n",
              "      <td>152</td>\n",
              "      <td>mpfi</td>\n",
              "      <td>2.68</td>\n",
              "      <td>3.47</td>\n",
              "      <td>9.0</td>\n",
              "      <td>154</td>\n",
              "      <td>5000</td>\n",
              "      <td>19</td>\n",
              "      <td>26</td>\n",
              "      <td>16500</td>\n",
              "    </tr>\n",
              "    <tr>\n",
              "      <th>179</th>\n",
              "      <td>3</td>\n",
              "      <td>197</td>\n",
              "      <td>toyota</td>\n",
              "      <td>gas</td>\n",
              "      <td>std</td>\n",
              "      <td>two</td>\n",
              "      <td>hatchback</td>\n",
              "      <td>rwd</td>\n",
              "      <td>front</td>\n",
              "      <td>102.9</td>\n",
              "      <td>183.5</td>\n",
              "      <td>67.7</td>\n",
              "      <td>52.0</td>\n",
              "      <td>3016</td>\n",
              "      <td>dohc</td>\n",
              "      <td>six</td>\n",
              "      <td>171</td>\n",
              "      <td>mpfi</td>\n",
              "      <td>3.27</td>\n",
              "      <td>3.35</td>\n",
              "      <td>9.3</td>\n",
              "      <td>161</td>\n",
              "      <td>5200</td>\n",
              "      <td>19</td>\n",
              "      <td>24</td>\n",
              "      <td>15998</td>\n",
              "    </tr>\n",
              "    <tr>\n",
              "      <th>23</th>\n",
              "      <td>1</td>\n",
              "      <td>118</td>\n",
              "      <td>dodge</td>\n",
              "      <td>gas</td>\n",
              "      <td>turbo</td>\n",
              "      <td>two</td>\n",
              "      <td>hatchback</td>\n",
              "      <td>fwd</td>\n",
              "      <td>front</td>\n",
              "      <td>93.7</td>\n",
              "      <td>157.3</td>\n",
              "      <td>63.8</td>\n",
              "      <td>50.8</td>\n",
              "      <td>2128</td>\n",
              "      <td>ohc</td>\n",
              "      <td>four</td>\n",
              "      <td>98</td>\n",
              "      <td>mpfi</td>\n",
              "      <td>3.03</td>\n",
              "      <td>3.39</td>\n",
              "      <td>7.6</td>\n",
              "      <td>102</td>\n",
              "      <td>5500</td>\n",
              "      <td>24</td>\n",
              "      <td>30</td>\n",
              "      <td>7957</td>\n",
              "    </tr>\n",
              "    <tr>\n",
              "      <th>182</th>\n",
              "      <td>2</td>\n",
              "      <td>122</td>\n",
              "      <td>volkswagen</td>\n",
              "      <td>diesel</td>\n",
              "      <td>std</td>\n",
              "      <td>two</td>\n",
              "      <td>sedan</td>\n",
              "      <td>fwd</td>\n",
              "      <td>front</td>\n",
              "      <td>97.3</td>\n",
              "      <td>171.7</td>\n",
              "      <td>65.5</td>\n",
              "      <td>55.7</td>\n",
              "      <td>2261</td>\n",
              "      <td>ohc</td>\n",
              "      <td>four</td>\n",
              "      <td>97</td>\n",
              "      <td>idi</td>\n",
              "      <td>3.01</td>\n",
              "      <td>3.40</td>\n",
              "      <td>23.0</td>\n",
              "      <td>52</td>\n",
              "      <td>4800</td>\n",
              "      <td>37</td>\n",
              "      <td>46</td>\n",
              "      <td>7775</td>\n",
              "    </tr>\n",
              "    <tr>\n",
              "      <th>61</th>\n",
              "      <td>1</td>\n",
              "      <td>129</td>\n",
              "      <td>mazda</td>\n",
              "      <td>gas</td>\n",
              "      <td>std</td>\n",
              "      <td>two</td>\n",
              "      <td>hatchback</td>\n",
              "      <td>fwd</td>\n",
              "      <td>front</td>\n",
              "      <td>98.8</td>\n",
              "      <td>177.8</td>\n",
              "      <td>66.5</td>\n",
              "      <td>53.7</td>\n",
              "      <td>2385</td>\n",
              "      <td>ohc</td>\n",
              "      <td>four</td>\n",
              "      <td>122</td>\n",
              "      <td>2bbl</td>\n",
              "      <td>3.39</td>\n",
              "      <td>3.39</td>\n",
              "      <td>8.6</td>\n",
              "      <td>84</td>\n",
              "      <td>4800</td>\n",
              "      <td>26</td>\n",
              "      <td>32</td>\n",
              "      <td>10595</td>\n",
              "    </tr>\n",
              "    <tr>\n",
              "      <th>184</th>\n",
              "      <td>2</td>\n",
              "      <td>94</td>\n",
              "      <td>volkswagen</td>\n",
              "      <td>diesel</td>\n",
              "      <td>std</td>\n",
              "      <td>four</td>\n",
              "      <td>sedan</td>\n",
              "      <td>fwd</td>\n",
              "      <td>front</td>\n",
              "      <td>97.3</td>\n",
              "      <td>171.7</td>\n",
              "      <td>65.5</td>\n",
              "      <td>55.7</td>\n",
              "      <td>2264</td>\n",
              "      <td>ohc</td>\n",
              "      <td>four</td>\n",
              "      <td>97</td>\n",
              "      <td>idi</td>\n",
              "      <td>3.01</td>\n",
              "      <td>3.40</td>\n",
              "      <td>23.0</td>\n",
              "      <td>52</td>\n",
              "      <td>4800</td>\n",
              "      <td>37</td>\n",
              "      <td>46</td>\n",
              "      <td>7995</td>\n",
              "    </tr>\n",
              "    <tr>\n",
              "      <th>158</th>\n",
              "      <td>0</td>\n",
              "      <td>91</td>\n",
              "      <td>toyota</td>\n",
              "      <td>diesel</td>\n",
              "      <td>std</td>\n",
              "      <td>four</td>\n",
              "      <td>sedan</td>\n",
              "      <td>fwd</td>\n",
              "      <td>front</td>\n",
              "      <td>95.7</td>\n",
              "      <td>166.3</td>\n",
              "      <td>64.4</td>\n",
              "      <td>53.0</td>\n",
              "      <td>2275</td>\n",
              "      <td>ohc</td>\n",
              "      <td>four</td>\n",
              "      <td>110</td>\n",
              "      <td>idi</td>\n",
              "      <td>3.27</td>\n",
              "      <td>3.35</td>\n",
              "      <td>22.5</td>\n",
              "      <td>56</td>\n",
              "      <td>4500</td>\n",
              "      <td>34</td>\n",
              "      <td>36</td>\n",
              "      <td>7898</td>\n",
              "    </tr>\n",
              "    <tr>\n",
              "      <th>99</th>\n",
              "      <td>0</td>\n",
              "      <td>106</td>\n",
              "      <td>nissan</td>\n",
              "      <td>gas</td>\n",
              "      <td>std</td>\n",
              "      <td>four</td>\n",
              "      <td>hatchback</td>\n",
              "      <td>fwd</td>\n",
              "      <td>front</td>\n",
              "      <td>97.2</td>\n",
              "      <td>173.4</td>\n",
              "      <td>65.2</td>\n",
              "      <td>54.7</td>\n",
              "      <td>2324</td>\n",
              "      <td>ohc</td>\n",
              "      <td>four</td>\n",
              "      <td>120</td>\n",
              "      <td>2bbl</td>\n",
              "      <td>3.33</td>\n",
              "      <td>3.47</td>\n",
              "      <td>8.5</td>\n",
              "      <td>97</td>\n",
              "      <td>5200</td>\n",
              "      <td>27</td>\n",
              "      <td>34</td>\n",
              "      <td>8949</td>\n",
              "    </tr>\n",
              "    <tr>\n",
              "      <th>4</th>\n",
              "      <td>2</td>\n",
              "      <td>164</td>\n",
              "      <td>audi</td>\n",
              "      <td>gas</td>\n",
              "      <td>std</td>\n",
              "      <td>four</td>\n",
              "      <td>sedan</td>\n",
              "      <td>4wd</td>\n",
              "      <td>front</td>\n",
              "      <td>99.4</td>\n",
              "      <td>176.6</td>\n",
              "      <td>66.4</td>\n",
              "      <td>54.3</td>\n",
              "      <td>2824</td>\n",
              "      <td>ohc</td>\n",
              "      <td>five</td>\n",
              "      <td>136</td>\n",
              "      <td>mpfi</td>\n",
              "      <td>3.19</td>\n",
              "      <td>3.40</td>\n",
              "      <td>8.0</td>\n",
              "      <td>115</td>\n",
              "      <td>5500</td>\n",
              "      <td>18</td>\n",
              "      <td>22</td>\n",
              "      <td>17450</td>\n",
              "    </tr>\n",
              "    <tr>\n",
              "      <th>141</th>\n",
              "      <td>0</td>\n",
              "      <td>102</td>\n",
              "      <td>subaru</td>\n",
              "      <td>gas</td>\n",
              "      <td>std</td>\n",
              "      <td>four</td>\n",
              "      <td>sedan</td>\n",
              "      <td>fwd</td>\n",
              "      <td>front</td>\n",
              "      <td>97.2</td>\n",
              "      <td>172.0</td>\n",
              "      <td>65.4</td>\n",
              "      <td>52.5</td>\n",
              "      <td>2145</td>\n",
              "      <td>ohcf</td>\n",
              "      <td>four</td>\n",
              "      <td>108</td>\n",
              "      <td>2bbl</td>\n",
              "      <td>3.62</td>\n",
              "      <td>2.64</td>\n",
              "      <td>9.5</td>\n",
              "      <td>82</td>\n",
              "      <td>4800</td>\n",
              "      <td>32</td>\n",
              "      <td>37</td>\n",
              "      <td>7126</td>\n",
              "    </tr>\n",
              "    <tr>\n",
              "      <th>156</th>\n",
              "      <td>0</td>\n",
              "      <td>91</td>\n",
              "      <td>toyota</td>\n",
              "      <td>gas</td>\n",
              "      <td>std</td>\n",
              "      <td>four</td>\n",
              "      <td>sedan</td>\n",
              "      <td>fwd</td>\n",
              "      <td>front</td>\n",
              "      <td>95.7</td>\n",
              "      <td>166.3</td>\n",
              "      <td>64.4</td>\n",
              "      <td>53.0</td>\n",
              "      <td>2081</td>\n",
              "      <td>ohc</td>\n",
              "      <td>four</td>\n",
              "      <td>98</td>\n",
              "      <td>2bbl</td>\n",
              "      <td>3.19</td>\n",
              "      <td>3.03</td>\n",
              "      <td>9.0</td>\n",
              "      <td>70</td>\n",
              "      <td>4800</td>\n",
              "      <td>30</td>\n",
              "      <td>37</td>\n",
              "      <td>6938</td>\n",
              "    </tr>\n",
              "    <tr>\n",
              "      <th>111</th>\n",
              "      <td>0</td>\n",
              "      <td>161</td>\n",
              "      <td>peugot</td>\n",
              "      <td>gas</td>\n",
              "      <td>std</td>\n",
              "      <td>four</td>\n",
              "      <td>sedan</td>\n",
              "      <td>rwd</td>\n",
              "      <td>front</td>\n",
              "      <td>107.9</td>\n",
              "      <td>186.7</td>\n",
              "      <td>68.4</td>\n",
              "      <td>56.7</td>\n",
              "      <td>3075</td>\n",
              "      <td>l</td>\n",
              "      <td>four</td>\n",
              "      <td>120</td>\n",
              "      <td>mpfi</td>\n",
              "      <td>3.46</td>\n",
              "      <td>2.19</td>\n",
              "      <td>8.4</td>\n",
              "      <td>95</td>\n",
              "      <td>5000</td>\n",
              "      <td>19</td>\n",
              "      <td>24</td>\n",
              "      <td>15580</td>\n",
              "    </tr>\n",
              "    <tr>\n",
              "      <th>122</th>\n",
              "      <td>1</td>\n",
              "      <td>154</td>\n",
              "      <td>plymouth</td>\n",
              "      <td>gas</td>\n",
              "      <td>std</td>\n",
              "      <td>four</td>\n",
              "      <td>sedan</td>\n",
              "      <td>fwd</td>\n",
              "      <td>front</td>\n",
              "      <td>93.7</td>\n",
              "      <td>167.3</td>\n",
              "      <td>63.8</td>\n",
              "      <td>50.8</td>\n",
              "      <td>2191</td>\n",
              "      <td>ohc</td>\n",
              "      <td>four</td>\n",
              "      <td>98</td>\n",
              "      <td>2bbl</td>\n",
              "      <td>2.97</td>\n",
              "      <td>3.23</td>\n",
              "      <td>9.4</td>\n",
              "      <td>68</td>\n",
              "      <td>5500</td>\n",
              "      <td>31</td>\n",
              "      <td>38</td>\n",
              "      <td>7609</td>\n",
              "    </tr>\n",
              "  </tbody>\n",
              "</table>\n",
              "</div>"
            ],
            "text/plain": [
              "     symboling norm_loss         make  ... city_mpg hgwy_mpg  price\n",
              "56           3       150        mazda  ...       17       23  11845\n",
              "3            2       164         audi  ...       24       30  13950\n",
              "2            1         ?  alfa-romero  ...       19       26  16500\n",
              "179          3       197       toyota  ...       19       24  15998\n",
              "23           1       118        dodge  ...       24       30   7957\n",
              "182          2       122   volkswagen  ...       37       46   7775\n",
              "61           1       129        mazda  ...       26       32  10595\n",
              "184          2        94   volkswagen  ...       37       46   7995\n",
              "158          0        91       toyota  ...       34       36   7898\n",
              "99           0       106       nissan  ...       27       34   8949\n",
              "4            2       164         audi  ...       18       22  17450\n",
              "141          0       102       subaru  ...       32       37   7126\n",
              "156          0        91       toyota  ...       30       37   6938\n",
              "111          0       161       peugot  ...       19       24  15580\n",
              "122          1       154     plymouth  ...       31       38   7609\n",
              "\n",
              "[15 rows x 26 columns]"
            ]
          },
          "metadata": {
            "tags": []
          },
          "execution_count": 261
        }
      ]
    },
    {
      "cell_type": "markdown",
      "metadata": {
        "id": "cCvbuEmUKC5-",
        "colab_type": "text"
      },
      "source": [
        " Check for nulls and any values that may be a placeholder for nulls"
      ]
    },
    {
      "cell_type": "code",
      "metadata": {
        "id": "_m9hcNTzIhEs",
        "colab_type": "code",
        "colab": {
          "base_uri": "https://localhost:8080/",
          "height": 484
        },
        "outputId": "cc0523a5-4875-441e-9a75-511973380734"
      },
      "source": [
        "# ARE not showing up because there are ? marks instead.\n",
        "auto_df.isnull().sum()"
      ],
      "execution_count": 262,
      "outputs": [
        {
          "output_type": "execute_result",
          "data": {
            "text/plain": [
              "symboling      0\n",
              "norm_loss      0\n",
              "make           0\n",
              "fuel           0\n",
              "aspiration     0\n",
              "doors          0\n",
              "bod_style      0\n",
              "drv_wheels     0\n",
              "eng_loc        0\n",
              "wheel_base     0\n",
              "length         0\n",
              "width          0\n",
              "height         0\n",
              "curb_weight    0\n",
              "engine         0\n",
              "cylinders      0\n",
              "engine_size    0\n",
              "fuel_system    0\n",
              "bore           0\n",
              "stroke         0\n",
              "compression    0\n",
              "hp             0\n",
              "peak_rpm       0\n",
              "city_mpg       0\n",
              "hgwy_mpg       0\n",
              "price          0\n",
              "dtype: int64"
            ]
          },
          "metadata": {
            "tags": []
          },
          "execution_count": 262
        }
      ]
    },
    {
      "cell_type": "code",
      "metadata": {
        "id": "8TRWLO0qmXgY",
        "colab_type": "code",
        "colab": {
          "base_uri": "https://localhost:8080/",
          "height": 380
        },
        "outputId": "a4f5f805-490f-4470-e6cf-e1ae0c004eea"
      },
      "source": [
        "auto_df['norm_loss'].value_counts().head(20)"
      ],
      "execution_count": 263,
      "outputs": [
        {
          "output_type": "execute_result",
          "data": {
            "text/plain": [
              "?      41\n",
              "161    11\n",
              "91      8\n",
              "150     7\n",
              "104     6\n",
              "128     6\n",
              "134     6\n",
              "102     5\n",
              "65      5\n",
              "103     5\n",
              "95      5\n",
              "94      5\n",
              "85      5\n",
              "74      5\n",
              "168     5\n",
              "148     4\n",
              "122     4\n",
              "118     4\n",
              "93      4\n",
              "106     4\n",
              "Name: norm_loss, dtype: int64"
            ]
          },
          "metadata": {
            "tags": []
          },
          "execution_count": 263
        }
      ]
    },
    {
      "cell_type": "code",
      "metadata": {
        "id": "ddeg6fHjIweq",
        "colab_type": "code",
        "colab": {}
      },
      "source": [
        "# Is there supposed to be a space in front of this ? mark? (The notes have this space?)\n",
        "# I have to watch the video on this.\n",
        "auto_df = auto_df.replace('?', np.NaN)"
      ],
      "execution_count": 0,
      "outputs": []
    },
    {
      "cell_type": "code",
      "metadata": {
        "id": "DA7682r_lFCp",
        "colab_type": "code",
        "colab": {
          "base_uri": "https://localhost:8080/",
          "height": 484
        },
        "outputId": "c40c2f15-5d7a-43be-f85b-d6c17bc9c769"
      },
      "source": [
        "# THIS WORKS TO SEE the nulls now.\n",
        "auto_df.isnull().sum()"
      ],
      "execution_count": 265,
      "outputs": [
        {
          "output_type": "execute_result",
          "data": {
            "text/plain": [
              "symboling       0\n",
              "norm_loss      41\n",
              "make            0\n",
              "fuel            0\n",
              "aspiration      0\n",
              "doors           2\n",
              "bod_style       0\n",
              "drv_wheels      0\n",
              "eng_loc         0\n",
              "wheel_base      0\n",
              "length          0\n",
              "width           0\n",
              "height          0\n",
              "curb_weight     0\n",
              "engine          0\n",
              "cylinders       0\n",
              "engine_size     0\n",
              "fuel_system     0\n",
              "bore            4\n",
              "stroke          4\n",
              "compression     0\n",
              "hp              2\n",
              "peak_rpm        2\n",
              "city_mpg        0\n",
              "hgwy_mpg        0\n",
              "price           4\n",
              "dtype: int64"
            ]
          },
          "metadata": {
            "tags": []
          },
          "execution_count": 265
        }
      ]
    },
    {
      "cell_type": "code",
      "metadata": {
        "id": "p2TLxIjil8IP",
        "colab_type": "code",
        "colab": {
          "base_uri": "https://localhost:8080/",
          "height": 35
        },
        "outputId": "c7bff4d4-8d78-4406-f999-779e75f27e34"
      },
      "source": [
        "auto_df.shape"
      ],
      "execution_count": 266,
      "outputs": [
        {
          "output_type": "execute_result",
          "data": {
            "text/plain": [
              "(205, 26)"
            ]
          },
          "metadata": {
            "tags": []
          },
          "execution_count": 266
        }
      ]
    },
    {
      "cell_type": "markdown",
      "metadata": {
        "id": "r3Rl0YUlKakm",
        "colab_type": "text"
      },
      "source": [
        "Replace the placeholders with `NaN` and then recheck for nulls."
      ]
    },
    {
      "cell_type": "code",
      "metadata": {
        "id": "XhiHSkWLKrgA",
        "colab_type": "code",
        "colab": {}
      },
      "source": [
        "# DONE Did this above.  Still need to watch the video."
      ],
      "execution_count": 0,
      "outputs": []
    },
    {
      "cell_type": "markdown",
      "metadata": {
        "id": "XCLv0Q5OK8RW",
        "colab_type": "text"
      },
      "source": [
        "# Exploration"
      ]
    },
    {
      "cell_type": "markdown",
      "metadata": {
        "id": "d7pDkXRVLAd5",
        "colab_type": "text"
      },
      "source": [
        "Find the following information about the dataframe:\n",
        "- Get the descriptive statistics for ALL features (numeric and categorical)\n",
        "- Get the data types for all features\n",
        "- What are the unique values for the `doors` column\n",
        "- How many rows and columns are in the dataframe?"
      ]
    },
    {
      "cell_type": "code",
      "metadata": {
        "id": "Wg5IAWTsMJba",
        "colab_type": "code",
        "colab": {
          "base_uri": "https://localhost:8080/",
          "height": 288
        },
        "outputId": "a1819e02-aa24-423d-efa2-31581e6d405a"
      },
      "source": [
        "# ALL OF the ABOVE IS DONE\n",
        "# I GET THE DATA types for all features on the next objective.\n",
        "auto_df.describe()"
      ],
      "execution_count": 267,
      "outputs": [
        {
          "output_type": "execute_result",
          "data": {
            "text/html": [
              "<div>\n",
              "<style scoped>\n",
              "    .dataframe tbody tr th:only-of-type {\n",
              "        vertical-align: middle;\n",
              "    }\n",
              "\n",
              "    .dataframe tbody tr th {\n",
              "        vertical-align: top;\n",
              "    }\n",
              "\n",
              "    .dataframe thead th {\n",
              "        text-align: right;\n",
              "    }\n",
              "</style>\n",
              "<table border=\"1\" class=\"dataframe\">\n",
              "  <thead>\n",
              "    <tr style=\"text-align: right;\">\n",
              "      <th></th>\n",
              "      <th>symboling</th>\n",
              "      <th>wheel_base</th>\n",
              "      <th>length</th>\n",
              "      <th>width</th>\n",
              "      <th>height</th>\n",
              "      <th>curb_weight</th>\n",
              "      <th>engine_size</th>\n",
              "      <th>compression</th>\n",
              "      <th>city_mpg</th>\n",
              "      <th>hgwy_mpg</th>\n",
              "    </tr>\n",
              "  </thead>\n",
              "  <tbody>\n",
              "    <tr>\n",
              "      <th>count</th>\n",
              "      <td>205.000000</td>\n",
              "      <td>205.000000</td>\n",
              "      <td>205.000000</td>\n",
              "      <td>205.000000</td>\n",
              "      <td>205.000000</td>\n",
              "      <td>205.000000</td>\n",
              "      <td>205.000000</td>\n",
              "      <td>205.000000</td>\n",
              "      <td>205.000000</td>\n",
              "      <td>205.000000</td>\n",
              "    </tr>\n",
              "    <tr>\n",
              "      <th>mean</th>\n",
              "      <td>0.834146</td>\n",
              "      <td>98.756585</td>\n",
              "      <td>174.049268</td>\n",
              "      <td>65.907805</td>\n",
              "      <td>53.724878</td>\n",
              "      <td>2555.565854</td>\n",
              "      <td>126.907317</td>\n",
              "      <td>10.142537</td>\n",
              "      <td>25.219512</td>\n",
              "      <td>30.751220</td>\n",
              "    </tr>\n",
              "    <tr>\n",
              "      <th>std</th>\n",
              "      <td>1.245307</td>\n",
              "      <td>6.021776</td>\n",
              "      <td>12.337289</td>\n",
              "      <td>2.145204</td>\n",
              "      <td>2.443522</td>\n",
              "      <td>520.680204</td>\n",
              "      <td>41.642693</td>\n",
              "      <td>3.972040</td>\n",
              "      <td>6.542142</td>\n",
              "      <td>6.886443</td>\n",
              "    </tr>\n",
              "    <tr>\n",
              "      <th>min</th>\n",
              "      <td>-2.000000</td>\n",
              "      <td>86.600000</td>\n",
              "      <td>141.100000</td>\n",
              "      <td>60.300000</td>\n",
              "      <td>47.800000</td>\n",
              "      <td>1488.000000</td>\n",
              "      <td>61.000000</td>\n",
              "      <td>7.000000</td>\n",
              "      <td>13.000000</td>\n",
              "      <td>16.000000</td>\n",
              "    </tr>\n",
              "    <tr>\n",
              "      <th>25%</th>\n",
              "      <td>0.000000</td>\n",
              "      <td>94.500000</td>\n",
              "      <td>166.300000</td>\n",
              "      <td>64.100000</td>\n",
              "      <td>52.000000</td>\n",
              "      <td>2145.000000</td>\n",
              "      <td>97.000000</td>\n",
              "      <td>8.600000</td>\n",
              "      <td>19.000000</td>\n",
              "      <td>25.000000</td>\n",
              "    </tr>\n",
              "    <tr>\n",
              "      <th>50%</th>\n",
              "      <td>1.000000</td>\n",
              "      <td>97.000000</td>\n",
              "      <td>173.200000</td>\n",
              "      <td>65.500000</td>\n",
              "      <td>54.100000</td>\n",
              "      <td>2414.000000</td>\n",
              "      <td>120.000000</td>\n",
              "      <td>9.000000</td>\n",
              "      <td>24.000000</td>\n",
              "      <td>30.000000</td>\n",
              "    </tr>\n",
              "    <tr>\n",
              "      <th>75%</th>\n",
              "      <td>2.000000</td>\n",
              "      <td>102.400000</td>\n",
              "      <td>183.100000</td>\n",
              "      <td>66.900000</td>\n",
              "      <td>55.500000</td>\n",
              "      <td>2935.000000</td>\n",
              "      <td>141.000000</td>\n",
              "      <td>9.400000</td>\n",
              "      <td>30.000000</td>\n",
              "      <td>34.000000</td>\n",
              "    </tr>\n",
              "    <tr>\n",
              "      <th>max</th>\n",
              "      <td>3.000000</td>\n",
              "      <td>120.900000</td>\n",
              "      <td>208.100000</td>\n",
              "      <td>72.300000</td>\n",
              "      <td>59.800000</td>\n",
              "      <td>4066.000000</td>\n",
              "      <td>326.000000</td>\n",
              "      <td>23.000000</td>\n",
              "      <td>49.000000</td>\n",
              "      <td>54.000000</td>\n",
              "    </tr>\n",
              "  </tbody>\n",
              "</table>\n",
              "</div>"
            ],
            "text/plain": [
              "        symboling  wheel_base      length  ...  compression    city_mpg    hgwy_mpg\n",
              "count  205.000000  205.000000  205.000000  ...   205.000000  205.000000  205.000000\n",
              "mean     0.834146   98.756585  174.049268  ...    10.142537   25.219512   30.751220\n",
              "std      1.245307    6.021776   12.337289  ...     3.972040    6.542142    6.886443\n",
              "min     -2.000000   86.600000  141.100000  ...     7.000000   13.000000   16.000000\n",
              "25%      0.000000   94.500000  166.300000  ...     8.600000   19.000000   25.000000\n",
              "50%      1.000000   97.000000  173.200000  ...     9.000000   24.000000   30.000000\n",
              "75%      2.000000  102.400000  183.100000  ...     9.400000   30.000000   34.000000\n",
              "max      3.000000  120.900000  208.100000  ...    23.000000   49.000000   54.000000\n",
              "\n",
              "[8 rows x 10 columns]"
            ]
          },
          "metadata": {
            "tags": []
          },
          "execution_count": 267
        }
      ]
    },
    {
      "cell_type": "code",
      "metadata": {
        "id": "MPFetG3xNfbq",
        "colab_type": "code",
        "colab": {
          "base_uri": "https://localhost:8080/",
          "height": 168
        },
        "outputId": "73580500-f52f-4d76-bc0b-d1fad8639325"
      },
      "source": [
        "auto_df.describe(exclude='number')"
      ],
      "execution_count": 268,
      "outputs": [
        {
          "output_type": "execute_result",
          "data": {
            "text/html": [
              "<div>\n",
              "<style scoped>\n",
              "    .dataframe tbody tr th:only-of-type {\n",
              "        vertical-align: middle;\n",
              "    }\n",
              "\n",
              "    .dataframe tbody tr th {\n",
              "        vertical-align: top;\n",
              "    }\n",
              "\n",
              "    .dataframe thead th {\n",
              "        text-align: right;\n",
              "    }\n",
              "</style>\n",
              "<table border=\"1\" class=\"dataframe\">\n",
              "  <thead>\n",
              "    <tr style=\"text-align: right;\">\n",
              "      <th></th>\n",
              "      <th>norm_loss</th>\n",
              "      <th>make</th>\n",
              "      <th>fuel</th>\n",
              "      <th>aspiration</th>\n",
              "      <th>doors</th>\n",
              "      <th>bod_style</th>\n",
              "      <th>drv_wheels</th>\n",
              "      <th>eng_loc</th>\n",
              "      <th>engine</th>\n",
              "      <th>cylinders</th>\n",
              "      <th>fuel_system</th>\n",
              "      <th>bore</th>\n",
              "      <th>stroke</th>\n",
              "      <th>hp</th>\n",
              "      <th>peak_rpm</th>\n",
              "      <th>price</th>\n",
              "    </tr>\n",
              "  </thead>\n",
              "  <tbody>\n",
              "    <tr>\n",
              "      <th>count</th>\n",
              "      <td>164</td>\n",
              "      <td>205</td>\n",
              "      <td>205</td>\n",
              "      <td>205</td>\n",
              "      <td>203</td>\n",
              "      <td>205</td>\n",
              "      <td>205</td>\n",
              "      <td>205</td>\n",
              "      <td>205</td>\n",
              "      <td>205</td>\n",
              "      <td>205</td>\n",
              "      <td>201</td>\n",
              "      <td>201</td>\n",
              "      <td>203</td>\n",
              "      <td>203</td>\n",
              "      <td>201</td>\n",
              "    </tr>\n",
              "    <tr>\n",
              "      <th>unique</th>\n",
              "      <td>51</td>\n",
              "      <td>22</td>\n",
              "      <td>2</td>\n",
              "      <td>2</td>\n",
              "      <td>2</td>\n",
              "      <td>5</td>\n",
              "      <td>3</td>\n",
              "      <td>2</td>\n",
              "      <td>7</td>\n",
              "      <td>7</td>\n",
              "      <td>8</td>\n",
              "      <td>38</td>\n",
              "      <td>36</td>\n",
              "      <td>59</td>\n",
              "      <td>23</td>\n",
              "      <td>186</td>\n",
              "    </tr>\n",
              "    <tr>\n",
              "      <th>top</th>\n",
              "      <td>161</td>\n",
              "      <td>toyota</td>\n",
              "      <td>gas</td>\n",
              "      <td>std</td>\n",
              "      <td>four</td>\n",
              "      <td>sedan</td>\n",
              "      <td>fwd</td>\n",
              "      <td>front</td>\n",
              "      <td>ohc</td>\n",
              "      <td>four</td>\n",
              "      <td>mpfi</td>\n",
              "      <td>3.62</td>\n",
              "      <td>3.40</td>\n",
              "      <td>68</td>\n",
              "      <td>5500</td>\n",
              "      <td>7957</td>\n",
              "    </tr>\n",
              "    <tr>\n",
              "      <th>freq</th>\n",
              "      <td>11</td>\n",
              "      <td>32</td>\n",
              "      <td>185</td>\n",
              "      <td>168</td>\n",
              "      <td>114</td>\n",
              "      <td>96</td>\n",
              "      <td>120</td>\n",
              "      <td>202</td>\n",
              "      <td>148</td>\n",
              "      <td>159</td>\n",
              "      <td>94</td>\n",
              "      <td>23</td>\n",
              "      <td>20</td>\n",
              "      <td>19</td>\n",
              "      <td>37</td>\n",
              "      <td>2</td>\n",
              "    </tr>\n",
              "  </tbody>\n",
              "</table>\n",
              "</div>"
            ],
            "text/plain": [
              "       norm_loss    make fuel aspiration doors  ...  bore stroke   hp peak_rpm price\n",
              "count        164     205  205        205   203  ...   201    201  203      203   201\n",
              "unique        51      22    2          2     2  ...    38     36   59       23   186\n",
              "top          161  toyota  gas        std  four  ...  3.62   3.40   68     5500  7957\n",
              "freq          11      32  185        168   114  ...    23     20   19       37     2\n",
              "\n",
              "[4 rows x 16 columns]"
            ]
          },
          "metadata": {
            "tags": []
          },
          "execution_count": 268
        }
      ]
    },
    {
      "cell_type": "code",
      "metadata": {
        "id": "ME2pU16FNfsP",
        "colab_type": "code",
        "colab": {
          "base_uri": "https://localhost:8080/",
          "height": 69
        },
        "outputId": "803c0ab8-2b98-41bd-a72c-cb52c33d62b2"
      },
      "source": [
        "auto_df['doors'].value_counts().head()"
      ],
      "execution_count": 269,
      "outputs": [
        {
          "output_type": "execute_result",
          "data": {
            "text/plain": [
              "four    114\n",
              "two      89\n",
              "Name: doors, dtype: int64"
            ]
          },
          "metadata": {
            "tags": []
          },
          "execution_count": 269
        }
      ]
    },
    {
      "cell_type": "code",
      "metadata": {
        "id": "6iLxuMJDMKRg",
        "colab_type": "code",
        "colab": {
          "base_uri": "https://localhost:8080/",
          "height": 35
        },
        "outputId": "36cfce74-2b23-4fd5-89d2-1320c3daecc2"
      },
      "source": [
        "auto_df.shape"
      ],
      "execution_count": 270,
      "outputs": [
        {
          "output_type": "execute_result",
          "data": {
            "text/plain": [
              "(205, 26)"
            ]
          },
          "metadata": {
            "tags": []
          },
          "execution_count": 270
        }
      ]
    },
    {
      "cell_type": "code",
      "metadata": {
        "id": "hMWNIb9OIJoK",
        "colab_type": "code",
        "colab": {
          "base_uri": "https://localhost:8080/",
          "height": 35
        },
        "outputId": "84dc9da3-3f60-44a9-86ea-be9bbcfe598f"
      },
      "source": [
        "auto_df['doors'].nunique()"
      ],
      "execution_count": 271,
      "outputs": [
        {
          "output_type": "execute_result",
          "data": {
            "text/plain": [
              "2"
            ]
          },
          "metadata": {
            "tags": []
          },
          "execution_count": 271
        }
      ]
    },
    {
      "cell_type": "code",
      "metadata": {
        "id": "vXldq2h1K1vn",
        "colab_type": "code",
        "colab": {
          "base_uri": "https://localhost:8080/",
          "height": 35
        },
        "outputId": "0d45a1ab-4a03-4b0e-891e-003e8bc158bb"
      },
      "source": [
        "auto_df['doors'].unique()"
      ],
      "execution_count": 272,
      "outputs": [
        {
          "output_type": "execute_result",
          "data": {
            "text/plain": [
              "array(['two', 'four', nan], dtype=object)"
            ]
          },
          "metadata": {
            "tags": []
          },
          "execution_count": 272
        }
      ]
    },
    {
      "cell_type": "markdown",
      "metadata": {
        "id": "JZQFmkMcNjnB",
        "colab_type": "text"
      },
      "source": [
        "# Cleaning and Feature Engineering"
      ]
    },
    {
      "cell_type": "markdown",
      "metadata": {
        "id": "ZZewkUAiNqGs",
        "colab_type": "text"
      },
      "source": [
        "Complete the following actions on the dataframe:\n",
        "- Fill in the null values in the dataframe without dropping any rows or columns\n",
        "- Convert the `doors` column to `int`\n",
        "- Drop the `eng_loc` column\n",
        "- Create a new column in the df that is the `hp` divided by `price`"
      ]
    },
    {
      "cell_type": "code",
      "metadata": {
        "id": "xI9SyY_IQqlY",
        "colab_type": "code",
        "colab": {}
      },
      "source": [
        "# Filling the NaN values\n",
        "values = {'norm_loss': 0, 'doors': 'four', 'bore': 3.0, 'stroke': 3.0, 'hp': 100, 'peak_rpm': 5000, 'price': 15000}\n",
        "auto_df.fillna(value=values, inplace=True)"
      ],
      "execution_count": 0,
      "outputs": []
    },
    {
      "cell_type": "code",
      "metadata": {
        "id": "aZvqI44x_xZ5",
        "colab_type": "code",
        "colab": {
          "base_uri": "https://localhost:8080/",
          "height": 484
        },
        "outputId": "6d48b0c0-fce9-4dcb-bd7d-2de377213864"
      },
      "source": [
        "auto_df.isnull().sum()"
      ],
      "execution_count": 274,
      "outputs": [
        {
          "output_type": "execute_result",
          "data": {
            "text/plain": [
              "symboling      0\n",
              "norm_loss      0\n",
              "make           0\n",
              "fuel           0\n",
              "aspiration     0\n",
              "doors          0\n",
              "bod_style      0\n",
              "drv_wheels     0\n",
              "eng_loc        0\n",
              "wheel_base     0\n",
              "length         0\n",
              "width          0\n",
              "height         0\n",
              "curb_weight    0\n",
              "engine         0\n",
              "cylinders      0\n",
              "engine_size    0\n",
              "fuel_system    0\n",
              "bore           0\n",
              "stroke         0\n",
              "compression    0\n",
              "hp             0\n",
              "peak_rpm       0\n",
              "city_mpg       0\n",
              "hgwy_mpg       0\n",
              "price          0\n",
              "dtype: int64"
            ]
          },
          "metadata": {
            "tags": []
          },
          "execution_count": 274
        }
      ]
    },
    {
      "cell_type": "code",
      "metadata": {
        "id": "CR-IMld8xdBF",
        "colab_type": "code",
        "colab": {
          "base_uri": "https://localhost:8080/",
          "height": 484
        },
        "outputId": "eee41389-bfa4-42de-de54-31d68a04b428"
      },
      "source": [
        "auto_df.dtypes"
      ],
      "execution_count": 275,
      "outputs": [
        {
          "output_type": "execute_result",
          "data": {
            "text/plain": [
              "symboling        int64\n",
              "norm_loss       object\n",
              "make            object\n",
              "fuel            object\n",
              "aspiration      object\n",
              "doors           object\n",
              "bod_style       object\n",
              "drv_wheels      object\n",
              "eng_loc         object\n",
              "wheel_base     float64\n",
              "length         float64\n",
              "width          float64\n",
              "height         float64\n",
              "curb_weight      int64\n",
              "engine          object\n",
              "cylinders       object\n",
              "engine_size      int64\n",
              "fuel_system     object\n",
              "bore            object\n",
              "stroke          object\n",
              "compression    float64\n",
              "hp              object\n",
              "peak_rpm        object\n",
              "city_mpg         int64\n",
              "hgwy_mpg         int64\n",
              "price           object\n",
              "dtype: object"
            ]
          },
          "metadata": {
            "tags": []
          },
          "execution_count": 275
        }
      ]
    },
    {
      "cell_type": "code",
      "metadata": {
        "id": "EQC6rnz1QqgJ",
        "colab_type": "code",
        "colab": {
          "base_uri": "https://localhost:8080/",
          "height": 35
        },
        "outputId": "55107096-2793-4ef8-e751-f1c090fbacec"
      },
      "source": [
        "auto_df['doors'].dtypes"
      ],
      "execution_count": 276,
      "outputs": [
        {
          "output_type": "execute_result",
          "data": {
            "text/plain": [
              "dtype('O')"
            ]
          },
          "metadata": {
            "tags": []
          },
          "execution_count": 276
        }
      ]
    },
    {
      "cell_type": "code",
      "metadata": {
        "id": "3blOcL1CyGoq",
        "colab_type": "code",
        "colab": {
          "base_uri": "https://localhost:8080/",
          "height": 69
        },
        "outputId": "9ac89e1f-af66-45c3-9e5e-2f6387a6f901"
      },
      "source": [
        "auto_df['doors'].value_counts().head()"
      ],
      "execution_count": 277,
      "outputs": [
        {
          "output_type": "execute_result",
          "data": {
            "text/plain": [
              "four    116\n",
              "two      89\n",
              "Name: doors, dtype: int64"
            ]
          },
          "metadata": {
            "tags": []
          },
          "execution_count": 277
        }
      ]
    },
    {
      "cell_type": "code",
      "metadata": {
        "id": "9yTUEAfz3Pkx",
        "colab_type": "code",
        "colab": {}
      },
      "source": [
        "auto_df['doors'].replace(['two', 'four'], ['2', '4'], inplace=True)"
      ],
      "execution_count": 0,
      "outputs": []
    },
    {
      "cell_type": "code",
      "metadata": {
        "id": "yMzTxON93hBE",
        "colab_type": "code",
        "colab": {
          "base_uri": "https://localhost:8080/",
          "height": 121
        },
        "outputId": "dbd46d67-b60f-49d7-f862-b1473549ab14"
      },
      "source": [
        "auto_df['doors'].sample(5)"
      ],
      "execution_count": 279,
      "outputs": [
        {
          "output_type": "execute_result",
          "data": {
            "text/plain": [
              "45     4\n",
              "78     2\n",
              "42     2\n",
              "164    2\n",
              "186    4\n",
              "Name: doors, dtype: object"
            ]
          },
          "metadata": {
            "tags": []
          },
          "execution_count": 279
        }
      ]
    },
    {
      "cell_type": "code",
      "metadata": {
        "id": "SWAbj6Jc4Un9",
        "colab_type": "code",
        "colab": {
          "base_uri": "https://localhost:8080/",
          "height": 35
        },
        "outputId": "ab0f6094-7237-4ae0-8d17-77197574ba4b"
      },
      "source": [
        "# I fixed this above first but below is another way to replace a null with 3 in this case.\n",
        "# doors has two null values which need to be replaced with an actual value we'll put in 3 which would be the average.\n",
        "auto_df['doors'].isnull().sum()"
      ],
      "execution_count": 280,
      "outputs": [
        {
          "output_type": "execute_result",
          "data": {
            "text/plain": [
              "0"
            ]
          },
          "metadata": {
            "tags": []
          },
          "execution_count": 280
        }
      ]
    },
    {
      "cell_type": "code",
      "metadata": {
        "id": "32O4rH3d4vTq",
        "colab_type": "code",
        "colab": {}
      },
      "source": [
        "# I replaced the null value above with 'four' then ultimately an int.\n",
        "# auto_df['doors'].replace('NaN', '3', inplace=True)"
      ],
      "execution_count": 0,
      "outputs": []
    },
    {
      "cell_type": "code",
      "metadata": {
        "id": "CG3tIMkU48xe",
        "colab_type": "code",
        "colab": {
          "base_uri": "https://localhost:8080/",
          "height": 35
        },
        "outputId": "7b02cff3-6c26-44ec-c807-2489ddb6d2b2"
      },
      "source": [
        "# not getting rid of the null values for some reason!!\n",
        "# auto_df['doors'].isnull().sum()"
      ],
      "execution_count": 141,
      "outputs": [
        {
          "output_type": "execute_result",
          "data": {
            "text/plain": [
              "0"
            ]
          },
          "metadata": {
            "tags": []
          },
          "execution_count": 141
        }
      ]
    },
    {
      "cell_type": "code",
      "metadata": {
        "id": "ylgcS_9h5x4j",
        "colab_type": "code",
        "colab": {
          "base_uri": "https://localhost:8080/",
          "height": 484
        },
        "outputId": "fbdf38dd-9af7-4261-e923-fd28f4cc70bb"
      },
      "source": [
        "auto_df.isnull().sum()"
      ],
      "execution_count": 281,
      "outputs": [
        {
          "output_type": "execute_result",
          "data": {
            "text/plain": [
              "symboling      0\n",
              "norm_loss      0\n",
              "make           0\n",
              "fuel           0\n",
              "aspiration     0\n",
              "doors          0\n",
              "bod_style      0\n",
              "drv_wheels     0\n",
              "eng_loc        0\n",
              "wheel_base     0\n",
              "length         0\n",
              "width          0\n",
              "height         0\n",
              "curb_weight    0\n",
              "engine         0\n",
              "cylinders      0\n",
              "engine_size    0\n",
              "fuel_system    0\n",
              "bore           0\n",
              "stroke         0\n",
              "compression    0\n",
              "hp             0\n",
              "peak_rpm       0\n",
              "city_mpg       0\n",
              "hgwy_mpg       0\n",
              "price          0\n",
              "dtype: int64"
            ]
          },
          "metadata": {
            "tags": []
          },
          "execution_count": 281
        }
      ]
    },
    {
      "cell_type": "code",
      "metadata": {
        "id": "4T1nzIpD56XG",
        "colab_type": "code",
        "colab": {
          "base_uri": "https://localhost:8080/",
          "height": 68
        },
        "outputId": "253b0f98-d672-4151-aeff-4f66532df316"
      },
      "source": [
        "auto_df[auto_df.isnull().any(axis=1)]"
      ],
      "execution_count": 282,
      "outputs": [
        {
          "output_type": "execute_result",
          "data": {
            "text/html": [
              "<div>\n",
              "<style scoped>\n",
              "    .dataframe tbody tr th:only-of-type {\n",
              "        vertical-align: middle;\n",
              "    }\n",
              "\n",
              "    .dataframe tbody tr th {\n",
              "        vertical-align: top;\n",
              "    }\n",
              "\n",
              "    .dataframe thead th {\n",
              "        text-align: right;\n",
              "    }\n",
              "</style>\n",
              "<table border=\"1\" class=\"dataframe\">\n",
              "  <thead>\n",
              "    <tr style=\"text-align: right;\">\n",
              "      <th></th>\n",
              "      <th>symboling</th>\n",
              "      <th>norm_loss</th>\n",
              "      <th>make</th>\n",
              "      <th>fuel</th>\n",
              "      <th>aspiration</th>\n",
              "      <th>doors</th>\n",
              "      <th>bod_style</th>\n",
              "      <th>drv_wheels</th>\n",
              "      <th>eng_loc</th>\n",
              "      <th>wheel_base</th>\n",
              "      <th>length</th>\n",
              "      <th>width</th>\n",
              "      <th>height</th>\n",
              "      <th>curb_weight</th>\n",
              "      <th>engine</th>\n",
              "      <th>cylinders</th>\n",
              "      <th>engine_size</th>\n",
              "      <th>fuel_system</th>\n",
              "      <th>bore</th>\n",
              "      <th>stroke</th>\n",
              "      <th>compression</th>\n",
              "      <th>hp</th>\n",
              "      <th>peak_rpm</th>\n",
              "      <th>city_mpg</th>\n",
              "      <th>hgwy_mpg</th>\n",
              "      <th>price</th>\n",
              "    </tr>\n",
              "  </thead>\n",
              "  <tbody>\n",
              "  </tbody>\n",
              "</table>\n",
              "</div>"
            ],
            "text/plain": [
              "Empty DataFrame\n",
              "Columns: [symboling, norm_loss, make, fuel, aspiration, doors, bod_style, drv_wheels, eng_loc, wheel_base, length, width, height, curb_weight, engine, cylinders, engine_size, fuel_system, bore, stroke, compression, hp, peak_rpm, city_mpg, hgwy_mpg, price]\n",
              "Index: []"
            ]
          },
          "metadata": {
            "tags": []
          },
          "execution_count": 282
        }
      ]
    },
    {
      "cell_type": "code",
      "metadata": {
        "id": "T_W_i97t7nRo",
        "colab_type": "code",
        "colab": {}
      },
      "source": [
        "# finally this works!!\n",
        "# the other way to do it would have been to drop all the null values see below:\n",
        "# auto_df['doors'].dropna(inplace=True)\n",
        "\n",
        "# UNCOMMENTED OUT BECAUSE WAS FIXED ABOVE\n",
        "# auto_df.at[27, \"doors\"] = \"3\" \n",
        "# auto_df.at[63, \"doors\"] = \"3\" "
      ],
      "execution_count": 0,
      "outputs": []
    },
    {
      "cell_type": "code",
      "metadata": {
        "id": "7J4lbJeU77Wq",
        "colab_type": "code",
        "colab": {
          "base_uri": "https://localhost:8080/",
          "height": 35
        },
        "outputId": "d11de00f-d6a9-4677-f980-857d340dfad5"
      },
      "source": [
        "auto_df['doors'].isnull().sum()"
      ],
      "execution_count": 283,
      "outputs": [
        {
          "output_type": "execute_result",
          "data": {
            "text/plain": [
              "0"
            ]
          },
          "metadata": {
            "tags": []
          },
          "execution_count": 283
        }
      ]
    },
    {
      "cell_type": "code",
      "metadata": {
        "id": "ngwonmm234lh",
        "colab_type": "code",
        "colab": {}
      },
      "source": [
        " # YESS!\n",
        " auto_df['doors'] = auto_df['doors'].astype(str).astype(int)"
      ],
      "execution_count": 0,
      "outputs": []
    },
    {
      "cell_type": "code",
      "metadata": {
        "id": "-G95ZvDd8kPj",
        "colab_type": "code",
        "colab": {
          "base_uri": "https://localhost:8080/",
          "height": 35
        },
        "outputId": "410f854a-80a9-496f-b0d6-3cd8583ed6a0"
      },
      "source": [
        "# Finally.\n",
        "auto_df['doors'].dtypes"
      ],
      "execution_count": 285,
      "outputs": [
        {
          "output_type": "execute_result",
          "data": {
            "text/plain": [
              "dtype('int64')"
            ]
          },
          "metadata": {
            "tags": []
          },
          "execution_count": 285
        }
      ]
    },
    {
      "cell_type": "code",
      "metadata": {
        "id": "gN37dFKtCiii",
        "colab_type": "code",
        "colab": {
          "base_uri": "https://localhost:8080/",
          "height": 69
        },
        "outputId": "fb75a65c-ff0b-4f18-df4b-2de8fcdc12a7"
      },
      "source": [
        "auto_df['doors'].value_counts().head()"
      ],
      "execution_count": 286,
      "outputs": [
        {
          "output_type": "execute_result",
          "data": {
            "text/plain": [
              "4    116\n",
              "2     89\n",
              "Name: doors, dtype: int64"
            ]
          },
          "metadata": {
            "tags": []
          },
          "execution_count": 286
        }
      ]
    },
    {
      "cell_type": "code",
      "metadata": {
        "id": "oV7bjX8TLQDb",
        "colab_type": "code",
        "colab": {
          "base_uri": "https://localhost:8080/",
          "height": 35
        },
        "outputId": "4dbb6c25-9db1-45f8-f677-d4114c2b68fe"
      },
      "source": [
        "auto_df['doors'].unique()"
      ],
      "execution_count": 287,
      "outputs": [
        {
          "output_type": "execute_result",
          "data": {
            "text/plain": [
              "array([2, 4])"
            ]
          },
          "metadata": {
            "tags": []
          },
          "execution_count": 287
        }
      ]
    },
    {
      "cell_type": "code",
      "metadata": {
        "id": "beiHegN8LZPk",
        "colab_type": "code",
        "colab": {
          "base_uri": "https://localhost:8080/",
          "height": 35
        },
        "outputId": "be4a3219-e490-4372-dcef-fcae054866ce"
      },
      "source": [
        "len(auto_df['doors'].unique())"
      ],
      "execution_count": 288,
      "outputs": [
        {
          "output_type": "execute_result",
          "data": {
            "text/plain": [
              "2"
            ]
          },
          "metadata": {
            "tags": []
          },
          "execution_count": 288
        }
      ]
    },
    {
      "cell_type": "code",
      "metadata": {
        "id": "j4-o-AhAQqbb",
        "colab_type": "code",
        "colab": {
          "base_uri": "https://localhost:8080/",
          "height": 121
        },
        "outputId": "703849ce-d737-4640-d115-c1b0ccec3d41"
      },
      "source": [
        "auto_df.columns"
      ],
      "execution_count": 289,
      "outputs": [
        {
          "output_type": "execute_result",
          "data": {
            "text/plain": [
              "Index(['symboling', 'norm_loss', 'make', 'fuel', 'aspiration', 'doors',\n",
              "       'bod_style', 'drv_wheels', 'eng_loc', 'wheel_base', 'length', 'width',\n",
              "       'height', 'curb_weight', 'engine', 'cylinders', 'engine_size',\n",
              "       'fuel_system', 'bore', 'stroke', 'compression', 'hp', 'peak_rpm',\n",
              "       'city_mpg', 'hgwy_mpg', 'price'],\n",
              "      dtype='object')"
            ]
          },
          "metadata": {
            "tags": []
          },
          "execution_count": 289
        }
      ]
    },
    {
      "cell_type": "code",
      "metadata": {
        "id": "N-E71VXJuy3f",
        "colab_type": "code",
        "colab": {}
      },
      "source": [
        "# Got to have inplace=True\n",
        "# axis 1 is columns axis 0 would be rows we want a column dropped.\n",
        "auto_df.drop('eng_loc', axis=1, inplace=True)"
      ],
      "execution_count": 0,
      "outputs": []
    },
    {
      "cell_type": "code",
      "metadata": {
        "id": "m5-7Sj9tvEjt",
        "colab_type": "code",
        "colab": {
          "base_uri": "https://localhost:8080/",
          "height": 121
        },
        "outputId": "5da06de8-d948-44d6-9813-6ec1dd9359e5"
      },
      "source": [
        "# eng_loc is no longer there (LOOK between drv_wheels and wheel_base it's gone.)\n",
        "auto_df.columns"
      ],
      "execution_count": 291,
      "outputs": [
        {
          "output_type": "execute_result",
          "data": {
            "text/plain": [
              "Index(['symboling', 'norm_loss', 'make', 'fuel', 'aspiration', 'doors',\n",
              "       'bod_style', 'drv_wheels', 'wheel_base', 'length', 'width', 'height',\n",
              "       'curb_weight', 'engine', 'cylinders', 'engine_size', 'fuel_system',\n",
              "       'bore', 'stroke', 'compression', 'hp', 'peak_rpm', 'city_mpg',\n",
              "       'hgwy_mpg', 'price'],\n",
              "      dtype='object')"
            ]
          },
          "metadata": {
            "tags": []
          },
          "execution_count": 291
        }
      ]
    },
    {
      "cell_type": "code",
      "metadata": {
        "id": "67XeEW9_Mph9",
        "colab_type": "code",
        "colab": {
          "base_uri": "https://localhost:8080/",
          "height": 52
        },
        "outputId": "2796796d-7edb-4384-f5e4-97ea23c5fb70"
      },
      "source": [
        "print(auto_df['hp'].dtypes)\n",
        "auto_df['price'].dtypes"
      ],
      "execution_count": 292,
      "outputs": [
        {
          "output_type": "stream",
          "text": [
            "object\n"
          ],
          "name": "stdout"
        },
        {
          "output_type": "execute_result",
          "data": {
            "text/plain": [
              "dtype('O')"
            ]
          },
          "metadata": {
            "tags": []
          },
          "execution_count": 292
        }
      ]
    },
    {
      "cell_type": "code",
      "metadata": {
        "id": "UiQnRVYoNFBI",
        "colab_type": "code",
        "colab": {}
      },
      "source": [
        "auto_df['hp'] = auto_df['hp'].astype(str).astype(int)\n",
        "auto_df['price'] = auto_df['price'].astype(str).astype(int)"
      ],
      "execution_count": 0,
      "outputs": []
    },
    {
      "cell_type": "code",
      "metadata": {
        "id": "X21A-bjVNdfF",
        "colab_type": "code",
        "colab": {
          "base_uri": "https://localhost:8080/",
          "height": 52
        },
        "outputId": "75b0d6b5-2698-4292-c4e9-52e4a3b07838"
      },
      "source": [
        "print(auto_df['hp'].dtypes)\n",
        "auto_df['price'].dtypes"
      ],
      "execution_count": 294,
      "outputs": [
        {
          "output_type": "stream",
          "text": [
            "int64\n"
          ],
          "name": "stdout"
        },
        {
          "output_type": "execute_result",
          "data": {
            "text/plain": [
              "dtype('int64')"
            ]
          },
          "metadata": {
            "tags": []
          },
          "execution_count": 294
        }
      ]
    },
    {
      "cell_type": "code",
      "metadata": {
        "id": "szqAPH_mL9vw",
        "colab_type": "code",
        "colab": {
          "base_uri": "https://localhost:8080/",
          "height": 198
        },
        "outputId": "1ce6af6b-2465-4b9f-f18a-a241b40ad21f"
      },
      "source": [
        "# Create a new column in the df that is the hp divided by price\n",
        "# Lets make a nother new column that is 'hp' by 'price'\n",
        "auto_df['hp_divided_by_price'] = auto_df['hp'] / auto_df['price']\n",
        "# df1 = df[['a','b']]\n",
        "two_columns = auto_df[['engine', 'hp_divided_by_price']]\n",
        "two_columns.head()"
      ],
      "execution_count": 328,
      "outputs": [
        {
          "output_type": "execute_result",
          "data": {
            "text/html": [
              "<div>\n",
              "<style scoped>\n",
              "    .dataframe tbody tr th:only-of-type {\n",
              "        vertical-align: middle;\n",
              "    }\n",
              "\n",
              "    .dataframe tbody tr th {\n",
              "        vertical-align: top;\n",
              "    }\n",
              "\n",
              "    .dataframe thead th {\n",
              "        text-align: right;\n",
              "    }\n",
              "</style>\n",
              "<table border=\"1\" class=\"dataframe\">\n",
              "  <thead>\n",
              "    <tr style=\"text-align: right;\">\n",
              "      <th></th>\n",
              "      <th>engine</th>\n",
              "      <th>hp_divided_by_price</th>\n",
              "    </tr>\n",
              "  </thead>\n",
              "  <tbody>\n",
              "    <tr>\n",
              "      <th>0</th>\n",
              "      <td>dohc</td>\n",
              "      <td>0.008225</td>\n",
              "    </tr>\n",
              "    <tr>\n",
              "      <th>1</th>\n",
              "      <td>dohc</td>\n",
              "      <td>0.006727</td>\n",
              "    </tr>\n",
              "    <tr>\n",
              "      <th>2</th>\n",
              "      <td>ohcv</td>\n",
              "      <td>0.009333</td>\n",
              "    </tr>\n",
              "    <tr>\n",
              "      <th>3</th>\n",
              "      <td>ohc</td>\n",
              "      <td>0.007312</td>\n",
              "    </tr>\n",
              "    <tr>\n",
              "      <th>4</th>\n",
              "      <td>ohc</td>\n",
              "      <td>0.006590</td>\n",
              "    </tr>\n",
              "  </tbody>\n",
              "</table>\n",
              "</div>"
            ],
            "text/plain": [
              "  engine  hp_divided_by_price\n",
              "0   dohc             0.008225\n",
              "1   dohc             0.006727\n",
              "2   ohcv             0.009333\n",
              "3    ohc             0.007312\n",
              "4    ohc             0.006590"
            ]
          },
          "metadata": {
            "tags": []
          },
          "execution_count": 328
        }
      ]
    },
    {
      "cell_type": "code",
      "metadata": {
        "id": "vpC9Xt7lNglw",
        "colab_type": "code",
        "colab": {
          "base_uri": "https://localhost:8080/",
          "height": 121
        },
        "outputId": "66077ec8-3a6f-44a5-fab8-7ac384db5764"
      },
      "source": [
        "# NOW I CAN SEE that there is a new column 'hp_divided_by_price'\n",
        "auto_df.columns"
      ],
      "execution_count": 296,
      "outputs": [
        {
          "output_type": "execute_result",
          "data": {
            "text/plain": [
              "Index(['symboling', 'norm_loss', 'make', 'fuel', 'aspiration', 'doors',\n",
              "       'bod_style', 'drv_wheels', 'wheel_base', 'length', 'width', 'height',\n",
              "       'curb_weight', 'engine', 'cylinders', 'engine_size', 'fuel_system',\n",
              "       'bore', 'stroke', 'compression', 'hp', 'peak_rpm', 'city_mpg',\n",
              "       'hgwy_mpg', 'price', 'hp_divided_by_price'],\n",
              "      dtype='object')"
            ]
          },
          "metadata": {
            "tags": []
          },
          "execution_count": 296
        }
      ]
    },
    {
      "cell_type": "markdown",
      "metadata": {
        "id": "gpxXIPjf7ilK",
        "colab_type": "text"
      },
      "source": [
        "What does it mean to engineer a feature?"
      ]
    },
    {
      "cell_type": "code",
      "metadata": {
        "id": "Y84U2ltU79ud",
        "colab_type": "code",
        "colab": {}
      },
      "source": [
        "# Feature Engineering is the way of extracting features from data ..\n",
        "# .. and transforming them into formats that are suitable for Machine Learning algorithms.\n",
        "# Has 3 main steps:\n",
        "# Feature Selection, Feature Transformation, and Feature Extraction. "
      ],
      "execution_count": 0,
      "outputs": []
    },
    {
      "cell_type": "markdown",
      "metadata": {
        "id": "ufQSY3l47-FU",
        "colab_type": "text"
      },
      "source": [
        "What is a `NaN` and why do we care about them?"
      ]
    },
    {
      "cell_type": "code",
      "metadata": {
        "id": "MJq9qTiI8Vqp",
        "colab_type": "code",
        "colab": {}
      },
      "source": [
        "# NaN stands for \"Not a Number\" and is the default missing value indicator with Pandas.  \n",
        "# Look at the data column that has the NaN to better understand it and how to deal with it.\n",
        "# NaN could also mean that something was not applicable or just not recorded.\n",
        "# Pandas tries to maintain a specific data type for all values in a column.\n",
        "# NaN is recorded as type float so if the column has all ints and a NaN it will be recorded and labled all floats to keep the NaN in place."
      ],
      "execution_count": 0,
      "outputs": []
    },
    {
      "cell_type": "markdown",
      "metadata": {
        "id": "YJP6bMIJQsBF",
        "colab_type": "text"
      },
      "source": [
        "# Basic Visualizations"
      ]
    },
    {
      "cell_type": "markdown",
      "metadata": {
        "id": "fp_7Jn62QzoJ",
        "colab_type": "text"
      },
      "source": [
        "Make the following basic graphs with the features in the dataframe:\n",
        "- Line Plot\n",
        "- Scatterplot\n",
        "- Histogram\n",
        "- Bar Graph\n",
        "- Density\n",
        "\n",
        "All graphs should have a title, and label for each axis"
      ]
    },
    {
      "cell_type": "code",
      "metadata": {
        "id": "GwL2EUjJ0yBv",
        "colab_type": "code",
        "colab": {
          "base_uri": "https://localhost:8080/",
          "height": 288
        },
        "outputId": "02792485-4323-429b-e694-31229e8e0469"
      },
      "source": [
        "auto_df.describe()"
      ],
      "execution_count": 298,
      "outputs": [
        {
          "output_type": "execute_result",
          "data": {
            "text/html": [
              "<div>\n",
              "<style scoped>\n",
              "    .dataframe tbody tr th:only-of-type {\n",
              "        vertical-align: middle;\n",
              "    }\n",
              "\n",
              "    .dataframe tbody tr th {\n",
              "        vertical-align: top;\n",
              "    }\n",
              "\n",
              "    .dataframe thead th {\n",
              "        text-align: right;\n",
              "    }\n",
              "</style>\n",
              "<table border=\"1\" class=\"dataframe\">\n",
              "  <thead>\n",
              "    <tr style=\"text-align: right;\">\n",
              "      <th></th>\n",
              "      <th>symboling</th>\n",
              "      <th>doors</th>\n",
              "      <th>wheel_base</th>\n",
              "      <th>length</th>\n",
              "      <th>width</th>\n",
              "      <th>height</th>\n",
              "      <th>curb_weight</th>\n",
              "      <th>engine_size</th>\n",
              "      <th>compression</th>\n",
              "      <th>hp</th>\n",
              "      <th>city_mpg</th>\n",
              "      <th>hgwy_mpg</th>\n",
              "      <th>price</th>\n",
              "      <th>hp_divided_by_price</th>\n",
              "    </tr>\n",
              "  </thead>\n",
              "  <tbody>\n",
              "    <tr>\n",
              "      <th>count</th>\n",
              "      <td>205.000000</td>\n",
              "      <td>205.000000</td>\n",
              "      <td>205.000000</td>\n",
              "      <td>205.000000</td>\n",
              "      <td>205.000000</td>\n",
              "      <td>205.000000</td>\n",
              "      <td>205.000000</td>\n",
              "      <td>205.000000</td>\n",
              "      <td>205.000000</td>\n",
              "      <td>205.000000</td>\n",
              "      <td>205.000000</td>\n",
              "      <td>205.000000</td>\n",
              "      <td>205.000000</td>\n",
              "      <td>205.000000</td>\n",
              "    </tr>\n",
              "    <tr>\n",
              "      <th>mean</th>\n",
              "      <td>0.834146</td>\n",
              "      <td>3.131707</td>\n",
              "      <td>98.756585</td>\n",
              "      <td>174.049268</td>\n",
              "      <td>65.907805</td>\n",
              "      <td>53.724878</td>\n",
              "      <td>2555.565854</td>\n",
              "      <td>126.907317</td>\n",
              "      <td>10.142537</td>\n",
              "      <td>104.214634</td>\n",
              "      <td>25.219512</td>\n",
              "      <td>30.751220</td>\n",
              "      <td>13242.112195</td>\n",
              "      <td>0.008824</td>\n",
              "    </tr>\n",
              "    <tr>\n",
              "      <th>std</th>\n",
              "      <td>1.245307</td>\n",
              "      <td>0.993715</td>\n",
              "      <td>6.021776</td>\n",
              "      <td>12.337289</td>\n",
              "      <td>2.145204</td>\n",
              "      <td>2.443522</td>\n",
              "      <td>520.680204</td>\n",
              "      <td>41.642693</td>\n",
              "      <td>3.972040</td>\n",
              "      <td>39.521436</td>\n",
              "      <td>6.542142</td>\n",
              "      <td>6.886443</td>\n",
              "      <td>7872.693982</td>\n",
              "      <td>0.002406</td>\n",
              "    </tr>\n",
              "    <tr>\n",
              "      <th>min</th>\n",
              "      <td>-2.000000</td>\n",
              "      <td>2.000000</td>\n",
              "      <td>86.600000</td>\n",
              "      <td>141.100000</td>\n",
              "      <td>60.300000</td>\n",
              "      <td>47.800000</td>\n",
              "      <td>1488.000000</td>\n",
              "      <td>61.000000</td>\n",
              "      <td>7.000000</td>\n",
              "      <td>48.000000</td>\n",
              "      <td>13.000000</td>\n",
              "      <td>16.000000</td>\n",
              "      <td>5118.000000</td>\n",
              "      <td>0.003892</td>\n",
              "    </tr>\n",
              "    <tr>\n",
              "      <th>25%</th>\n",
              "      <td>0.000000</td>\n",
              "      <td>2.000000</td>\n",
              "      <td>94.500000</td>\n",
              "      <td>166.300000</td>\n",
              "      <td>64.100000</td>\n",
              "      <td>52.000000</td>\n",
              "      <td>2145.000000</td>\n",
              "      <td>97.000000</td>\n",
              "      <td>8.600000</td>\n",
              "      <td>70.000000</td>\n",
              "      <td>19.000000</td>\n",
              "      <td>25.000000</td>\n",
              "      <td>7788.000000</td>\n",
              "      <td>0.007092</td>\n",
              "    </tr>\n",
              "    <tr>\n",
              "      <th>50%</th>\n",
              "      <td>1.000000</td>\n",
              "      <td>4.000000</td>\n",
              "      <td>97.000000</td>\n",
              "      <td>173.200000</td>\n",
              "      <td>65.500000</td>\n",
              "      <td>54.100000</td>\n",
              "      <td>2414.000000</td>\n",
              "      <td>120.000000</td>\n",
              "      <td>9.000000</td>\n",
              "      <td>95.000000</td>\n",
              "      <td>24.000000</td>\n",
              "      <td>30.000000</td>\n",
              "      <td>10595.000000</td>\n",
              "      <td>0.009046</td>\n",
              "    </tr>\n",
              "    <tr>\n",
              "      <th>75%</th>\n",
              "      <td>2.000000</td>\n",
              "      <td>4.000000</td>\n",
              "      <td>102.400000</td>\n",
              "      <td>183.100000</td>\n",
              "      <td>66.900000</td>\n",
              "      <td>55.500000</td>\n",
              "      <td>2935.000000</td>\n",
              "      <td>141.000000</td>\n",
              "      <td>9.400000</td>\n",
              "      <td>116.000000</td>\n",
              "      <td>30.000000</td>\n",
              "      <td>34.000000</td>\n",
              "      <td>16500.000000</td>\n",
              "      <td>0.010378</td>\n",
              "    </tr>\n",
              "    <tr>\n",
              "      <th>max</th>\n",
              "      <td>3.000000</td>\n",
              "      <td>4.000000</td>\n",
              "      <td>120.900000</td>\n",
              "      <td>208.100000</td>\n",
              "      <td>72.300000</td>\n",
              "      <td>59.800000</td>\n",
              "      <td>4066.000000</td>\n",
              "      <td>326.000000</td>\n",
              "      <td>23.000000</td>\n",
              "      <td>288.000000</td>\n",
              "      <td>49.000000</td>\n",
              "      <td>54.000000</td>\n",
              "      <td>45400.000000</td>\n",
              "      <td>0.019200</td>\n",
              "    </tr>\n",
              "  </tbody>\n",
              "</table>\n",
              "</div>"
            ],
            "text/plain": [
              "        symboling       doors  ...         price  hp_divided_by_price\n",
              "count  205.000000  205.000000  ...    205.000000           205.000000\n",
              "mean     0.834146    3.131707  ...  13242.112195             0.008824\n",
              "std      1.245307    0.993715  ...   7872.693982             0.002406\n",
              "min     -2.000000    2.000000  ...   5118.000000             0.003892\n",
              "25%      0.000000    2.000000  ...   7788.000000             0.007092\n",
              "50%      1.000000    4.000000  ...  10595.000000             0.009046\n",
              "75%      2.000000    4.000000  ...  16500.000000             0.010378\n",
              "max      3.000000    4.000000  ...  45400.000000             0.019200\n",
              "\n",
              "[8 rows x 14 columns]"
            ]
          },
          "metadata": {
            "tags": []
          },
          "execution_count": 298
        }
      ]
    },
    {
      "cell_type": "code",
      "metadata": {
        "id": "lggWNVVeTQwo",
        "colab_type": "code",
        "colab": {}
      },
      "source": [
        "auto_df['curb_weight'] = auto_df['curb_weight'].astype(str).astype(int)\n",
        "auto_df['city_mpg'] = auto_df['city_mpg'].astype(str).astype(int)\n",
        "auto_df['hgwy_mpg'] = auto_df['hgwy_mpg'].astype(str).astype(int)"
      ],
      "execution_count": 0,
      "outputs": []
    },
    {
      "cell_type": "code",
      "metadata": {
        "id": "RhIb8785Tspg",
        "colab_type": "code",
        "colab": {
          "base_uri": "https://localhost:8080/",
          "height": 69
        },
        "outputId": "bce44767-dab7-4c26-8437-828ac933ac7c"
      },
      "source": [
        "print(auto_df['curb_weight'].dtypes)\n",
        "print(auto_df['city_mpg'].dtypes)\n",
        "auto_df['hgwy_mpg'].dtypes"
      ],
      "execution_count": 300,
      "outputs": [
        {
          "output_type": "stream",
          "text": [
            "int64\n",
            "int64\n"
          ],
          "name": "stdout"
        },
        {
          "output_type": "execute_result",
          "data": {
            "text/plain": [
              "dtype('int64')"
            ]
          },
          "metadata": {
            "tags": []
          },
          "execution_count": 300
        }
      ]
    },
    {
      "cell_type": "code",
      "metadata": {
        "id": "lVa_w39VUUru",
        "colab_type": "code",
        "colab": {
          "base_uri": "https://localhost:8080/",
          "height": 280
        },
        "outputId": "be158c4c-aff1-4533-acc3-3fbae2826310"
      },
      "source": [
        "auto_df.groupby('city_mpg')['curb_weight'].mean().plot(figsize=(12,4));"
      ],
      "execution_count": 301,
      "outputs": [
        {
          "output_type": "display_data",
          "data": {
            "image/png": "[encoded data removed]",
            "text/plain": [
              "<Figure size 864x288 with 1 Axes>"
            ]
          },
          "metadata": {
            "tags": []
          }
        }
      ]
    },
    {
      "cell_type": "code",
      "metadata": {
        "id": "G8ZzCGOqR4Qa",
        "colab_type": "code",
        "colab": {}
      },
      "source": [
        "# THIS DOESN'T WORK FOR SOME REASON??\n",
        "# Line chart: age by fare and cabin class\n",
        "mycolors = ['crimson', 'dogerblue', 'cyan']\n",
        "# Rather than specifying 3 plots (as we did above, with the histogram) you can just loop through the values.\n",
        "for x in [1,2,3]:\n",
        "  auto_df[auto_df['curb_weight']==x].groupby('city_mpg')['hgwy_mpg'].mean().plot(figsize=(12,4), color=mycolors[x-1]);"
      ],
      "execution_count": 0,
      "outputs": []
    },
    {
      "cell_type": "code",
      "metadata": {
        "id": "APzaEbStRZpL",
        "colab_type": "code",
        "colab": {
          "base_uri": "https://localhost:8080/",
          "height": 265
        },
        "outputId": "c777eed0-9537-4b1c-93db-f12eee29f088"
      },
      "source": [
        "# Not sure how to lable this!!??\n",
        "for door_type in [2, 4]:\n",
        "  auto_df[auto_df['doors']==door_type]['city_mpg'].plot(kind='density', figsize=(16,4), alpha=0.5, xlim=(-5, 85));"
      ],
      "execution_count": 303,
      "outputs": [
        {
          "output_type": "display_data",
          "data": {
            "image/png": "[encoded data removed]",
            "text/plain": [
              "<Figure size 1152x288 with 1 Axes>"
            ]
          },
          "metadata": {
            "tags": []
          }
        }
      ]
    },
    {
      "cell_type": "code",
      "metadata": {
        "id": "ZHUdRX_UZB3c",
        "colab_type": "code",
        "colab": {
          "base_uri": "https://localhost:8080/",
          "height": 282
        },
        "outputId": "4d85a2f7-a8b7-4287-ec28-c890fbdbc807"
      },
      "source": [
        "fig, ax = plt.subplots(figsize= (8,4))\n",
        "ax.barh(auto_df['city_mpg'], auto_df['curb_weight'])"
      ],
      "execution_count": 304,
      "outputs": [
        {
          "output_type": "execute_result",
          "data": {
            "text/plain": [
              "<BarContainer object of 205 artists>"
            ]
          },
          "metadata": {
            "tags": []
          },
          "execution_count": 304
        },
        {
          "output_type": "display_data",
          "data": {
            "image/png": "[encoded data removed]",
            "text/plain": [
              "<Figure size 576x288 with 1 Axes>"
            ]
          },
          "metadata": {
            "tags": []
          }
        }
      ]
    },
    {
      "cell_type": "code",
      "metadata": {
        "id": "dhw4N5OGahE7",
        "colab_type": "code",
        "colab": {}
      },
      "source": [
        "# DOESN'T WORK! with lines\n",
        "fig, ax = plt.subplots(figsize= (8,4))\n",
        "ax.lines(auto_df['city_mpg'], auto_df['curb_weight'])"
      ],
      "execution_count": 0,
      "outputs": []
    },
    {
      "cell_type": "code",
      "metadata": {
        "id": "twLoG5MDRZ3c",
        "colab_type": "code",
        "colab": {
          "base_uri": "https://localhost:8080/",
          "height": 265
        },
        "outputId": "fbeac30c-9e32-4e38-9f62-b4d479ae677e"
      },
      "source": [
        "# City MPG is obviously LESS better on highway in BLUE\n",
        "plt.plot(auto_df['city_mpg'], 'r')\n",
        "plt.plot(auto_df['hgwy_mpg'], 'b')\n",
        "plt.show()"
      ],
      "execution_count": 305,
      "outputs": [
        {
          "output_type": "display_data",
          "data": {
            "image/png": "[encoded data removed]",
            "text/plain": [
              "<Figure size 432x288 with 1 Axes>"
            ]
          },
          "metadata": {
            "tags": []
          }
        }
      ]
    },
    {
      "cell_type": "code",
      "metadata": {
        "id": "3ea_F3_-b-Rs",
        "colab_type": "code",
        "colab": {
          "base_uri": "https://localhost:8080/",
          "height": 265
        },
        "outputId": "bdc192c1-ed9e-4c90-92f6-1aa143c0d37f"
      },
      "source": [
        "auto_df['city_mpg'].plot(kind='hist', bins=15, color='#651f94');"
      ],
      "execution_count": 306,
      "outputs": [
        {
          "output_type": "display_data",
          "data": {
            "image/png": "[encoded data removed]",
            "text/plain": [
              "<Figure size 432x288 with 1 Axes>"
            ]
          },
          "metadata": {
            "tags": []
          }
        }
      ]
    },
    {
      "cell_type": "code",
      "metadata": {
        "id": "zt2BnVO5RaWc",
        "colab_type": "code",
        "colab": {
          "base_uri": "https://localhost:8080/",
          "height": 296
        },
        "outputId": "4a806b58-85e0-4c49-e6aa-b3f7f33a966c"
      },
      "source": [
        "ax = auto_df.plot(kind='scatter', x='curb_weight' , y='city_mpg')\n",
        "ax.set_title(\"Larger Curb Weight gets lower City MPG\");"
      ],
      "execution_count": 307,
      "outputs": [
        {
          "output_type": "display_data",
          "data": {
            "image/png": "[encoded data removed]",
            "text/plain": [
              "<Figure size 432x288 with 1 Axes>"
            ]
          },
          "metadata": {
            "tags": []
          }
        }
      ]
    },
    {
      "cell_type": "code",
      "metadata": {
        "id": "X-oapWkjRZyu",
        "colab_type": "code",
        "colab": {
          "base_uri": "https://localhost:8080/",
          "height": 295
        },
        "outputId": "a6ea9606-c0e9-48d4-8e62-2db39d473826"
      },
      "source": [
        "ax = auto_df['curb_weight'].plot.kde()\n",
        "ax.set_title(\"Curb Weight\");\n",
        "ax.set_xlabel(\"Weight of Cars\");\n",
        "ax.set_ylabel(\"Amount of Cars with that weight.\", fontweight=\"bold\");"
      ],
      "execution_count": 308,
      "outputs": [
        {
          "output_type": "display_data",
          "data": {
            "image/png": "[encoded data removed]",
            "text/plain": [
              "<Figure size 432x288 with 1 Axes>"
            ]
          },
          "metadata": {
            "tags": []
          }
        }
      ]
    },
    {
      "cell_type": "code",
      "metadata": {
        "id": "l5l_yfdMiCHd",
        "colab_type": "code",
        "colab": {
          "base_uri": "https://localhost:8080/",
          "height": 279
        },
        "outputId": "ca250a21-22cb-4718-ebf7-7c0cea096393"
      },
      "source": [
        "# Make default density plot\n",
        "ax = sns.kdeplot(auto_df['hgwy_mpg'])\n",
        "ax.set_xlabel(\"Highway mpg of most cars.\");\n"
      ],
      "execution_count": 309,
      "outputs": [
        {
          "output_type": "display_data",
          "data": {
            "image/png": "[encoded data removed]",
            "text/plain": [
              "<Figure size 432x288 with 1 Axes>"
            ]
          },
          "metadata": {
            "tags": []
          }
        }
      ]
    },
    {
      "cell_type": "markdown",
      "metadata": {
        "id": "8-UbABdR8hPY",
        "colab_type": "text"
      },
      "source": [
        "Name a graph you would use for the following cases:\n",
        "- Distribution\n",
        "- Change Over Time\n",
        "- Correlation\n",
        "\n",
        "You may find the answers in the Resources section above or through Google"
      ]
    },
    {
      "cell_type": "code",
      "metadata": {
        "id": "Xm8X7yTt9bBS",
        "colab_type": "code",
        "colab": {}
      },
      "source": [
        "# Distribution is great for proportional understanding.  How many of a particular set.  THE MEAN. Or FREQUENCY.\n",
        "# BOXPLOTs, KDE, SCATTERPLOT"
      ],
      "execution_count": 0,
      "outputs": []
    },
    {
      "cell_type": "code",
      "metadata": {
        "id": "b-LFI6Gm9bUy",
        "colab_type": "code",
        "colab": {}
      },
      "source": [
        "# Change over time: \n",
        "# LINE, BAR, HIST, SCATTERPLOT"
      ],
      "execution_count": 0,
      "outputs": []
    },
    {
      "cell_type": "code",
      "metadata": {
        "id": "K2QOfHUb9bkA",
        "colab_type": "code",
        "colab": {}
      },
      "source": [
        "# Correlation:\n",
        "# SUBPLOTS, CORRELATION MATRIX, STACKED BAR CHART, CROSSTAB BAR"
      ],
      "execution_count": 0,
      "outputs": []
    },
    {
      "cell_type": "markdown",
      "metadata": {
        "id": "0xXYDhpdRhQt",
        "colab_type": "text"
      },
      "source": [
        "# Crosstabs and Pivot Tables"
      ]
    },
    {
      "cell_type": "markdown",
      "metadata": {
        "id": "jz14-S2QR3DH",
        "colab_type": "text"
      },
      "source": [
        "Complete the following:\n",
        "- Make a crosstab of two of the categorical features\n",
        " - In a sentence or two, explain how to read the table and what the values mean\n",
        " - Make a graph from the crosstab\n",
        "- Make a crosstab with a categorical feature and `price`\n",
        " - Use `pd.cut` to create 5 bins for `price`\n",
        " - In a sentence or two, explain how to read the table and what the values mean\n",
        " - Make a graph from the crosstab\n",
        "- Create a [pivot table](https://pandas.pydata.org/pandas-docs/stable/reference/api/pandas.DataFrame.pivot.html)\n",
        " - In a sentence or two, explain how to read the table and what the values mean"
      ]
    },
    {
      "cell_type": "code",
      "metadata": {
        "id": "_qC5u0i1UNwl",
        "colab_type": "code",
        "colab": {
          "base_uri": "https://localhost:8080/",
          "height": 228
        },
        "outputId": "3bd17868-4aa7-49b5-821e-abce046ffd1c"
      },
      "source": [
        "# Compute a simple cross-tabulation of two (or more) factors. \n",
        "# By default computes a frequency table of the factors unless an array of values and an aggregation function are passed\n",
        "style_engine = pd.crosstab(index=auto_df['bod_style'], columns=auto_df['engine'])\n",
        "style_engine"
      ],
      "execution_count": 310,
      "outputs": [
        {
          "output_type": "execute_result",
          "data": {
            "text/html": [
              "<div>\n",
              "<style scoped>\n",
              "    .dataframe tbody tr th:only-of-type {\n",
              "        vertical-align: middle;\n",
              "    }\n",
              "\n",
              "    .dataframe tbody tr th {\n",
              "        vertical-align: top;\n",
              "    }\n",
              "\n",
              "    .dataframe thead th {\n",
              "        text-align: right;\n",
              "    }\n",
              "</style>\n",
              "<table border=\"1\" class=\"dataframe\">\n",
              "  <thead>\n",
              "    <tr style=\"text-align: right;\">\n",
              "      <th>engine</th>\n",
              "      <th>dohc</th>\n",
              "      <th>dohcv</th>\n",
              "      <th>l</th>\n",
              "      <th>ohc</th>\n",
              "      <th>ohcf</th>\n",
              "      <th>ohcv</th>\n",
              "      <th>rotor</th>\n",
              "    </tr>\n",
              "    <tr>\n",
              "      <th>bod_style</th>\n",
              "      <th></th>\n",
              "      <th></th>\n",
              "      <th></th>\n",
              "      <th></th>\n",
              "      <th></th>\n",
              "      <th></th>\n",
              "      <th></th>\n",
              "    </tr>\n",
              "  </thead>\n",
              "  <tbody>\n",
              "    <tr>\n",
              "      <th>convertible</th>\n",
              "      <td>2</td>\n",
              "      <td>0</td>\n",
              "      <td>0</td>\n",
              "      <td>2</td>\n",
              "      <td>1</td>\n",
              "      <td>1</td>\n",
              "      <td>0</td>\n",
              "    </tr>\n",
              "    <tr>\n",
              "      <th>hardtop</th>\n",
              "      <td>0</td>\n",
              "      <td>0</td>\n",
              "      <td>0</td>\n",
              "      <td>5</td>\n",
              "      <td>2</td>\n",
              "      <td>1</td>\n",
              "      <td>0</td>\n",
              "    </tr>\n",
              "    <tr>\n",
              "      <th>hatchback</th>\n",
              "      <td>4</td>\n",
              "      <td>1</td>\n",
              "      <td>1</td>\n",
              "      <td>53</td>\n",
              "      <td>3</td>\n",
              "      <td>4</td>\n",
              "      <td>4</td>\n",
              "    </tr>\n",
              "    <tr>\n",
              "      <th>sedan</th>\n",
              "      <td>5</td>\n",
              "      <td>0</td>\n",
              "      <td>7</td>\n",
              "      <td>73</td>\n",
              "      <td>5</td>\n",
              "      <td>6</td>\n",
              "      <td>0</td>\n",
              "    </tr>\n",
              "    <tr>\n",
              "      <th>wagon</th>\n",
              "      <td>1</td>\n",
              "      <td>0</td>\n",
              "      <td>4</td>\n",
              "      <td>15</td>\n",
              "      <td>4</td>\n",
              "      <td>1</td>\n",
              "      <td>0</td>\n",
              "    </tr>\n",
              "  </tbody>\n",
              "</table>\n",
              "</div>"
            ],
            "text/plain": [
              "engine       dohc  dohcv  l  ohc  ohcf  ohcv  rotor\n",
              "bod_style                                          \n",
              "convertible     2      0  0    2     1     1      0\n",
              "hardtop         0      0  0    5     2     1      0\n",
              "hatchback       4      1  1   53     3     4      4\n",
              "sedan           5      0  7   73     5     6      0\n",
              "wagon           1      0  4   15     4     1      0"
            ]
          },
          "metadata": {
            "tags": []
          },
          "execution_count": 310
        }
      ]
    },
    {
      "cell_type": "code",
      "metadata": {
        "id": "dGdArU8NUOEH",
        "colab_type": "code",
        "colab": {
          "base_uri": "https://localhost:8080/",
          "height": 326
        },
        "outputId": "5152368b-8895-48e2-88d7-42f2c3d549c0"
      },
      "source": [
        "style_engine.plot(kind='bar');"
      ],
      "execution_count": 311,
      "outputs": [
        {
          "output_type": "display_data",
          "data": {
            "image/png": "[encoded data removed]",
            "text/plain": [
              "<Figure size 432x288 with 1 Axes>"
            ]
          },
          "metadata": {
            "tags": []
          }
        }
      ]
    },
    {
      "cell_type": "code",
      "metadata": {
        "id": "NhAXm5hXUOPI",
        "colab_type": "code",
        "colab": {
          "base_uri": "https://localhost:8080/",
          "height": 281
        },
        "outputId": "2d61175d-0ac6-4028-d18f-bcede107476c"
      },
      "source": [
        "ax = auto_df['price'].plot.kde()\n",
        "ax.set_title(\"Price\");"
      ],
      "execution_count": 312,
      "outputs": [
        {
          "output_type": "display_data",
          "data": {
            "image/png": "[encoded data removed]",
            "text/plain": [
              "<Figure size 432x288 with 1 Axes>"
            ]
          },
          "metadata": {
            "tags": []
          }
        }
      ]
    },
    {
      "cell_type": "code",
      "metadata": {
        "id": "sWUdFVslUOdY",
        "colab_type": "code",
        "colab": {
          "base_uri": "https://localhost:8080/",
          "height": 173
        },
        "outputId": "f333f460-2b17-4720-f310-45d88490b8bc"
      },
      "source": [
        "auto_df['price'].describe()"
      ],
      "execution_count": 313,
      "outputs": [
        {
          "output_type": "execute_result",
          "data": {
            "text/plain": [
              "count      205.000000\n",
              "mean     13242.112195\n",
              "std       7872.693982\n",
              "min       5118.000000\n",
              "25%       7788.000000\n",
              "50%      10595.000000\n",
              "75%      16500.000000\n",
              "max      45400.000000\n",
              "Name: price, dtype: float64"
            ]
          },
          "metadata": {
            "tags": []
          },
          "execution_count": 313
        }
      ]
    },
    {
      "cell_type": "code",
      "metadata": {
        "id": "L2EH6NEf57Xt",
        "colab_type": "code",
        "colab": {}
      },
      "source": [
        "auto_df['price'] = auto_df['price'].astype(float).astype(int)"
      ],
      "execution_count": 0,
      "outputs": []
    },
    {
      "cell_type": "code",
      "metadata": {
        "id": "zciE2AFM7Dn7",
        "colab_type": "code",
        "colab": {
          "base_uri": "https://localhost:8080/",
          "height": 35
        },
        "outputId": "2069e5a2-721a-4de4-cebb-64b6b56aed17"
      },
      "source": [
        "auto_df['price'].dtypes"
      ],
      "execution_count": 315,
      "outputs": [
        {
          "output_type": "execute_result",
          "data": {
            "text/plain": [
              "dtype('int64')"
            ]
          },
          "metadata": {
            "tags": []
          },
          "execution_count": 315
        }
      ]
    },
    {
      "cell_type": "code",
      "metadata": {
        "id": "H4HgSxXTUOxH",
        "colab_type": "code",
        "colab": {}
      },
      "source": [
        "# PD.CUT: Use to create groups of a particular variable of numeric dataType.\n",
        "auto_df['Price_groups'] = pd.cut(auto_df.price, bins= [5000, 13000, 21000, 29000, 37000, 45500])"
      ],
      "execution_count": 0,
      "outputs": []
    },
    {
      "cell_type": "code",
      "metadata": {
        "id": "f5Me4YYzUNrc",
        "colab_type": "code",
        "colab": {
          "base_uri": "https://localhost:8080/",
          "height": 121
        },
        "outputId": "149c5df2-c562-47d3-9dc5-fcc944953275"
      },
      "source": [
        "auto_df['Price_groups'].value_counts().head()"
      ],
      "execution_count": 323,
      "outputs": [
        {
          "output_type": "execute_result",
          "data": {
            "text/plain": [
              "(5000, 13000]     126\n",
              "(13000, 21000]     55\n",
              "(29000, 37000]     10\n",
              "(21000, 29000]     10\n",
              "(37000, 45500]      4\n",
              "Name: Price_groups, dtype: int64"
            ]
          },
          "metadata": {
            "tags": []
          },
          "execution_count": 323
        }
      ]
    },
    {
      "cell_type": "code",
      "metadata": {
        "id": "CLMcSPdcUNj7",
        "colab_type": "code",
        "colab": {
          "base_uri": "https://localhost:8080/",
          "height": 288
        },
        "outputId": "42f66eb5-864e-45b7-96a1-25021b3818a1"
      },
      "source": [
        "# MUST USE 2 sets of square brackets and create a new data frame\n",
        "two_columns_1 = auto_df[['bod_style', 'Price_groups']]\n",
        "two_columns_1.sample(8)"
      ],
      "execution_count": 331,
      "outputs": [
        {
          "output_type": "execute_result",
          "data": {
            "text/html": [
              "<div>\n",
              "<style scoped>\n",
              "    .dataframe tbody tr th:only-of-type {\n",
              "        vertical-align: middle;\n",
              "    }\n",
              "\n",
              "    .dataframe tbody tr th {\n",
              "        vertical-align: top;\n",
              "    }\n",
              "\n",
              "    .dataframe thead th {\n",
              "        text-align: right;\n",
              "    }\n",
              "</style>\n",
              "<table border=\"1\" class=\"dataframe\">\n",
              "  <thead>\n",
              "    <tr style=\"text-align: right;\">\n",
              "      <th></th>\n",
              "      <th>bod_style</th>\n",
              "      <th>Price_groups</th>\n",
              "    </tr>\n",
              "  </thead>\n",
              "  <tbody>\n",
              "    <tr>\n",
              "      <th>118</th>\n",
              "      <td>hatchback</td>\n",
              "      <td>(5000, 13000]</td>\n",
              "    </tr>\n",
              "    <tr>\n",
              "      <th>40</th>\n",
              "      <td>sedan</td>\n",
              "      <td>(5000, 13000]</td>\n",
              "    </tr>\n",
              "    <tr>\n",
              "      <th>63</th>\n",
              "      <td>sedan</td>\n",
              "      <td>(5000, 13000]</td>\n",
              "    </tr>\n",
              "    <tr>\n",
              "      <th>68</th>\n",
              "      <td>wagon</td>\n",
              "      <td>(21000, 29000]</td>\n",
              "    </tr>\n",
              "    <tr>\n",
              "      <th>139</th>\n",
              "      <td>hatchback</td>\n",
              "      <td>(5000, 13000]</td>\n",
              "    </tr>\n",
              "    <tr>\n",
              "      <th>173</th>\n",
              "      <td>sedan</td>\n",
              "      <td>(5000, 13000]</td>\n",
              "    </tr>\n",
              "    <tr>\n",
              "      <th>74</th>\n",
              "      <td>hardtop</td>\n",
              "      <td>(37000, 45500]</td>\n",
              "    </tr>\n",
              "    <tr>\n",
              "      <th>25</th>\n",
              "      <td>sedan</td>\n",
              "      <td>(5000, 13000]</td>\n",
              "    </tr>\n",
              "  </tbody>\n",
              "</table>\n",
              "</div>"
            ],
            "text/plain": [
              "     bod_style    Price_groups\n",
              "118  hatchback   (5000, 13000]\n",
              "40       sedan   (5000, 13000]\n",
              "63       sedan   (5000, 13000]\n",
              "68       wagon  (21000, 29000]\n",
              "139  hatchback   (5000, 13000]\n",
              "173      sedan   (5000, 13000]\n",
              "74     hardtop  (37000, 45500]\n",
              "25       sedan   (5000, 13000]"
            ]
          },
          "metadata": {
            "tags": []
          },
          "execution_count": 331
        }
      ]
    },
    {
      "cell_type": "code",
      "metadata": {
        "id": "iiOhLSaO_Mn2",
        "colab_type": "code",
        "colab": {
          "base_uri": "https://localhost:8080/",
          "height": 228
        },
        "outputId": "99ca8daf-e7cc-45ea-f429-b62151d2f640"
      },
      "source": [
        "style_price = pd.crosstab(index=auto_df['bod_style'], columns=auto_df['Price_groups'])\n",
        "style_price"
      ],
      "execution_count": 332,
      "outputs": [
        {
          "output_type": "execute_result",
          "data": {
            "text/html": [
              "<div>\n",
              "<style scoped>\n",
              "    .dataframe tbody tr th:only-of-type {\n",
              "        vertical-align: middle;\n",
              "    }\n",
              "\n",
              "    .dataframe tbody tr th {\n",
              "        vertical-align: top;\n",
              "    }\n",
              "\n",
              "    .dataframe thead th {\n",
              "        text-align: right;\n",
              "    }\n",
              "</style>\n",
              "<table border=\"1\" class=\"dataframe\">\n",
              "  <thead>\n",
              "    <tr style=\"text-align: right;\">\n",
              "      <th>Price_groups</th>\n",
              "      <th>(5000, 13000]</th>\n",
              "      <th>(13000, 21000]</th>\n",
              "      <th>(21000, 29000]</th>\n",
              "      <th>(29000, 37000]</th>\n",
              "      <th>(37000, 45500]</th>\n",
              "    </tr>\n",
              "    <tr>\n",
              "      <th>bod_style</th>\n",
              "      <th></th>\n",
              "      <th></th>\n",
              "      <th></th>\n",
              "      <th></th>\n",
              "      <th></th>\n",
              "    </tr>\n",
              "  </thead>\n",
              "  <tbody>\n",
              "    <tr>\n",
              "      <th>convertible</th>\n",
              "      <td>1</td>\n",
              "      <td>3</td>\n",
              "      <td>0</td>\n",
              "      <td>1</td>\n",
              "      <td>1</td>\n",
              "    </tr>\n",
              "    <tr>\n",
              "      <th>hardtop</th>\n",
              "      <td>4</td>\n",
              "      <td>0</td>\n",
              "      <td>1</td>\n",
              "      <td>2</td>\n",
              "      <td>1</td>\n",
              "    </tr>\n",
              "    <tr>\n",
              "      <th>hatchback</th>\n",
              "      <td>54</td>\n",
              "      <td>15</td>\n",
              "      <td>1</td>\n",
              "      <td>0</td>\n",
              "      <td>0</td>\n",
              "    </tr>\n",
              "    <tr>\n",
              "      <th>sedan</th>\n",
              "      <td>52</td>\n",
              "      <td>28</td>\n",
              "      <td>7</td>\n",
              "      <td>7</td>\n",
              "      <td>2</td>\n",
              "    </tr>\n",
              "    <tr>\n",
              "      <th>wagon</th>\n",
              "      <td>15</td>\n",
              "      <td>9</td>\n",
              "      <td>1</td>\n",
              "      <td>0</td>\n",
              "      <td>0</td>\n",
              "    </tr>\n",
              "  </tbody>\n",
              "</table>\n",
              "</div>"
            ],
            "text/plain": [
              "Price_groups  (5000, 13000]  (13000, 21000]  ...  (29000, 37000]  (37000, 45500]\n",
              "bod_style                                    ...                                \n",
              "convertible               1               3  ...               1               1\n",
              "hardtop                   4               0  ...               2               1\n",
              "hatchback                54              15  ...               0               0\n",
              "sedan                    52              28  ...               7               2\n",
              "wagon                    15               9  ...               0               0\n",
              "\n",
              "[5 rows x 5 columns]"
            ]
          },
          "metadata": {
            "tags": []
          },
          "execution_count": 332
        }
      ]
    },
    {
      "cell_type": "code",
      "metadata": {
        "id": "KwNmddse_cg0",
        "colab_type": "code",
        "colab": {
          "base_uri": "https://localhost:8080/",
          "height": 326
        },
        "outputId": "f8760733-f82f-4b4d-fd85-44da9cd05136"
      },
      "source": [
        "style_price.plot(kind='bar');"
      ],
      "execution_count": 333,
      "outputs": [
        {
          "output_type": "display_data",
          "data": {
            "image/png": "[encoded data removed]",
            "text/plain": [
              "<Figure size 432x288 with 1 Axes>"
            ]
          },
          "metadata": {
            "tags": []
          }
        }
      ]
    },
    {
      "cell_type": "code",
      "metadata": {
        "id": "hZJ29ITsCQEL",
        "colab_type": "code",
        "colab": {
          "base_uri": "https://localhost:8080/",
          "height": 738
        },
        "outputId": "e7a74ea0-f4c0-4f83-aa04-4ba771daeebd"
      },
      "source": [
        "# Create a spreadsheet-style pivot table as a DataFrame. \n",
        "# The levels in the pivot table will be stored in MultiIndex objects ..\n",
        "# (Hierarchical indexes on the index and columns of the result DataFrame\n",
        "pd.pivot_table(auto_df, index='make', aggfunc='mean')\n",
        "#Deleting aggfunc='mean' will yield the same value"
      ],
      "execution_count": 334,
      "outputs": [
        {
          "output_type": "execute_result",
          "data": {
            "text/html": [
              "<div>\n",
              "<style scoped>\n",
              "    .dataframe tbody tr th:only-of-type {\n",
              "        vertical-align: middle;\n",
              "    }\n",
              "\n",
              "    .dataframe tbody tr th {\n",
              "        vertical-align: top;\n",
              "    }\n",
              "\n",
              "    .dataframe thead th {\n",
              "        text-align: right;\n",
              "    }\n",
              "</style>\n",
              "<table border=\"1\" class=\"dataframe\">\n",
              "  <thead>\n",
              "    <tr style=\"text-align: right;\">\n",
              "      <th></th>\n",
              "      <th>city_mpg</th>\n",
              "      <th>compression</th>\n",
              "      <th>curb_weight</th>\n",
              "      <th>doors</th>\n",
              "      <th>engine_size</th>\n",
              "      <th>height</th>\n",
              "      <th>hgwy_mpg</th>\n",
              "      <th>hp</th>\n",
              "      <th>hp_divided_by_price</th>\n",
              "      <th>length</th>\n",
              "      <th>price</th>\n",
              "      <th>symboling</th>\n",
              "      <th>wheel_base</th>\n",
              "      <th>width</th>\n",
              "    </tr>\n",
              "    <tr>\n",
              "      <th>make</th>\n",
              "      <th></th>\n",
              "      <th></th>\n",
              "      <th></th>\n",
              "      <th></th>\n",
              "      <th></th>\n",
              "      <th></th>\n",
              "      <th></th>\n",
              "      <th></th>\n",
              "      <th></th>\n",
              "      <th></th>\n",
              "      <th></th>\n",
              "      <th></th>\n",
              "      <th></th>\n",
              "      <th></th>\n",
              "    </tr>\n",
              "  </thead>\n",
              "  <tbody>\n",
              "    <tr>\n",
              "      <th>alfa-romero</th>\n",
              "      <td>20.333333</td>\n",
              "      <td>9.000000</td>\n",
              "      <td>2639.666667</td>\n",
              "      <td>2.000000</td>\n",
              "      <td>137.333333</td>\n",
              "      <td>50.000000</td>\n",
              "      <td>26.666667</td>\n",
              "      <td>125.333333</td>\n",
              "      <td>0.008095</td>\n",
              "      <td>169.600000</td>\n",
              "      <td>15498.333333</td>\n",
              "      <td>2.333333</td>\n",
              "      <td>90.566667</td>\n",
              "      <td>64.566667</td>\n",
              "    </tr>\n",
              "    <tr>\n",
              "      <th>audi</th>\n",
              "      <td>18.857143</td>\n",
              "      <td>8.400000</td>\n",
              "      <td>2800.714286</td>\n",
              "      <td>3.428571</td>\n",
              "      <td>130.714286</td>\n",
              "      <td>54.428571</td>\n",
              "      <td>24.142857</td>\n",
              "      <td>121.000000</td>\n",
              "      <td>0.007096</td>\n",
              "      <td>183.828571</td>\n",
              "      <td>17450.714286</td>\n",
              "      <td>1.285714</td>\n",
              "      <td>102.271429</td>\n",
              "      <td>68.714286</td>\n",
              "    </tr>\n",
              "    <tr>\n",
              "      <th>bmw</th>\n",
              "      <td>19.375000</td>\n",
              "      <td>8.575000</td>\n",
              "      <td>2929.375000</td>\n",
              "      <td>3.250000</td>\n",
              "      <td>166.875000</td>\n",
              "      <td>54.825000</td>\n",
              "      <td>25.375000</td>\n",
              "      <td>138.875000</td>\n",
              "      <td>0.005475</td>\n",
              "      <td>184.500000</td>\n",
              "      <td>26118.750000</td>\n",
              "      <td>0.375000</td>\n",
              "      <td>103.162500</td>\n",
              "      <td>66.475000</td>\n",
              "    </tr>\n",
              "    <tr>\n",
              "      <th>chevrolet</th>\n",
              "      <td>41.000000</td>\n",
              "      <td>9.566667</td>\n",
              "      <td>1757.000000</td>\n",
              "      <td>2.666667</td>\n",
              "      <td>80.333333</td>\n",
              "      <td>52.400000</td>\n",
              "      <td>46.333333</td>\n",
              "      <td>62.666667</td>\n",
              "      <td>0.010362</td>\n",
              "      <td>151.933333</td>\n",
              "      <td>6007.000000</td>\n",
              "      <td>1.000000</td>\n",
              "      <td>92.466667</td>\n",
              "      <td>62.500000</td>\n",
              "    </tr>\n",
              "    <tr>\n",
              "      <th>dodge</th>\n",
              "      <td>28.000000</td>\n",
              "      <td>8.634444</td>\n",
              "      <td>2151.333333</td>\n",
              "      <td>3.111111</td>\n",
              "      <td>102.666667</td>\n",
              "      <td>51.644444</td>\n",
              "      <td>34.111111</td>\n",
              "      <td>86.333333</td>\n",
              "      <td>0.010963</td>\n",
              "      <td>160.988889</td>\n",
              "      <td>7875.444444</td>\n",
              "      <td>1.000000</td>\n",
              "      <td>95.011111</td>\n",
              "      <td>64.166667</td>\n",
              "    </tr>\n",
              "    <tr>\n",
              "      <th>honda</th>\n",
              "      <td>30.384615</td>\n",
              "      <td>9.215385</td>\n",
              "      <td>2096.769231</td>\n",
              "      <td>2.769231</td>\n",
              "      <td>99.307692</td>\n",
              "      <td>53.238462</td>\n",
              "      <td>35.461538</td>\n",
              "      <td>80.230769</td>\n",
              "      <td>0.010014</td>\n",
              "      <td>160.769231</td>\n",
              "      <td>8184.692308</td>\n",
              "      <td>0.615385</td>\n",
              "      <td>94.330769</td>\n",
              "      <td>64.384615</td>\n",
              "    </tr>\n",
              "    <tr>\n",
              "      <th>isuzu</th>\n",
              "      <td>31.000000</td>\n",
              "      <td>9.225000</td>\n",
              "      <td>2213.500000</td>\n",
              "      <td>3.000000</td>\n",
              "      <td>102.500000</td>\n",
              "      <td>52.225000</td>\n",
              "      <td>36.000000</td>\n",
              "      <td>77.000000</td>\n",
              "      <td>0.007244</td>\n",
              "      <td>163.775000</td>\n",
              "      <td>11958.250000</td>\n",
              "      <td>0.750000</td>\n",
              "      <td>94.825000</td>\n",
              "      <td>63.550000</td>\n",
              "    </tr>\n",
              "    <tr>\n",
              "      <th>jaguar</th>\n",
              "      <td>14.333333</td>\n",
              "      <td>9.233333</td>\n",
              "      <td>4027.333333</td>\n",
              "      <td>3.333333</td>\n",
              "      <td>280.666667</td>\n",
              "      <td>51.133333</td>\n",
              "      <td>18.333333</td>\n",
              "      <td>204.666667</td>\n",
              "      <td>0.005895</td>\n",
              "      <td>196.966667</td>\n",
              "      <td>34600.000000</td>\n",
              "      <td>0.000000</td>\n",
              "      <td>109.333333</td>\n",
              "      <td>69.933333</td>\n",
              "    </tr>\n",
              "    <tr>\n",
              "      <th>mazda</th>\n",
              "      <td>25.705882</td>\n",
              "      <td>10.488235</td>\n",
              "      <td>2297.823529</td>\n",
              "      <td>2.941176</td>\n",
              "      <td>103.000000</td>\n",
              "      <td>53.358824</td>\n",
              "      <td>31.941176</td>\n",
              "      <td>85.529412</td>\n",
              "      <td>0.008635</td>\n",
              "      <td>170.805882</td>\n",
              "      <td>10652.882353</td>\n",
              "      <td>1.117647</td>\n",
              "      <td>97.017647</td>\n",
              "      <td>65.588235</td>\n",
              "    </tr>\n",
              "    <tr>\n",
              "      <th>mercedes-benz</th>\n",
              "      <td>18.500000</td>\n",
              "      <td>14.825000</td>\n",
              "      <td>3696.250000</td>\n",
              "      <td>3.250000</td>\n",
              "      <td>226.500000</td>\n",
              "      <td>55.725000</td>\n",
              "      <td>21.000000</td>\n",
              "      <td>146.250000</td>\n",
              "      <td>0.004366</td>\n",
              "      <td>195.262500</td>\n",
              "      <td>33647.000000</td>\n",
              "      <td>0.000000</td>\n",
              "      <td>110.925000</td>\n",
              "      <td>71.062500</td>\n",
              "    </tr>\n",
              "    <tr>\n",
              "      <th>mercury</th>\n",
              "      <td>19.000000</td>\n",
              "      <td>8.000000</td>\n",
              "      <td>2910.000000</td>\n",
              "      <td>2.000000</td>\n",
              "      <td>140.000000</td>\n",
              "      <td>54.800000</td>\n",
              "      <td>24.000000</td>\n",
              "      <td>175.000000</td>\n",
              "      <td>0.010604</td>\n",
              "      <td>178.400000</td>\n",
              "      <td>16503.000000</td>\n",
              "      <td>1.000000</td>\n",
              "      <td>102.700000</td>\n",
              "      <td>68.000000</td>\n",
              "    </tr>\n",
              "    <tr>\n",
              "      <th>mitsubishi</th>\n",
              "      <td>24.923077</td>\n",
              "      <td>8.061538</td>\n",
              "      <td>2381.923077</td>\n",
              "      <td>2.615385</td>\n",
              "      <td>118.307692</td>\n",
              "      <td>50.692308</td>\n",
              "      <td>31.153846</td>\n",
              "      <td>104.076923</td>\n",
              "      <td>0.011435</td>\n",
              "      <td>168.030769</td>\n",
              "      <td>9239.769231</td>\n",
              "      <td>1.846154</td>\n",
              "      <td>95.353846</td>\n",
              "      <td>65.253846</td>\n",
              "    </tr>\n",
              "    <tr>\n",
              "      <th>nissan</th>\n",
              "      <td>27.000000</td>\n",
              "      <td>9.794444</td>\n",
              "      <td>2400.388889</td>\n",
              "      <td>3.000000</td>\n",
              "      <td>127.888889</td>\n",
              "      <td>53.633333</td>\n",
              "      <td>32.944444</td>\n",
              "      <td>102.555556</td>\n",
              "      <td>0.009825</td>\n",
              "      <td>170.988889</td>\n",
              "      <td>10415.666667</td>\n",
              "      <td>1.000000</td>\n",
              "      <td>95.722222</td>\n",
              "      <td>65.088889</td>\n",
              "    </tr>\n",
              "    <tr>\n",
              "      <th>peugot</th>\n",
              "      <td>22.454545</td>\n",
              "      <td>14.000000</td>\n",
              "      <td>3221.000000</td>\n",
              "      <td>4.000000</td>\n",
              "      <td>135.818182</td>\n",
              "      <td>57.181818</td>\n",
              "      <td>26.636364</td>\n",
              "      <td>99.818182</td>\n",
              "      <td>0.006538</td>\n",
              "      <td>191.136364</td>\n",
              "      <td>15489.090909</td>\n",
              "      <td>0.000000</td>\n",
              "      <td>110.200000</td>\n",
              "      <td>68.390909</td>\n",
              "    </tr>\n",
              "    <tr>\n",
              "      <th>plymouth</th>\n",
              "      <td>28.142857</td>\n",
              "      <td>8.671429</td>\n",
              "      <td>2220.857143</td>\n",
              "      <td>3.142857</td>\n",
              "      <td>106.285714</td>\n",
              "      <td>51.971429</td>\n",
              "      <td>34.142857</td>\n",
              "      <td>86.714286</td>\n",
              "      <td>0.010895</td>\n",
              "      <td>164.900000</td>\n",
              "      <td>7963.428571</td>\n",
              "      <td>1.000000</td>\n",
              "      <td>95.385714</td>\n",
              "      <td>64.271429</td>\n",
              "    </tr>\n",
              "    <tr>\n",
              "      <th>porsche</th>\n",
              "      <td>17.400000</td>\n",
              "      <td>9.600000</td>\n",
              "      <td>2891.200000</td>\n",
              "      <td>2.000000</td>\n",
              "      <td>187.200000</td>\n",
              "      <td>51.100000</td>\n",
              "      <td>26.000000</td>\n",
              "      <td>210.400000</td>\n",
              "      <td>0.008746</td>\n",
              "      <td>170.260000</td>\n",
              "      <td>28120.400000</td>\n",
              "      <td>2.600000</td>\n",
              "      <td>92.280000</td>\n",
              "      <td>67.120000</td>\n",
              "    </tr>\n",
              "    <tr>\n",
              "      <th>renault</th>\n",
              "      <td>23.000000</td>\n",
              "      <td>8.700000</td>\n",
              "      <td>2519.500000</td>\n",
              "      <td>3.000000</td>\n",
              "      <td>132.000000</td>\n",
              "      <td>52.850000</td>\n",
              "      <td>31.000000</td>\n",
              "      <td>100.000000</td>\n",
              "      <td>0.010432</td>\n",
              "      <td>179.150000</td>\n",
              "      <td>9595.000000</td>\n",
              "      <td>1.000000</td>\n",
              "      <td>96.100000</td>\n",
              "      <td>66.550000</td>\n",
              "    </tr>\n",
              "    <tr>\n",
              "      <th>saab</th>\n",
              "      <td>20.333333</td>\n",
              "      <td>9.201667</td>\n",
              "      <td>2745.500000</td>\n",
              "      <td>3.000000</td>\n",
              "      <td>121.000000</td>\n",
              "      <td>56.100000</td>\n",
              "      <td>27.333333</td>\n",
              "      <td>126.666667</td>\n",
              "      <td>0.008356</td>\n",
              "      <td>186.600000</td>\n",
              "      <td>15223.333333</td>\n",
              "      <td>2.500000</td>\n",
              "      <td>99.100000</td>\n",
              "      <td>66.500000</td>\n",
              "    </tr>\n",
              "    <tr>\n",
              "      <th>subaru</th>\n",
              "      <td>26.333333</td>\n",
              "      <td>8.816667</td>\n",
              "      <td>2316.250000</td>\n",
              "      <td>3.500000</td>\n",
              "      <td>107.083333</td>\n",
              "      <td>53.750000</td>\n",
              "      <td>30.750000</td>\n",
              "      <td>86.250000</td>\n",
              "      <td>0.010300</td>\n",
              "      <td>168.858333</td>\n",
              "      <td>8541.250000</td>\n",
              "      <td>0.500000</td>\n",
              "      <td>96.175000</td>\n",
              "      <td>64.950000</td>\n",
              "    </tr>\n",
              "    <tr>\n",
              "      <th>toyota</th>\n",
              "      <td>27.500000</td>\n",
              "      <td>10.340625</td>\n",
              "      <td>2441.093750</td>\n",
              "      <td>3.125000</td>\n",
              "      <td>118.812500</td>\n",
              "      <td>53.721875</td>\n",
              "      <td>32.906250</td>\n",
              "      <td>92.781250</td>\n",
              "      <td>0.009430</td>\n",
              "      <td>171.934375</td>\n",
              "      <td>9885.812500</td>\n",
              "      <td>0.562500</td>\n",
              "      <td>98.103125</td>\n",
              "      <td>65.090625</td>\n",
              "    </tr>\n",
              "    <tr>\n",
              "      <th>volkswagen</th>\n",
              "      <td>28.583333</td>\n",
              "      <td>13.625000</td>\n",
              "      <td>2343.166667</td>\n",
              "      <td>3.333333</td>\n",
              "      <td>107.250000</td>\n",
              "      <td>55.183333</td>\n",
              "      <td>34.916667</td>\n",
              "      <td>81.083333</td>\n",
              "      <td>0.008210</td>\n",
              "      <td>172.533333</td>\n",
              "      <td>10077.500000</td>\n",
              "      <td>1.666667</td>\n",
              "      <td>97.608333</td>\n",
              "      <td>65.616667</td>\n",
              "    </tr>\n",
              "    <tr>\n",
              "      <th>volvo</th>\n",
              "      <td>21.181818</td>\n",
              "      <td>10.227273</td>\n",
              "      <td>3037.909091</td>\n",
              "      <td>4.000000</td>\n",
              "      <td>142.272727</td>\n",
              "      <td>56.236364</td>\n",
              "      <td>25.818182</td>\n",
              "      <td>128.000000</td>\n",
              "      <td>0.007259</td>\n",
              "      <td>188.800000</td>\n",
              "      <td>18063.181818</td>\n",
              "      <td>-1.272727</td>\n",
              "      <td>106.481818</td>\n",
              "      <td>67.963636</td>\n",
              "    </tr>\n",
              "  </tbody>\n",
              "</table>\n",
              "</div>"
            ],
            "text/plain": [
              "                city_mpg  compression  ...  wheel_base      width\n",
              "make                                   ...                       \n",
              "alfa-romero    20.333333     9.000000  ...   90.566667  64.566667\n",
              "audi           18.857143     8.400000  ...  102.271429  68.714286\n",
              "bmw            19.375000     8.575000  ...  103.162500  66.475000\n",
              "chevrolet      41.000000     9.566667  ...   92.466667  62.500000\n",
              "dodge          28.000000     8.634444  ...   95.011111  64.166667\n",
              "honda          30.384615     9.215385  ...   94.330769  64.384615\n",
              "isuzu          31.000000     9.225000  ...   94.825000  63.550000\n",
              "jaguar         14.333333     9.233333  ...  109.333333  69.933333\n",
              "mazda          25.705882    10.488235  ...   97.017647  65.588235\n",
              "mercedes-benz  18.500000    14.825000  ...  110.925000  71.062500\n",
              "mercury        19.000000     8.000000  ...  102.700000  68.000000\n",
              "mitsubishi     24.923077     8.061538  ...   95.353846  65.253846\n",
              "nissan         27.000000     9.794444  ...   95.722222  65.088889\n",
              "peugot         22.454545    14.000000  ...  110.200000  68.390909\n",
              "plymouth       28.142857     8.671429  ...   95.385714  64.271429\n",
              "porsche        17.400000     9.600000  ...   92.280000  67.120000\n",
              "renault        23.000000     8.700000  ...   96.100000  66.550000\n",
              "saab           20.333333     9.201667  ...   99.100000  66.500000\n",
              "subaru         26.333333     8.816667  ...   96.175000  64.950000\n",
              "toyota         27.500000    10.340625  ...   98.103125  65.090625\n",
              "volkswagen     28.583333    13.625000  ...   97.608333  65.616667\n",
              "volvo          21.181818    10.227273  ...  106.481818  67.963636\n",
              "\n",
              "[22 rows x 14 columns]"
            ]
          },
          "metadata": {
            "tags": []
          },
          "execution_count": 334
        }
      ]
    },
    {
      "cell_type": "code",
      "metadata": {
        "id": "Ou4kMma2D5C2",
        "colab_type": "code",
        "colab": {
          "base_uri": "https://localhost:8080/",
          "height": 1000
        },
        "outputId": "1235c2ff-bc51-453e-8412-ebb62e208baa"
      },
      "source": [
        "# ABOVE explained: With just the bare minimum the numerical values are automatically filled..\n",
        "# while the non-numerical values are omitted. Each cell is the averages/mean of the car’s MPG and Price. \n",
        "# The default aggfunc is mean\n",
        "# WOULD CREATE MULTIPLE INDEXES:\n",
        "pd.pivot_table(auto_df, index=['make', 'peak_rpm'], values='price', aggfunc='mean')\n",
        "# for the aggfunc you can have different things like sum etc.  I chose average price."
      ],
      "execution_count": 335,
      "outputs": [
        {
          "output_type": "execute_result",
          "data": {
            "text/html": [
              "<div>\n",
              "<style scoped>\n",
              "    .dataframe tbody tr th:only-of-type {\n",
              "        vertical-align: middle;\n",
              "    }\n",
              "\n",
              "    .dataframe tbody tr th {\n",
              "        vertical-align: top;\n",
              "    }\n",
              "\n",
              "    .dataframe thead th {\n",
              "        text-align: right;\n",
              "    }\n",
              "</style>\n",
              "<table border=\"1\" class=\"dataframe\">\n",
              "  <thead>\n",
              "    <tr style=\"text-align: right;\">\n",
              "      <th></th>\n",
              "      <th></th>\n",
              "      <th>price</th>\n",
              "    </tr>\n",
              "    <tr>\n",
              "      <th>make</th>\n",
              "      <th>peak_rpm</th>\n",
              "      <th></th>\n",
              "    </tr>\n",
              "  </thead>\n",
              "  <tbody>\n",
              "    <tr>\n",
              "      <th>alfa-romero</th>\n",
              "      <th>5000</th>\n",
              "      <td>15498.333333</td>\n",
              "    </tr>\n",
              "    <tr>\n",
              "      <th>audi</th>\n",
              "      <th>5500</th>\n",
              "      <td>17450.714286</td>\n",
              "    </tr>\n",
              "    <tr>\n",
              "      <th rowspan=\"3\" valign=\"top\">bmw</th>\n",
              "      <th>4250</th>\n",
              "      <td>22213.333333</td>\n",
              "    </tr>\n",
              "    <tr>\n",
              "      <th>5400</th>\n",
              "      <td>36318.333333</td>\n",
              "    </tr>\n",
              "    <tr>\n",
              "      <th>5800</th>\n",
              "      <td>16677.500000</td>\n",
              "    </tr>\n",
              "    <tr>\n",
              "      <th rowspan=\"2\" valign=\"top\">chevrolet</th>\n",
              "      <th>5100</th>\n",
              "      <td>5151.000000</td>\n",
              "    </tr>\n",
              "    <tr>\n",
              "      <th>5400</th>\n",
              "      <td>6435.000000</td>\n",
              "    </tr>\n",
              "    <tr>\n",
              "      <th rowspan=\"2\" valign=\"top\">dodge</th>\n",
              "      <th>5000</th>\n",
              "      <td>10942.500000</td>\n",
              "    </tr>\n",
              "    <tr>\n",
              "      <th>5500</th>\n",
              "      <td>6999.142857</td>\n",
              "    </tr>\n",
              "    <tr>\n",
              "      <th rowspan=\"4\" valign=\"top\">honda</th>\n",
              "      <th>4800</th>\n",
              "      <td>6479.000000</td>\n",
              "    </tr>\n",
              "    <tr>\n",
              "      <th>5500</th>\n",
              "      <td>7872.000000</td>\n",
              "    </tr>\n",
              "    <tr>\n",
              "      <th>5800</th>\n",
              "      <td>9815.000000</td>\n",
              "    </tr>\n",
              "    <tr>\n",
              "      <th>6000</th>\n",
              "      <td>7020.600000</td>\n",
              "    </tr>\n",
              "    <tr>\n",
              "      <th rowspan=\"3\" valign=\"top\">isuzu</th>\n",
              "      <th>4800</th>\n",
              "      <td>6785.000000</td>\n",
              "    </tr>\n",
              "    <tr>\n",
              "      <th>5000</th>\n",
              "      <td>11048.000000</td>\n",
              "    </tr>\n",
              "    <tr>\n",
              "      <th>5400</th>\n",
              "      <td>15000.000000</td>\n",
              "    </tr>\n",
              "    <tr>\n",
              "      <th rowspan=\"2\" valign=\"top\">jaguar</th>\n",
              "      <th>4750</th>\n",
              "      <td>33900.000000</td>\n",
              "    </tr>\n",
              "    <tr>\n",
              "      <th>5000</th>\n",
              "      <td>36000.000000</td>\n",
              "    </tr>\n",
              "    <tr>\n",
              "      <th rowspan=\"5\" valign=\"top\">mazda</th>\n",
              "      <th>4200</th>\n",
              "      <td>18344.000000</td>\n",
              "    </tr>\n",
              "    <tr>\n",
              "      <th>4650</th>\n",
              "      <td>10795.000000</td>\n",
              "    </tr>\n",
              "    <tr>\n",
              "      <th>4800</th>\n",
              "      <td>9885.000000</td>\n",
              "    </tr>\n",
              "    <tr>\n",
              "      <th>5000</th>\n",
              "      <td>8409.166667</td>\n",
              "    </tr>\n",
              "    <tr>\n",
              "      <th>6000</th>\n",
              "      <td>13020.000000</td>\n",
              "    </tr>\n",
              "    <tr>\n",
              "      <th rowspan=\"3\" valign=\"top\">mercedes-benz</th>\n",
              "      <th>4350</th>\n",
              "      <td>28394.000000</td>\n",
              "    </tr>\n",
              "    <tr>\n",
              "      <th>4500</th>\n",
              "      <td>43180.000000</td>\n",
              "    </tr>\n",
              "    <tr>\n",
              "      <th>4750</th>\n",
              "      <td>34620.000000</td>\n",
              "    </tr>\n",
              "    <tr>\n",
              "      <th>mercury</th>\n",
              "      <th>5000</th>\n",
              "      <td>16503.000000</td>\n",
              "    </tr>\n",
              "    <tr>\n",
              "      <th rowspan=\"2\" valign=\"top\">mitsubishi</th>\n",
              "      <th>5000</th>\n",
              "      <td>10944.000000</td>\n",
              "    </tr>\n",
              "    <tr>\n",
              "      <th>5500</th>\n",
              "      <td>7779.000000</td>\n",
              "    </tr>\n",
              "    <tr>\n",
              "      <th rowspan=\"2\" valign=\"top\">nissan</th>\n",
              "      <th>4800</th>\n",
              "      <td>7099.000000</td>\n",
              "    </tr>\n",
              "    <tr>\n",
              "      <th>5200</th>\n",
              "      <td>10610.764706</td>\n",
              "    </tr>\n",
              "    <tr>\n",
              "      <th rowspan=\"3\" valign=\"top\">peugot</th>\n",
              "      <th>4150</th>\n",
              "      <td>15797.000000</td>\n",
              "    </tr>\n",
              "    <tr>\n",
              "      <th>5000</th>\n",
              "      <td>14649.000000</td>\n",
              "    </tr>\n",
              "    <tr>\n",
              "      <th>5600</th>\n",
              "      <td>18150.000000</td>\n",
              "    </tr>\n",
              "    <tr>\n",
              "      <th rowspan=\"2\" valign=\"top\">plymouth</th>\n",
              "      <th>5000</th>\n",
              "      <td>10842.500000</td>\n",
              "    </tr>\n",
              "    <tr>\n",
              "      <th>5500</th>\n",
              "      <td>6811.800000</td>\n",
              "    </tr>\n",
              "    <tr>\n",
              "      <th rowspan=\"3\" valign=\"top\">porsche</th>\n",
              "      <th>5500</th>\n",
              "      <td>22018.000000</td>\n",
              "    </tr>\n",
              "    <tr>\n",
              "      <th>5750</th>\n",
              "      <td>15000.000000</td>\n",
              "    </tr>\n",
              "    <tr>\n",
              "      <th>5900</th>\n",
              "      <td>34528.000000</td>\n",
              "    </tr>\n",
              "    <tr>\n",
              "      <th>renault</th>\n",
              "      <th>5000</th>\n",
              "      <td>9595.000000</td>\n",
              "    </tr>\n",
              "    <tr>\n",
              "      <th rowspan=\"2\" valign=\"top\">saab</th>\n",
              "      <th>5250</th>\n",
              "      <td>13642.500000</td>\n",
              "    </tr>\n",
              "    <tr>\n",
              "      <th>5500</th>\n",
              "      <td>18385.000000</td>\n",
              "    </tr>\n",
              "    <tr>\n",
              "      <th rowspan=\"4\" valign=\"top\">subaru</th>\n",
              "      <th>4400</th>\n",
              "      <td>7477.000000</td>\n",
              "    </tr>\n",
              "    <tr>\n",
              "      <th>4800</th>\n",
              "      <td>9131.333333</td>\n",
              "    </tr>\n",
              "    <tr>\n",
              "      <th>4900</th>\n",
              "      <td>5118.000000</td>\n",
              "    </tr>\n",
              "    <tr>\n",
              "      <th>5200</th>\n",
              "      <td>10079.000000</td>\n",
              "    </tr>\n",
              "    <tr>\n",
              "      <th rowspan=\"5\" valign=\"top\">toyota</th>\n",
              "      <th>4200</th>\n",
              "      <td>10270.500000</td>\n",
              "    </tr>\n",
              "    <tr>\n",
              "      <th>4500</th>\n",
              "      <td>8794.666667</td>\n",
              "    </tr>\n",
              "    <tr>\n",
              "      <th>4800</th>\n",
              "      <td>8739.368421</td>\n",
              "    </tr>\n",
              "    <tr>\n",
              "      <th>5200</th>\n",
              "      <td>15999.000000</td>\n",
              "    </tr>\n",
              "    <tr>\n",
              "      <th>6600</th>\n",
              "      <td>9418.000000</td>\n",
              "    </tr>\n",
              "    <tr>\n",
              "      <th rowspan=\"4\" valign=\"top\">volkswagen</th>\n",
              "      <th>4500</th>\n",
              "      <td>11670.000000</td>\n",
              "    </tr>\n",
              "    <tr>\n",
              "      <th>4800</th>\n",
              "      <td>7885.000000</td>\n",
              "    </tr>\n",
              "    <tr>\n",
              "      <th>5250</th>\n",
              "      <td>8221.666667</td>\n",
              "    </tr>\n",
              "    <tr>\n",
              "      <th>5500</th>\n",
              "      <td>11431.000000</td>\n",
              "    </tr>\n",
              "    <tr>\n",
              "      <th rowspan=\"5\" valign=\"top\">volvo</th>\n",
              "      <th>4800</th>\n",
              "      <td>22470.000000</td>\n",
              "    </tr>\n",
              "    <tr>\n",
              "      <th>5100</th>\n",
              "      <td>18685.000000</td>\n",
              "    </tr>\n",
              "    <tr>\n",
              "      <th>5300</th>\n",
              "      <td>19045.000000</td>\n",
              "    </tr>\n",
              "    <tr>\n",
              "      <th>5400</th>\n",
              "      <td>16387.500000</td>\n",
              "    </tr>\n",
              "    <tr>\n",
              "      <th>5500</th>\n",
              "      <td>21485.000000</td>\n",
              "    </tr>\n",
              "  </tbody>\n",
              "</table>\n",
              "</div>"
            ],
            "text/plain": [
              "                               price\n",
              "make          peak_rpm              \n",
              "alfa-romero   5000      15498.333333\n",
              "audi          5500      17450.714286\n",
              "bmw           4250      22213.333333\n",
              "              5400      36318.333333\n",
              "              5800      16677.500000\n",
              "chevrolet     5100       5151.000000\n",
              "              5400       6435.000000\n",
              "dodge         5000      10942.500000\n",
              "              5500       6999.142857\n",
              "honda         4800       6479.000000\n",
              "              5500       7872.000000\n",
              "              5800       9815.000000\n",
              "              6000       7020.600000\n",
              "isuzu         4800       6785.000000\n",
              "              5000      11048.000000\n",
              "              5400      15000.000000\n",
              "jaguar        4750      33900.000000\n",
              "              5000      36000.000000\n",
              "mazda         4200      18344.000000\n",
              "              4650      10795.000000\n",
              "              4800       9885.000000\n",
              "              5000       8409.166667\n",
              "              6000      13020.000000\n",
              "mercedes-benz 4350      28394.000000\n",
              "              4500      43180.000000\n",
              "              4750      34620.000000\n",
              "mercury       5000      16503.000000\n",
              "mitsubishi    5000      10944.000000\n",
              "              5500       7779.000000\n",
              "nissan        4800       7099.000000\n",
              "              5200      10610.764706\n",
              "peugot        4150      15797.000000\n",
              "              5000      14649.000000\n",
              "              5600      18150.000000\n",
              "plymouth      5000      10842.500000\n",
              "              5500       6811.800000\n",
              "porsche       5500      22018.000000\n",
              "              5750      15000.000000\n",
              "              5900      34528.000000\n",
              "renault       5000       9595.000000\n",
              "saab          5250      13642.500000\n",
              "              5500      18385.000000\n",
              "subaru        4400       7477.000000\n",
              "              4800       9131.333333\n",
              "              4900       5118.000000\n",
              "              5200      10079.000000\n",
              "toyota        4200      10270.500000\n",
              "              4500       8794.666667\n",
              "              4800       8739.368421\n",
              "              5200      15999.000000\n",
              "              6600       9418.000000\n",
              "volkswagen    4500      11670.000000\n",
              "              4800       7885.000000\n",
              "              5250       8221.666667\n",
              "              5500      11431.000000\n",
              "volvo         4800      22470.000000\n",
              "              5100      18685.000000\n",
              "              5300      19045.000000\n",
              "              5400      16387.500000\n",
              "              5500      21485.000000"
            ]
          },
          "metadata": {
            "tags": []
          },
          "execution_count": 335
        }
      ]
    },
    {
      "cell_type": "markdown",
      "metadata": {
        "id": "vmyJ0VOSUpo-",
        "colab_type": "text"
      },
      "source": [
        "# Interpretations"
      ]
    },
    {
      "cell_type": "markdown",
      "metadata": {
        "id": "l4KrOj8JUrzj",
        "colab_type": "text"
      },
      "source": [
        "Write a short paragraph explaining some of the things you learned from the dataset. Avoid low hanging fruit like simply writing about the different descriptive stats. Focus on interesting relationships between columns, what you see in the graphs, etc."
      ]
    },
    {
      "cell_type": "code",
      "metadata": {
        "id": "1PqyuoWgVTpi",
        "colab_type": "code",
        "colab": {}
      },
      "source": [
        "# I learned the most popular type of engine.  I learned the most common price range.  Learned that of course better mpg comes with a lighter vehicle.\n",
        "# The data set was pretty well put together and had a lot to say about different kinds of vehicles."
      ],
      "execution_count": 0,
      "outputs": []
    },
    {
      "cell_type": "markdown",
      "metadata": {
        "id": "4nDwljBQVixD",
        "colab_type": "text"
      },
      "source": [
        "# Tidy and Join"
      ]
    },
    {
      "cell_type": "markdown",
      "metadata": {
        "id": "_k1wR__VbIMo",
        "colab_type": "text"
      },
      "source": [
        "Combine `df_a`, `df_b`, and `df_c` joining on the ids in `df_a` to reveal the real names of The Hulk, Spiderman, and Superman."
      ]
    },
    {
      "cell_type": "code",
      "metadata": {
        "id": "HMwpqGfIZzt0",
        "colab_type": "code",
        "outputId": "0679dbed-cd4c-496c-d717-2e197a6571fc",
        "colab": {
          "base_uri": "https://localhost:8080/",
          "height": 138
        }
      },
      "source": [
        "# I just had to make sure there was a common column name on the merges.\n",
        "df_a = pd.DataFrame({'id_b':[1,2,3], 'id_c': [4,5,6]})\n",
        "df_a"
      ],
      "execution_count": 345,
      "outputs": [
        {
          "output_type": "execute_result",
          "data": {
            "text/html": [
              "<div>\n",
              "<style scoped>\n",
              "    .dataframe tbody tr th:only-of-type {\n",
              "        vertical-align: middle;\n",
              "    }\n",
              "\n",
              "    .dataframe tbody tr th {\n",
              "        vertical-align: top;\n",
              "    }\n",
              "\n",
              "    .dataframe thead th {\n",
              "        text-align: right;\n",
              "    }\n",
              "</style>\n",
              "<table border=\"1\" class=\"dataframe\">\n",
              "  <thead>\n",
              "    <tr style=\"text-align: right;\">\n",
              "      <th></th>\n",
              "      <th>id_b</th>\n",
              "      <th>id_c</th>\n",
              "    </tr>\n",
              "  </thead>\n",
              "  <tbody>\n",
              "    <tr>\n",
              "      <th>0</th>\n",
              "      <td>1</td>\n",
              "      <td>4</td>\n",
              "    </tr>\n",
              "    <tr>\n",
              "      <th>1</th>\n",
              "      <td>2</td>\n",
              "      <td>5</td>\n",
              "    </tr>\n",
              "    <tr>\n",
              "      <th>2</th>\n",
              "      <td>3</td>\n",
              "      <td>6</td>\n",
              "    </tr>\n",
              "  </tbody>\n",
              "</table>\n",
              "</div>"
            ],
            "text/plain": [
              "   id_b  id_c\n",
              "0     1     4\n",
              "1     2     5\n",
              "2     3     6"
            ]
          },
          "metadata": {
            "tags": []
          },
          "execution_count": 345
        }
      ]
    },
    {
      "cell_type": "code",
      "metadata": {
        "id": "6eKvwxn5ajUZ",
        "colab_type": "code",
        "outputId": "15d39ed9-9c4d-4d4e-c3c3-179444bd8c87",
        "colab": {
          "base_uri": "https://localhost:8080/",
          "height": 138
        }
      },
      "source": [
        "df_b = pd.DataFrame({'id_b':[1,2,3], 'first_name': ['Bruce', 'Peter', 'Clark']})\n",
        "df_b"
      ],
      "execution_count": 346,
      "outputs": [
        {
          "output_type": "execute_result",
          "data": {
            "text/html": [
              "<div>\n",
              "<style scoped>\n",
              "    .dataframe tbody tr th:only-of-type {\n",
              "        vertical-align: middle;\n",
              "    }\n",
              "\n",
              "    .dataframe tbody tr th {\n",
              "        vertical-align: top;\n",
              "    }\n",
              "\n",
              "    .dataframe thead th {\n",
              "        text-align: right;\n",
              "    }\n",
              "</style>\n",
              "<table border=\"1\" class=\"dataframe\">\n",
              "  <thead>\n",
              "    <tr style=\"text-align: right;\">\n",
              "      <th></th>\n",
              "      <th>id_b</th>\n",
              "      <th>first_name</th>\n",
              "    </tr>\n",
              "  </thead>\n",
              "  <tbody>\n",
              "    <tr>\n",
              "      <th>0</th>\n",
              "      <td>1</td>\n",
              "      <td>Bruce</td>\n",
              "    </tr>\n",
              "    <tr>\n",
              "      <th>1</th>\n",
              "      <td>2</td>\n",
              "      <td>Peter</td>\n",
              "    </tr>\n",
              "    <tr>\n",
              "      <th>2</th>\n",
              "      <td>3</td>\n",
              "      <td>Clark</td>\n",
              "    </tr>\n",
              "  </tbody>\n",
              "</table>\n",
              "</div>"
            ],
            "text/plain": [
              "   id_b first_name\n",
              "0     1      Bruce\n",
              "1     2      Peter\n",
              "2     3      Clark"
            ]
          },
          "metadata": {
            "tags": []
          },
          "execution_count": 346
        }
      ]
    },
    {
      "cell_type": "code",
      "metadata": {
        "id": "pBIZJK7tamdO",
        "colab_type": "code",
        "outputId": "b4c4e51b-8e9d-4a29-fc71-55b1c85f9644",
        "colab": {
          "base_uri": "https://localhost:8080/",
          "height": 138
        }
      },
      "source": [
        "df_c = pd.DataFrame({'id_c': [4,5,6], 'last_name': ['Banner', 'Parker', 'Kent']})\n",
        "df_c"
      ],
      "execution_count": 347,
      "outputs": [
        {
          "output_type": "execute_result",
          "data": {
            "text/html": [
              "<div>\n",
              "<style scoped>\n",
              "    .dataframe tbody tr th:only-of-type {\n",
              "        vertical-align: middle;\n",
              "    }\n",
              "\n",
              "    .dataframe tbody tr th {\n",
              "        vertical-align: top;\n",
              "    }\n",
              "\n",
              "    .dataframe thead th {\n",
              "        text-align: right;\n",
              "    }\n",
              "</style>\n",
              "<table border=\"1\" class=\"dataframe\">\n",
              "  <thead>\n",
              "    <tr style=\"text-align: right;\">\n",
              "      <th></th>\n",
              "      <th>id_c</th>\n",
              "      <th>last_name</th>\n",
              "    </tr>\n",
              "  </thead>\n",
              "  <tbody>\n",
              "    <tr>\n",
              "      <th>0</th>\n",
              "      <td>4</td>\n",
              "      <td>Banner</td>\n",
              "    </tr>\n",
              "    <tr>\n",
              "      <th>1</th>\n",
              "      <td>5</td>\n",
              "      <td>Parker</td>\n",
              "    </tr>\n",
              "    <tr>\n",
              "      <th>2</th>\n",
              "      <td>6</td>\n",
              "      <td>Kent</td>\n",
              "    </tr>\n",
              "  </tbody>\n",
              "</table>\n",
              "</div>"
            ],
            "text/plain": [
              "   id_c last_name\n",
              "0     4    Banner\n",
              "1     5    Parker\n",
              "2     6      Kent"
            ]
          },
          "metadata": {
            "tags": []
          },
          "execution_count": 347
        }
      ]
    },
    {
      "cell_type": "code",
      "metadata": {
        "id": "ZAWU3yo1cigI",
        "colab_type": "code",
        "colab": {
          "base_uri": "https://localhost:8080/",
          "height": 138
        },
        "outputId": "ba58cb18-3378-4dda-ec0d-8e469134438b"
      },
      "source": [
        "a_b_merge_df = pd.merge(df_a, df_b)\n",
        "a_b_merge_df"
      ],
      "execution_count": 348,
      "outputs": [
        {
          "output_type": "execute_result",
          "data": {
            "text/html": [
              "<div>\n",
              "<style scoped>\n",
              "    .dataframe tbody tr th:only-of-type {\n",
              "        vertical-align: middle;\n",
              "    }\n",
              "\n",
              "    .dataframe tbody tr th {\n",
              "        vertical-align: top;\n",
              "    }\n",
              "\n",
              "    .dataframe thead th {\n",
              "        text-align: right;\n",
              "    }\n",
              "</style>\n",
              "<table border=\"1\" class=\"dataframe\">\n",
              "  <thead>\n",
              "    <tr style=\"text-align: right;\">\n",
              "      <th></th>\n",
              "      <th>id_b</th>\n",
              "      <th>id_c</th>\n",
              "      <th>first_name</th>\n",
              "    </tr>\n",
              "  </thead>\n",
              "  <tbody>\n",
              "    <tr>\n",
              "      <th>0</th>\n",
              "      <td>1</td>\n",
              "      <td>4</td>\n",
              "      <td>Bruce</td>\n",
              "    </tr>\n",
              "    <tr>\n",
              "      <th>1</th>\n",
              "      <td>2</td>\n",
              "      <td>5</td>\n",
              "      <td>Peter</td>\n",
              "    </tr>\n",
              "    <tr>\n",
              "      <th>2</th>\n",
              "      <td>3</td>\n",
              "      <td>6</td>\n",
              "      <td>Clark</td>\n",
              "    </tr>\n",
              "  </tbody>\n",
              "</table>\n",
              "</div>"
            ],
            "text/plain": [
              "   id_b  id_c first_name\n",
              "0     1     4      Bruce\n",
              "1     2     5      Peter\n",
              "2     3     6      Clark"
            ]
          },
          "metadata": {
            "tags": []
          },
          "execution_count": 348
        }
      ]
    },
    {
      "cell_type": "code",
      "metadata": {
        "id": "COhFWYjjciYD",
        "colab_type": "code",
        "colab": {
          "base_uri": "https://localhost:8080/",
          "height": 138
        },
        "outputId": "816e7e3e-3349-4a4f-857b-75e82ea266c3"
      },
      "source": [
        "# WORKS!\n",
        "a_b_c_merge_df = pd.merge(a_b_merge_df, df_c)\n",
        "a_b_c_merge_df"
      ],
      "execution_count": 349,
      "outputs": [
        {
          "output_type": "execute_result",
          "data": {
            "text/html": [
              "<div>\n",
              "<style scoped>\n",
              "    .dataframe tbody tr th:only-of-type {\n",
              "        vertical-align: middle;\n",
              "    }\n",
              "\n",
              "    .dataframe tbody tr th {\n",
              "        vertical-align: top;\n",
              "    }\n",
              "\n",
              "    .dataframe thead th {\n",
              "        text-align: right;\n",
              "    }\n",
              "</style>\n",
              "<table border=\"1\" class=\"dataframe\">\n",
              "  <thead>\n",
              "    <tr style=\"text-align: right;\">\n",
              "      <th></th>\n",
              "      <th>id_b</th>\n",
              "      <th>id_c</th>\n",
              "      <th>first_name</th>\n",
              "      <th>last_name</th>\n",
              "    </tr>\n",
              "  </thead>\n",
              "  <tbody>\n",
              "    <tr>\n",
              "      <th>0</th>\n",
              "      <td>1</td>\n",
              "      <td>4</td>\n",
              "      <td>Bruce</td>\n",
              "      <td>Banner</td>\n",
              "    </tr>\n",
              "    <tr>\n",
              "      <th>1</th>\n",
              "      <td>2</td>\n",
              "      <td>5</td>\n",
              "      <td>Peter</td>\n",
              "      <td>Parker</td>\n",
              "    </tr>\n",
              "    <tr>\n",
              "      <th>2</th>\n",
              "      <td>3</td>\n",
              "      <td>6</td>\n",
              "      <td>Clark</td>\n",
              "      <td>Kent</td>\n",
              "    </tr>\n",
              "  </tbody>\n",
              "</table>\n",
              "</div>"
            ],
            "text/plain": [
              "   id_b  id_c first_name last_name\n",
              "0     1     4      Bruce    Banner\n",
              "1     2     5      Peter    Parker\n",
              "2     3     6      Clark      Kent"
            ]
          },
          "metadata": {
            "tags": []
          },
          "execution_count": 349
        }
      ]
    },
    {
      "cell_type": "markdown",
      "metadata": {
        "id": "-3S5czwpZHY8",
        "colab_type": "text"
      },
      "source": [
        "Use `melt` to change the dataframe below to look like the image below."
      ]
    },
    {
      "cell_type": "code",
      "metadata": {
        "id": "3MACmvwfWQem",
        "colab_type": "code",
        "outputId": "eb0fd59d-8755-4d83-ab5c-9344c3515e6b",
        "colab": {
          "base_uri": "https://localhost:8080/",
          "height": 138
        }
      },
      "source": [
        "# I think there is something wrong with the beginning data set here.\n",
        "# DOESN'T WORK at least not in this format.\n",
        "# THIS DIDN'T give the 'make this'\n",
        "messy = pd.DataFrame({'a': ['A', 'B', 'C'], \n",
        "                      'b': [1, 2, 3],\n",
        "                      'c': [4, 5, 6],\n",
        "                      'd': [7, 8, 9]})\n",
        "\n",
        "messy"
      ],
      "execution_count": 393,
      "outputs": [
        {
          "output_type": "execute_result",
          "data": {
            "text/html": [
              "<div>\n",
              "<style scoped>\n",
              "    .dataframe tbody tr th:only-of-type {\n",
              "        vertical-align: middle;\n",
              "    }\n",
              "\n",
              "    .dataframe tbody tr th {\n",
              "        vertical-align: top;\n",
              "    }\n",
              "\n",
              "    .dataframe thead th {\n",
              "        text-align: right;\n",
              "    }\n",
              "</style>\n",
              "<table border=\"1\" class=\"dataframe\">\n",
              "  <thead>\n",
              "    <tr style=\"text-align: right;\">\n",
              "      <th></th>\n",
              "      <th>a</th>\n",
              "      <th>b</th>\n",
              "      <th>c</th>\n",
              "      <th>d</th>\n",
              "    </tr>\n",
              "  </thead>\n",
              "  <tbody>\n",
              "    <tr>\n",
              "      <th>0</th>\n",
              "      <td>A</td>\n",
              "      <td>1</td>\n",
              "      <td>4</td>\n",
              "      <td>7</td>\n",
              "    </tr>\n",
              "    <tr>\n",
              "      <th>1</th>\n",
              "      <td>B</td>\n",
              "      <td>2</td>\n",
              "      <td>5</td>\n",
              "      <td>8</td>\n",
              "    </tr>\n",
              "    <tr>\n",
              "      <th>2</th>\n",
              "      <td>C</td>\n",
              "      <td>3</td>\n",
              "      <td>6</td>\n",
              "      <td>9</td>\n",
              "    </tr>\n",
              "  </tbody>\n",
              "</table>\n",
              "</div>"
            ],
            "text/plain": [
              "   a  b  c  d\n",
              "0  A  1  4  7\n",
              "1  B  2  5  8\n",
              "2  C  3  6  9"
            ]
          },
          "metadata": {
            "tags": []
          },
          "execution_count": 393
        }
      ]
    },
    {
      "cell_type": "code",
      "metadata": {
        "id": "fzClYTB8g8RP",
        "colab_type": "code",
        "colab": {}
      },
      "source": [
        "# WORKED? THIS RESULTED in the 'make this.'\n",
        "# I had to re-organize the DataFrame to get the correct answer?\n",
        "index=['A', 'B', 'C']\n",
        "columns=['b', 'c', 'd']"
      ],
      "execution_count": 0,
      "outputs": []
    },
    {
      "cell_type": "code",
      "metadata": {
        "id": "pPg_RsA9g-Rp",
        "colab_type": "code",
        "colab": {
          "base_uri": "https://localhost:8080/",
          "height": 138
        },
        "outputId": "d24c12be-66e7-4362-8e97-b2790410ec96"
      },
      "source": [
        "messy2 = pd.DataFrame(\n",
        "    [[1, 4, 7],\n",
        "     [2, 5, 8],\n",
        "     [3, 6, 9]],\n",
        "     index=['A', 'B', 'C'],\n",
        "     columns= ['b','c','d']\n",
        ")\n",
        "messy2"
      ],
      "execution_count": 394,
      "outputs": [
        {
          "output_type": "execute_result",
          "data": {
            "text/html": [
              "<div>\n",
              "<style scoped>\n",
              "    .dataframe tbody tr th:only-of-type {\n",
              "        vertical-align: middle;\n",
              "    }\n",
              "\n",
              "    .dataframe tbody tr th {\n",
              "        vertical-align: top;\n",
              "    }\n",
              "\n",
              "    .dataframe thead th {\n",
              "        text-align: right;\n",
              "    }\n",
              "</style>\n",
              "<table border=\"1\" class=\"dataframe\">\n",
              "  <thead>\n",
              "    <tr style=\"text-align: right;\">\n",
              "      <th></th>\n",
              "      <th>b</th>\n",
              "      <th>c</th>\n",
              "      <th>d</th>\n",
              "    </tr>\n",
              "  </thead>\n",
              "  <tbody>\n",
              "    <tr>\n",
              "      <th>A</th>\n",
              "      <td>1</td>\n",
              "      <td>4</td>\n",
              "      <td>7</td>\n",
              "    </tr>\n",
              "    <tr>\n",
              "      <th>B</th>\n",
              "      <td>2</td>\n",
              "      <td>5</td>\n",
              "      <td>8</td>\n",
              "    </tr>\n",
              "    <tr>\n",
              "      <th>C</th>\n",
              "      <td>3</td>\n",
              "      <td>6</td>\n",
              "      <td>9</td>\n",
              "    </tr>\n",
              "  </tbody>\n",
              "</table>\n",
              "</div>"
            ],
            "text/plain": [
              "   b  c  d\n",
              "A  1  4  7\n",
              "B  2  5  8\n",
              "C  3  6  9"
            ]
          },
          "metadata": {
            "tags": []
          },
          "execution_count": 394
        }
      ]
    },
    {
      "cell_type": "markdown",
      "metadata": {
        "id": "vxtdnU8dZjJd",
        "colab_type": "text"
      },
      "source": [
        "Make this:\n",
        "\n",
        "![image.png](data:image/png;base64,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)"
      ]
    },
    {
      "cell_type": "code",
      "metadata": {
        "id": "x7oidujvX08l",
        "colab_type": "code",
        "colab": {
          "base_uri": "https://localhost:8080/",
          "height": 35
        },
        "outputId": "a6ca1ef5-66ad-4671-f1cb-996a046fcd1a"
      },
      "source": [
        "# First, get the column names as a list.\n",
        "messy2.columns.tolist()"
      ],
      "execution_count": 389,
      "outputs": [
        {
          "output_type": "execute_result",
          "data": {
            "text/plain": [
              "['b', 'c', 'd']"
            ]
          },
          "metadata": {
            "tags": []
          },
          "execution_count": 389
        }
      ]
    },
    {
      "cell_type": "code",
      "metadata": {
        "id": "dRuGODX-NCoL",
        "colab_type": "code",
        "colab": {
          "base_uri": "https://localhost:8080/",
          "height": 35
        },
        "outputId": "2889b941-b076-4232-bb0a-bf6389de8e07"
      },
      "source": [
        "# Now get the index values as another list.\n",
        "messy2.index.tolist()"
      ],
      "execution_count": 390,
      "outputs": [
        {
          "output_type": "execute_result",
          "data": {
            "text/plain": [
              "['A', 'B', 'C']"
            ]
          },
          "metadata": {
            "tags": []
          },
          "execution_count": 390
        }
      ]
    },
    {
      "cell_type": "code",
      "metadata": {
        "id": "j6ahchoDNOQP",
        "colab_type": "code",
        "colab": {
          "base_uri": "https://localhost:8080/",
          "height": 138
        },
        "outputId": "da153715-deb8-4a18-e0d8-1c60c6280c35"
      },
      "source": [
        "# For table 1, convert the index into a column using the `reset_index` method.\n",
        "messy_table = messy2.reset_index(drop=False)\n",
        "messy_table"
      ],
      "execution_count": 391,
      "outputs": [
        {
          "output_type": "execute_result",
          "data": {
            "text/html": [
              "<div>\n",
              "<style scoped>\n",
              "    .dataframe tbody tr th:only-of-type {\n",
              "        vertical-align: middle;\n",
              "    }\n",
              "\n",
              "    .dataframe tbody tr th {\n",
              "        vertical-align: top;\n",
              "    }\n",
              "\n",
              "    .dataframe thead th {\n",
              "        text-align: right;\n",
              "    }\n",
              "</style>\n",
              "<table border=\"1\" class=\"dataframe\">\n",
              "  <thead>\n",
              "    <tr style=\"text-align: right;\">\n",
              "      <th></th>\n",
              "      <th>index</th>\n",
              "      <th>b</th>\n",
              "      <th>c</th>\n",
              "      <th>d</th>\n",
              "    </tr>\n",
              "  </thead>\n",
              "  <tbody>\n",
              "    <tr>\n",
              "      <th>0</th>\n",
              "      <td>A</td>\n",
              "      <td>1</td>\n",
              "      <td>4</td>\n",
              "      <td>7</td>\n",
              "    </tr>\n",
              "    <tr>\n",
              "      <th>1</th>\n",
              "      <td>B</td>\n",
              "      <td>2</td>\n",
              "      <td>5</td>\n",
              "      <td>8</td>\n",
              "    </tr>\n",
              "    <tr>\n",
              "      <th>2</th>\n",
              "      <td>C</td>\n",
              "      <td>3</td>\n",
              "      <td>6</td>\n",
              "      <td>9</td>\n",
              "    </tr>\n",
              "  </tbody>\n",
              "</table>\n",
              "</div>"
            ],
            "text/plain": [
              "  index  b  c  d\n",
              "0     A  1  4  7\n",
              "1     B  2  5  8\n",
              "2     C  3  6  9"
            ]
          },
          "metadata": {
            "tags": []
          },
          "execution_count": 391
        }
      ]
    },
    {
      "cell_type": "code",
      "metadata": {
        "id": "Qfpf1rXvNycx",
        "colab_type": "code",
        "colab": {
          "base_uri": "https://localhost:8080/",
          "height": 318
        },
        "outputId": "739895af-2a53-4c95-a129-9cddeff32fbe"
      },
      "source": [
        "# Convert the table from 'wide' to 'tidy' format using the `melt` method.\n",
        "tidy = messy_table.melt(id_vars = 'index',\n",
        "                       value_vars = ['b', 'c', 'd']\n",
        "                       )\n",
        "tidy"
      ],
      "execution_count": 392,
      "outputs": [
        {
          "output_type": "execute_result",
          "data": {
            "text/html": [
              "<div>\n",
              "<style scoped>\n",
              "    .dataframe tbody tr th:only-of-type {\n",
              "        vertical-align: middle;\n",
              "    }\n",
              "\n",
              "    .dataframe tbody tr th {\n",
              "        vertical-align: top;\n",
              "    }\n",
              "\n",
              "    .dataframe thead th {\n",
              "        text-align: right;\n",
              "    }\n",
              "</style>\n",
              "<table border=\"1\" class=\"dataframe\">\n",
              "  <thead>\n",
              "    <tr style=\"text-align: right;\">\n",
              "      <th></th>\n",
              "      <th>index</th>\n",
              "      <th>variable</th>\n",
              "      <th>value</th>\n",
              "    </tr>\n",
              "  </thead>\n",
              "  <tbody>\n",
              "    <tr>\n",
              "      <th>0</th>\n",
              "      <td>A</td>\n",
              "      <td>b</td>\n",
              "      <td>1</td>\n",
              "    </tr>\n",
              "    <tr>\n",
              "      <th>1</th>\n",
              "      <td>B</td>\n",
              "      <td>b</td>\n",
              "      <td>2</td>\n",
              "    </tr>\n",
              "    <tr>\n",
              "      <th>2</th>\n",
              "      <td>C</td>\n",
              "      <td>b</td>\n",
              "      <td>3</td>\n",
              "    </tr>\n",
              "    <tr>\n",
              "      <th>3</th>\n",
              "      <td>A</td>\n",
              "      <td>c</td>\n",
              "      <td>4</td>\n",
              "    </tr>\n",
              "    <tr>\n",
              "      <th>4</th>\n",
              "      <td>B</td>\n",
              "      <td>c</td>\n",
              "      <td>5</td>\n",
              "    </tr>\n",
              "    <tr>\n",
              "      <th>5</th>\n",
              "      <td>C</td>\n",
              "      <td>c</td>\n",
              "      <td>6</td>\n",
              "    </tr>\n",
              "    <tr>\n",
              "      <th>6</th>\n",
              "      <td>A</td>\n",
              "      <td>d</td>\n",
              "      <td>7</td>\n",
              "    </tr>\n",
              "    <tr>\n",
              "      <th>7</th>\n",
              "      <td>B</td>\n",
              "      <td>d</td>\n",
              "      <td>8</td>\n",
              "    </tr>\n",
              "    <tr>\n",
              "      <th>8</th>\n",
              "      <td>C</td>\n",
              "      <td>d</td>\n",
              "      <td>9</td>\n",
              "    </tr>\n",
              "  </tbody>\n",
              "</table>\n",
              "</div>"
            ],
            "text/plain": [
              "  index variable  value\n",
              "0     A        b      1\n",
              "1     B        b      2\n",
              "2     C        b      3\n",
              "3     A        c      4\n",
              "4     B        c      5\n",
              "5     C        c      6\n",
              "6     A        d      7\n",
              "7     B        d      8\n",
              "8     C        d      9"
            ]
          },
          "metadata": {
            "tags": []
          },
          "execution_count": 392
        }
      ]
    },
    {
      "cell_type": "markdown",
      "metadata": {
        "id": "dWhz2iOf4VeU",
        "colab_type": "text"
      },
      "source": [
        "In a sentence or two, explain what the tidy data format is."
      ]
    },
    {
      "cell_type": "code",
      "metadata": {
        "id": "VNGF_dye4tTc",
        "colab_type": "code",
        "colab": {}
      },
      "source": [
        "# Tidy datasets are easy to manipulate, model and visualize, and have a specific structure: \n",
        "# each column is a variable, each row is an observation, and each type of observational unit is a table."
      ],
      "execution_count": 0,
      "outputs": []
    },
    {
      "cell_type": "markdown",
      "metadata": {
        "id": "Rd6EpmRp9siX",
        "colab_type": "text"
      },
      "source": [
        "What are the types of joins?"
      ]
    },
    {
      "cell_type": "code",
      "metadata": {
        "id": "0SjBr2579xMt",
        "colab_type": "code",
        "colab": {}
      },
      "source": [
        "# LEFT, FULL OUTER, LEFT JOIN(if NULL), INNER, RIGHT, RIGHT(if NULL)"
      ],
      "execution_count": 0,
      "outputs": []
    },
    {
      "cell_type": "markdown",
      "metadata": {
        "id": "pW5PDZLUckpC",
        "colab_type": "text"
      },
      "source": [
        "# Snazzy Graphs"
      ]
    },
    {
      "cell_type": "markdown",
      "metadata": {
        "id": "7dLMpelIGGNV",
        "colab_type": "text"
      },
      "source": [
        "Pick a graph from FiveThirtyEight and try to recreate it. Focus on the following items:\n",
        "- All text in the orginal graph (except the watermark) is present in your graph and in the same locations\n",
        "- All text in your graph is roughly the same size and look of the original graph\n",
        "- Gridlines, Ticklabels, and tickmark spacing matches\n",
        "- Coloring and/or style matches."
      ]
    },
    {
      "cell_type": "code",
      "metadata": {
        "id": "GAjE_xuDBxyM",
        "colab_type": "code",
        "colab": {}
      },
      "source": [
        ""
      ],
      "execution_count": 0,
      "outputs": []
    }
  ]
}