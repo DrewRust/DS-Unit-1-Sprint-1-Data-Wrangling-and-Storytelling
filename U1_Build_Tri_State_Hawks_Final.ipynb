{
  "nbformat": 4,
  "nbformat_minor": 0,
  "metadata": {
    "colab": {
      "name": "U1 Build Tri-State Hawks.ipynb",
      "provenance": [],
      "collapsed_sections": [],
      "authorship_tag": "ABX9TyM3cMnNC979XXcqyXsKV7Xj",
      "include_colab_link": true
    },
    "kernelspec": {
      "name": "python3",
      "display_name": "Python 3"
    }
  },
  "cells": [
    {
      "cell_type": "markdown",
      "metadata": {
        "id": "view-in-github",
        "colab_type": "text"
      },
      "source": [
        "<a href=\"https://colab.research.google.com/github/DrewRust/DS-Unit-1-Sprint-1-Data-Wrangling-and-Storytelling/blob/master/U1_Build_Tri_State_Hawks_Final.ipynb\" target=\"_parent\"><img src=\"https://colab.research.google.com/assets/colab-badge.svg\" alt=\"Open In Colab\"/></a>"
      ]
    },
    {
      "cell_type": "code",
      "metadata": {
        "id": "T7XzvgUOZa3R",
        "colab_type": "code",
        "colab": {}
      },
      "source": [
        "import pandas as pd\n",
        "import numpy as np\n",
        "import matplotlib.pyplot as plt\n",
        "import seaborn as sns\n",
        "%matplotlib inline"
      ],
      "execution_count": 0,
      "outputs": []
    },
    {
      "cell_type": "code",
      "metadata": {
        "id": "xLnNjyh7_0LO",
        "colab_type": "code",
        "colab": {
          "base_uri": "https://localhost:8080/",
          "height": 272
        },
        "outputId": "2c6696ae-f75e-4b07-c4e8-345e8599f19e"
      },
      "source": [
        "# WEIRD for some reason unzipping it here gave different results then uzipping it on my computer and then uploading it \n",
        "# Not really different but off by a few lines of code I checked it and this code is slightly different.  \n",
        "# My for loop works but is slightly different.\n",
        "! wget ftp://ftpext.usgs.gov/pub/er/md/laurel/BBS/DataFiles/States/Kentuck.zip"
      ],
      "execution_count": 316,
      "outputs": [
        {
          "output_type": "stream",
          "text": [
            "--2020-03-29 03:39:12--  ftp://ftpext.usgs.gov/pub/er/md/laurel/BBS/DataFiles/States/Kentuck.zip\n",
            "           => ‘Kentuck.zip’\n",
            "Resolving ftpext.usgs.gov (ftpext.usgs.gov)... 137.227.224.199, 2001:49c8:8000:120c::199\n",
            "Connecting to ftpext.usgs.gov (ftpext.usgs.gov)|137.227.224.199|:21... connected.\n",
            "Logging in as anonymous ... Logged in!\n",
            "==> SYST ... done.    ==> PWD ... done.\n",
            "==> TYPE I ... done.  ==> CWD (1) /pub/er/md/laurel/BBS/DataFiles/States ... done.\n",
            "==> SIZE Kentuck.zip ... 884591\n",
            "==> PASV ... done.    ==> RETR Kentuck.zip ... done.\n",
            "Length: 884591 (864K) (unauthoritative)\n",
            "\n",
            "Kentuck.zip         100%[===================>] 863.86K  1.01MB/s    in 0.8s    \n",
            "\n",
            "2020-03-29 03:39:15 (1.01 MB/s) - ‘Kentuck.zip’ saved [884591]\n",
            "\n"
          ],
          "name": "stdout"
        }
      ]
    },
    {
      "cell_type": "code",
      "metadata": {
        "id": "vw-EUfNJ_4SD",
        "colab_type": "code",
        "colab": {
          "base_uri": "https://localhost:8080/",
          "height": 51
        },
        "outputId": "3116b8d3-63ef-4efe-ac7e-08fb606a9659"
      },
      "source": [
        "! unzip Kentuck.zip"
      ],
      "execution_count": 317,
      "outputs": [
        {
          "output_type": "stream",
          "text": [
            "Archive:  Kentuck.zip\n",
            "  inflating: Kentuck.csv             \n"
          ],
          "name": "stdout"
        }
      ]
    },
    {
      "cell_type": "code",
      "metadata": {
        "id": "Eto8MnzOdkTi",
        "colab_type": "code",
        "outputId": "d538ea36-7b62-45d1-f729-fd5c17906fd8",
        "colab": {
          "base_uri": "https://localhost:8080/",
          "height": 142
        }
      },
      "source": [
        "url='Kentuck.csv'\n",
        "Kentucky_df = pd.read_csv(url)\n",
        "Kentucky_df.sample(3)"
      ],
      "execution_count": 318,
      "outputs": [
        {
          "output_type": "execute_result",
          "data": {
            "text/html": [
              "<div>\n",
              "<style scoped>\n",
              "    .dataframe tbody tr th:only-of-type {\n",
              "        vertical-align: middle;\n",
              "    }\n",
              "\n",
              "    .dataframe tbody tr th {\n",
              "        vertical-align: top;\n",
              "    }\n",
              "\n",
              "    .dataframe thead th {\n",
              "        text-align: right;\n",
              "    }\n",
              "</style>\n",
              "<table border=\"1\" class=\"dataframe\">\n",
              "  <thead>\n",
              "    <tr style=\"text-align: right;\">\n",
              "      <th></th>\n",
              "      <th>RouteDataID</th>\n",
              "      <th>CountryNum</th>\n",
              "      <th>StateNum</th>\n",
              "      <th>Route</th>\n",
              "      <th>RPID</th>\n",
              "      <th>Year</th>\n",
              "      <th>AOU</th>\n",
              "      <th>Count10</th>\n",
              "      <th>Count20</th>\n",
              "      <th>Count30</th>\n",
              "      <th>Count40</th>\n",
              "      <th>Count50</th>\n",
              "      <th>StopTotal</th>\n",
              "      <th>SpeciesTotal</th>\n",
              "    </tr>\n",
              "  </thead>\n",
              "  <tbody>\n",
              "    <tr>\n",
              "      <th>46812</th>\n",
              "      <td>6243593</td>\n",
              "      <td>840</td>\n",
              "      <td>39</td>\n",
              "      <td>26</td>\n",
              "      <td>101</td>\n",
              "      <td>2001</td>\n",
              "      <td>5600</td>\n",
              "      <td>7</td>\n",
              "      <td>2</td>\n",
              "      <td>4</td>\n",
              "      <td>4</td>\n",
              "      <td>1</td>\n",
              "      <td>16</td>\n",
              "      <td>18</td>\n",
              "    </tr>\n",
              "    <tr>\n",
              "      <th>34543</th>\n",
              "      <td>6313025</td>\n",
              "      <td>840</td>\n",
              "      <td>39</td>\n",
              "      <td>21</td>\n",
              "      <td>101</td>\n",
              "      <td>2009</td>\n",
              "      <td>6240</td>\n",
              "      <td>0</td>\n",
              "      <td>0</td>\n",
              "      <td>3</td>\n",
              "      <td>2</td>\n",
              "      <td>3</td>\n",
              "      <td>7</td>\n",
              "      <td>8</td>\n",
              "    </tr>\n",
              "    <tr>\n",
              "      <th>48101</th>\n",
              "      <td>6234500</td>\n",
              "      <td>840</td>\n",
              "      <td>39</td>\n",
              "      <td>28</td>\n",
              "      <td>101</td>\n",
              "      <td>1967</td>\n",
              "      <td>6220</td>\n",
              "      <td>0</td>\n",
              "      <td>0</td>\n",
              "      <td>1</td>\n",
              "      <td>0</td>\n",
              "      <td>1</td>\n",
              "      <td>2</td>\n",
              "      <td>2</td>\n",
              "    </tr>\n",
              "  </tbody>\n",
              "</table>\n",
              "</div>"
            ],
            "text/plain": [
              "       RouteDataID  CountryNum  StateNum  ...  Count50  StopTotal  SpeciesTotal\n",
              "46812      6243593         840        39  ...        1         16            18\n",
              "34543      6313025         840        39  ...        3          7             8\n",
              "48101      6234500         840        39  ...        1          2             2\n",
              "\n",
              "[3 rows x 14 columns]"
            ]
          },
          "metadata": {
            "tags": []
          },
          "execution_count": 318
        }
      ]
    },
    {
      "cell_type": "code",
      "metadata": {
        "id": "t4709_asASlt",
        "colab_type": "code",
        "colab": {
          "base_uri": "https://localhost:8080/",
          "height": 272
        },
        "outputId": "c79d51e7-9544-44ad-9029-7f6b1f810695"
      },
      "source": [
        "! wget ftp://ftpext.usgs.gov/pub/er/md/laurel/BBS/DataFiles/States/Indiana.zip"
      ],
      "execution_count": 319,
      "outputs": [
        {
          "output_type": "stream",
          "text": [
            "--2020-03-29 03:39:27--  ftp://ftpext.usgs.gov/pub/er/md/laurel/BBS/DataFiles/States/Indiana.zip\n",
            "           => ‘Indiana.zip’\n",
            "Resolving ftpext.usgs.gov (ftpext.usgs.gov)... 137.227.224.199, 2001:49c8:8000:120c::199\n",
            "Connecting to ftpext.usgs.gov (ftpext.usgs.gov)|137.227.224.199|:21... connected.\n",
            "Logging in as anonymous ... Logged in!\n",
            "==> SYST ... done.    ==> PWD ... done.\n",
            "==> TYPE I ... done.  ==> CWD (1) /pub/er/md/laurel/BBS/DataFiles/States ... done.\n",
            "==> SIZE Indiana.zip ... 924279\n",
            "==> PASV ... done.    ==> RETR Indiana.zip ... done.\n",
            "Length: 924279 (903K) (unauthoritative)\n",
            "\n",
            "Indiana.zip         100%[===================>] 902.62K  1.90MB/s    in 0.5s    \n",
            "\n",
            "2020-03-29 03:39:28 (1.90 MB/s) - ‘Indiana.zip’ saved [924279]\n",
            "\n"
          ],
          "name": "stdout"
        }
      ]
    },
    {
      "cell_type": "code",
      "metadata": {
        "id": "R976h6uLAbaz",
        "colab_type": "code",
        "colab": {
          "base_uri": "https://localhost:8080/",
          "height": 51
        },
        "outputId": "ff2b1a08-976c-4b25-ed22-9c5abdf99eaa"
      },
      "source": [
        "! unzip Indiana.zip"
      ],
      "execution_count": 320,
      "outputs": [
        {
          "output_type": "stream",
          "text": [
            "Archive:  Indiana.zip\n",
            "  inflating: Indiana.csv             \n"
          ],
          "name": "stdout"
        }
      ]
    },
    {
      "cell_type": "code",
      "metadata": {
        "id": "OzmmS4TEdlP6",
        "colab_type": "code",
        "outputId": "f9d6f9db-0a39-4876-8250-d02f9ddb5b0a",
        "colab": {
          "base_uri": "https://localhost:8080/",
          "height": 142
        }
      },
      "source": [
        "url2 = 'Indiana.csv'\n",
        "Indiana_df = pd.read_csv(url2)\n",
        "Indiana_df.sample(3)"
      ],
      "execution_count": 321,
      "outputs": [
        {
          "output_type": "execute_result",
          "data": {
            "text/html": [
              "<div>\n",
              "<style scoped>\n",
              "    .dataframe tbody tr th:only-of-type {\n",
              "        vertical-align: middle;\n",
              "    }\n",
              "\n",
              "    .dataframe tbody tr th {\n",
              "        vertical-align: top;\n",
              "    }\n",
              "\n",
              "    .dataframe thead th {\n",
              "        text-align: right;\n",
              "    }\n",
              "</style>\n",
              "<table border=\"1\" class=\"dataframe\">\n",
              "  <thead>\n",
              "    <tr style=\"text-align: right;\">\n",
              "      <th></th>\n",
              "      <th>RouteDataID</th>\n",
              "      <th>CountryNum</th>\n",
              "      <th>StateNum</th>\n",
              "      <th>Route</th>\n",
              "      <th>RPID</th>\n",
              "      <th>Year</th>\n",
              "      <th>AOU</th>\n",
              "      <th>Count10</th>\n",
              "      <th>Count20</th>\n",
              "      <th>Count30</th>\n",
              "      <th>Count40</th>\n",
              "      <th>Count50</th>\n",
              "      <th>StopTotal</th>\n",
              "      <th>SpeciesTotal</th>\n",
              "    </tr>\n",
              "  </thead>\n",
              "  <tbody>\n",
              "    <tr>\n",
              "      <th>62665</th>\n",
              "      <td>6166445</td>\n",
              "      <td>840</td>\n",
              "      <td>35</td>\n",
              "      <td>34</td>\n",
              "      <td>101</td>\n",
              "      <td>2003</td>\n",
              "      <td>6110</td>\n",
              "      <td>0</td>\n",
              "      <td>0</td>\n",
              "      <td>0</td>\n",
              "      <td>0</td>\n",
              "      <td>6</td>\n",
              "      <td>2</td>\n",
              "      <td>6</td>\n",
              "    </tr>\n",
              "    <tr>\n",
              "      <th>34404</th>\n",
              "      <td>6180452</td>\n",
              "      <td>840</td>\n",
              "      <td>35</td>\n",
              "      <td>20</td>\n",
              "      <td>101</td>\n",
              "      <td>1973</td>\n",
              "      <td>7660</td>\n",
              "      <td>1</td>\n",
              "      <td>0</td>\n",
              "      <td>0</td>\n",
              "      <td>0</td>\n",
              "      <td>0</td>\n",
              "      <td>1</td>\n",
              "      <td>1</td>\n",
              "    </tr>\n",
              "    <tr>\n",
              "      <th>58858</th>\n",
              "      <td>6369209</td>\n",
              "      <td>840</td>\n",
              "      <td>35</td>\n",
              "      <td>32</td>\n",
              "      <td>101</td>\n",
              "      <td>2018</td>\n",
              "      <td>4120</td>\n",
              "      <td>0</td>\n",
              "      <td>1</td>\n",
              "      <td>0</td>\n",
              "      <td>1</td>\n",
              "      <td>1</td>\n",
              "      <td>3</td>\n",
              "      <td>3</td>\n",
              "    </tr>\n",
              "  </tbody>\n",
              "</table>\n",
              "</div>"
            ],
            "text/plain": [
              "       RouteDataID  CountryNum  StateNum  ...  Count50  StopTotal  SpeciesTotal\n",
              "62665      6166445         840        35  ...        6          2             6\n",
              "34404      6180452         840        35  ...        0          1             1\n",
              "58858      6369209         840        35  ...        1          3             3\n",
              "\n",
              "[3 rows x 14 columns]"
            ]
          },
          "metadata": {
            "tags": []
          },
          "execution_count": 321
        }
      ]
    },
    {
      "cell_type": "code",
      "metadata": {
        "id": "zVEz_5HbsWau",
        "colab_type": "code",
        "colab": {
          "base_uri": "https://localhost:8080/",
          "height": 272
        },
        "outputId": "a3a0172c-740d-468c-c8cd-c8e57d522676"
      },
      "source": [
        "! wget ftp://ftpext.usgs.gov/pub/er/md/laurel/BBS/DataFiles/States/Ohio.zip"
      ],
      "execution_count": 322,
      "outputs": [
        {
          "output_type": "stream",
          "text": [
            "--2020-03-29 03:39:40--  ftp://ftpext.usgs.gov/pub/er/md/laurel/BBS/DataFiles/States/Ohio.zip\n",
            "           => ‘Ohio.zip’\n",
            "Resolving ftpext.usgs.gov (ftpext.usgs.gov)... 137.227.224.199, 2001:49c8:8000:120c::199\n",
            "Connecting to ftpext.usgs.gov (ftpext.usgs.gov)|137.227.224.199|:21... connected.\n",
            "Logging in as anonymous ... Logged in!\n",
            "==> SYST ... done.    ==> PWD ... done.\n",
            "==> TYPE I ... done.  ==> CWD (1) /pub/er/md/laurel/BBS/DataFiles/States ... done.\n",
            "==> SIZE Ohio.zip ... 1230638\n",
            "==> PASV ... done.    ==> RETR Ohio.zip ... done.\n",
            "Length: 1230638 (1.2M) (unauthoritative)\n",
            "\n",
            "Ohio.zip            100%[===================>]   1.17M  2.22MB/s    in 0.5s    \n",
            "\n",
            "2020-03-29 03:39:42 (2.22 MB/s) - ‘Ohio.zip’ saved [1230638]\n",
            "\n"
          ],
          "name": "stdout"
        }
      ]
    },
    {
      "cell_type": "code",
      "metadata": {
        "id": "d1rrL3GNsjY3",
        "colab_type": "code",
        "colab": {
          "base_uri": "https://localhost:8080/",
          "height": 51
        },
        "outputId": "513965b9-82f1-477d-b5c0-c9a2a7f41085"
      },
      "source": [
        "! unzip Ohio.zip"
      ],
      "execution_count": 323,
      "outputs": [
        {
          "output_type": "stream",
          "text": [
            "Archive:  Ohio.zip\n",
            "  inflating: Ohio.csv                \n"
          ],
          "name": "stdout"
        }
      ]
    },
    {
      "cell_type": "code",
      "metadata": {
        "id": "hGRbwsVvdmKR",
        "colab_type": "code",
        "outputId": "378962cc-3c92-4ce7-e9a3-d0206377d299",
        "colab": {
          "base_uri": "https://localhost:8080/",
          "height": 142
        }
      },
      "source": [
        "url3 = 'Ohio.csv'\n",
        "Ohio_df = pd.read_csv(url3)\n",
        "Ohio_df.sample(3)"
      ],
      "execution_count": 324,
      "outputs": [
        {
          "output_type": "execute_result",
          "data": {
            "text/html": [
              "<div>\n",
              "<style scoped>\n",
              "    .dataframe tbody tr th:only-of-type {\n",
              "        vertical-align: middle;\n",
              "    }\n",
              "\n",
              "    .dataframe tbody tr th {\n",
              "        vertical-align: top;\n",
              "    }\n",
              "\n",
              "    .dataframe thead th {\n",
              "        text-align: right;\n",
              "    }\n",
              "</style>\n",
              "<table border=\"1\" class=\"dataframe\">\n",
              "  <thead>\n",
              "    <tr style=\"text-align: right;\">\n",
              "      <th></th>\n",
              "      <th>RouteDataID</th>\n",
              "      <th>CountryNum</th>\n",
              "      <th>StateNum</th>\n",
              "      <th>Route</th>\n",
              "      <th>RPID</th>\n",
              "      <th>Year</th>\n",
              "      <th>AOU</th>\n",
              "      <th>Count10</th>\n",
              "      <th>Count20</th>\n",
              "      <th>Count30</th>\n",
              "      <th>Count40</th>\n",
              "      <th>Count50</th>\n",
              "      <th>StopTotal</th>\n",
              "      <th>SpeciesTotal</th>\n",
              "    </tr>\n",
              "  </thead>\n",
              "  <tbody>\n",
              "    <tr>\n",
              "      <th>71107</th>\n",
              "      <td>6355665</td>\n",
              "      <td>840</td>\n",
              "      <td>66</td>\n",
              "      <td>64</td>\n",
              "      <td>101</td>\n",
              "      <td>2014</td>\n",
              "      <td>5600</td>\n",
              "      <td>5</td>\n",
              "      <td>0</td>\n",
              "      <td>0</td>\n",
              "      <td>3</td>\n",
              "      <td>2</td>\n",
              "      <td>7</td>\n",
              "      <td>10</td>\n",
              "    </tr>\n",
              "    <tr>\n",
              "      <th>82128</th>\n",
              "      <td>6199385</td>\n",
              "      <td>840</td>\n",
              "      <td>66</td>\n",
              "      <td>74</td>\n",
              "      <td>101</td>\n",
              "      <td>1985</td>\n",
              "      <td>6520</td>\n",
              "      <td>2</td>\n",
              "      <td>3</td>\n",
              "      <td>0</td>\n",
              "      <td>8</td>\n",
              "      <td>4</td>\n",
              "      <td>15</td>\n",
              "      <td>17</td>\n",
              "    </tr>\n",
              "    <tr>\n",
              "      <th>75980</th>\n",
              "      <td>6344305</td>\n",
              "      <td>840</td>\n",
              "      <td>66</td>\n",
              "      <td>67</td>\n",
              "      <td>101</td>\n",
              "      <td>2012</td>\n",
              "      <td>5870</td>\n",
              "      <td>1</td>\n",
              "      <td>0</td>\n",
              "      <td>0</td>\n",
              "      <td>0</td>\n",
              "      <td>0</td>\n",
              "      <td>1</td>\n",
              "      <td>1</td>\n",
              "    </tr>\n",
              "  </tbody>\n",
              "</table>\n",
              "</div>"
            ],
            "text/plain": [
              "       RouteDataID  CountryNum  StateNum  ...  Count50  StopTotal  SpeciesTotal\n",
              "71107      6355665         840        66  ...        2          7            10\n",
              "82128      6199385         840        66  ...        4         15            17\n",
              "75980      6344305         840        66  ...        0          1             1\n",
              "\n",
              "[3 rows x 14 columns]"
            ]
          },
          "metadata": {
            "tags": []
          },
          "execution_count": 324
        }
      ]
    },
    {
      "cell_type": "code",
      "metadata": {
        "id": "PuCy9dYLeCyP",
        "colab_type": "code",
        "outputId": "bc734024-97c2-4591-be24-8e9c8fea8ab2",
        "colab": {
          "base_uri": "https://localhost:8080/",
          "height": 68
        }
      },
      "source": [
        "print((Kentucky_df).shape)\n",
        "print((Indiana_df).shape)\n",
        "print((Ohio_df).shape)\n",
        "# lengths should be:\n",
        "# 99327 Kentucky\n",
        "# 104623 Indiana\n",
        "# 138191 Ohio"
      ],
      "execution_count": 325,
      "outputs": [
        {
          "output_type": "stream",
          "text": [
            "(99327, 14)\n",
            "(104623, 14)\n",
            "(138191, 14)\n"
          ],
          "name": "stdout"
        }
      ]
    },
    {
      "cell_type": "code",
      "metadata": {
        "id": "Jhe6Tiose4y8",
        "colab_type": "code",
        "colab": {}
      },
      "source": [
        "# adding the data frames together\n",
        "result_df = Ohio_df.append(Indiana_df)"
      ],
      "execution_count": 0,
      "outputs": []
    },
    {
      "cell_type": "code",
      "metadata": {
        "id": "yGnXV1UwfKmr",
        "colab_type": "code",
        "outputId": "14d80cc9-6ca3-4c67-85f8-13d0091ffcfe",
        "colab": {
          "base_uri": "https://localhost:8080/",
          "height": 34
        }
      },
      "source": [
        "# checking to make sure it appended\n",
        "# 242814\n",
        "result_df.shape"
      ],
      "execution_count": 327,
      "outputs": [
        {
          "output_type": "execute_result",
          "data": {
            "text/plain": [
              "(242814, 14)"
            ]
          },
          "metadata": {
            "tags": []
          },
          "execution_count": 327
        }
      ]
    },
    {
      "cell_type": "code",
      "metadata": {
        "id": "wNoChES7fcAb",
        "colab_type": "code",
        "colab": {}
      },
      "source": [
        "# adding Kentucky df to Ohio and Indiana\n",
        "Kent_Ind_Oh_df = result_df.append(Kentucky_df)"
      ],
      "execution_count": 0,
      "outputs": []
    },
    {
      "cell_type": "code",
      "metadata": {
        "id": "jhK7o8YVfpvT",
        "colab_type": "code",
        "outputId": "e74e5636-6fd2-4815-dcb0-8da648bdb09d",
        "colab": {
          "base_uri": "https://localhost:8080/",
          "height": 34
        }
      },
      "source": [
        "# len should be\n",
        "# 342141\n",
        "Kent_Ind_Oh_df.shape"
      ],
      "execution_count": 329,
      "outputs": [
        {
          "output_type": "execute_result",
          "data": {
            "text/plain": [
              "(342141, 14)"
            ]
          },
          "metadata": {
            "tags": []
          },
          "execution_count": 329
        }
      ]
    },
    {
      "cell_type": "code",
      "metadata": {
        "id": "3dlgbphbo8VC",
        "colab_type": "code",
        "outputId": "3dd431ff-0936-4767-f1b6-ce6315f663a1",
        "colab": {
          "base_uri": "https://localhost:8080/",
          "height": 85
        }
      },
      "source": [
        "# KY = 39, IN = 35, OH = 66\n",
        "Kent_Ind_Oh_df['StateNum'].value_counts().head(5)\n",
        "# lengths should be:\n",
        "# 99327 Kentucky\n",
        "# 104623 Indiana\n",
        "# 138191 Ohio"
      ],
      "execution_count": 330,
      "outputs": [
        {
          "output_type": "execute_result",
          "data": {
            "text/plain": [
              "66    138191\n",
              "35    104623\n",
              "39     99327\n",
              "Name: StateNum, dtype: int64"
            ]
          },
          "metadata": {
            "tags": []
          },
          "execution_count": 330
        }
      ]
    },
    {
      "cell_type": "code",
      "metadata": {
        "id": "9rKjqJ6zhAkH",
        "colab_type": "code",
        "colab": {}
      },
      "source": [
        "# Filtering out all the hawks by AOU (their id num)\n",
        "\n",
        "# Cooper's Hawk 3330 and Sharp Shinned Hawk 3320\n",
        "Coopers_df = Kent_Ind_Oh_df[(Kent_Ind_Oh_df.AOU == 3330)] \n",
        "Sharpie_df = Kent_Ind_Oh_df[(Kent_Ind_Oh_df.AOU == 3320)]\n",
        "\n",
        "# Northern Gosh Hawk 3340 and Common Black Hawk 3450\n",
        "Gosh_df = Kent_Ind_Oh_df[(Kent_Ind_Oh_df.AOU == 3340)] \n",
        "Black_df = Kent_Ind_Oh_df[(Kent_Ind_Oh_df.AOU == 3450)]\n",
        "\n",
        "# Harris's Hawk 3350 and White Tailed Hawk 3410\n",
        "Harris_df = Kent_Ind_Oh_df[(Kent_Ind_Oh_df.AOU == 3350)]\n",
        "White_df = Kent_Ind_Oh_df[(Kent_Ind_Oh_df.AOU == 3410)]\n",
        "\n",
        "# Gray Hawk 3460 and Red Shouldered Hawk 3390\n",
        "Gray_df = Kent_Ind_Oh_df[(Kent_Ind_Oh_df.AOU == 3460)]\n",
        "RShoulder_df = Kent_Ind_Oh_df[(Kent_Ind_Oh_df.AOU == 3390)]\n",
        "\n",
        "# Broad Winged Hawk 3430 and Short-Tailed Hawk 3440\n",
        "Broad_df = Kent_Ind_Oh_df[(Kent_Ind_Oh_df.AOU == 3430)]\n",
        "ShortT_df = Kent_Ind_Oh_df[(Kent_Ind_Oh_df.AOU == 3440)]\n",
        "\n",
        "# Swainson's Hawk 3420 and Zone-Tailed Hawk 3400\n",
        "Sainson_df = Kent_Ind_Oh_df[(Kent_Ind_Oh_df.AOU == 3420)]\n",
        "Zone_df = Kent_Ind_Oh_df[(Kent_Ind_Oh_df.AOU == 3400)]\n",
        "\n",
        "# Rough-Legged Hawk 3470 and Ferruginous Hawk 3480\n",
        "Rough_df = Kent_Ind_Oh_df[(Kent_Ind_Oh_df.AOU == 3470)] \n",
        "Ferg_df = Kent_Ind_Oh_df[(Kent_Ind_Oh_df.AOU == 3480)]\n",
        "\n",
        "# Unidentified Bueto Hawk 3451 and Unidentified Accipiter Hawk 3333\n",
        "UnidB_df = Kent_Ind_Oh_df[(Kent_Ind_Oh_df.AOU == 3451)] \n",
        "UnidA_df = Kent_Ind_Oh_df[(Kent_Ind_Oh_df.AOU == 3333)]\n",
        "\n",
        "# Harlan's Red Tail Hawk 3380\n",
        "Harlans_only_df = Kent_Ind_Oh_df[(Kent_Ind_Oh_df.AOU == 3380)]\n",
        "# Red Tail Hawk 3370\n",
        "Red_Tail_only_df = Kent_Ind_Oh_df[(Kent_Ind_Oh_df.AOU == 3370)]"
      ],
      "execution_count": 0,
      "outputs": []
    },
    {
      "cell_type": "code",
      "metadata": {
        "id": "JNN6Iz4tzioe",
        "colab_type": "code",
        "outputId": "f4741d62-a8f9-40d2-d919-29903a75aed6",
        "colab": {
          "base_uri": "https://localhost:8080/",
          "height": 102
        }
      },
      "source": [
        "# These are all the lengths of df\n",
        "# Sharpie should be 120\n",
        "# BroadT should be 302\n",
        "# Coopers should be 768\n",
        "# RShoulder should be 900\n",
        "# Red Tail should be 3110\n",
        "print(Sharpie_df.shape)\n",
        "print(Broad_df.shape)\n",
        "print(Coopers_df.shape)\n",
        "print(RShoulder_df.shape)\n",
        "print(Red_Tail_only_df.shape)"
      ],
      "execution_count": 332,
      "outputs": [
        {
          "output_type": "stream",
          "text": [
            "(120, 14)\n",
            "(302, 14)\n",
            "(768, 14)\n",
            "(900, 14)\n",
            "(3110, 14)\n"
          ],
          "name": "stdout"
        }
      ]
    },
    {
      "cell_type": "code",
      "metadata": {
        "id": "dlP23e1tGRSg",
        "colab_type": "code",
        "outputId": "6f2e971d-3ee9-4c49-a970-d7dd4cd90398",
        "colab": {
          "base_uri": "https://localhost:8080/",
          "height": 102
        }
      },
      "source": [
        "# These are the only hawks with numbers the rest don't have any\n",
        "print(Sharpie_df['SpeciesTotal'].sum(axis=0))\n",
        "print(Broad_df['SpeciesTotal'].sum(axis=0))\n",
        "print(Coopers_df['SpeciesTotal'].sum(axis=0))\n",
        "print(RShoulder_df['SpeciesTotal'].sum(axis=0))\n",
        "print(Red_Tail_only_df['SpeciesTotal'].sum(axis=0))\n",
        "# 126 = sharpie, 396 = broad t, 914= coopers, 1613 = redshoulder, 6298 = redtail"
      ],
      "execution_count": 333,
      "outputs": [
        {
          "output_type": "stream",
          "text": [
            "126\n",
            "396\n",
            "914\n",
            "1613\n",
            "6298\n"
          ],
          "name": "stdout"
        }
      ]
    },
    {
      "cell_type": "code",
      "metadata": {
        "id": "PqFpGw5ixY8p",
        "colab_type": "code",
        "outputId": "fc5fbb17-9c09-436f-e2ca-a8cabd949109",
        "colab": {
          "base_uri": "https://localhost:8080/",
          "height": 34
        }
      },
      "source": [
        "# Appending all the other hawks besides red tails together.\n",
        "\n",
        "# Should be 888 (Coopers = 768 + 120 = Sharpie)\n",
        "df1 = Coopers_df.append(Sharpie_df)\n",
        "df1.shape"
      ],
      "execution_count": 334,
      "outputs": [
        {
          "output_type": "execute_result",
          "data": {
            "text/plain": [
              "(888, 14)"
            ]
          },
          "metadata": {
            "tags": []
          },
          "execution_count": 334
        }
      ]
    },
    {
      "cell_type": "code",
      "metadata": {
        "id": "kBxSehoYuC3S",
        "colab_type": "code",
        "outputId": "51e61d89-405a-4e20-8208-061b7e7d8b19",
        "colab": {
          "base_uri": "https://localhost:8080/",
          "height": 34
        }
      },
      "source": [
        "# No change no Gosh hawk\n",
        "df2 = df1.append(Gosh_df)\n",
        "df2.shape"
      ],
      "execution_count": 335,
      "outputs": [
        {
          "output_type": "execute_result",
          "data": {
            "text/plain": [
              "(888, 14)"
            ]
          },
          "metadata": {
            "tags": []
          },
          "execution_count": 335
        }
      ]
    },
    {
      "cell_type": "code",
      "metadata": {
        "id": "8nUvOj6yuUhM",
        "colab_type": "code",
        "outputId": "08c3877a-7493-4773-c141-8b9fdd64c277",
        "colab": {
          "base_uri": "https://localhost:8080/",
          "height": 34
        }
      },
      "source": [
        "# No change no Black hawk\n",
        "df3 = df2.append(Black_df)\n",
        "df3.shape"
      ],
      "execution_count": 336,
      "outputs": [
        {
          "output_type": "execute_result",
          "data": {
            "text/plain": [
              "(888, 14)"
            ]
          },
          "metadata": {
            "tags": []
          },
          "execution_count": 336
        }
      ]
    },
    {
      "cell_type": "code",
      "metadata": {
        "id": "ceb8AwKhuaTE",
        "colab_type": "code",
        "outputId": "56db8fe0-8148-4be6-ea55-b4d4472fc1e5",
        "colab": {
          "base_uri": "https://localhost:8080/",
          "height": 34
        }
      },
      "source": [
        "# No change no Harris hawk\n",
        "df4 = df3.append(Harris_df)\n",
        "df4.shape"
      ],
      "execution_count": 337,
      "outputs": [
        {
          "output_type": "execute_result",
          "data": {
            "text/plain": [
              "(888, 14)"
            ]
          },
          "metadata": {
            "tags": []
          },
          "execution_count": 337
        }
      ]
    },
    {
      "cell_type": "code",
      "metadata": {
        "id": "qpTrAJRLufHL",
        "colab_type": "code",
        "outputId": "7f5d3c13-9b5c-4088-90a4-5db12db2fec6",
        "colab": {
          "base_uri": "https://localhost:8080/",
          "height": 34
        }
      },
      "source": [
        "# No change no White hawk\n",
        "df5 = df4.append(White_df)\n",
        "df5.shape"
      ],
      "execution_count": 338,
      "outputs": [
        {
          "output_type": "execute_result",
          "data": {
            "text/plain": [
              "(888, 14)"
            ]
          },
          "metadata": {
            "tags": []
          },
          "execution_count": 338
        }
      ]
    },
    {
      "cell_type": "code",
      "metadata": {
        "id": "q1kCfUCruuGH",
        "colab_type": "code",
        "outputId": "c9a3817a-bdaa-4e52-9cec-3e14f217ad4a",
        "colab": {
          "base_uri": "https://localhost:8080/",
          "height": 34
        }
      },
      "source": [
        "# No change no Gray hawk\n",
        "df6 = df5.append(Gray_df)\n",
        "df6.shape"
      ],
      "execution_count": 339,
      "outputs": [
        {
          "output_type": "execute_result",
          "data": {
            "text/plain": [
              "(888, 14)"
            ]
          },
          "metadata": {
            "tags": []
          },
          "execution_count": 339
        }
      ]
    },
    {
      "cell_type": "code",
      "metadata": {
        "id": "LF7YLc5uu1rR",
        "colab_type": "code",
        "outputId": "a0aea8e2-250d-461a-833e-2eff647a8387",
        "colab": {
          "base_uri": "https://localhost:8080/",
          "height": 34
        }
      },
      "source": [
        "# RShoulder = 900 + 888 of previous len \n",
        "# total should be 1788\n",
        "df7 = df6.append(RShoulder_df)\n",
        "df7.shape"
      ],
      "execution_count": 340,
      "outputs": [
        {
          "output_type": "execute_result",
          "data": {
            "text/plain": [
              "(1788, 14)"
            ]
          },
          "metadata": {
            "tags": []
          },
          "execution_count": 340
        }
      ]
    },
    {
      "cell_type": "code",
      "metadata": {
        "id": "KAfNs2OVu68u",
        "colab_type": "code",
        "outputId": "89c25065-9ebb-4e3c-917c-ff969945e764",
        "colab": {
          "base_uri": "https://localhost:8080/",
          "height": 34
        }
      },
      "source": [
        "# Changes to 2090 so quite a few Red Shoulder\n",
        "# Broud Shoulder = 302 + 1788\n",
        "df8 = df7.append(Broad_df)\n",
        "df8.shape"
      ],
      "execution_count": 341,
      "outputs": [
        {
          "output_type": "execute_result",
          "data": {
            "text/plain": [
              "(2090, 14)"
            ]
          },
          "metadata": {
            "tags": []
          },
          "execution_count": 341
        }
      ]
    },
    {
      "cell_type": "code",
      "metadata": {
        "id": "9KTR53v-u_4g",
        "colab_type": "code",
        "outputId": "2b79a8f1-3395-4dc9-8d01-5b972c9c9ab8",
        "colab": {
          "base_uri": "https://localhost:8080/",
          "height": 34
        }
      },
      "source": [
        "# No change no Short tail\n",
        "df9 = df8.append(ShortT_df)\n",
        "df9.shape"
      ],
      "execution_count": 342,
      "outputs": [
        {
          "output_type": "execute_result",
          "data": {
            "text/plain": [
              "(2090, 14)"
            ]
          },
          "metadata": {
            "tags": []
          },
          "execution_count": 342
        }
      ]
    },
    {
      "cell_type": "code",
      "metadata": {
        "id": "vvf_4VobvJgO",
        "colab_type": "code",
        "outputId": "46a94541-f26e-44d4-83de-d692498fb78b",
        "colab": {
          "base_uri": "https://localhost:8080/",
          "height": 34
        }
      },
      "source": [
        "# No change no Swainson hawk\n",
        "df10 = df9.append(Sainson_df)\n",
        "df10.shape"
      ],
      "execution_count": 343,
      "outputs": [
        {
          "output_type": "execute_result",
          "data": {
            "text/plain": [
              "(2090, 14)"
            ]
          },
          "metadata": {
            "tags": []
          },
          "execution_count": 343
        }
      ]
    },
    {
      "cell_type": "code",
      "metadata": {
        "id": "yO7qpulevQy9",
        "colab_type": "code",
        "outputId": "e93557b9-7844-46b6-ac4d-c918a22f93f4",
        "colab": {
          "base_uri": "https://localhost:8080/",
          "height": 34
        }
      },
      "source": [
        "# No change no Zone hawk\n",
        "df11 = df10.append(Zone_df)\n",
        "df11.shape"
      ],
      "execution_count": 344,
      "outputs": [
        {
          "output_type": "execute_result",
          "data": {
            "text/plain": [
              "(2090, 14)"
            ]
          },
          "metadata": {
            "tags": []
          },
          "execution_count": 344
        }
      ]
    },
    {
      "cell_type": "code",
      "metadata": {
        "id": "5ciiBcb_vVF6",
        "colab_type": "code",
        "outputId": "9935c471-43eb-49b2-9de7-8e4a72ccc066",
        "colab": {
          "base_uri": "https://localhost:8080/",
          "height": 34
        }
      },
      "source": [
        "# No change no Rough hawk\n",
        "df12 = df11.append(Rough_df)\n",
        "df12.shape"
      ],
      "execution_count": 345,
      "outputs": [
        {
          "output_type": "execute_result",
          "data": {
            "text/plain": [
              "(2090, 14)"
            ]
          },
          "metadata": {
            "tags": []
          },
          "execution_count": 345
        }
      ]
    },
    {
      "cell_type": "code",
      "metadata": {
        "id": "Xoq4zc9pw0Pu",
        "colab_type": "code",
        "outputId": "ff67f116-af3e-4d58-e35f-6ddeac802136",
        "colab": {
          "base_uri": "https://localhost:8080/",
          "height": 34
        }
      },
      "source": [
        "# No change no Ferg hawk\n",
        "df13 = df12.append(Ferg_df)\n",
        "df13.shape"
      ],
      "execution_count": 346,
      "outputs": [
        {
          "output_type": "execute_result",
          "data": {
            "text/plain": [
              "(2090, 14)"
            ]
          },
          "metadata": {
            "tags": []
          },
          "execution_count": 346
        }
      ]
    },
    {
      "cell_type": "code",
      "metadata": {
        "id": "0b8hPcNWva9e",
        "colab_type": "code",
        "outputId": "d915c61d-2c4e-490a-933d-19e1514b36d8",
        "colab": {
          "base_uri": "https://localhost:8080/",
          "height": 34
        }
      },
      "source": [
        "# appending the unidentified hawks of Bueto and Acce kind \n",
        "# Only 11 rows of unidentified hawks\n",
        "# Might choose to leave those out\n",
        "Unidentified_df = UnidA_df.append(UnidB_df)\n",
        "Unidentified_df.shape"
      ],
      "execution_count": 347,
      "outputs": [
        {
          "output_type": "execute_result",
          "data": {
            "text/plain": [
              "(11, 14)"
            ]
          },
          "metadata": {
            "tags": []
          },
          "execution_count": 347
        }
      ]
    },
    {
      "cell_type": "code",
      "metadata": {
        "id": "e-XJxyh5y9zK",
        "colab_type": "code",
        "outputId": "5adfdaa0-70aa-4e7c-a0d8-2e905ad511b4",
        "colab": {
          "base_uri": "https://localhost:8080/",
          "height": 34
        }
      },
      "source": [
        "# Red tailed hawks only\n",
        "# should be 3110\n",
        "Red_Tail_only_df.shape"
      ],
      "execution_count": 348,
      "outputs": [
        {
          "output_type": "execute_result",
          "data": {
            "text/plain": [
              "(3110, 14)"
            ]
          },
          "metadata": {
            "tags": []
          },
          "execution_count": 348
        }
      ]
    },
    {
      "cell_type": "code",
      "metadata": {
        "id": "YW01qS1DzA0n",
        "colab_type": "code",
        "outputId": "530efa03-e606-40c6-b188-4f7ed96667dc",
        "colab": {
          "base_uri": "https://localhost:8080/",
          "height": 34
        }
      },
      "source": [
        "# No Harlan hawk which is a subspecies of Red tail\n",
        "Harlans_only_df.shape"
      ],
      "execution_count": 349,
      "outputs": [
        {
          "output_type": "execute_result",
          "data": {
            "text/plain": [
              "(0, 14)"
            ]
          },
          "metadata": {
            "tags": []
          },
          "execution_count": 349
        }
      ]
    },
    {
      "cell_type": "code",
      "metadata": {
        "id": "qzZoPUyRPu_f",
        "colab_type": "code",
        "outputId": "e470f812-c37f-4e8d-9f5c-946196ce57b2",
        "colab": {
          "base_uri": "https://localhost:8080/",
          "height": 34
        }
      },
      "source": [
        "# Final Other hawks should be 2090\n",
        "df13.shape"
      ],
      "execution_count": 350,
      "outputs": [
        {
          "output_type": "execute_result",
          "data": {
            "text/plain": [
              "(2090, 14)"
            ]
          },
          "metadata": {
            "tags": []
          },
          "execution_count": 350
        }
      ]
    },
    {
      "cell_type": "code",
      "metadata": {
        "id": "3pVViQ8owgG4",
        "colab_type": "code",
        "colab": {}
      },
      "source": [
        "# Sorting by year so I can add up the different yearly counts in a for loop \n",
        "Red_Tail_sorted_df = Red_Tail_only_df.sort_values(by='Year', ascending=True)"
      ],
      "execution_count": 0,
      "outputs": []
    },
    {
      "cell_type": "code",
      "metadata": {
        "id": "Tchpqx-k2zdm",
        "colab_type": "code",
        "colab": {}
      },
      "source": [
        "# This is the other hawk df again sorting by years to count species later\n",
        "RS_Coop_Br_Sha_sorted_df = df13.sort_values(by='Year', ascending=True)"
      ],
      "execution_count": 0,
      "outputs": []
    },
    {
      "cell_type": "code",
      "metadata": {
        "id": "GUzwE9kjQH4f",
        "colab_type": "code",
        "colab": {}
      },
      "source": [
        "# Reseting Index is important again for the for loop later to break out of the loop\n",
        "RS_Coop_Br_Sha_sorted_df = RS_Coop_Br_Sha_sorted_df.reset_index(drop=True)\n",
        "Red_Tail_sorted_df = Red_Tail_sorted_df.reset_index(drop=True)"
      ],
      "execution_count": 0,
      "outputs": []
    },
    {
      "cell_type": "code",
      "metadata": {
        "id": "WdiDcBQo_BLh",
        "colab_type": "code",
        "colab": {}
      },
      "source": [
        "# adds the newly created index as a column to break out of the for loop \n",
        "RS_Coop_Br_Sha_sorted_df.reset_index(level=0, inplace=True)"
      ],
      "execution_count": 0,
      "outputs": []
    },
    {
      "cell_type": "code",
      "metadata": {
        "id": "1pKaexAj_huO",
        "colab_type": "code",
        "colab": {}
      },
      "source": [
        "# adds the newly created index as a column to break out of the for loop \n",
        "Red_Tail_sorted_df.reset_index(level=0, inplace=True)"
      ],
      "execution_count": 0,
      "outputs": []
    },
    {
      "cell_type": "code",
      "metadata": {
        "id": "NQWQGn4e_K_l",
        "colab_type": "code",
        "outputId": "15de6f66-5b02-4b34-dd9a-e7692f5a5c44",
        "colab": {
          "base_uri": "https://localhost:8080/",
          "height": 142
        }
      },
      "source": [
        "# Notice the index is now a column\n",
        "RS_Coop_Br_Sha_sorted_df.head(3)"
      ],
      "execution_count": 356,
      "outputs": [
        {
          "output_type": "execute_result",
          "data": {
            "text/html": [
              "<div>\n",
              "<style scoped>\n",
              "    .dataframe tbody tr th:only-of-type {\n",
              "        vertical-align: middle;\n",
              "    }\n",
              "\n",
              "    .dataframe tbody tr th {\n",
              "        vertical-align: top;\n",
              "    }\n",
              "\n",
              "    .dataframe thead th {\n",
              "        text-align: right;\n",
              "    }\n",
              "</style>\n",
              "<table border=\"1\" class=\"dataframe\">\n",
              "  <thead>\n",
              "    <tr style=\"text-align: right;\">\n",
              "      <th></th>\n",
              "      <th>index</th>\n",
              "      <th>RouteDataID</th>\n",
              "      <th>CountryNum</th>\n",
              "      <th>StateNum</th>\n",
              "      <th>Route</th>\n",
              "      <th>RPID</th>\n",
              "      <th>Year</th>\n",
              "      <th>AOU</th>\n",
              "      <th>Count10</th>\n",
              "      <th>Count20</th>\n",
              "      <th>Count30</th>\n",
              "      <th>Count40</th>\n",
              "      <th>Count50</th>\n",
              "      <th>StopTotal</th>\n",
              "      <th>SpeciesTotal</th>\n",
              "    </tr>\n",
              "  </thead>\n",
              "  <tbody>\n",
              "    <tr>\n",
              "      <th>0</th>\n",
              "      <td>0</td>\n",
              "      <td>6228022</td>\n",
              "      <td>840</td>\n",
              "      <td>39</td>\n",
              "      <td>36</td>\n",
              "      <td>101</td>\n",
              "      <td>1966</td>\n",
              "      <td>3390</td>\n",
              "      <td>0</td>\n",
              "      <td>2</td>\n",
              "      <td>1</td>\n",
              "      <td>0</td>\n",
              "      <td>0</td>\n",
              "      <td>3</td>\n",
              "      <td>3</td>\n",
              "    </tr>\n",
              "    <tr>\n",
              "      <th>1</th>\n",
              "      <td>1</td>\n",
              "      <td>6168358</td>\n",
              "      <td>840</td>\n",
              "      <td>35</td>\n",
              "      <td>22</td>\n",
              "      <td>101</td>\n",
              "      <td>1966</td>\n",
              "      <td>3390</td>\n",
              "      <td>0</td>\n",
              "      <td>1</td>\n",
              "      <td>0</td>\n",
              "      <td>0</td>\n",
              "      <td>0</td>\n",
              "      <td>1</td>\n",
              "      <td>1</td>\n",
              "    </tr>\n",
              "    <tr>\n",
              "      <th>2</th>\n",
              "      <td>2</td>\n",
              "      <td>6239151</td>\n",
              "      <td>840</td>\n",
              "      <td>39</td>\n",
              "      <td>46</td>\n",
              "      <td>101</td>\n",
              "      <td>1966</td>\n",
              "      <td>3320</td>\n",
              "      <td>0</td>\n",
              "      <td>0</td>\n",
              "      <td>1</td>\n",
              "      <td>0</td>\n",
              "      <td>0</td>\n",
              "      <td>1</td>\n",
              "      <td>1</td>\n",
              "    </tr>\n",
              "  </tbody>\n",
              "</table>\n",
              "</div>"
            ],
            "text/plain": [
              "   index  RouteDataID  CountryNum  ...  Count50  StopTotal  SpeciesTotal\n",
              "0      0      6228022         840  ...        0          3             3\n",
              "1      1      6168358         840  ...        0          1             1\n",
              "2      2      6239151         840  ...        0          1             1\n",
              "\n",
              "[3 rows x 15 columns]"
            ]
          },
          "metadata": {
            "tags": []
          },
          "execution_count": 356
        }
      ]
    },
    {
      "cell_type": "code",
      "metadata": {
        "id": "k_FwHuZI_jkp",
        "colab_type": "code",
        "outputId": "83bfb0d8-028d-4e86-eebd-cccd4d299371",
        "colab": {
          "base_uri": "https://localhost:8080/",
          "height": 142
        }
      },
      "source": [
        "# Notice the index is now a column\n",
        "Red_Tail_sorted_df.head(3)"
      ],
      "execution_count": 357,
      "outputs": [
        {
          "output_type": "execute_result",
          "data": {
            "text/html": [
              "<div>\n",
              "<style scoped>\n",
              "    .dataframe tbody tr th:only-of-type {\n",
              "        vertical-align: middle;\n",
              "    }\n",
              "\n",
              "    .dataframe tbody tr th {\n",
              "        vertical-align: top;\n",
              "    }\n",
              "\n",
              "    .dataframe thead th {\n",
              "        text-align: right;\n",
              "    }\n",
              "</style>\n",
              "<table border=\"1\" class=\"dataframe\">\n",
              "  <thead>\n",
              "    <tr style=\"text-align: right;\">\n",
              "      <th></th>\n",
              "      <th>index</th>\n",
              "      <th>RouteDataID</th>\n",
              "      <th>CountryNum</th>\n",
              "      <th>StateNum</th>\n",
              "      <th>Route</th>\n",
              "      <th>RPID</th>\n",
              "      <th>Year</th>\n",
              "      <th>AOU</th>\n",
              "      <th>Count10</th>\n",
              "      <th>Count20</th>\n",
              "      <th>Count30</th>\n",
              "      <th>Count40</th>\n",
              "      <th>Count50</th>\n",
              "      <th>StopTotal</th>\n",
              "      <th>SpeciesTotal</th>\n",
              "    </tr>\n",
              "  </thead>\n",
              "  <tbody>\n",
              "    <tr>\n",
              "      <th>0</th>\n",
              "      <td>0</td>\n",
              "      <td>6237044</td>\n",
              "      <td>840</td>\n",
              "      <td>66</td>\n",
              "      <td>49</td>\n",
              "      <td>101</td>\n",
              "      <td>1966</td>\n",
              "      <td>3370</td>\n",
              "      <td>0</td>\n",
              "      <td>0</td>\n",
              "      <td>2</td>\n",
              "      <td>1</td>\n",
              "      <td>0</td>\n",
              "      <td>2</td>\n",
              "      <td>3</td>\n",
              "    </tr>\n",
              "    <tr>\n",
              "      <th>1</th>\n",
              "      <td>1</td>\n",
              "      <td>6168362</td>\n",
              "      <td>840</td>\n",
              "      <td>35</td>\n",
              "      <td>33</td>\n",
              "      <td>101</td>\n",
              "      <td>1966</td>\n",
              "      <td>3370</td>\n",
              "      <td>0</td>\n",
              "      <td>0</td>\n",
              "      <td>1</td>\n",
              "      <td>0</td>\n",
              "      <td>0</td>\n",
              "      <td>1</td>\n",
              "      <td>1</td>\n",
              "    </tr>\n",
              "    <tr>\n",
              "      <th>2</th>\n",
              "      <td>2</td>\n",
              "      <td>6237482</td>\n",
              "      <td>840</td>\n",
              "      <td>66</td>\n",
              "      <td>2</td>\n",
              "      <td>101</td>\n",
              "      <td>1966</td>\n",
              "      <td>3370</td>\n",
              "      <td>0</td>\n",
              "      <td>0</td>\n",
              "      <td>2</td>\n",
              "      <td>0</td>\n",
              "      <td>0</td>\n",
              "      <td>1</td>\n",
              "      <td>2</td>\n",
              "    </tr>\n",
              "  </tbody>\n",
              "</table>\n",
              "</div>"
            ],
            "text/plain": [
              "   index  RouteDataID  CountryNum  ...  Count50  StopTotal  SpeciesTotal\n",
              "0      0      6237044         840  ...        0          2             3\n",
              "1      1      6168362         840  ...        0          1             1\n",
              "2      2      6237482         840  ...        0          1             2\n",
              "\n",
              "[3 rows x 15 columns]"
            ]
          },
          "metadata": {
            "tags": []
          },
          "execution_count": 357
        }
      ]
    },
    {
      "cell_type": "code",
      "metadata": {
        "id": "F9oe9T8D_vNQ",
        "colab_type": "code",
        "outputId": "88ec8f3d-76bb-48c9-d788-967e652a1a70",
        "colab": {
          "base_uri": "https://localhost:8080/",
          "height": 289
        }
      },
      "source": [
        "# Checking for nulls \n",
        "Red_Tail_sorted_df.isnull().sum()"
      ],
      "execution_count": 358,
      "outputs": [
        {
          "output_type": "execute_result",
          "data": {
            "text/plain": [
              "index           0\n",
              "RouteDataID     0\n",
              "CountryNum      0\n",
              "StateNum        0\n",
              "Route           0\n",
              "RPID            0\n",
              "Year            0\n",
              "AOU             0\n",
              "Count10         0\n",
              "Count20         0\n",
              "Count30         0\n",
              "Count40         0\n",
              "Count50         0\n",
              "StopTotal       0\n",
              "SpeciesTotal    0\n",
              "dtype: int64"
            ]
          },
          "metadata": {
            "tags": []
          },
          "execution_count": 358
        }
      ]
    },
    {
      "cell_type": "code",
      "metadata": {
        "id": "sW3HC1UqnfBB",
        "colab_type": "code",
        "colab": {
          "base_uri": "https://localhost:8080/",
          "height": 289
        },
        "outputId": "f23d07c0-726c-46e0-a8fb-5e4bc202ed41"
      },
      "source": [
        "# Checking for nulls\n",
        "RS_Coop_Br_Sha_sorted_df.isnull().sum()"
      ],
      "execution_count": 359,
      "outputs": [
        {
          "output_type": "execute_result",
          "data": {
            "text/plain": [
              "index           0\n",
              "RouteDataID     0\n",
              "CountryNum      0\n",
              "StateNum        0\n",
              "Route           0\n",
              "RPID            0\n",
              "Year            0\n",
              "AOU             0\n",
              "Count10         0\n",
              "Count20         0\n",
              "Count30         0\n",
              "Count40         0\n",
              "Count50         0\n",
              "StopTotal       0\n",
              "SpeciesTotal    0\n",
              "dtype: int64"
            ]
          },
          "metadata": {
            "tags": []
          },
          "execution_count": 359
        }
      ]
    },
    {
      "cell_type": "code",
      "metadata": {
        "id": "Ube-Gj7H3gFt",
        "colab_type": "code",
        "outputId": "a02ac1d1-3116-4664-b99b-a143552a19b0",
        "colab": {
          "base_uri": "https://localhost:8080/",
          "height": 221
        }
      },
      "source": [
        "# TAIL 3110\n",
        "print(Red_Tail_sorted_df.shape)\n",
        "Red_Tail_sorted_df.tail()"
      ],
      "execution_count": 360,
      "outputs": [
        {
          "output_type": "stream",
          "text": [
            "(3110, 15)\n"
          ],
          "name": "stdout"
        },
        {
          "output_type": "execute_result",
          "data": {
            "text/html": [
              "<div>\n",
              "<style scoped>\n",
              "    .dataframe tbody tr th:only-of-type {\n",
              "        vertical-align: middle;\n",
              "    }\n",
              "\n",
              "    .dataframe tbody tr th {\n",
              "        vertical-align: top;\n",
              "    }\n",
              "\n",
              "    .dataframe thead th {\n",
              "        text-align: right;\n",
              "    }\n",
              "</style>\n",
              "<table border=\"1\" class=\"dataframe\">\n",
              "  <thead>\n",
              "    <tr style=\"text-align: right;\">\n",
              "      <th></th>\n",
              "      <th>index</th>\n",
              "      <th>RouteDataID</th>\n",
              "      <th>CountryNum</th>\n",
              "      <th>StateNum</th>\n",
              "      <th>Route</th>\n",
              "      <th>RPID</th>\n",
              "      <th>Year</th>\n",
              "      <th>AOU</th>\n",
              "      <th>Count10</th>\n",
              "      <th>Count20</th>\n",
              "      <th>Count30</th>\n",
              "      <th>Count40</th>\n",
              "      <th>Count50</th>\n",
              "      <th>StopTotal</th>\n",
              "      <th>SpeciesTotal</th>\n",
              "    </tr>\n",
              "  </thead>\n",
              "  <tbody>\n",
              "    <tr>\n",
              "      <th>3105</th>\n",
              "      <td>3105</td>\n",
              "      <td>6368030</td>\n",
              "      <td>840</td>\n",
              "      <td>35</td>\n",
              "      <td>19</td>\n",
              "      <td>101</td>\n",
              "      <td>2018</td>\n",
              "      <td>3370</td>\n",
              "      <td>0</td>\n",
              "      <td>1</td>\n",
              "      <td>0</td>\n",
              "      <td>0</td>\n",
              "      <td>1</td>\n",
              "      <td>2</td>\n",
              "      <td>2</td>\n",
              "    </tr>\n",
              "    <tr>\n",
              "      <th>3106</th>\n",
              "      <td>3106</td>\n",
              "      <td>6368441</td>\n",
              "      <td>840</td>\n",
              "      <td>66</td>\n",
              "      <td>35</td>\n",
              "      <td>101</td>\n",
              "      <td>2018</td>\n",
              "      <td>3370</td>\n",
              "      <td>0</td>\n",
              "      <td>0</td>\n",
              "      <td>1</td>\n",
              "      <td>0</td>\n",
              "      <td>0</td>\n",
              "      <td>1</td>\n",
              "      <td>1</td>\n",
              "    </tr>\n",
              "    <tr>\n",
              "      <th>3107</th>\n",
              "      <td>3107</td>\n",
              "      <td>6368881</td>\n",
              "      <td>840</td>\n",
              "      <td>35</td>\n",
              "      <td>20</td>\n",
              "      <td>101</td>\n",
              "      <td>2018</td>\n",
              "      <td>3370</td>\n",
              "      <td>0</td>\n",
              "      <td>1</td>\n",
              "      <td>0</td>\n",
              "      <td>0</td>\n",
              "      <td>0</td>\n",
              "      <td>1</td>\n",
              "      <td>1</td>\n",
              "    </tr>\n",
              "    <tr>\n",
              "      <th>3108</th>\n",
              "      <td>3108</td>\n",
              "      <td>6367435</td>\n",
              "      <td>840</td>\n",
              "      <td>39</td>\n",
              "      <td>5</td>\n",
              "      <td>101</td>\n",
              "      <td>2018</td>\n",
              "      <td>3370</td>\n",
              "      <td>0</td>\n",
              "      <td>1</td>\n",
              "      <td>0</td>\n",
              "      <td>1</td>\n",
              "      <td>0</td>\n",
              "      <td>2</td>\n",
              "      <td>2</td>\n",
              "    </tr>\n",
              "    <tr>\n",
              "      <th>3109</th>\n",
              "      <td>3109</td>\n",
              "      <td>6368604</td>\n",
              "      <td>840</td>\n",
              "      <td>66</td>\n",
              "      <td>161</td>\n",
              "      <td>101</td>\n",
              "      <td>2018</td>\n",
              "      <td>3370</td>\n",
              "      <td>0</td>\n",
              "      <td>0</td>\n",
              "      <td>0</td>\n",
              "      <td>0</td>\n",
              "      <td>1</td>\n",
              "      <td>1</td>\n",
              "      <td>1</td>\n",
              "    </tr>\n",
              "  </tbody>\n",
              "</table>\n",
              "</div>"
            ],
            "text/plain": [
              "      index  RouteDataID  CountryNum  ...  Count50  StopTotal  SpeciesTotal\n",
              "3105   3105      6368030         840  ...        1          2             2\n",
              "3106   3106      6368441         840  ...        0          1             1\n",
              "3107   3107      6368881         840  ...        0          1             1\n",
              "3108   3108      6367435         840  ...        0          2             2\n",
              "3109   3109      6368604         840  ...        1          1             1\n",
              "\n",
              "[5 rows x 15 columns]"
            ]
          },
          "metadata": {
            "tags": []
          },
          "execution_count": 360
        }
      ]
    },
    {
      "cell_type": "code",
      "metadata": {
        "id": "kZPPTlbX3lTj",
        "colab_type": "code",
        "outputId": "1f3f004a-1823-4945-d4b3-daed274ea9df",
        "colab": {
          "base_uri": "https://localhost:8080/",
          "height": 221
        }
      },
      "source": [
        "# Checking the tail part of the index should be 2090 (2089) at the bottom\n",
        "print(RS_Coop_Br_Sha_sorted_df.shape)\n",
        "RS_Coop_Br_Sha_sorted_df.tail()"
      ],
      "execution_count": 361,
      "outputs": [
        {
          "output_type": "stream",
          "text": [
            "(2090, 15)\n"
          ],
          "name": "stdout"
        },
        {
          "output_type": "execute_result",
          "data": {
            "text/html": [
              "<div>\n",
              "<style scoped>\n",
              "    .dataframe tbody tr th:only-of-type {\n",
              "        vertical-align: middle;\n",
              "    }\n",
              "\n",
              "    .dataframe tbody tr th {\n",
              "        vertical-align: top;\n",
              "    }\n",
              "\n",
              "    .dataframe thead th {\n",
              "        text-align: right;\n",
              "    }\n",
              "</style>\n",
              "<table border=\"1\" class=\"dataframe\">\n",
              "  <thead>\n",
              "    <tr style=\"text-align: right;\">\n",
              "      <th></th>\n",
              "      <th>index</th>\n",
              "      <th>RouteDataID</th>\n",
              "      <th>CountryNum</th>\n",
              "      <th>StateNum</th>\n",
              "      <th>Route</th>\n",
              "      <th>RPID</th>\n",
              "      <th>Year</th>\n",
              "      <th>AOU</th>\n",
              "      <th>Count10</th>\n",
              "      <th>Count20</th>\n",
              "      <th>Count30</th>\n",
              "      <th>Count40</th>\n",
              "      <th>Count50</th>\n",
              "      <th>StopTotal</th>\n",
              "      <th>SpeciesTotal</th>\n",
              "    </tr>\n",
              "  </thead>\n",
              "  <tbody>\n",
              "    <tr>\n",
              "      <th>2085</th>\n",
              "      <td>2085</td>\n",
              "      <td>6369571</td>\n",
              "      <td>840</td>\n",
              "      <td>35</td>\n",
              "      <td>28</td>\n",
              "      <td>101</td>\n",
              "      <td>2018</td>\n",
              "      <td>3330</td>\n",
              "      <td>1</td>\n",
              "      <td>0</td>\n",
              "      <td>0</td>\n",
              "      <td>0</td>\n",
              "      <td>0</td>\n",
              "      <td>1</td>\n",
              "      <td>1</td>\n",
              "    </tr>\n",
              "    <tr>\n",
              "      <th>2086</th>\n",
              "      <td>2086</td>\n",
              "      <td>6368531</td>\n",
              "      <td>840</td>\n",
              "      <td>39</td>\n",
              "      <td>36</td>\n",
              "      <td>101</td>\n",
              "      <td>2018</td>\n",
              "      <td>3390</td>\n",
              "      <td>0</td>\n",
              "      <td>1</td>\n",
              "      <td>2</td>\n",
              "      <td>0</td>\n",
              "      <td>0</td>\n",
              "      <td>2</td>\n",
              "      <td>3</td>\n",
              "    </tr>\n",
              "    <tr>\n",
              "      <th>2087</th>\n",
              "      <td>2087</td>\n",
              "      <td>6368456</td>\n",
              "      <td>840</td>\n",
              "      <td>39</td>\n",
              "      <td>25</td>\n",
              "      <td>101</td>\n",
              "      <td>2018</td>\n",
              "      <td>3390</td>\n",
              "      <td>0</td>\n",
              "      <td>1</td>\n",
              "      <td>0</td>\n",
              "      <td>0</td>\n",
              "      <td>0</td>\n",
              "      <td>1</td>\n",
              "      <td>1</td>\n",
              "    </tr>\n",
              "    <tr>\n",
              "      <th>2088</th>\n",
              "      <td>2088</td>\n",
              "      <td>6368428</td>\n",
              "      <td>840</td>\n",
              "      <td>35</td>\n",
              "      <td>21</td>\n",
              "      <td>101</td>\n",
              "      <td>2018</td>\n",
              "      <td>3390</td>\n",
              "      <td>1</td>\n",
              "      <td>0</td>\n",
              "      <td>0</td>\n",
              "      <td>0</td>\n",
              "      <td>0</td>\n",
              "      <td>1</td>\n",
              "      <td>1</td>\n",
              "    </tr>\n",
              "    <tr>\n",
              "      <th>2089</th>\n",
              "      <td>2089</td>\n",
              "      <td>6368219</td>\n",
              "      <td>840</td>\n",
              "      <td>66</td>\n",
              "      <td>49</td>\n",
              "      <td>101</td>\n",
              "      <td>2018</td>\n",
              "      <td>3430</td>\n",
              "      <td>0</td>\n",
              "      <td>1</td>\n",
              "      <td>0</td>\n",
              "      <td>0</td>\n",
              "      <td>0</td>\n",
              "      <td>1</td>\n",
              "      <td>1</td>\n",
              "    </tr>\n",
              "  </tbody>\n",
              "</table>\n",
              "</div>"
            ],
            "text/plain": [
              "      index  RouteDataID  CountryNum  ...  Count50  StopTotal  SpeciesTotal\n",
              "2085   2085      6369571         840  ...        0          1             1\n",
              "2086   2086      6368531         840  ...        0          2             3\n",
              "2087   2087      6368456         840  ...        0          1             1\n",
              "2088   2088      6368428         840  ...        0          1             1\n",
              "2089   2089      6368219         840  ...        0          1             1\n",
              "\n",
              "[5 rows x 15 columns]"
            ]
          },
          "metadata": {
            "tags": []
          },
          "execution_count": 361
        }
      ]
    },
    {
      "cell_type": "code",
      "metadata": {
        "id": "GbOmU5Zf_0RS",
        "colab_type": "code",
        "outputId": "2b3c1996-5bdf-4f39-9066-053292be200d",
        "colab": {
          "base_uri": "https://localhost:8080/",
          "height": 34
        }
      },
      "source": [
        "# Seeing what data type the index column is\n",
        "RS_Coop_Br_Sha_sorted_df.index.dtype"
      ],
      "execution_count": 362,
      "outputs": [
        {
          "output_type": "execute_result",
          "data": {
            "text/plain": [
              "dtype('int64')"
            ]
          },
          "metadata": {
            "tags": []
          },
          "execution_count": 362
        }
      ]
    },
    {
      "cell_type": "code",
      "metadata": {
        "id": "FEPnFfDm-ELf",
        "colab_type": "code",
        "outputId": "ddb03a36-8d31-4218-e47c-871d8f88aa46",
        "colab": {
          "base_uri": "https://localhost:8080/",
          "height": 49
        }
      },
      "source": [
        "# Creating an empty Dataframe with column names only\n",
        "Final_RT_df = pd.DataFrame(columns=['Year', 'Redtail_ID', 'Redtail_Yr_Total'])\n",
        "Final_RT_df"
      ],
      "execution_count": 363,
      "outputs": [
        {
          "output_type": "execute_result",
          "data": {
            "text/html": [
              "<div>\n",
              "<style scoped>\n",
              "    .dataframe tbody tr th:only-of-type {\n",
              "        vertical-align: middle;\n",
              "    }\n",
              "\n",
              "    .dataframe tbody tr th {\n",
              "        vertical-align: top;\n",
              "    }\n",
              "\n",
              "    .dataframe thead th {\n",
              "        text-align: right;\n",
              "    }\n",
              "</style>\n",
              "<table border=\"1\" class=\"dataframe\">\n",
              "  <thead>\n",
              "    <tr style=\"text-align: right;\">\n",
              "      <th></th>\n",
              "      <th>Year</th>\n",
              "      <th>Redtail_ID</th>\n",
              "      <th>Redtail_Yr_Total</th>\n",
              "    </tr>\n",
              "  </thead>\n",
              "  <tbody>\n",
              "  </tbody>\n",
              "</table>\n",
              "</div>"
            ],
            "text/plain": [
              "Empty DataFrame\n",
              "Columns: [Year, Redtail_ID, Redtail_Yr_Total]\n",
              "Index: []"
            ]
          },
          "metadata": {
            "tags": []
          },
          "execution_count": 363
        }
      ]
    },
    {
      "cell_type": "code",
      "metadata": {
        "id": "esqYaAf7QrjF",
        "colab_type": "code",
        "colab": {}
      },
      "source": [
        "# FOR LOOP to add the yearly totals (SpeciesTotal) \n",
        "# because right now there are multiple years for each hawk and all the other hawks \n",
        "# for the different routes there are different rows for each year I want one row for each year to \n",
        "# see all the sightings or countings and put them into 1 row for that year\n",
        "\n",
        "x = 1966\n",
        "tot = 0\n",
        "for ind in Red_Tail_sorted_df.index: \n",
        "     if (Red_Tail_sorted_df['Year'][ind] == x):\n",
        "       tot += (Red_Tail_sorted_df['SpeciesTotal'][ind])\n",
        "       if Red_Tail_sorted_df['index'][ind] == 3109:\n",
        "         Final_RT_df = Final_RT_df.append({'Year': int(x), 'Redtail_ID': int(3370), 'Redtail_Yr_Total': int(tot)}, ignore_index=True)\n",
        "         break\n",
        "     else:\n",
        "       Final_RT_df = Final_RT_df.append({'Year': int(x), 'Redtail_ID': int(3370), 'Redtail_Yr_Total': int(tot)}, ignore_index=True)\n",
        "       x += 1\n",
        "       tot = 0\n",
        "       tot += (Red_Tail_sorted_df['SpeciesTotal'][ind])"
      ],
      "execution_count": 0,
      "outputs": []
    },
    {
      "cell_type": "code",
      "metadata": {
        "id": "rXCJjueJszgF",
        "colab_type": "code",
        "outputId": "9d65f26c-88a5-4bed-efae-721a9fb607da",
        "colab": {
          "base_uri": "https://localhost:8080/",
          "height": 142
        }
      },
      "source": [
        "Final_RT_df.head(3)"
      ],
      "execution_count": 365,
      "outputs": [
        {
          "output_type": "execute_result",
          "data": {
            "text/html": [
              "<div>\n",
              "<style scoped>\n",
              "    .dataframe tbody tr th:only-of-type {\n",
              "        vertical-align: middle;\n",
              "    }\n",
              "\n",
              "    .dataframe tbody tr th {\n",
              "        vertical-align: top;\n",
              "    }\n",
              "\n",
              "    .dataframe thead th {\n",
              "        text-align: right;\n",
              "    }\n",
              "</style>\n",
              "<table border=\"1\" class=\"dataframe\">\n",
              "  <thead>\n",
              "    <tr style=\"text-align: right;\">\n",
              "      <th></th>\n",
              "      <th>Year</th>\n",
              "      <th>Redtail_ID</th>\n",
              "      <th>Redtail_Yr_Total</th>\n",
              "    </tr>\n",
              "  </thead>\n",
              "  <tbody>\n",
              "    <tr>\n",
              "      <th>0</th>\n",
              "      <td>1966</td>\n",
              "      <td>3370</td>\n",
              "      <td>29</td>\n",
              "    </tr>\n",
              "    <tr>\n",
              "      <th>1</th>\n",
              "      <td>1967</td>\n",
              "      <td>3370</td>\n",
              "      <td>28</td>\n",
              "    </tr>\n",
              "    <tr>\n",
              "      <th>2</th>\n",
              "      <td>1968</td>\n",
              "      <td>3370</td>\n",
              "      <td>28</td>\n",
              "    </tr>\n",
              "  </tbody>\n",
              "</table>\n",
              "</div>"
            ],
            "text/plain": [
              "   Year Redtail_ID Redtail_Yr_Total\n",
              "0  1966       3370               29\n",
              "1  1967       3370               28\n",
              "2  1968       3370               28"
            ]
          },
          "metadata": {
            "tags": []
          },
          "execution_count": 365
        }
      ]
    },
    {
      "cell_type": "code",
      "metadata": {
        "id": "v2upC9LlSIlz",
        "colab_type": "code",
        "colab": {
          "base_uri": "https://localhost:8080/",
          "height": 142
        },
        "outputId": "c849117f-f601-4dda-9b49-3c0bbc640557"
      },
      "source": [
        "Final_RT_df.tail(3)"
      ],
      "execution_count": 366,
      "outputs": [
        {
          "output_type": "execute_result",
          "data": {
            "text/html": [
              "<div>\n",
              "<style scoped>\n",
              "    .dataframe tbody tr th:only-of-type {\n",
              "        vertical-align: middle;\n",
              "    }\n",
              "\n",
              "    .dataframe tbody tr th {\n",
              "        vertical-align: top;\n",
              "    }\n",
              "\n",
              "    .dataframe thead th {\n",
              "        text-align: right;\n",
              "    }\n",
              "</style>\n",
              "<table border=\"1\" class=\"dataframe\">\n",
              "  <thead>\n",
              "    <tr style=\"text-align: right;\">\n",
              "      <th></th>\n",
              "      <th>Year</th>\n",
              "      <th>Redtail_ID</th>\n",
              "      <th>Redtail_Yr_Total</th>\n",
              "    </tr>\n",
              "  </thead>\n",
              "  <tbody>\n",
              "    <tr>\n",
              "      <th>50</th>\n",
              "      <td>2016</td>\n",
              "      <td>3370</td>\n",
              "      <td>204</td>\n",
              "    </tr>\n",
              "    <tr>\n",
              "      <th>51</th>\n",
              "      <td>2017</td>\n",
              "      <td>3370</td>\n",
              "      <td>210</td>\n",
              "    </tr>\n",
              "    <tr>\n",
              "      <th>52</th>\n",
              "      <td>2018</td>\n",
              "      <td>3370</td>\n",
              "      <td>210</td>\n",
              "    </tr>\n",
              "  </tbody>\n",
              "</table>\n",
              "</div>"
            ],
            "text/plain": [
              "    Year Redtail_ID Redtail_Yr_Total\n",
              "50  2016       3370              204\n",
              "51  2017       3370              210\n",
              "52  2018       3370              210"
            ]
          },
          "metadata": {
            "tags": []
          },
          "execution_count": 366
        }
      ]
    },
    {
      "cell_type": "code",
      "metadata": {
        "id": "4w-8TauXtAFr",
        "colab_type": "code",
        "outputId": "61b9fe2a-b40e-4918-f568-91eedd5d9632",
        "colab": {
          "base_uri": "https://localhost:8080/",
          "height": 34
        }
      },
      "source": [
        "# Should be 53 len\n",
        "Final_RT_df.shape"
      ],
      "execution_count": 367,
      "outputs": [
        {
          "output_type": "execute_result",
          "data": {
            "text/plain": [
              "(53, 3)"
            ]
          },
          "metadata": {
            "tags": []
          },
          "execution_count": 367
        }
      ]
    },
    {
      "cell_type": "code",
      "metadata": {
        "id": "LNfCXkG1tTEB",
        "colab_type": "code",
        "colab": {}
      },
      "source": [
        "# Checking to make sure my For loop added random totals correctly.\n",
        "total_nin_six_six = Red_Tail_sorted_df.Year == 1966\n",
        "total_two_thou = Red_Tail_sorted_df.Year == 2000\n",
        "total_two_thou_eigh = Red_Tail_sorted_df.Year == 2008\n",
        "total_two_svteen = Red_Tail_sorted_df.Year == 2017\n",
        "total_two_eight_ten = Red_Tail_sorted_df.Year == 2018"
      ],
      "execution_count": 0,
      "outputs": []
    },
    {
      "cell_type": "code",
      "metadata": {
        "id": "si7J-jiutYut",
        "colab_type": "code",
        "colab": {}
      },
      "source": [
        "# Checking to make sure my For loop added random totals correctly.\n",
        "species_nin_six_six = Red_Tail_sorted_df[total_nin_six_six]\n",
        "species_tot_two_thou = Red_Tail_sorted_df[total_two_thou]\n",
        "species_tot_two_thou_eight = Red_Tail_sorted_df[total_two_thou_eigh]\n",
        "species_tot_two_svn = Red_Tail_sorted_df[total_two_svteen]\n",
        "species_tot_two_eight_ten = Red_Tail_sorted_df[total_two_eight_ten]"
      ],
      "execution_count": 0,
      "outputs": []
    },
    {
      "cell_type": "code",
      "metadata": {
        "id": "h1IHlQwJtcJJ",
        "colab_type": "code",
        "outputId": "4bca016b-c524-4e3d-a3d1-2897355f303d",
        "colab": {
          "base_uri": "https://localhost:8080/",
          "height": 102
        }
      },
      "source": [
        "# This should be the order of the sums: 29, 176, 137, 2010, 2010\n",
        "print(species_nin_six_six['SpeciesTotal'].sum(axis=0))\n",
        "print(species_tot_two_thou['SpeciesTotal'].sum(axis=0))\n",
        "print(species_tot_two_thou_eight['SpeciesTotal'].sum(axis=0))\n",
        "print(species_tot_two_svn['SpeciesTotal'].sum(axis=0))\n",
        "print(species_tot_two_eight_ten['SpeciesTotal'].sum(axis=0))"
      ],
      "execution_count": 370,
      "outputs": [
        {
          "output_type": "stream",
          "text": [
            "29\n",
            "176\n",
            "137\n",
            "210\n",
            "210\n"
          ],
          "name": "stdout"
        }
      ]
    },
    {
      "cell_type": "code",
      "metadata": {
        "id": "r2H-p0HXtIEV",
        "colab_type": "code",
        "outputId": "361d67d5-a0d5-41b3-d0d3-47789dda502a",
        "colab": {
          "base_uri": "https://localhost:8080/",
          "height": 1000
        }
      },
      "source": [
        "# Now should be 52 rows one for each year\n",
        "# 29 = for 1966, 176 = for 2000, 137 for 2008, 210 for 2017, 210 for 2018\n",
        "Final_RT_df.head(55)"
      ],
      "execution_count": 371,
      "outputs": [
        {
          "output_type": "execute_result",
          "data": {
            "text/html": [
              "<div>\n",
              "<style scoped>\n",
              "    .dataframe tbody tr th:only-of-type {\n",
              "        vertical-align: middle;\n",
              "    }\n",
              "\n",
              "    .dataframe tbody tr th {\n",
              "        vertical-align: top;\n",
              "    }\n",
              "\n",
              "    .dataframe thead th {\n",
              "        text-align: right;\n",
              "    }\n",
              "</style>\n",
              "<table border=\"1\" class=\"dataframe\">\n",
              "  <thead>\n",
              "    <tr style=\"text-align: right;\">\n",
              "      <th></th>\n",
              "      <th>Year</th>\n",
              "      <th>Redtail_ID</th>\n",
              "      <th>Redtail_Yr_Total</th>\n",
              "    </tr>\n",
              "  </thead>\n",
              "  <tbody>\n",
              "    <tr>\n",
              "      <th>0</th>\n",
              "      <td>1966</td>\n",
              "      <td>3370</td>\n",
              "      <td>29</td>\n",
              "    </tr>\n",
              "    <tr>\n",
              "      <th>1</th>\n",
              "      <td>1967</td>\n",
              "      <td>3370</td>\n",
              "      <td>28</td>\n",
              "    </tr>\n",
              "    <tr>\n",
              "      <th>2</th>\n",
              "      <td>1968</td>\n",
              "      <td>3370</td>\n",
              "      <td>28</td>\n",
              "    </tr>\n",
              "    <tr>\n",
              "      <th>3</th>\n",
              "      <td>1969</td>\n",
              "      <td>3370</td>\n",
              "      <td>35</td>\n",
              "    </tr>\n",
              "    <tr>\n",
              "      <th>4</th>\n",
              "      <td>1970</td>\n",
              "      <td>3370</td>\n",
              "      <td>28</td>\n",
              "    </tr>\n",
              "    <tr>\n",
              "      <th>5</th>\n",
              "      <td>1971</td>\n",
              "      <td>3370</td>\n",
              "      <td>34</td>\n",
              "    </tr>\n",
              "    <tr>\n",
              "      <th>6</th>\n",
              "      <td>1972</td>\n",
              "      <td>3370</td>\n",
              "      <td>41</td>\n",
              "    </tr>\n",
              "    <tr>\n",
              "      <th>7</th>\n",
              "      <td>1973</td>\n",
              "      <td>3370</td>\n",
              "      <td>37</td>\n",
              "    </tr>\n",
              "    <tr>\n",
              "      <th>8</th>\n",
              "      <td>1974</td>\n",
              "      <td>3370</td>\n",
              "      <td>48</td>\n",
              "    </tr>\n",
              "    <tr>\n",
              "      <th>9</th>\n",
              "      <td>1975</td>\n",
              "      <td>3370</td>\n",
              "      <td>41</td>\n",
              "    </tr>\n",
              "    <tr>\n",
              "      <th>10</th>\n",
              "      <td>1976</td>\n",
              "      <td>3370</td>\n",
              "      <td>53</td>\n",
              "    </tr>\n",
              "    <tr>\n",
              "      <th>11</th>\n",
              "      <td>1977</td>\n",
              "      <td>3370</td>\n",
              "      <td>51</td>\n",
              "    </tr>\n",
              "    <tr>\n",
              "      <th>12</th>\n",
              "      <td>1978</td>\n",
              "      <td>3370</td>\n",
              "      <td>44</td>\n",
              "    </tr>\n",
              "    <tr>\n",
              "      <th>13</th>\n",
              "      <td>1979</td>\n",
              "      <td>3370</td>\n",
              "      <td>34</td>\n",
              "    </tr>\n",
              "    <tr>\n",
              "      <th>14</th>\n",
              "      <td>1980</td>\n",
              "      <td>3370</td>\n",
              "      <td>44</td>\n",
              "    </tr>\n",
              "    <tr>\n",
              "      <th>15</th>\n",
              "      <td>1981</td>\n",
              "      <td>3370</td>\n",
              "      <td>68</td>\n",
              "    </tr>\n",
              "    <tr>\n",
              "      <th>16</th>\n",
              "      <td>1982</td>\n",
              "      <td>3370</td>\n",
              "      <td>65</td>\n",
              "    </tr>\n",
              "    <tr>\n",
              "      <th>17</th>\n",
              "      <td>1983</td>\n",
              "      <td>3370</td>\n",
              "      <td>70</td>\n",
              "    </tr>\n",
              "    <tr>\n",
              "      <th>18</th>\n",
              "      <td>1984</td>\n",
              "      <td>3370</td>\n",
              "      <td>61</td>\n",
              "    </tr>\n",
              "    <tr>\n",
              "      <th>19</th>\n",
              "      <td>1985</td>\n",
              "      <td>3370</td>\n",
              "      <td>83</td>\n",
              "    </tr>\n",
              "    <tr>\n",
              "      <th>20</th>\n",
              "      <td>1986</td>\n",
              "      <td>3370</td>\n",
              "      <td>78</td>\n",
              "    </tr>\n",
              "    <tr>\n",
              "      <th>21</th>\n",
              "      <td>1987</td>\n",
              "      <td>3370</td>\n",
              "      <td>63</td>\n",
              "    </tr>\n",
              "    <tr>\n",
              "      <th>22</th>\n",
              "      <td>1988</td>\n",
              "      <td>3370</td>\n",
              "      <td>113</td>\n",
              "    </tr>\n",
              "    <tr>\n",
              "      <th>23</th>\n",
              "      <td>1989</td>\n",
              "      <td>3370</td>\n",
              "      <td>94</td>\n",
              "    </tr>\n",
              "    <tr>\n",
              "      <th>24</th>\n",
              "      <td>1990</td>\n",
              "      <td>3370</td>\n",
              "      <td>101</td>\n",
              "    </tr>\n",
              "    <tr>\n",
              "      <th>25</th>\n",
              "      <td>1991</td>\n",
              "      <td>3370</td>\n",
              "      <td>137</td>\n",
              "    </tr>\n",
              "    <tr>\n",
              "      <th>26</th>\n",
              "      <td>1992</td>\n",
              "      <td>3370</td>\n",
              "      <td>145</td>\n",
              "    </tr>\n",
              "    <tr>\n",
              "      <th>27</th>\n",
              "      <td>1993</td>\n",
              "      <td>3370</td>\n",
              "      <td>149</td>\n",
              "    </tr>\n",
              "    <tr>\n",
              "      <th>28</th>\n",
              "      <td>1994</td>\n",
              "      <td>3370</td>\n",
              "      <td>140</td>\n",
              "    </tr>\n",
              "    <tr>\n",
              "      <th>29</th>\n",
              "      <td>1995</td>\n",
              "      <td>3370</td>\n",
              "      <td>141</td>\n",
              "    </tr>\n",
              "    <tr>\n",
              "      <th>30</th>\n",
              "      <td>1996</td>\n",
              "      <td>3370</td>\n",
              "      <td>125</td>\n",
              "    </tr>\n",
              "    <tr>\n",
              "      <th>31</th>\n",
              "      <td>1997</td>\n",
              "      <td>3370</td>\n",
              "      <td>162</td>\n",
              "    </tr>\n",
              "    <tr>\n",
              "      <th>32</th>\n",
              "      <td>1998</td>\n",
              "      <td>3370</td>\n",
              "      <td>175</td>\n",
              "    </tr>\n",
              "    <tr>\n",
              "      <th>33</th>\n",
              "      <td>1999</td>\n",
              "      <td>3370</td>\n",
              "      <td>213</td>\n",
              "    </tr>\n",
              "    <tr>\n",
              "      <th>34</th>\n",
              "      <td>2000</td>\n",
              "      <td>3370</td>\n",
              "      <td>176</td>\n",
              "    </tr>\n",
              "    <tr>\n",
              "      <th>35</th>\n",
              "      <td>2001</td>\n",
              "      <td>3370</td>\n",
              "      <td>231</td>\n",
              "    </tr>\n",
              "    <tr>\n",
              "      <th>36</th>\n",
              "      <td>2002</td>\n",
              "      <td>3370</td>\n",
              "      <td>173</td>\n",
              "    </tr>\n",
              "    <tr>\n",
              "      <th>37</th>\n",
              "      <td>2003</td>\n",
              "      <td>3370</td>\n",
              "      <td>144</td>\n",
              "    </tr>\n",
              "    <tr>\n",
              "      <th>38</th>\n",
              "      <td>2004</td>\n",
              "      <td>3370</td>\n",
              "      <td>218</td>\n",
              "    </tr>\n",
              "    <tr>\n",
              "      <th>39</th>\n",
              "      <td>2005</td>\n",
              "      <td>3370</td>\n",
              "      <td>217</td>\n",
              "    </tr>\n",
              "    <tr>\n",
              "      <th>40</th>\n",
              "      <td>2006</td>\n",
              "      <td>3370</td>\n",
              "      <td>182</td>\n",
              "    </tr>\n",
              "    <tr>\n",
              "      <th>41</th>\n",
              "      <td>2007</td>\n",
              "      <td>3370</td>\n",
              "      <td>189</td>\n",
              "    </tr>\n",
              "    <tr>\n",
              "      <th>42</th>\n",
              "      <td>2008</td>\n",
              "      <td>3370</td>\n",
              "      <td>137</td>\n",
              "    </tr>\n",
              "    <tr>\n",
              "      <th>43</th>\n",
              "      <td>2009</td>\n",
              "      <td>3370</td>\n",
              "      <td>176</td>\n",
              "    </tr>\n",
              "    <tr>\n",
              "      <th>44</th>\n",
              "      <td>2010</td>\n",
              "      <td>3370</td>\n",
              "      <td>203</td>\n",
              "    </tr>\n",
              "    <tr>\n",
              "      <th>45</th>\n",
              "      <td>2011</td>\n",
              "      <td>3370</td>\n",
              "      <td>162</td>\n",
              "    </tr>\n",
              "    <tr>\n",
              "      <th>46</th>\n",
              "      <td>2012</td>\n",
              "      <td>3370</td>\n",
              "      <td>215</td>\n",
              "    </tr>\n",
              "    <tr>\n",
              "      <th>47</th>\n",
              "      <td>2013</td>\n",
              "      <td>3370</td>\n",
              "      <td>153</td>\n",
              "    </tr>\n",
              "    <tr>\n",
              "      <th>48</th>\n",
              "      <td>2014</td>\n",
              "      <td>3370</td>\n",
              "      <td>162</td>\n",
              "    </tr>\n",
              "    <tr>\n",
              "      <th>49</th>\n",
              "      <td>2015</td>\n",
              "      <td>3370</td>\n",
              "      <td>178</td>\n",
              "    </tr>\n",
              "    <tr>\n",
              "      <th>50</th>\n",
              "      <td>2016</td>\n",
              "      <td>3370</td>\n",
              "      <td>204</td>\n",
              "    </tr>\n",
              "    <tr>\n",
              "      <th>51</th>\n",
              "      <td>2017</td>\n",
              "      <td>3370</td>\n",
              "      <td>210</td>\n",
              "    </tr>\n",
              "    <tr>\n",
              "      <th>52</th>\n",
              "      <td>2018</td>\n",
              "      <td>3370</td>\n",
              "      <td>210</td>\n",
              "    </tr>\n",
              "  </tbody>\n",
              "</table>\n",
              "</div>"
            ],
            "text/plain": [
              "    Year Redtail_ID Redtail_Yr_Total\n",
              "0   1966       3370               29\n",
              "1   1967       3370               28\n",
              "2   1968       3370               28\n",
              "3   1969       3370               35\n",
              "4   1970       3370               28\n",
              "5   1971       3370               34\n",
              "6   1972       3370               41\n",
              "7   1973       3370               37\n",
              "8   1974       3370               48\n",
              "9   1975       3370               41\n",
              "10  1976       3370               53\n",
              "11  1977       3370               51\n",
              "12  1978       3370               44\n",
              "13  1979       3370               34\n",
              "14  1980       3370               44\n",
              "15  1981       3370               68\n",
              "16  1982       3370               65\n",
              "17  1983       3370               70\n",
              "18  1984       3370               61\n",
              "19  1985       3370               83\n",
              "20  1986       3370               78\n",
              "21  1987       3370               63\n",
              "22  1988       3370              113\n",
              "23  1989       3370               94\n",
              "24  1990       3370              101\n",
              "25  1991       3370              137\n",
              "26  1992       3370              145\n",
              "27  1993       3370              149\n",
              "28  1994       3370              140\n",
              "29  1995       3370              141\n",
              "30  1996       3370              125\n",
              "31  1997       3370              162\n",
              "32  1998       3370              175\n",
              "33  1999       3370              213\n",
              "34  2000       3370              176\n",
              "35  2001       3370              231\n",
              "36  2002       3370              173\n",
              "37  2003       3370              144\n",
              "38  2004       3370              218\n",
              "39  2005       3370              217\n",
              "40  2006       3370              182\n",
              "41  2007       3370              189\n",
              "42  2008       3370              137\n",
              "43  2009       3370              176\n",
              "44  2010       3370              203\n",
              "45  2011       3370              162\n",
              "46  2012       3370              215\n",
              "47  2013       3370              153\n",
              "48  2014       3370              162\n",
              "49  2015       3370              178\n",
              "50  2016       3370              204\n",
              "51  2017       3370              210\n",
              "52  2018       3370              210"
            ]
          },
          "metadata": {
            "tags": []
          },
          "execution_count": 371
        }
      ]
    },
    {
      "cell_type": "code",
      "metadata": {
        "id": "F8coC30kwOcv",
        "colab_type": "code",
        "colab": {}
      },
      "source": [
        "# making them all ints so I can graph them\n",
        "Final_RT_df['Year'] = Final_RT_df['Year'].astype(str).astype(int)\n",
        "Final_RT_df['Redtail_ID'] = Final_RT_df['Redtail_ID'].astype(str).astype(int)\n",
        "Final_RT_df['Redtail_Yr_Total'] = Final_RT_df['Redtail_Yr_Total'].astype(str).astype(int)"
      ],
      "execution_count": 0,
      "outputs": []
    },
    {
      "cell_type": "code",
      "metadata": {
        "id": "By6M-9s_wyuu",
        "colab_type": "code",
        "outputId": "cfd7e64c-bda0-417e-e0b0-61aefdd205e6",
        "colab": {
          "base_uri": "https://localhost:8080/",
          "height": 85
        }
      },
      "source": [
        "# should be all ints\n",
        "Final_RT_df.dtypes"
      ],
      "execution_count": 373,
      "outputs": [
        {
          "output_type": "execute_result",
          "data": {
            "text/plain": [
              "Year                int64\n",
              "Redtail_ID          int64\n",
              "Redtail_Yr_Total    int64\n",
              "dtype: object"
            ]
          },
          "metadata": {
            "tags": []
          },
          "execution_count": 373
        }
      ]
    },
    {
      "cell_type": "code",
      "metadata": {
        "id": "VX_k4d4UwDLu",
        "colab_type": "code",
        "outputId": "a08ec72f-0611-4079-db57-b76c7d88b5a0",
        "colab": {
          "base_uri": "https://localhost:8080/",
          "height": 333
        }
      },
      "source": [
        "# I definately want a bar chart.  Side by side.\n",
        "# I had to reset style to default because of errors\n",
        "plt.style.use('default')\n",
        "ax = Final_RT_df.plot(kind='scatter', x='Year', y='Redtail_Yr_Total', figsize=(5, 3))\n",
        "ax.set_title(\"Yearly Cenus Count of Redtail Hawks in Indiana, Ohio, Kentucky.\", fontweight=\"bold\");"
      ],
      "execution_count": 374,
      "outputs": [
        {
          "output_type": "display_data",
          "data": {
            "image/png": "[encoded data removed]",
            "text/plain": [
              "<Figure size 500x300 with 1 Axes>"
            ]
          },
          "metadata": {
            "tags": []
          }
        }
      ]
    },
    {
      "cell_type": "code",
      "metadata": {
        "id": "xYqVHdP-3iqU",
        "colab_type": "code",
        "outputId": "acf979fb-009e-4fe9-9d4a-e7290dd86461",
        "colab": {
          "base_uri": "https://localhost:8080/",
          "height": 204
        }
      },
      "source": [
        "# Now time to condense all the multiple year route counts into one count for each year\n",
        "# .. for all the hawks other than redtail\n",
        "RS_Coop_Br_Sha_sorted_df.tail()"
      ],
      "execution_count": 375,
      "outputs": [
        {
          "output_type": "execute_result",
          "data": {
            "text/html": [
              "<div>\n",
              "<style scoped>\n",
              "    .dataframe tbody tr th:only-of-type {\n",
              "        vertical-align: middle;\n",
              "    }\n",
              "\n",
              "    .dataframe tbody tr th {\n",
              "        vertical-align: top;\n",
              "    }\n",
              "\n",
              "    .dataframe thead th {\n",
              "        text-align: right;\n",
              "    }\n",
              "</style>\n",
              "<table border=\"1\" class=\"dataframe\">\n",
              "  <thead>\n",
              "    <tr style=\"text-align: right;\">\n",
              "      <th></th>\n",
              "      <th>index</th>\n",
              "      <th>RouteDataID</th>\n",
              "      <th>CountryNum</th>\n",
              "      <th>StateNum</th>\n",
              "      <th>Route</th>\n",
              "      <th>RPID</th>\n",
              "      <th>Year</th>\n",
              "      <th>AOU</th>\n",
              "      <th>Count10</th>\n",
              "      <th>Count20</th>\n",
              "      <th>Count30</th>\n",
              "      <th>Count40</th>\n",
              "      <th>Count50</th>\n",
              "      <th>StopTotal</th>\n",
              "      <th>SpeciesTotal</th>\n",
              "    </tr>\n",
              "  </thead>\n",
              "  <tbody>\n",
              "    <tr>\n",
              "      <th>2085</th>\n",
              "      <td>2085</td>\n",
              "      <td>6369571</td>\n",
              "      <td>840</td>\n",
              "      <td>35</td>\n",
              "      <td>28</td>\n",
              "      <td>101</td>\n",
              "      <td>2018</td>\n",
              "      <td>3330</td>\n",
              "      <td>1</td>\n",
              "      <td>0</td>\n",
              "      <td>0</td>\n",
              "      <td>0</td>\n",
              "      <td>0</td>\n",
              "      <td>1</td>\n",
              "      <td>1</td>\n",
              "    </tr>\n",
              "    <tr>\n",
              "      <th>2086</th>\n",
              "      <td>2086</td>\n",
              "      <td>6368531</td>\n",
              "      <td>840</td>\n",
              "      <td>39</td>\n",
              "      <td>36</td>\n",
              "      <td>101</td>\n",
              "      <td>2018</td>\n",
              "      <td>3390</td>\n",
              "      <td>0</td>\n",
              "      <td>1</td>\n",
              "      <td>2</td>\n",
              "      <td>0</td>\n",
              "      <td>0</td>\n",
              "      <td>2</td>\n",
              "      <td>3</td>\n",
              "    </tr>\n",
              "    <tr>\n",
              "      <th>2087</th>\n",
              "      <td>2087</td>\n",
              "      <td>6368456</td>\n",
              "      <td>840</td>\n",
              "      <td>39</td>\n",
              "      <td>25</td>\n",
              "      <td>101</td>\n",
              "      <td>2018</td>\n",
              "      <td>3390</td>\n",
              "      <td>0</td>\n",
              "      <td>1</td>\n",
              "      <td>0</td>\n",
              "      <td>0</td>\n",
              "      <td>0</td>\n",
              "      <td>1</td>\n",
              "      <td>1</td>\n",
              "    </tr>\n",
              "    <tr>\n",
              "      <th>2088</th>\n",
              "      <td>2088</td>\n",
              "      <td>6368428</td>\n",
              "      <td>840</td>\n",
              "      <td>35</td>\n",
              "      <td>21</td>\n",
              "      <td>101</td>\n",
              "      <td>2018</td>\n",
              "      <td>3390</td>\n",
              "      <td>1</td>\n",
              "      <td>0</td>\n",
              "      <td>0</td>\n",
              "      <td>0</td>\n",
              "      <td>0</td>\n",
              "      <td>1</td>\n",
              "      <td>1</td>\n",
              "    </tr>\n",
              "    <tr>\n",
              "      <th>2089</th>\n",
              "      <td>2089</td>\n",
              "      <td>6368219</td>\n",
              "      <td>840</td>\n",
              "      <td>66</td>\n",
              "      <td>49</td>\n",
              "      <td>101</td>\n",
              "      <td>2018</td>\n",
              "      <td>3430</td>\n",
              "      <td>0</td>\n",
              "      <td>1</td>\n",
              "      <td>0</td>\n",
              "      <td>0</td>\n",
              "      <td>0</td>\n",
              "      <td>1</td>\n",
              "      <td>1</td>\n",
              "    </tr>\n",
              "  </tbody>\n",
              "</table>\n",
              "</div>"
            ],
            "text/plain": [
              "      index  RouteDataID  CountryNum  ...  Count50  StopTotal  SpeciesTotal\n",
              "2085   2085      6369571         840  ...        0          1             1\n",
              "2086   2086      6368531         840  ...        0          2             3\n",
              "2087   2087      6368456         840  ...        0          1             1\n",
              "2088   2088      6368428         840  ...        0          1             1\n",
              "2089   2089      6368219         840  ...        0          1             1\n",
              "\n",
              "[5 rows x 15 columns]"
            ]
          },
          "metadata": {
            "tags": []
          },
          "execution_count": 375
        }
      ]
    },
    {
      "cell_type": "code",
      "metadata": {
        "id": "zXQasOzx30ZE",
        "colab_type": "code",
        "outputId": "46f8539b-b76e-4e4c-d8bd-0a374107ba5c",
        "colab": {
          "base_uri": "https://localhost:8080/",
          "height": 49
        }
      },
      "source": [
        "# Making a new empty df to append the newly added years into only one year for all total sightings for that year\n",
        "Final_Others_df = pd.DataFrame(columns=['Year', 'Other_ID', 'Other_Yr_Total'])\n",
        "Final_Others_df"
      ],
      "execution_count": 376,
      "outputs": [
        {
          "output_type": "execute_result",
          "data": {
            "text/html": [
              "<div>\n",
              "<style scoped>\n",
              "    .dataframe tbody tr th:only-of-type {\n",
              "        vertical-align: middle;\n",
              "    }\n",
              "\n",
              "    .dataframe tbody tr th {\n",
              "        vertical-align: top;\n",
              "    }\n",
              "\n",
              "    .dataframe thead th {\n",
              "        text-align: right;\n",
              "    }\n",
              "</style>\n",
              "<table border=\"1\" class=\"dataframe\">\n",
              "  <thead>\n",
              "    <tr style=\"text-align: right;\">\n",
              "      <th></th>\n",
              "      <th>Year</th>\n",
              "      <th>Other_ID</th>\n",
              "      <th>Other_Yr_Total</th>\n",
              "    </tr>\n",
              "  </thead>\n",
              "  <tbody>\n",
              "  </tbody>\n",
              "</table>\n",
              "</div>"
            ],
            "text/plain": [
              "Empty DataFrame\n",
              "Columns: [Year, Other_ID, Other_Yr_Total]\n",
              "Index: []"
            ]
          },
          "metadata": {
            "tags": []
          },
          "execution_count": 376
        }
      ]
    },
    {
      "cell_type": "code",
      "metadata": {
        "id": "k43coiuR4cuA",
        "colab_type": "code",
        "colab": {}
      },
      "source": [
        "# Just like above for the redtails only this has to happen for all the other hawks\n",
        "# .. so I can get only one year per total route counts instead of all the multiple routes I want to add them together\n",
        "\n",
        "x = 1966\n",
        "tot = 0\n",
        "for ind in RS_Coop_Br_Sha_sorted_df.index: \n",
        "     if (RS_Coop_Br_Sha_sorted_df['Year'][ind] == x):\n",
        "       tot += (RS_Coop_Br_Sha_sorted_df['SpeciesTotal'][ind])\n",
        "       if RS_Coop_Br_Sha_sorted_df['index'][ind] == 2089:\n",
        "         Final_Others_df = Final_Others_df.append({'Year': int(x), 'Other_ID': int(1234), 'Other_Yr_Total': int(tot)}, ignore_index=True)\n",
        "         break\n",
        "     else:\n",
        "       Final_Others_df = Final_Others_df.append({'Year': int(x), 'Other_ID': int(1234), 'Other_Yr_Total': int(tot)}, ignore_index=True)\n",
        "       x += 1\n",
        "       tot = 0\n",
        "       tot += (RS_Coop_Br_Sha_sorted_df['SpeciesTotal'][ind])"
      ],
      "execution_count": 0,
      "outputs": []
    },
    {
      "cell_type": "code",
      "metadata": {
        "id": "p_k8cyod5Xf_",
        "colab_type": "code",
        "outputId": "acbcc03f-0eb5-47d3-c621-5d6b4e257366",
        "colab": {
          "base_uri": "https://localhost:8080/",
          "height": 204
        }
      },
      "source": [
        "# should be a new df now with all the other hawk sightings added together\n",
        "Final_Others_df.head()"
      ],
      "execution_count": 378,
      "outputs": [
        {
          "output_type": "execute_result",
          "data": {
            "text/html": [
              "<div>\n",
              "<style scoped>\n",
              "    .dataframe tbody tr th:only-of-type {\n",
              "        vertical-align: middle;\n",
              "    }\n",
              "\n",
              "    .dataframe tbody tr th {\n",
              "        vertical-align: top;\n",
              "    }\n",
              "\n",
              "    .dataframe thead th {\n",
              "        text-align: right;\n",
              "    }\n",
              "</style>\n",
              "<table border=\"1\" class=\"dataframe\">\n",
              "  <thead>\n",
              "    <tr style=\"text-align: right;\">\n",
              "      <th></th>\n",
              "      <th>Year</th>\n",
              "      <th>Other_ID</th>\n",
              "      <th>Other_Yr_Total</th>\n",
              "    </tr>\n",
              "  </thead>\n",
              "  <tbody>\n",
              "    <tr>\n",
              "      <th>0</th>\n",
              "      <td>1966</td>\n",
              "      <td>1234</td>\n",
              "      <td>24</td>\n",
              "    </tr>\n",
              "    <tr>\n",
              "      <th>1</th>\n",
              "      <td>1967</td>\n",
              "      <td>1234</td>\n",
              "      <td>20</td>\n",
              "    </tr>\n",
              "    <tr>\n",
              "      <th>2</th>\n",
              "      <td>1968</td>\n",
              "      <td>1234</td>\n",
              "      <td>21</td>\n",
              "    </tr>\n",
              "    <tr>\n",
              "      <th>3</th>\n",
              "      <td>1969</td>\n",
              "      <td>1234</td>\n",
              "      <td>16</td>\n",
              "    </tr>\n",
              "    <tr>\n",
              "      <th>4</th>\n",
              "      <td>1970</td>\n",
              "      <td>1234</td>\n",
              "      <td>19</td>\n",
              "    </tr>\n",
              "  </tbody>\n",
              "</table>\n",
              "</div>"
            ],
            "text/plain": [
              "   Year Other_ID Other_Yr_Total\n",
              "0  1966     1234             24\n",
              "1  1967     1234             20\n",
              "2  1968     1234             21\n",
              "3  1969     1234             16\n",
              "4  1970     1234             19"
            ]
          },
          "metadata": {
            "tags": []
          },
          "execution_count": 378
        }
      ]
    },
    {
      "cell_type": "code",
      "metadata": {
        "id": "v2CzhLeDpfxQ",
        "colab_type": "code",
        "colab": {
          "base_uri": "https://localhost:8080/",
          "height": 142
        },
        "outputId": "fbee5022-6a5a-4fdf-fd04-03178c319677"
      },
      "source": [
        "Final_Others_df.tail(3)"
      ],
      "execution_count": 379,
      "outputs": [
        {
          "output_type": "execute_result",
          "data": {
            "text/html": [
              "<div>\n",
              "<style scoped>\n",
              "    .dataframe tbody tr th:only-of-type {\n",
              "        vertical-align: middle;\n",
              "    }\n",
              "\n",
              "    .dataframe tbody tr th {\n",
              "        vertical-align: top;\n",
              "    }\n",
              "\n",
              "    .dataframe thead th {\n",
              "        text-align: right;\n",
              "    }\n",
              "</style>\n",
              "<table border=\"1\" class=\"dataframe\">\n",
              "  <thead>\n",
              "    <tr style=\"text-align: right;\">\n",
              "      <th></th>\n",
              "      <th>Year</th>\n",
              "      <th>Other_ID</th>\n",
              "      <th>Other_Yr_Total</th>\n",
              "    </tr>\n",
              "  </thead>\n",
              "  <tbody>\n",
              "    <tr>\n",
              "      <th>50</th>\n",
              "      <td>2016</td>\n",
              "      <td>1234</td>\n",
              "      <td>120</td>\n",
              "    </tr>\n",
              "    <tr>\n",
              "      <th>51</th>\n",
              "      <td>2017</td>\n",
              "      <td>1234</td>\n",
              "      <td>127</td>\n",
              "    </tr>\n",
              "    <tr>\n",
              "      <th>52</th>\n",
              "      <td>2018</td>\n",
              "      <td>1234</td>\n",
              "      <td>152</td>\n",
              "    </tr>\n",
              "  </tbody>\n",
              "</table>\n",
              "</div>"
            ],
            "text/plain": [
              "    Year Other_ID Other_Yr_Total\n",
              "50  2016     1234            120\n",
              "51  2017     1234            127\n",
              "52  2018     1234            152"
            ]
          },
          "metadata": {
            "tags": []
          },
          "execution_count": 379
        }
      ]
    },
    {
      "cell_type": "code",
      "metadata": {
        "id": "VAL8DaPz5XTI",
        "colab_type": "code",
        "outputId": "d57ae216-a886-414f-8493-a7510cd399d9",
        "colab": {
          "base_uri": "https://localhost:8080/",
          "height": 34
        }
      },
      "source": [
        "# Should be 53 from 1966 - 2018\n",
        "Final_Others_df.shape"
      ],
      "execution_count": 380,
      "outputs": [
        {
          "output_type": "execute_result",
          "data": {
            "text/plain": [
              "(53, 3)"
            ]
          },
          "metadata": {
            "tags": []
          },
          "execution_count": 380
        }
      ]
    },
    {
      "cell_type": "code",
      "metadata": {
        "id": "cFMWh6h56SJV",
        "colab_type": "code",
        "colab": {}
      },
      "source": [
        "# checking to make sure my for loop ran properly by verifying random sum species counts for certain years\n",
        "total_nin_six_six = RS_Coop_Br_Sha_sorted_df.Year == 1966\n",
        "total_two_thou = RS_Coop_Br_Sha_sorted_df.Year == 2000\n",
        "total_two_thou_eigh = RS_Coop_Br_Sha_sorted_df.Year == 2008\n",
        "total_two_svteen = RS_Coop_Br_Sha_sorted_df.Year == 2017\n",
        "total_two_eight_ten = RS_Coop_Br_Sha_sorted_df.Year == 2018"
      ],
      "execution_count": 0,
      "outputs": []
    },
    {
      "cell_type": "code",
      "metadata": {
        "id": "JLH67PPx6V0U",
        "colab_type": "code",
        "colab": {}
      },
      "source": [
        "# checking to make sure my for loop ran properly and added the sums correctly\n",
        "species_nin_six_six = RS_Coop_Br_Sha_sorted_df[total_nin_six_six]\n",
        "species_tot_two_thou = RS_Coop_Br_Sha_sorted_df[total_two_thou]\n",
        "species_tot_two_thou_eight = RS_Coop_Br_Sha_sorted_df[total_two_thou_eigh]\n",
        "species_tot_two_svn = RS_Coop_Br_Sha_sorted_df[total_two_svteen]\n",
        "species_tot_two_eight_ten = RS_Coop_Br_Sha_sorted_df[total_two_eight_ten]"
      ],
      "execution_count": 0,
      "outputs": []
    },
    {
      "cell_type": "code",
      "metadata": {
        "id": "A9YmagzN6ZWd",
        "colab_type": "code",
        "outputId": "9f313ef9-d2e0-4918-8a87-707184732e04",
        "colab": {
          "base_uri": "https://localhost:8080/",
          "height": 102
        }
      },
      "source": [
        "24, 76, 88, 127, 152\n",
        "print(species_nin_six_six['SpeciesTotal'].sum(axis=0))\n",
        "print(species_tot_two_thou['SpeciesTotal'].sum(axis=0))\n",
        "print(species_tot_two_thou_eight['SpeciesTotal'].sum(axis=0))\n",
        "print(species_tot_two_svn['SpeciesTotal'].sum(axis=0))\n",
        "print(species_tot_two_eight_ten['SpeciesTotal'].sum(axis=0))"
      ],
      "execution_count": 383,
      "outputs": [
        {
          "output_type": "stream",
          "text": [
            "24\n",
            "76\n",
            "88\n",
            "127\n",
            "152\n"
          ],
          "name": "stdout"
        }
      ]
    },
    {
      "cell_type": "code",
      "metadata": {
        "id": "Ygvtre1S62h8",
        "colab_type": "code",
        "outputId": "03d0f8d8-3a53-43ac-bd15-30351edda3e1",
        "colab": {
          "base_uri": "https://localhost:8080/",
          "height": 1000
        }
      },
      "source": [
        "# 24 = 1966, 76 = 2000, 88 = 2008, 127 = 2017, 152 = 2018\n",
        "Final_Others_df"
      ],
      "execution_count": 384,
      "outputs": [
        {
          "output_type": "execute_result",
          "data": {
            "text/html": [
              "<div>\n",
              "<style scoped>\n",
              "    .dataframe tbody tr th:only-of-type {\n",
              "        vertical-align: middle;\n",
              "    }\n",
              "\n",
              "    .dataframe tbody tr th {\n",
              "        vertical-align: top;\n",
              "    }\n",
              "\n",
              "    .dataframe thead th {\n",
              "        text-align: right;\n",
              "    }\n",
              "</style>\n",
              "<table border=\"1\" class=\"dataframe\">\n",
              "  <thead>\n",
              "    <tr style=\"text-align: right;\">\n",
              "      <th></th>\n",
              "      <th>Year</th>\n",
              "      <th>Other_ID</th>\n",
              "      <th>Other_Yr_Total</th>\n",
              "    </tr>\n",
              "  </thead>\n",
              "  <tbody>\n",
              "    <tr>\n",
              "      <th>0</th>\n",
              "      <td>1966</td>\n",
              "      <td>1234</td>\n",
              "      <td>24</td>\n",
              "    </tr>\n",
              "    <tr>\n",
              "      <th>1</th>\n",
              "      <td>1967</td>\n",
              "      <td>1234</td>\n",
              "      <td>20</td>\n",
              "    </tr>\n",
              "    <tr>\n",
              "      <th>2</th>\n",
              "      <td>1968</td>\n",
              "      <td>1234</td>\n",
              "      <td>21</td>\n",
              "    </tr>\n",
              "    <tr>\n",
              "      <th>3</th>\n",
              "      <td>1969</td>\n",
              "      <td>1234</td>\n",
              "      <td>16</td>\n",
              "    </tr>\n",
              "    <tr>\n",
              "      <th>4</th>\n",
              "      <td>1970</td>\n",
              "      <td>1234</td>\n",
              "      <td>19</td>\n",
              "    </tr>\n",
              "    <tr>\n",
              "      <th>5</th>\n",
              "      <td>1971</td>\n",
              "      <td>1234</td>\n",
              "      <td>6</td>\n",
              "    </tr>\n",
              "    <tr>\n",
              "      <th>6</th>\n",
              "      <td>1972</td>\n",
              "      <td>1234</td>\n",
              "      <td>16</td>\n",
              "    </tr>\n",
              "    <tr>\n",
              "      <th>7</th>\n",
              "      <td>1973</td>\n",
              "      <td>1234</td>\n",
              "      <td>15</td>\n",
              "    </tr>\n",
              "    <tr>\n",
              "      <th>8</th>\n",
              "      <td>1974</td>\n",
              "      <td>1234</td>\n",
              "      <td>21</td>\n",
              "    </tr>\n",
              "    <tr>\n",
              "      <th>9</th>\n",
              "      <td>1975</td>\n",
              "      <td>1234</td>\n",
              "      <td>20</td>\n",
              "    </tr>\n",
              "    <tr>\n",
              "      <th>10</th>\n",
              "      <td>1976</td>\n",
              "      <td>1234</td>\n",
              "      <td>13</td>\n",
              "    </tr>\n",
              "    <tr>\n",
              "      <th>11</th>\n",
              "      <td>1977</td>\n",
              "      <td>1234</td>\n",
              "      <td>17</td>\n",
              "    </tr>\n",
              "    <tr>\n",
              "      <th>12</th>\n",
              "      <td>1978</td>\n",
              "      <td>1234</td>\n",
              "      <td>14</td>\n",
              "    </tr>\n",
              "    <tr>\n",
              "      <th>13</th>\n",
              "      <td>1979</td>\n",
              "      <td>1234</td>\n",
              "      <td>24</td>\n",
              "    </tr>\n",
              "    <tr>\n",
              "      <th>14</th>\n",
              "      <td>1980</td>\n",
              "      <td>1234</td>\n",
              "      <td>17</td>\n",
              "    </tr>\n",
              "    <tr>\n",
              "      <th>15</th>\n",
              "      <td>1981</td>\n",
              "      <td>1234</td>\n",
              "      <td>27</td>\n",
              "    </tr>\n",
              "    <tr>\n",
              "      <th>16</th>\n",
              "      <td>1982</td>\n",
              "      <td>1234</td>\n",
              "      <td>31</td>\n",
              "    </tr>\n",
              "    <tr>\n",
              "      <th>17</th>\n",
              "      <td>1983</td>\n",
              "      <td>1234</td>\n",
              "      <td>20</td>\n",
              "    </tr>\n",
              "    <tr>\n",
              "      <th>18</th>\n",
              "      <td>1984</td>\n",
              "      <td>1234</td>\n",
              "      <td>21</td>\n",
              "    </tr>\n",
              "    <tr>\n",
              "      <th>19</th>\n",
              "      <td>1985</td>\n",
              "      <td>1234</td>\n",
              "      <td>25</td>\n",
              "    </tr>\n",
              "    <tr>\n",
              "      <th>20</th>\n",
              "      <td>1986</td>\n",
              "      <td>1234</td>\n",
              "      <td>21</td>\n",
              "    </tr>\n",
              "    <tr>\n",
              "      <th>21</th>\n",
              "      <td>1987</td>\n",
              "      <td>1234</td>\n",
              "      <td>26</td>\n",
              "    </tr>\n",
              "    <tr>\n",
              "      <th>22</th>\n",
              "      <td>1988</td>\n",
              "      <td>1234</td>\n",
              "      <td>33</td>\n",
              "    </tr>\n",
              "    <tr>\n",
              "      <th>23</th>\n",
              "      <td>1989</td>\n",
              "      <td>1234</td>\n",
              "      <td>19</td>\n",
              "    </tr>\n",
              "    <tr>\n",
              "      <th>24</th>\n",
              "      <td>1990</td>\n",
              "      <td>1234</td>\n",
              "      <td>40</td>\n",
              "    </tr>\n",
              "    <tr>\n",
              "      <th>25</th>\n",
              "      <td>1991</td>\n",
              "      <td>1234</td>\n",
              "      <td>32</td>\n",
              "    </tr>\n",
              "    <tr>\n",
              "      <th>26</th>\n",
              "      <td>1992</td>\n",
              "      <td>1234</td>\n",
              "      <td>50</td>\n",
              "    </tr>\n",
              "    <tr>\n",
              "      <th>27</th>\n",
              "      <td>1993</td>\n",
              "      <td>1234</td>\n",
              "      <td>74</td>\n",
              "    </tr>\n",
              "    <tr>\n",
              "      <th>28</th>\n",
              "      <td>1994</td>\n",
              "      <td>1234</td>\n",
              "      <td>51</td>\n",
              "    </tr>\n",
              "    <tr>\n",
              "      <th>29</th>\n",
              "      <td>1995</td>\n",
              "      <td>1234</td>\n",
              "      <td>41</td>\n",
              "    </tr>\n",
              "    <tr>\n",
              "      <th>30</th>\n",
              "      <td>1996</td>\n",
              "      <td>1234</td>\n",
              "      <td>41</td>\n",
              "    </tr>\n",
              "    <tr>\n",
              "      <th>31</th>\n",
              "      <td>1997</td>\n",
              "      <td>1234</td>\n",
              "      <td>63</td>\n",
              "    </tr>\n",
              "    <tr>\n",
              "      <th>32</th>\n",
              "      <td>1998</td>\n",
              "      <td>1234</td>\n",
              "      <td>63</td>\n",
              "    </tr>\n",
              "    <tr>\n",
              "      <th>33</th>\n",
              "      <td>1999</td>\n",
              "      <td>1234</td>\n",
              "      <td>79</td>\n",
              "    </tr>\n",
              "    <tr>\n",
              "      <th>34</th>\n",
              "      <td>2000</td>\n",
              "      <td>1234</td>\n",
              "      <td>76</td>\n",
              "    </tr>\n",
              "    <tr>\n",
              "      <th>35</th>\n",
              "      <td>2001</td>\n",
              "      <td>1234</td>\n",
              "      <td>106</td>\n",
              "    </tr>\n",
              "    <tr>\n",
              "      <th>36</th>\n",
              "      <td>2002</td>\n",
              "      <td>1234</td>\n",
              "      <td>74</td>\n",
              "    </tr>\n",
              "    <tr>\n",
              "      <th>37</th>\n",
              "      <td>2003</td>\n",
              "      <td>1234</td>\n",
              "      <td>71</td>\n",
              "    </tr>\n",
              "    <tr>\n",
              "      <th>38</th>\n",
              "      <td>2004</td>\n",
              "      <td>1234</td>\n",
              "      <td>91</td>\n",
              "    </tr>\n",
              "    <tr>\n",
              "      <th>39</th>\n",
              "      <td>2005</td>\n",
              "      <td>1234</td>\n",
              "      <td>78</td>\n",
              "    </tr>\n",
              "    <tr>\n",
              "      <th>40</th>\n",
              "      <td>2006</td>\n",
              "      <td>1234</td>\n",
              "      <td>94</td>\n",
              "    </tr>\n",
              "    <tr>\n",
              "      <th>41</th>\n",
              "      <td>2007</td>\n",
              "      <td>1234</td>\n",
              "      <td>95</td>\n",
              "    </tr>\n",
              "    <tr>\n",
              "      <th>42</th>\n",
              "      <td>2008</td>\n",
              "      <td>1234</td>\n",
              "      <td>88</td>\n",
              "    </tr>\n",
              "    <tr>\n",
              "      <th>43</th>\n",
              "      <td>2009</td>\n",
              "      <td>1234</td>\n",
              "      <td>125</td>\n",
              "    </tr>\n",
              "    <tr>\n",
              "      <th>44</th>\n",
              "      <td>2010</td>\n",
              "      <td>1234</td>\n",
              "      <td>111</td>\n",
              "    </tr>\n",
              "    <tr>\n",
              "      <th>45</th>\n",
              "      <td>2011</td>\n",
              "      <td>1234</td>\n",
              "      <td>108</td>\n",
              "    </tr>\n",
              "    <tr>\n",
              "      <th>46</th>\n",
              "      <td>2012</td>\n",
              "      <td>1234</td>\n",
              "      <td>159</td>\n",
              "    </tr>\n",
              "    <tr>\n",
              "      <th>47</th>\n",
              "      <td>2013</td>\n",
              "      <td>1234</td>\n",
              "      <td>139</td>\n",
              "    </tr>\n",
              "    <tr>\n",
              "      <th>48</th>\n",
              "      <td>2014</td>\n",
              "      <td>1234</td>\n",
              "      <td>115</td>\n",
              "    </tr>\n",
              "    <tr>\n",
              "      <th>49</th>\n",
              "      <td>2015</td>\n",
              "      <td>1234</td>\n",
              "      <td>100</td>\n",
              "    </tr>\n",
              "    <tr>\n",
              "      <th>50</th>\n",
              "      <td>2016</td>\n",
              "      <td>1234</td>\n",
              "      <td>120</td>\n",
              "    </tr>\n",
              "    <tr>\n",
              "      <th>51</th>\n",
              "      <td>2017</td>\n",
              "      <td>1234</td>\n",
              "      <td>127</td>\n",
              "    </tr>\n",
              "    <tr>\n",
              "      <th>52</th>\n",
              "      <td>2018</td>\n",
              "      <td>1234</td>\n",
              "      <td>152</td>\n",
              "    </tr>\n",
              "  </tbody>\n",
              "</table>\n",
              "</div>"
            ],
            "text/plain": [
              "    Year Other_ID Other_Yr_Total\n",
              "0   1966     1234             24\n",
              "1   1967     1234             20\n",
              "2   1968     1234             21\n",
              "3   1969     1234             16\n",
              "4   1970     1234             19\n",
              "5   1971     1234              6\n",
              "6   1972     1234             16\n",
              "7   1973     1234             15\n",
              "8   1974     1234             21\n",
              "9   1975     1234             20\n",
              "10  1976     1234             13\n",
              "11  1977     1234             17\n",
              "12  1978     1234             14\n",
              "13  1979     1234             24\n",
              "14  1980     1234             17\n",
              "15  1981     1234             27\n",
              "16  1982     1234             31\n",
              "17  1983     1234             20\n",
              "18  1984     1234             21\n",
              "19  1985     1234             25\n",
              "20  1986     1234             21\n",
              "21  1987     1234             26\n",
              "22  1988     1234             33\n",
              "23  1989     1234             19\n",
              "24  1990     1234             40\n",
              "25  1991     1234             32\n",
              "26  1992     1234             50\n",
              "27  1993     1234             74\n",
              "28  1994     1234             51\n",
              "29  1995     1234             41\n",
              "30  1996     1234             41\n",
              "31  1997     1234             63\n",
              "32  1998     1234             63\n",
              "33  1999     1234             79\n",
              "34  2000     1234             76\n",
              "35  2001     1234            106\n",
              "36  2002     1234             74\n",
              "37  2003     1234             71\n",
              "38  2004     1234             91\n",
              "39  2005     1234             78\n",
              "40  2006     1234             94\n",
              "41  2007     1234             95\n",
              "42  2008     1234             88\n",
              "43  2009     1234            125\n",
              "44  2010     1234            111\n",
              "45  2011     1234            108\n",
              "46  2012     1234            159\n",
              "47  2013     1234            139\n",
              "48  2014     1234            115\n",
              "49  2015     1234            100\n",
              "50  2016     1234            120\n",
              "51  2017     1234            127\n",
              "52  2018     1234            152"
            ]
          },
          "metadata": {
            "tags": []
          },
          "execution_count": 384
        }
      ]
    },
    {
      "cell_type": "code",
      "metadata": {
        "id": "kArgB7kSCh0N",
        "colab_type": "code",
        "colab": {}
      },
      "source": [
        "# changing the data type to int to graph\n",
        "Final_Others_df['Year'] = Final_Others_df['Year'].astype(str).astype(int)\n",
        "Final_Others_df['Other_ID'] = Final_Others_df['Other_ID'].astype(str).astype(int)\n",
        "Final_Others_df['Other_Yr_Total'] = Final_Others_df['Other_Yr_Total'].astype(str).astype(int)"
      ],
      "execution_count": 0,
      "outputs": []
    },
    {
      "cell_type": "code",
      "metadata": {
        "id": "xBfW03SFDHeI",
        "colab_type": "code",
        "outputId": "642c980c-b773-4654-8da1-c323ce6fb248",
        "colab": {
          "base_uri": "https://localhost:8080/",
          "height": 85
        }
      },
      "source": [
        "# should be ints\n",
        "Final_Others_df.dtypes"
      ],
      "execution_count": 386,
      "outputs": [
        {
          "output_type": "execute_result",
          "data": {
            "text/plain": [
              "Year              int64\n",
              "Other_ID          int64\n",
              "Other_Yr_Total    int64\n",
              "dtype: object"
            ]
          },
          "metadata": {
            "tags": []
          },
          "execution_count": 386
        }
      ]
    },
    {
      "cell_type": "code",
      "metadata": {
        "id": "xdpuoXA1DPjz",
        "colab_type": "code",
        "outputId": "ecedd1bd-6f41-4fcd-e527-82cacb2644ab",
        "colab": {
          "base_uri": "https://localhost:8080/",
          "height": 333
        }
      },
      "source": [
        "plt.style.use('default')\n",
        "ax = Final_Others_df.plot(kind='scatter', x='Year', y='Other_Yr_Total', figsize=(5,3))\n",
        "ax.set_title(\"Yearly Cenus Count of Other Hawks in the Tri-State.\", fontweight=\"bold\");"
      ],
      "execution_count": 387,
      "outputs": [
        {
          "output_type": "display_data",
          "data": {
            "image/png": "[encoded data removed]",
            "text/plain": [
              "<Figure size 500x300 with 1 Axes>"
            ]
          },
          "metadata": {
            "tags": []
          }
        }
      ]
    },
    {
      "cell_type": "code",
      "metadata": {
        "id": "H4HkYCi0XZ0J",
        "colab_type": "code",
        "outputId": "4bf108d9-9ef2-4c41-9458-0b8d916acbad",
        "colab": {
          "base_uri": "https://localhost:8080/",
          "height": 388
        }
      },
      "source": [
        "# gca is something but I can do better with the graph\n",
        "plt.style.use('default')\n",
        "ax = plt.gca()\n",
        "\n",
        "Final_RT_df.plot(kind='line', x='Year', y='Redtail_Yr_Total', lw = 4, ls ='--', c = '#f57905', alpha = 0.9, figsize=(6,4), ax=ax)\n",
        "Final_Others_df.plot(kind='line', x='Year', y='Other_Yr_Total', lw = 4, ls = ':', c = '#1ABC9C', alpha = 0.9, figsize=(6,4), ax=ax)\n",
        "ax.set_facecolor(\"#e4f2f2\")\n",
        "\n",
        "plt.show()"
      ],
      "execution_count": 388,
      "outputs": [
        {
          "output_type": "display_data",
          "data": {
            "image/png": "[encoded data removed]",
            "text/plain": [
              "<Figure size 600x400 with 1 Axes>"
            ]
          },
          "metadata": {
            "tags": []
          }
        }
      ]
    },
    {
      "cell_type": "code",
      "metadata": {
        "id": "QT-OueRzFDC0",
        "colab_type": "code",
        "outputId": "d112238c-ee24-4d28-9dc7-8047c20da51c",
        "colab": {
          "base_uri": "https://localhost:8080/",
          "height": 477
        }
      },
      "source": [
        "# better but I can still do better with the graph\n",
        "plt.style.use('default')\n",
        "from matplotlib.patches import Patch\n",
        "from matplotlib.lines import Line2D\n",
        "\n",
        "fig, ax = plt.subplots(figsize=(7,5))\n",
        "Final_RT_df.plot(x='Year', y='Redtail_Yr_Total', color= \"#11ff00\", lw = 1, ls ='-', marker='o', markersize=10, \n",
        "        markerfacecolor= \"#dbf294\", markeredgewidth=3, markeredgecolor= \"#68ff03\", ax = ax)\n",
        "Final_Others_df.plot(x='Year', y='Other_Yr_Total', color=\"#00f7b1\", lw = 1, ls ='-', marker='o', markersize=10, \n",
        "        markerfacecolor=\"#00ffe5\", markeredgewidth=3, markeredgecolor= \"#9961ed\", ax = ax)\n",
        "\n",
        "ax.set_facecolor(\"#e4f2f2\")\n",
        "\n",
        "legend_elements = [Line2D([0], [0], color=\"#11ff00\", lw=1, ls='-', marker='o', markersize=10, \n",
        "        markerfacecolor=\"#dbf294\", markeredgewidth=3, markeredgecolor=\"#68ff03\", label='Red Tail Hawk'),\n",
        "                   Line2D([0], [0], color=\"#00f7b1\", lw=1, ls='-', marker='o', markersize=10, \n",
        "        markerfacecolor=\"#00ffe5\", markeredgewidth=3, markeredgecolor=\"#9961ed\", label=\"Other Hawks: Red Shouldered,\\n Cooper's, Broad Winged,\\n Sharpe Shinned.\")]\n",
        "\n",
        "ax.legend(handles=legend_elements, fontsize = 14)\n",
        "# Set the x and y axes labels\n",
        "ax.set_xlabel(\"Years\", fontsize=16)\n",
        "ax.set_ylabel(\"Yearly Counts At\\n Multiple Locations\", fontsize=14)\n",
        "plt.setp(ax.get_xticklabels(), rotation='horizontal', fontsize=16)\n",
        "plt.setp(ax.get_yticklabels(), rotation='horizontal', fontsize=16)\n",
        "plt.show()"
      ],
      "execution_count": 389,
      "outputs": [
        {
          "output_type": "display_data",
          "data": {
            "image/png": "[encoded data removed]",
            "text/plain": [
              "<Figure size 700x500 with 1 Axes>"
            ]
          },
          "metadata": {
            "tags": []
          }
        }
      ]
    },
    {
      "cell_type": "code",
      "metadata": {
        "id": "nxEcw6lKk-SG",
        "colab_type": "code",
        "outputId": "6833ea6c-e50d-4d36-eac9-17a02d8b2f26",
        "colab": {
          "base_uri": "https://localhost:8080/",
          "height": 542
        }
      },
      "source": [
        "# This is the best but I have to recode it so I can link to it for some reason it won't work for pyplotly link\n",
        "plt.style.use('default')\n",
        "\n",
        "fig, ax = plt.subplots(figsize=(8,5))\n",
        "Final_RT_df.plot(x='Year', y='Redtail_Yr_Total', width =.9, color= \"#fab36b\", kind = 'bar', alpha=.8, ax = ax)\n",
        "Final_Others_df.plot(x='Year', y='Other_Yr_Total', width =.6, color=\"#039dfc\", kind = 'bar', alpha=1, ax = ax)\n",
        "ax.set_facecolor(\"#e4f2f2\")\n",
        "\n",
        "legend_elements = [Line2D([0], [0], color=\"#fab36b\", lw='5', label='Red Tail Hawk.'),\n",
        "                   Line2D([0], [0], color=\"#039dfc\", lw='4', label='Other Hawks.')]\n",
        "\n",
        "ax.legend(handles=legend_elements, fontsize = 16)\n",
        "\n",
        "# Set the title and subtitle\n",
        "ax.set_title(\"Hawk Activity Census Shows The Red-Tail is the\\n Most Common Hawk In Kentucky, Indiana, and Ohio.\", \n",
        "             fontsize=15, fontweight='bold')\n",
        "ax.text(s=\"Sums:\\nRed Tail - 6,298\\nRed Shouldered - 1,613\\nCooper's - 914\\nBroad Winged - 396\\nSharp Shinned - 126\", fontsize=13, x=1, y=115);\n",
        "\n",
        "# Set the x and y axes labels\n",
        "ax.set_xlabel(\"Years.\", fontsize=16)\n",
        "ax.set_ylabel(\"Hawks Counted Per Year.\", fontsize=14)\n",
        "\n",
        "# Fix the x an y axis tick marks and grid\n",
        "ax.set_xticklabels(range(1966, 2020, 4), fontsize=14, rotation=25)\n",
        "ax.set_yticklabels(range(0, 250, 25), fontsize = 12, fontweight='bold', rotation=45)\n",
        "ax.set_xticks(range(0,54,4))\n",
        "ax.set_yticks(range(0, 250, 25))\n",
        "\n",
        "\n",
        "fig.show()\n",
        "plt.savefig('myfigure.png')\n",
        "\n"
      ],
      "execution_count": 393,
      "outputs": [
        {
          "output_type": "display_data",
          "data": {
            "image/png": "[encoded data removed]",
            "text/plain": [
              "<Figure size 800x500 with 1 Axes>"
            ]
          },
          "metadata": {
            "tags": []
          }
        }
      ]
    }
  ]
}