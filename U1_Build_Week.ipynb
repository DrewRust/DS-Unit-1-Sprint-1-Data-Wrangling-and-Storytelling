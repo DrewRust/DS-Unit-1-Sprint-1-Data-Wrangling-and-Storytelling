{
  "nbformat": 4,
  "nbformat_minor": 0,
  "metadata": {
    "colab": {
      "name": "U1_Build_Week.ipynb",
      "provenance": [],
      "collapsed_sections": [],
      "authorship_tag": "ABX9TyOKRrsmsKUF8TLN1zNeHJ4i",
      "include_colab_link": true
    },
    "kernelspec": {
      "name": "python3",
      "display_name": "Python 3"
    }
  },
  "cells": [
    {
      "cell_type": "markdown",
      "metadata": {
        "id": "view-in-github",
        "colab_type": "text"
      },
      "source": [
        "<a href=\"https://colab.research.google.com/github/DrewRust/DS-Unit-1-Sprint-1-Data-Wrangling-and-Storytelling/blob/master/U1_Build_Week.ipynb\" target=\"_parent\"><img src=\"https://colab.research.google.com/assets/colab-badge.svg\" alt=\"Open In Colab\"/></a>"
      ]
    },
    {
      "cell_type": "code",
      "metadata": {
        "id": "tDolnBxANxNx",
        "colab_type": "code",
        "colab": {}
      },
      "source": [
        "# Yet.\n",
        "## Impose Your will.\n",
        "import pandas as pd\n",
        "import numpy as np\n",
        "import matplotlib.pyplot as plt\n",
        "import seaborn as sns\n",
        "%matplotlib inline"
      ],
      "execution_count": 0,
      "outputs": []
    },
    {
      "cell_type": "code",
      "metadata": {
        "id": "olx_zfE5OgJK",
        "colab_type": "code",
        "outputId": "e23c5206-c647-4d5b-fe26-fed74eb790b2",
        "colab": {
          "base_uri": "https://localhost:8080/",
          "height": 204
        }
      },
      "source": [
        "url = 'Kentuck.csv'\n",
        "Kentuck_df = pd.read_csv(url)\n",
        "Kentuck_df.head()"
      ],
      "execution_count": 34,
      "outputs": [
        {
          "output_type": "execute_result",
          "data": {
            "text/html": [
              "<div>\n",
              "<style scoped>\n",
              "    .dataframe tbody tr th:only-of-type {\n",
              "        vertical-align: middle;\n",
              "    }\n",
              "\n",
              "    .dataframe tbody tr th {\n",
              "        vertical-align: top;\n",
              "    }\n",
              "\n",
              "    .dataframe thead th {\n",
              "        text-align: right;\n",
              "    }\n",
              "</style>\n",
              "<table border=\"1\" class=\"dataframe\">\n",
              "  <thead>\n",
              "    <tr style=\"text-align: right;\">\n",
              "      <th></th>\n",
              "      <th>RouteDataID</th>\n",
              "      <th>CountryNum</th>\n",
              "      <th>StateNum</th>\n",
              "      <th>Route</th>\n",
              "      <th>RPID</th>\n",
              "      <th>Year</th>\n",
              "      <th>AOU</th>\n",
              "      <th>Count10</th>\n",
              "      <th>Count20</th>\n",
              "      <th>Count30</th>\n",
              "      <th>Count40</th>\n",
              "      <th>Count50</th>\n",
              "      <th>StopTotal</th>\n",
              "      <th>SpeciesTotal</th>\n",
              "    </tr>\n",
              "  </thead>\n",
              "  <tbody>\n",
              "    <tr>\n",
              "      <th>0</th>\n",
              "      <td>6167510</td>\n",
              "      <td>840</td>\n",
              "      <td>39</td>\n",
              "      <td>1</td>\n",
              "      <td>101</td>\n",
              "      <td>1966</td>\n",
              "      <td>1310</td>\n",
              "      <td>0</td>\n",
              "      <td>1</td>\n",
              "      <td>0</td>\n",
              "      <td>0</td>\n",
              "      <td>0</td>\n",
              "      <td>1</td>\n",
              "      <td>1</td>\n",
              "    </tr>\n",
              "    <tr>\n",
              "      <th>1</th>\n",
              "      <td>6167510</td>\n",
              "      <td>840</td>\n",
              "      <td>39</td>\n",
              "      <td>1</td>\n",
              "      <td>101</td>\n",
              "      <td>1966</td>\n",
              "      <td>2890</td>\n",
              "      <td>0</td>\n",
              "      <td>2</td>\n",
              "      <td>3</td>\n",
              "      <td>8</td>\n",
              "      <td>6</td>\n",
              "      <td>16</td>\n",
              "      <td>19</td>\n",
              "    </tr>\n",
              "    <tr>\n",
              "      <th>2</th>\n",
              "      <td>6167510</td>\n",
              "      <td>840</td>\n",
              "      <td>39</td>\n",
              "      <td>1</td>\n",
              "      <td>101</td>\n",
              "      <td>1966</td>\n",
              "      <td>3131</td>\n",
              "      <td>0</td>\n",
              "      <td>0</td>\n",
              "      <td>6</td>\n",
              "      <td>0</td>\n",
              "      <td>0</td>\n",
              "      <td>6</td>\n",
              "      <td>6</td>\n",
              "    </tr>\n",
              "    <tr>\n",
              "      <th>3</th>\n",
              "      <td>6167510</td>\n",
              "      <td>840</td>\n",
              "      <td>39</td>\n",
              "      <td>1</td>\n",
              "      <td>101</td>\n",
              "      <td>1966</td>\n",
              "      <td>3160</td>\n",
              "      <td>0</td>\n",
              "      <td>0</td>\n",
              "      <td>2</td>\n",
              "      <td>1</td>\n",
              "      <td>0</td>\n",
              "      <td>3</td>\n",
              "      <td>3</td>\n",
              "    </tr>\n",
              "    <tr>\n",
              "      <th>4</th>\n",
              "      <td>6167510</td>\n",
              "      <td>840</td>\n",
              "      <td>39</td>\n",
              "      <td>1</td>\n",
              "      <td>101</td>\n",
              "      <td>1966</td>\n",
              "      <td>3390</td>\n",
              "      <td>0</td>\n",
              "      <td>0</td>\n",
              "      <td>0</td>\n",
              "      <td>0</td>\n",
              "      <td>1</td>\n",
              "      <td>1</td>\n",
              "      <td>1</td>\n",
              "    </tr>\n",
              "  </tbody>\n",
              "</table>\n",
              "</div>"
            ],
            "text/plain": [
              "   RouteDataID  CountryNum  StateNum  ...  Count50  StopTotal  SpeciesTotal\n",
              "0      6167510         840        39  ...        0          1             1\n",
              "1      6167510         840        39  ...        6         16            19\n",
              "2      6167510         840        39  ...        0          6             6\n",
              "3      6167510         840        39  ...        0          3             3\n",
              "4      6167510         840        39  ...        1          1             1\n",
              "\n",
              "[5 rows x 14 columns]"
            ]
          },
          "metadata": {
            "tags": []
          },
          "execution_count": 34
        }
      ]
    },
    {
      "cell_type": "code",
      "metadata": {
        "id": "mK5wPUhnOjrE",
        "colab_type": "code",
        "colab": {}
      },
      "source": [
        "# COOPER'S HAWK\n",
        "coop_bird_all_yrs = Kentuck_df[(Kentuck_df.AOU == 3330)]\n",
        "# SORT BY year from 1966 to present\n",
        "coop_sorted_df = coop_bird_all_yrs.sort_values(by='Year', ascending=True)"
      ],
      "execution_count": 0,
      "outputs": []
    },
    {
      "cell_type": "code",
      "metadata": {
        "id": "Z3phhBE00s5I",
        "colab_type": "code",
        "colab": {}
      },
      "source": [
        "coop_sorted_df = coop_sorted_df.reset_index(drop=True)"
      ],
      "execution_count": 0,
      "outputs": []
    },
    {
      "cell_type": "code",
      "metadata": {
        "id": "x2rsJsk7bUzx",
        "colab_type": "code",
        "colab": {}
      },
      "source": [
        "coop_sorted_df.reset_index(level=0, inplace=True)"
      ],
      "execution_count": 0,
      "outputs": []
    },
    {
      "cell_type": "code",
      "metadata": {
        "id": "ym1OWc4UO4Sj",
        "colab_type": "code",
        "outputId": "b1eb31a4-2c76-44b0-ecb8-f8a124937802",
        "colab": {
          "base_uri": "https://localhost:8080/",
          "height": 204
        }
      },
      "source": [
        "coop_sorted_df.tail()"
      ],
      "execution_count": 45,
      "outputs": [
        {
          "output_type": "execute_result",
          "data": {
            "text/html": [
              "<div>\n",
              "<style scoped>\n",
              "    .dataframe tbody tr th:only-of-type {\n",
              "        vertical-align: middle;\n",
              "    }\n",
              "\n",
              "    .dataframe tbody tr th {\n",
              "        vertical-align: top;\n",
              "    }\n",
              "\n",
              "    .dataframe thead th {\n",
              "        text-align: right;\n",
              "    }\n",
              "</style>\n",
              "<table border=\"1\" class=\"dataframe\">\n",
              "  <thead>\n",
              "    <tr style=\"text-align: right;\">\n",
              "      <th></th>\n",
              "      <th>index</th>\n",
              "      <th>RouteDataID</th>\n",
              "      <th>CountryNum</th>\n",
              "      <th>StateNum</th>\n",
              "      <th>Route</th>\n",
              "      <th>RPID</th>\n",
              "      <th>Year</th>\n",
              "      <th>AOU</th>\n",
              "      <th>Count10</th>\n",
              "      <th>Count20</th>\n",
              "      <th>Count30</th>\n",
              "      <th>Count40</th>\n",
              "      <th>Count50</th>\n",
              "      <th>StopTotal</th>\n",
              "      <th>SpeciesTotal</th>\n",
              "    </tr>\n",
              "  </thead>\n",
              "  <tbody>\n",
              "    <tr>\n",
              "      <th>206</th>\n",
              "      <td>206</td>\n",
              "      <td>6365103</td>\n",
              "      <td>840</td>\n",
              "      <td>39</td>\n",
              "      <td>3</td>\n",
              "      <td>101</td>\n",
              "      <td>2017</td>\n",
              "      <td>3330</td>\n",
              "      <td>0</td>\n",
              "      <td>1</td>\n",
              "      <td>0</td>\n",
              "      <td>0</td>\n",
              "      <td>0</td>\n",
              "      <td>1</td>\n",
              "      <td>1</td>\n",
              "    </tr>\n",
              "    <tr>\n",
              "      <th>207</th>\n",
              "      <td>207</td>\n",
              "      <td>6363936</td>\n",
              "      <td>840</td>\n",
              "      <td>39</td>\n",
              "      <td>28</td>\n",
              "      <td>101</td>\n",
              "      <td>2017</td>\n",
              "      <td>3330</td>\n",
              "      <td>0</td>\n",
              "      <td>0</td>\n",
              "      <td>1</td>\n",
              "      <td>1</td>\n",
              "      <td>0</td>\n",
              "      <td>2</td>\n",
              "      <td>2</td>\n",
              "    </tr>\n",
              "    <tr>\n",
              "      <th>208</th>\n",
              "      <td>208</td>\n",
              "      <td>6364087</td>\n",
              "      <td>840</td>\n",
              "      <td>39</td>\n",
              "      <td>44</td>\n",
              "      <td>101</td>\n",
              "      <td>2017</td>\n",
              "      <td>3330</td>\n",
              "      <td>0</td>\n",
              "      <td>1</td>\n",
              "      <td>0</td>\n",
              "      <td>1</td>\n",
              "      <td>1</td>\n",
              "      <td>3</td>\n",
              "      <td>3</td>\n",
              "    </tr>\n",
              "    <tr>\n",
              "      <th>209</th>\n",
              "      <td>209</td>\n",
              "      <td>6364212</td>\n",
              "      <td>840</td>\n",
              "      <td>39</td>\n",
              "      <td>31</td>\n",
              "      <td>101</td>\n",
              "      <td>2017</td>\n",
              "      <td>3330</td>\n",
              "      <td>1</td>\n",
              "      <td>0</td>\n",
              "      <td>0</td>\n",
              "      <td>0</td>\n",
              "      <td>0</td>\n",
              "      <td>1</td>\n",
              "      <td>1</td>\n",
              "    </tr>\n",
              "    <tr>\n",
              "      <th>210</th>\n",
              "      <td>210</td>\n",
              "      <td>6366765</td>\n",
              "      <td>840</td>\n",
              "      <td>39</td>\n",
              "      <td>26</td>\n",
              "      <td>101</td>\n",
              "      <td>2017</td>\n",
              "      <td>3330</td>\n",
              "      <td>0</td>\n",
              "      <td>0</td>\n",
              "      <td>1</td>\n",
              "      <td>0</td>\n",
              "      <td>0</td>\n",
              "      <td>1</td>\n",
              "      <td>1</td>\n",
              "    </tr>\n",
              "  </tbody>\n",
              "</table>\n",
              "</div>"
            ],
            "text/plain": [
              "     index  RouteDataID  CountryNum  ...  Count50  StopTotal  SpeciesTotal\n",
              "206    206      6365103         840  ...        0          1             1\n",
              "207    207      6363936         840  ...        0          2             2\n",
              "208    208      6364087         840  ...        1          3             3\n",
              "209    209      6364212         840  ...        0          1             1\n",
              "210    210      6366765         840  ...        0          1             1\n",
              "\n",
              "[5 rows x 15 columns]"
            ]
          },
          "metadata": {
            "tags": []
          },
          "execution_count": 45
        }
      ]
    },
    {
      "cell_type": "code",
      "metadata": {
        "id": "w6k4ukjdTQMQ",
        "colab_type": "code",
        "outputId": "38330ed8-9b81-4f17-d6a1-b4ced3b96509",
        "colab": {
          "base_uri": "https://localhost:8080/",
          "height": 272
        }
      },
      "source": [
        "coop_sorted_df.isnull().sum()"
      ],
      "execution_count": 8,
      "outputs": [
        {
          "output_type": "execute_result",
          "data": {
            "text/plain": [
              "RouteDataID     0\n",
              "CountryNum      0\n",
              "StateNum        0\n",
              "Route           0\n",
              "RPID            0\n",
              "Year            0\n",
              "AOU             0\n",
              "Count10         0\n",
              "Count20         0\n",
              "Count30         0\n",
              "Count40         0\n",
              "Count50         0\n",
              "StopTotal       0\n",
              "SpeciesTotal    0\n",
              "dtype: int64"
            ]
          },
          "metadata": {
            "tags": []
          },
          "execution_count": 8
        }
      ]
    },
    {
      "cell_type": "code",
      "metadata": {
        "id": "UMFs4P2wPGHp",
        "colab_type": "code",
        "outputId": "791731ff-0a30-4f92-8928-98c2cbe6cb87",
        "colab": {
          "base_uri": "https://localhost:8080/",
          "height": 34
        }
      },
      "source": [
        "coop_sorted_df.shape"
      ],
      "execution_count": 39,
      "outputs": [
        {
          "output_type": "execute_result",
          "data": {
            "text/plain": [
              "(211, 15)"
            ]
          },
          "metadata": {
            "tags": []
          },
          "execution_count": 39
        }
      ]
    },
    {
      "cell_type": "code",
      "metadata": {
        "id": "euVPzCFVQAWm",
        "colab_type": "code",
        "colab": {}
      },
      "source": [
        "total_two_thou = coop_sorted_df.Year == 2000\n",
        "total_two_thou_eigh = coop_sorted_df.Year == 2008\n",
        "total_two_svteen = coop_sorted_df.Year == 2017"
      ],
      "execution_count": 0,
      "outputs": []
    },
    {
      "cell_type": "code",
      "metadata": {
        "id": "3i2eXH3NQhi_",
        "colab_type": "code",
        "colab": {}
      },
      "source": [
        "species_tot_two_thou = coop_sorted_df[total_two_thou]\n",
        "species_tot_two_thou_eight = coop_sorted_df[total_two_thou_eigh]\n",
        "species_tot_two_svn = coop_sorted_df[total_two_svteen]"
      ],
      "execution_count": 0,
      "outputs": []
    },
    {
      "cell_type": "code",
      "metadata": {
        "id": "EpvbR1osQ-fS",
        "colab_type": "code",
        "outputId": "b194d40c-f52d-4d1d-efad-53f072090158",
        "colab": {
          "base_uri": "https://localhost:8080/",
          "height": 68
        }
      },
      "source": [
        "print(species_tot_two_thou['SpeciesTotal'].sum(axis=0))\n",
        "print(species_tot_two_thou_eight['SpeciesTotal'].sum(axis=0))\n",
        "print(species_tot_two_svn['SpeciesTotal'].sum(axis=0))"
      ],
      "execution_count": 42,
      "outputs": [
        {
          "output_type": "stream",
          "text": [
            "9\n",
            "13\n",
            "8\n"
          ],
          "name": "stdout"
        }
      ]
    },
    {
      "cell_type": "code",
      "metadata": {
        "id": "VlY4S6RKxcNV",
        "colab_type": "code",
        "outputId": "96b30d5f-f1fe-46ef-f9e4-6e3e886225a7",
        "colab": {
          "base_uri": "https://localhost:8080/",
          "height": 34
        }
      },
      "source": [
        "len(coop_sorted_df)"
      ],
      "execution_count": 43,
      "outputs": [
        {
          "output_type": "execute_result",
          "data": {
            "text/plain": [
              "211"
            ]
          },
          "metadata": {
            "tags": []
          },
          "execution_count": 43
        }
      ]
    },
    {
      "cell_type": "code",
      "metadata": {
        "id": "B4_-6MLN2fwQ",
        "colab_type": "code",
        "colab": {
          "base_uri": "https://localhost:8080/",
          "height": 272
        },
        "outputId": "fc14a8b7-8994-416c-cc5c-fa8b847abf24"
      },
      "source": [
        "# Just prints the last row don't use.\n",
        "coop_sorted_df.iloc[210, : ]"
      ],
      "execution_count": 14,
      "outputs": [
        {
          "output_type": "execute_result",
          "data": {
            "text/plain": [
              "RouteDataID     6366765\n",
              "CountryNum          840\n",
              "StateNum             39\n",
              "Route                26\n",
              "RPID                101\n",
              "Year               2017\n",
              "AOU                3330\n",
              "Count10               0\n",
              "Count20               0\n",
              "Count30               1\n",
              "Count40               0\n",
              "Count50               0\n",
              "StopTotal             1\n",
              "SpeciesTotal          1\n",
              "Name: 210, dtype: int64"
            ]
          },
          "metadata": {
            "tags": []
          },
          "execution_count": 14
        }
      ]
    },
    {
      "cell_type": "code",
      "metadata": {
        "id": "kQGGXeoyRPSv",
        "colab_type": "code",
        "outputId": "41ffba0c-6b7a-4da4-90fe-a693b758b13b",
        "colab": {
          "base_uri": "https://localhost:8080/",
          "height": 49
        }
      },
      "source": [
        "# Creating an empty Dataframe with column names only\n",
        "coop_df = pd.DataFrame(columns=['Year', 'Coopers_ID', 'Cooper_Hawk_Yr_Total'])\n",
        "coop_df"
      ],
      "execution_count": 44,
      "outputs": [
        {
          "output_type": "execute_result",
          "data": {
            "text/html": [
              "<div>\n",
              "<style scoped>\n",
              "    .dataframe tbody tr th:only-of-type {\n",
              "        vertical-align: middle;\n",
              "    }\n",
              "\n",
              "    .dataframe tbody tr th {\n",
              "        vertical-align: top;\n",
              "    }\n",
              "\n",
              "    .dataframe thead th {\n",
              "        text-align: right;\n",
              "    }\n",
              "</style>\n",
              "<table border=\"1\" class=\"dataframe\">\n",
              "  <thead>\n",
              "    <tr style=\"text-align: right;\">\n",
              "      <th></th>\n",
              "      <th>Year</th>\n",
              "      <th>Coopers_ID</th>\n",
              "      <th>Cooper_Hawk_Yr_Total</th>\n",
              "    </tr>\n",
              "  </thead>\n",
              "  <tbody>\n",
              "  </tbody>\n",
              "</table>\n",
              "</div>"
            ],
            "text/plain": [
              "Empty DataFrame\n",
              "Columns: [Year, Coopers_ID, Cooper_Hawk_Yr_Total]\n",
              "Index: []"
            ]
          },
          "metadata": {
            "tags": []
          },
          "execution_count": 44
        }
      ]
    },
    {
      "cell_type": "code",
      "metadata": {
        "id": "tNGP3ftARZ92",
        "colab_type": "code",
        "colab": {}
      },
      "source": [
        "# The only way I could think of to print the last column was to equal it to RouteDataID: 6366765\n",
        "x = 1966\n",
        "tot = 0\n",
        "for ind in coop_sorted_df.index: \n",
        "     if (coop_sorted_df['Year'][ind] == x):\n",
        "       tot += (coop_sorted_df['SpeciesTotal'][ind])\n",
        "       if coop_sorted_df['index'][ind] == 210:\n",
        "         coop_df = coop_df.append({'Year': int(x), 'Coopers_ID': int(3330), 'Cooper_Hawk_Yr_Total': int(tot)}, ignore_index=True)\n",
        "         break\n",
        "     else:\n",
        "       coop_df = coop_df.append({'Year': int(x), 'Coopers_ID': int(3330), 'Cooper_Hawk_Yr_Total': int(tot)}, ignore_index=True)\n",
        "       x += 1\n",
        "       tot = 0\n",
        "       tot += (coop_sorted_df['SpeciesTotal'][ind])"
      ],
      "execution_count": 0,
      "outputs": []
    },
    {
      "cell_type": "code",
      "metadata": {
        "id": "H9GvnH3HRyK4",
        "colab_type": "code",
        "outputId": "c8954b5d-1b5d-433a-c510-92d064391f00",
        "colab": {
          "base_uri": "https://localhost:8080/",
          "height": 204
        }
      },
      "source": [
        "coop_df.head()"
      ],
      "execution_count": 47,
      "outputs": [
        {
          "output_type": "execute_result",
          "data": {
            "text/html": [
              "<div>\n",
              "<style scoped>\n",
              "    .dataframe tbody tr th:only-of-type {\n",
              "        vertical-align: middle;\n",
              "    }\n",
              "\n",
              "    .dataframe tbody tr th {\n",
              "        vertical-align: top;\n",
              "    }\n",
              "\n",
              "    .dataframe thead th {\n",
              "        text-align: right;\n",
              "    }\n",
              "</style>\n",
              "<table border=\"1\" class=\"dataframe\">\n",
              "  <thead>\n",
              "    <tr style=\"text-align: right;\">\n",
              "      <th></th>\n",
              "      <th>Year</th>\n",
              "      <th>Coopers_ID</th>\n",
              "      <th>Cooper_Hawk_Yr_Total</th>\n",
              "    </tr>\n",
              "  </thead>\n",
              "  <tbody>\n",
              "    <tr>\n",
              "      <th>0</th>\n",
              "      <td>1966</td>\n",
              "      <td>3330</td>\n",
              "      <td>3</td>\n",
              "    </tr>\n",
              "    <tr>\n",
              "      <th>1</th>\n",
              "      <td>1967</td>\n",
              "      <td>3330</td>\n",
              "      <td>2</td>\n",
              "    </tr>\n",
              "    <tr>\n",
              "      <th>2</th>\n",
              "      <td>1968</td>\n",
              "      <td>3330</td>\n",
              "      <td>1</td>\n",
              "    </tr>\n",
              "    <tr>\n",
              "      <th>3</th>\n",
              "      <td>1969</td>\n",
              "      <td>3330</td>\n",
              "      <td>2</td>\n",
              "    </tr>\n",
              "    <tr>\n",
              "      <th>4</th>\n",
              "      <td>1970</td>\n",
              "      <td>3330</td>\n",
              "      <td>3</td>\n",
              "    </tr>\n",
              "  </tbody>\n",
              "</table>\n",
              "</div>"
            ],
            "text/plain": [
              "   Year Coopers_ID Cooper_Hawk_Yr_Total\n",
              "0  1966       3330                    3\n",
              "1  1967       3330                    2\n",
              "2  1968       3330                    1\n",
              "3  1969       3330                    2\n",
              "4  1970       3330                    3"
            ]
          },
          "metadata": {
            "tags": []
          },
          "execution_count": 47
        }
      ]
    },
    {
      "cell_type": "code",
      "metadata": {
        "id": "XAD6Fo8C-6oQ",
        "colab_type": "code",
        "outputId": "be427106-95d1-4b9e-a6df-187a7f1d57fa",
        "colab": {
          "base_uri": "https://localhost:8080/",
          "height": 85
        }
      },
      "source": [
        "coop_df.dtypes"
      ],
      "execution_count": 48,
      "outputs": [
        {
          "output_type": "execute_result",
          "data": {
            "text/plain": [
              "Year                    object\n",
              "Coopers_ID              object\n",
              "Cooper_Hawk_Yr_Total    object\n",
              "dtype: object"
            ]
          },
          "metadata": {
            "tags": []
          },
          "execution_count": 48
        }
      ]
    },
    {
      "cell_type": "code",
      "metadata": {
        "id": "FTmyyLJy_Et8",
        "colab_type": "code",
        "colab": {}
      },
      "source": [
        "coop_df['Year'] = coop_df['Year'].astype(str).astype(int)\n",
        "coop_df['Coopers_ID'] = coop_df['Coopers_ID'].astype(str).astype(int)\n",
        "coop_df['Cooper_Hawk_Yr_Total'] = coop_df['Cooper_Hawk_Yr_Total'].astype(str).astype(int)"
      ],
      "execution_count": 0,
      "outputs": []
    },
    {
      "cell_type": "code",
      "metadata": {
        "id": "4ry4iIQa_iHL",
        "colab_type": "code",
        "outputId": "1f725a5d-628d-4064-afd5-730b0fb5e74a",
        "colab": {
          "base_uri": "https://localhost:8080/",
          "height": 85
        }
      },
      "source": [
        "coop_df.dtypes"
      ],
      "execution_count": 50,
      "outputs": [
        {
          "output_type": "execute_result",
          "data": {
            "text/plain": [
              "Year                    int64\n",
              "Coopers_ID              int64\n",
              "Cooper_Hawk_Yr_Total    int64\n",
              "dtype: object"
            ]
          },
          "metadata": {
            "tags": []
          },
          "execution_count": 50
        }
      ]
    },
    {
      "cell_type": "code",
      "metadata": {
        "id": "eWPRdZty_oK4",
        "colab_type": "code",
        "outputId": "14b8e7dc-4bef-4ba5-ea20-3aaa9ec0a694",
        "colab": {
          "base_uri": "https://localhost:8080/",
          "height": 607
        }
      },
      "source": [
        "# 9 for 2000, 13 for 2008, 8 for 2017\n",
        "coop_df.tail(18)"
      ],
      "execution_count": 51,
      "outputs": [
        {
          "output_type": "execute_result",
          "data": {
            "text/html": [
              "<div>\n",
              "<style scoped>\n",
              "    .dataframe tbody tr th:only-of-type {\n",
              "        vertical-align: middle;\n",
              "    }\n",
              "\n",
              "    .dataframe tbody tr th {\n",
              "        vertical-align: top;\n",
              "    }\n",
              "\n",
              "    .dataframe thead th {\n",
              "        text-align: right;\n",
              "    }\n",
              "</style>\n",
              "<table border=\"1\" class=\"dataframe\">\n",
              "  <thead>\n",
              "    <tr style=\"text-align: right;\">\n",
              "      <th></th>\n",
              "      <th>Year</th>\n",
              "      <th>Coopers_ID</th>\n",
              "      <th>Cooper_Hawk_Yr_Total</th>\n",
              "    </tr>\n",
              "  </thead>\n",
              "  <tbody>\n",
              "    <tr>\n",
              "      <th>34</th>\n",
              "      <td>2000</td>\n",
              "      <td>3330</td>\n",
              "      <td>9</td>\n",
              "    </tr>\n",
              "    <tr>\n",
              "      <th>35</th>\n",
              "      <td>2001</td>\n",
              "      <td>3330</td>\n",
              "      <td>4</td>\n",
              "    </tr>\n",
              "    <tr>\n",
              "      <th>36</th>\n",
              "      <td>2002</td>\n",
              "      <td>3330</td>\n",
              "      <td>4</td>\n",
              "    </tr>\n",
              "    <tr>\n",
              "      <th>37</th>\n",
              "      <td>2003</td>\n",
              "      <td>3330</td>\n",
              "      <td>8</td>\n",
              "    </tr>\n",
              "    <tr>\n",
              "      <th>38</th>\n",
              "      <td>2004</td>\n",
              "      <td>3330</td>\n",
              "      <td>8</td>\n",
              "    </tr>\n",
              "    <tr>\n",
              "      <th>39</th>\n",
              "      <td>2005</td>\n",
              "      <td>3330</td>\n",
              "      <td>10</td>\n",
              "    </tr>\n",
              "    <tr>\n",
              "      <th>40</th>\n",
              "      <td>2006</td>\n",
              "      <td>3330</td>\n",
              "      <td>10</td>\n",
              "    </tr>\n",
              "    <tr>\n",
              "      <th>41</th>\n",
              "      <td>2007</td>\n",
              "      <td>3330</td>\n",
              "      <td>8</td>\n",
              "    </tr>\n",
              "    <tr>\n",
              "      <th>42</th>\n",
              "      <td>2008</td>\n",
              "      <td>3330</td>\n",
              "      <td>13</td>\n",
              "    </tr>\n",
              "    <tr>\n",
              "      <th>43</th>\n",
              "      <td>2009</td>\n",
              "      <td>3330</td>\n",
              "      <td>12</td>\n",
              "    </tr>\n",
              "    <tr>\n",
              "      <th>44</th>\n",
              "      <td>2010</td>\n",
              "      <td>3330</td>\n",
              "      <td>12</td>\n",
              "    </tr>\n",
              "    <tr>\n",
              "      <th>45</th>\n",
              "      <td>2011</td>\n",
              "      <td>3330</td>\n",
              "      <td>7</td>\n",
              "    </tr>\n",
              "    <tr>\n",
              "      <th>46</th>\n",
              "      <td>2012</td>\n",
              "      <td>3330</td>\n",
              "      <td>11</td>\n",
              "    </tr>\n",
              "    <tr>\n",
              "      <th>47</th>\n",
              "      <td>2013</td>\n",
              "      <td>3330</td>\n",
              "      <td>5</td>\n",
              "    </tr>\n",
              "    <tr>\n",
              "      <th>48</th>\n",
              "      <td>2014</td>\n",
              "      <td>3330</td>\n",
              "      <td>9</td>\n",
              "    </tr>\n",
              "    <tr>\n",
              "      <th>49</th>\n",
              "      <td>2015</td>\n",
              "      <td>3330</td>\n",
              "      <td>3</td>\n",
              "    </tr>\n",
              "    <tr>\n",
              "      <th>50</th>\n",
              "      <td>2016</td>\n",
              "      <td>3330</td>\n",
              "      <td>5</td>\n",
              "    </tr>\n",
              "    <tr>\n",
              "      <th>51</th>\n",
              "      <td>2017</td>\n",
              "      <td>3330</td>\n",
              "      <td>8</td>\n",
              "    </tr>\n",
              "  </tbody>\n",
              "</table>\n",
              "</div>"
            ],
            "text/plain": [
              "    Year  Coopers_ID  Cooper_Hawk_Yr_Total\n",
              "34  2000        3330                     9\n",
              "35  2001        3330                     4\n",
              "36  2002        3330                     4\n",
              "37  2003        3330                     8\n",
              "38  2004        3330                     8\n",
              "39  2005        3330                    10\n",
              "40  2006        3330                    10\n",
              "41  2007        3330                     8\n",
              "42  2008        3330                    13\n",
              "43  2009        3330                    12\n",
              "44  2010        3330                    12\n",
              "45  2011        3330                     7\n",
              "46  2012        3330                    11\n",
              "47  2013        3330                     5\n",
              "48  2014        3330                     9\n",
              "49  2015        3330                     3\n",
              "50  2016        3330                     5\n",
              "51  2017        3330                     8"
            ]
          },
          "metadata": {
            "tags": []
          },
          "execution_count": 51
        }
      ]
    },
    {
      "cell_type": "code",
      "metadata": {
        "id": "3WlId3Ip_889",
        "colab_type": "code",
        "outputId": "00ab7756-41bf-4e23-c398-c554907f74f4",
        "colab": {
          "base_uri": "https://localhost:8080/",
          "height": 333
        }
      },
      "source": [
        "plt.style.use('default')\n",
        "ax = coop_df.plot(kind='scatter', x='Year', y='Cooper_Hawk_Yr_Total', figsize=(5, 3))\n",
        "ax.set_title(\"Yearly Cenus Count of Cooper Hawks\", fontweight=\"bold\");"
      ],
      "execution_count": 52,
      "outputs": [
        {
          "output_type": "display_data",
          "data": {
            "image/png": "[encoded data removed]",
            "text/plain": [
              "<Figure size 500x300 with 1 Axes>"
            ]
          },
          "metadata": {
            "tags": []
          }
        }
      ]
    },
    {
      "cell_type": "code",
      "metadata": {
        "id": "isIsNk6pZEU-",
        "colab_type": "code",
        "colab": {}
      },
      "source": [
        "# RED TAIL HAWK\n",
        "redtail_bird_all_yrs = Kentuck_df[(Kentuck_df.AOU == 3370)]"
      ],
      "execution_count": 0,
      "outputs": []
    },
    {
      "cell_type": "code",
      "metadata": {
        "id": "zp48HbAAZPct",
        "colab_type": "code",
        "colab": {}
      },
      "source": [
        "# SORT BY year from 1966 to present\n",
        "redtail_sorted_df = redtail_bird_all_yrs.sort_values(by='Year', ascending=True)"
      ],
      "execution_count": 0,
      "outputs": []
    },
    {
      "cell_type": "code",
      "metadata": {
        "id": "I-20lEMoZShG",
        "colab_type": "code",
        "colab": {}
      },
      "source": [
        "# Head\n",
        "redtail_sorted_df = redtail_sorted_df.reset_index(drop=True)"
      ],
      "execution_count": 0,
      "outputs": []
    },
    {
      "cell_type": "code",
      "metadata": {
        "id": "eKOnmENqbiZh",
        "colab_type": "code",
        "colab": {}
      },
      "source": [
        "redtail_sorted_df.reset_index(level=0, inplace=True)"
      ],
      "execution_count": 0,
      "outputs": []
    },
    {
      "cell_type": "code",
      "metadata": {
        "id": "DnbW7EFvZV2e",
        "colab_type": "code",
        "outputId": "c9cd5f61-b89e-47d5-b8a6-3f453b3fc08e",
        "colab": {
          "base_uri": "https://localhost:8080/",
          "height": 204
        }
      },
      "source": [
        "redtail_sorted_df.tail()"
      ],
      "execution_count": 57,
      "outputs": [
        {
          "output_type": "execute_result",
          "data": {
            "text/html": [
              "<div>\n",
              "<style scoped>\n",
              "    .dataframe tbody tr th:only-of-type {\n",
              "        vertical-align: middle;\n",
              "    }\n",
              "\n",
              "    .dataframe tbody tr th {\n",
              "        vertical-align: top;\n",
              "    }\n",
              "\n",
              "    .dataframe thead th {\n",
              "        text-align: right;\n",
              "    }\n",
              "</style>\n",
              "<table border=\"1\" class=\"dataframe\">\n",
              "  <thead>\n",
              "    <tr style=\"text-align: right;\">\n",
              "      <th></th>\n",
              "      <th>index</th>\n",
              "      <th>RouteDataID</th>\n",
              "      <th>CountryNum</th>\n",
              "      <th>StateNum</th>\n",
              "      <th>Route</th>\n",
              "      <th>RPID</th>\n",
              "      <th>Year</th>\n",
              "      <th>AOU</th>\n",
              "      <th>Count10</th>\n",
              "      <th>Count20</th>\n",
              "      <th>Count30</th>\n",
              "      <th>Count40</th>\n",
              "      <th>Count50</th>\n",
              "      <th>StopTotal</th>\n",
              "      <th>SpeciesTotal</th>\n",
              "    </tr>\n",
              "  </thead>\n",
              "  <tbody>\n",
              "    <tr>\n",
              "      <th>706</th>\n",
              "      <td>706</td>\n",
              "      <td>6365103</td>\n",
              "      <td>840</td>\n",
              "      <td>39</td>\n",
              "      <td>3</td>\n",
              "      <td>101</td>\n",
              "      <td>2017</td>\n",
              "      <td>3370</td>\n",
              "      <td>0</td>\n",
              "      <td>1</td>\n",
              "      <td>0</td>\n",
              "      <td>2</td>\n",
              "      <td>0</td>\n",
              "      <td>2</td>\n",
              "      <td>3</td>\n",
              "    </tr>\n",
              "    <tr>\n",
              "      <th>707</th>\n",
              "      <td>707</td>\n",
              "      <td>6367018</td>\n",
              "      <td>840</td>\n",
              "      <td>39</td>\n",
              "      <td>10</td>\n",
              "      <td>101</td>\n",
              "      <td>2017</td>\n",
              "      <td>3370</td>\n",
              "      <td>0</td>\n",
              "      <td>0</td>\n",
              "      <td>2</td>\n",
              "      <td>0</td>\n",
              "      <td>0</td>\n",
              "      <td>1</td>\n",
              "      <td>2</td>\n",
              "    </tr>\n",
              "    <tr>\n",
              "      <th>708</th>\n",
              "      <td>708</td>\n",
              "      <td>6364179</td>\n",
              "      <td>840</td>\n",
              "      <td>39</td>\n",
              "      <td>21</td>\n",
              "      <td>101</td>\n",
              "      <td>2017</td>\n",
              "      <td>3370</td>\n",
              "      <td>0</td>\n",
              "      <td>0</td>\n",
              "      <td>0</td>\n",
              "      <td>2</td>\n",
              "      <td>1</td>\n",
              "      <td>2</td>\n",
              "      <td>3</td>\n",
              "    </tr>\n",
              "    <tr>\n",
              "      <th>709</th>\n",
              "      <td>709</td>\n",
              "      <td>6364072</td>\n",
              "      <td>840</td>\n",
              "      <td>39</td>\n",
              "      <td>120</td>\n",
              "      <td>101</td>\n",
              "      <td>2017</td>\n",
              "      <td>3370</td>\n",
              "      <td>0</td>\n",
              "      <td>2</td>\n",
              "      <td>0</td>\n",
              "      <td>0</td>\n",
              "      <td>0</td>\n",
              "      <td>1</td>\n",
              "      <td>2</td>\n",
              "    </tr>\n",
              "    <tr>\n",
              "      <th>710</th>\n",
              "      <td>710</td>\n",
              "      <td>6363930</td>\n",
              "      <td>840</td>\n",
              "      <td>39</td>\n",
              "      <td>6</td>\n",
              "      <td>101</td>\n",
              "      <td>2017</td>\n",
              "      <td>3370</td>\n",
              "      <td>0</td>\n",
              "      <td>0</td>\n",
              "      <td>2</td>\n",
              "      <td>0</td>\n",
              "      <td>1</td>\n",
              "      <td>2</td>\n",
              "      <td>3</td>\n",
              "    </tr>\n",
              "  </tbody>\n",
              "</table>\n",
              "</div>"
            ],
            "text/plain": [
              "     index  RouteDataID  CountryNum  ...  Count50  StopTotal  SpeciesTotal\n",
              "706    706      6365103         840  ...        0          2             3\n",
              "707    707      6367018         840  ...        0          1             2\n",
              "708    708      6364179         840  ...        1          2             3\n",
              "709    709      6364072         840  ...        0          1             2\n",
              "710    710      6363930         840  ...        1          2             3\n",
              "\n",
              "[5 rows x 15 columns]"
            ]
          },
          "metadata": {
            "tags": []
          },
          "execution_count": 57
        }
      ]
    },
    {
      "cell_type": "code",
      "metadata": {
        "id": "N7mJ7BKYZaoo",
        "colab_type": "code",
        "outputId": "808c8400-5279-4ad8-b1df-95e4307ae5cd",
        "colab": {
          "base_uri": "https://localhost:8080/",
          "height": 34
        }
      },
      "source": [
        "redtail_sorted_df.shape"
      ],
      "execution_count": 58,
      "outputs": [
        {
          "output_type": "execute_result",
          "data": {
            "text/plain": [
              "(711, 15)"
            ]
          },
          "metadata": {
            "tags": []
          },
          "execution_count": 58
        }
      ]
    },
    {
      "cell_type": "code",
      "metadata": {
        "id": "_LugPmI9ZfrI",
        "colab_type": "code",
        "outputId": "5c6b0aa6-8ac6-44a8-f0b4-74d9ca5fbee5",
        "colab": {
          "base_uri": "https://localhost:8080/",
          "height": 51
        }
      },
      "source": [
        "# Making sure it's only red tail\n",
        "redtail_sorted_df['AOU'].value_counts().head()"
      ],
      "execution_count": 59,
      "outputs": [
        {
          "output_type": "execute_result",
          "data": {
            "text/plain": [
              "3370    711\n",
              "Name: AOU, dtype: int64"
            ]
          },
          "metadata": {
            "tags": []
          },
          "execution_count": 59
        }
      ]
    },
    {
      "cell_type": "code",
      "metadata": {
        "id": "vPrwI-VTZmLY",
        "colab_type": "code",
        "colab": {}
      },
      "source": [
        "total_two_thou = redtail_sorted_df.Year == 2000\n",
        "total_two_thou_eigh = redtail_sorted_df.Year == 2008\n",
        "total_two_svteen = redtail_sorted_df.Year == 2017"
      ],
      "execution_count": 0,
      "outputs": []
    },
    {
      "cell_type": "code",
      "metadata": {
        "id": "i4FOST0IZ51V",
        "colab_type": "code",
        "colab": {}
      },
      "source": [
        "species_tot_two_thou = redtail_sorted_df[total_two_thou]\n",
        "species_tot_two_svn = redtail_sorted_df[total_two_svteen]\n",
        "species_tot_two_thou_eight = redtail_sorted_df[total_two_thou_eigh]"
      ],
      "execution_count": 0,
      "outputs": []
    },
    {
      "cell_type": "code",
      "metadata": {
        "id": "s71cWMp6aKCd",
        "colab_type": "code",
        "outputId": "5decfb61-0661-4140-c66d-225361879a3c",
        "colab": {
          "base_uri": "https://localhost:8080/",
          "height": 68
        }
      },
      "source": [
        "print(species_tot_two_thou['SpeciesTotal'].sum(axis=0))\n",
        "print(species_tot_two_thou_eight['SpeciesTotal'].sum(axis=0))\n",
        "print(species_tot_two_svn['SpeciesTotal'].sum(axis=0))"
      ],
      "execution_count": 62,
      "outputs": [
        {
          "output_type": "stream",
          "text": [
            "37\n",
            "28\n",
            "56\n"
          ],
          "name": "stdout"
        }
      ]
    },
    {
      "cell_type": "code",
      "metadata": {
        "id": "hMmbdQk3aai9",
        "colab_type": "code",
        "outputId": "4d9271dd-6506-4c17-aa57-b3dcdc2cada2",
        "colab": {
          "base_uri": "https://localhost:8080/",
          "height": 49
        }
      },
      "source": [
        "# Creating an empty Dataframe with column names only\n",
        "redtail_df = pd.DataFrame(columns=['Year', 'Redtail_ID', 'Red_Tail_Yr_Total'])\n",
        "redtail_df"
      ],
      "execution_count": 63,
      "outputs": [
        {
          "output_type": "execute_result",
          "data": {
            "text/html": [
              "<div>\n",
              "<style scoped>\n",
              "    .dataframe tbody tr th:only-of-type {\n",
              "        vertical-align: middle;\n",
              "    }\n",
              "\n",
              "    .dataframe tbody tr th {\n",
              "        vertical-align: top;\n",
              "    }\n",
              "\n",
              "    .dataframe thead th {\n",
              "        text-align: right;\n",
              "    }\n",
              "</style>\n",
              "<table border=\"1\" class=\"dataframe\">\n",
              "  <thead>\n",
              "    <tr style=\"text-align: right;\">\n",
              "      <th></th>\n",
              "      <th>Year</th>\n",
              "      <th>Redtail_ID</th>\n",
              "      <th>Red_Tail_Yr_Total</th>\n",
              "    </tr>\n",
              "  </thead>\n",
              "  <tbody>\n",
              "  </tbody>\n",
              "</table>\n",
              "</div>"
            ],
            "text/plain": [
              "Empty DataFrame\n",
              "Columns: [Year, Redtail_ID, Red_Tail_Yr_Total]\n",
              "Index: []"
            ]
          },
          "metadata": {
            "tags": []
          },
          "execution_count": 63
        }
      ]
    },
    {
      "cell_type": "code",
      "metadata": {
        "id": "KtBxyZ4gaeX5",
        "colab_type": "code",
        "colab": {}
      },
      "source": [
        "# This was the last row route ID otherwise it would skip over the last else statement and not append the last row of 2017 data: 6363930\n",
        "x = 1966\n",
        "tot = 0\n",
        "for ind in redtail_sorted_df.index: \n",
        "     if (redtail_sorted_df['Year'][ind] == x):\n",
        "       tot += (redtail_sorted_df['SpeciesTotal'][ind])\n",
        "       if redtail_sorted_df['index'][ind] == 710:\n",
        "         redtail_df = redtail_df.append({'Year': int(x), 'Redtail_ID': int(3330), 'Red_Tail_Yr_Total': int(tot)}, ignore_index=True)\n",
        "         break\n",
        "     else:\n",
        "       redtail_df = redtail_df.append({'Year': int(x), 'Redtail_ID': int(3330), 'Red_Tail_Yr_Total': int(tot)}, ignore_index=True)\n",
        "       x += 1\n",
        "       tot = 0\n",
        "       tot += (redtail_sorted_df['SpeciesTotal'][ind])"
      ],
      "execution_count": 0,
      "outputs": []
    },
    {
      "cell_type": "code",
      "metadata": {
        "id": "_FU-YY_0ah83",
        "colab_type": "code",
        "outputId": "588f9a1c-c4e7-4766-f9fa-74e8886d9ba2",
        "colab": {
          "base_uri": "https://localhost:8080/",
          "height": 204
        }
      },
      "source": [
        "redtail_df.head()"
      ],
      "execution_count": 66,
      "outputs": [
        {
          "output_type": "execute_result",
          "data": {
            "text/html": [
              "<div>\n",
              "<style scoped>\n",
              "    .dataframe tbody tr th:only-of-type {\n",
              "        vertical-align: middle;\n",
              "    }\n",
              "\n",
              "    .dataframe tbody tr th {\n",
              "        vertical-align: top;\n",
              "    }\n",
              "\n",
              "    .dataframe thead th {\n",
              "        text-align: right;\n",
              "    }\n",
              "</style>\n",
              "<table border=\"1\" class=\"dataframe\">\n",
              "  <thead>\n",
              "    <tr style=\"text-align: right;\">\n",
              "      <th></th>\n",
              "      <th>Year</th>\n",
              "      <th>Redtail_ID</th>\n",
              "      <th>Red_Tail_Yr_Total</th>\n",
              "    </tr>\n",
              "  </thead>\n",
              "  <tbody>\n",
              "    <tr>\n",
              "      <th>0</th>\n",
              "      <td>1966</td>\n",
              "      <td>3330</td>\n",
              "      <td>5</td>\n",
              "    </tr>\n",
              "    <tr>\n",
              "      <th>1</th>\n",
              "      <td>1967</td>\n",
              "      <td>3330</td>\n",
              "      <td>9</td>\n",
              "    </tr>\n",
              "    <tr>\n",
              "      <th>2</th>\n",
              "      <td>1968</td>\n",
              "      <td>3330</td>\n",
              "      <td>11</td>\n",
              "    </tr>\n",
              "    <tr>\n",
              "      <th>3</th>\n",
              "      <td>1969</td>\n",
              "      <td>3330</td>\n",
              "      <td>7</td>\n",
              "    </tr>\n",
              "    <tr>\n",
              "      <th>4</th>\n",
              "      <td>1970</td>\n",
              "      <td>3330</td>\n",
              "      <td>8</td>\n",
              "    </tr>\n",
              "  </tbody>\n",
              "</table>\n",
              "</div>"
            ],
            "text/plain": [
              "   Year Redtail_ID Red_Tail_Yr_Total\n",
              "0  1966       3330                 5\n",
              "1  1967       3330                 9\n",
              "2  1968       3330                11\n",
              "3  1969       3330                 7\n",
              "4  1970       3330                 8"
            ]
          },
          "metadata": {
            "tags": []
          },
          "execution_count": 66
        }
      ]
    },
    {
      "cell_type": "code",
      "metadata": {
        "id": "zmP8HRu0am0B",
        "colab_type": "code",
        "outputId": "85ecfa8f-6fb9-49f9-a2ad-4d37f4fcbdcb",
        "colab": {
          "base_uri": "https://localhost:8080/",
          "height": 607
        }
      },
      "source": [
        "# 37 for 2000, 28 for 2008, and 56 for 2017\n",
        "redtail_df.tail(18)"
      ],
      "execution_count": 67,
      "outputs": [
        {
          "output_type": "execute_result",
          "data": {
            "text/html": [
              "<div>\n",
              "<style scoped>\n",
              "    .dataframe tbody tr th:only-of-type {\n",
              "        vertical-align: middle;\n",
              "    }\n",
              "\n",
              "    .dataframe tbody tr th {\n",
              "        vertical-align: top;\n",
              "    }\n",
              "\n",
              "    .dataframe thead th {\n",
              "        text-align: right;\n",
              "    }\n",
              "</style>\n",
              "<table border=\"1\" class=\"dataframe\">\n",
              "  <thead>\n",
              "    <tr style=\"text-align: right;\">\n",
              "      <th></th>\n",
              "      <th>Year</th>\n",
              "      <th>Redtail_ID</th>\n",
              "      <th>Red_Tail_Yr_Total</th>\n",
              "    </tr>\n",
              "  </thead>\n",
              "  <tbody>\n",
              "    <tr>\n",
              "      <th>34</th>\n",
              "      <td>2000</td>\n",
              "      <td>3330</td>\n",
              "      <td>37</td>\n",
              "    </tr>\n",
              "    <tr>\n",
              "      <th>35</th>\n",
              "      <td>2001</td>\n",
              "      <td>3330</td>\n",
              "      <td>50</td>\n",
              "    </tr>\n",
              "    <tr>\n",
              "      <th>36</th>\n",
              "      <td>2002</td>\n",
              "      <td>3330</td>\n",
              "      <td>29</td>\n",
              "    </tr>\n",
              "    <tr>\n",
              "      <th>37</th>\n",
              "      <td>2003</td>\n",
              "      <td>3330</td>\n",
              "      <td>26</td>\n",
              "    </tr>\n",
              "    <tr>\n",
              "      <th>38</th>\n",
              "      <td>2004</td>\n",
              "      <td>3330</td>\n",
              "      <td>17</td>\n",
              "    </tr>\n",
              "    <tr>\n",
              "      <th>39</th>\n",
              "      <td>2005</td>\n",
              "      <td>3330</td>\n",
              "      <td>31</td>\n",
              "    </tr>\n",
              "    <tr>\n",
              "      <th>40</th>\n",
              "      <td>2006</td>\n",
              "      <td>3330</td>\n",
              "      <td>34</td>\n",
              "    </tr>\n",
              "    <tr>\n",
              "      <th>41</th>\n",
              "      <td>2007</td>\n",
              "      <td>3330</td>\n",
              "      <td>46</td>\n",
              "    </tr>\n",
              "    <tr>\n",
              "      <th>42</th>\n",
              "      <td>2008</td>\n",
              "      <td>3330</td>\n",
              "      <td>28</td>\n",
              "    </tr>\n",
              "    <tr>\n",
              "      <th>43</th>\n",
              "      <td>2009</td>\n",
              "      <td>3330</td>\n",
              "      <td>31</td>\n",
              "    </tr>\n",
              "    <tr>\n",
              "      <th>44</th>\n",
              "      <td>2010</td>\n",
              "      <td>3330</td>\n",
              "      <td>50</td>\n",
              "    </tr>\n",
              "    <tr>\n",
              "      <th>45</th>\n",
              "      <td>2011</td>\n",
              "      <td>3330</td>\n",
              "      <td>28</td>\n",
              "    </tr>\n",
              "    <tr>\n",
              "      <th>46</th>\n",
              "      <td>2012</td>\n",
              "      <td>3330</td>\n",
              "      <td>48</td>\n",
              "    </tr>\n",
              "    <tr>\n",
              "      <th>47</th>\n",
              "      <td>2013</td>\n",
              "      <td>3330</td>\n",
              "      <td>35</td>\n",
              "    </tr>\n",
              "    <tr>\n",
              "      <th>48</th>\n",
              "      <td>2014</td>\n",
              "      <td>3330</td>\n",
              "      <td>37</td>\n",
              "    </tr>\n",
              "    <tr>\n",
              "      <th>49</th>\n",
              "      <td>2015</td>\n",
              "      <td>3330</td>\n",
              "      <td>33</td>\n",
              "    </tr>\n",
              "    <tr>\n",
              "      <th>50</th>\n",
              "      <td>2016</td>\n",
              "      <td>3330</td>\n",
              "      <td>56</td>\n",
              "    </tr>\n",
              "    <tr>\n",
              "      <th>51</th>\n",
              "      <td>2017</td>\n",
              "      <td>3330</td>\n",
              "      <td>56</td>\n",
              "    </tr>\n",
              "  </tbody>\n",
              "</table>\n",
              "</div>"
            ],
            "text/plain": [
              "    Year Redtail_ID Red_Tail_Yr_Total\n",
              "34  2000       3330                37\n",
              "35  2001       3330                50\n",
              "36  2002       3330                29\n",
              "37  2003       3330                26\n",
              "38  2004       3330                17\n",
              "39  2005       3330                31\n",
              "40  2006       3330                34\n",
              "41  2007       3330                46\n",
              "42  2008       3330                28\n",
              "43  2009       3330                31\n",
              "44  2010       3330                50\n",
              "45  2011       3330                28\n",
              "46  2012       3330                48\n",
              "47  2013       3330                35\n",
              "48  2014       3330                37\n",
              "49  2015       3330                33\n",
              "50  2016       3330                56\n",
              "51  2017       3330                56"
            ]
          },
          "metadata": {
            "tags": []
          },
          "execution_count": 67
        }
      ]
    },
    {
      "cell_type": "code",
      "metadata": {
        "id": "pIWkuNJhasKg",
        "colab_type": "code",
        "colab": {}
      },
      "source": [
        "redtail_df['Year'] = redtail_df['Year'].astype(str).astype(int)\n",
        "redtail_df['Redtail_ID'] = redtail_df['Redtail_ID'].astype(str).astype(int)\n",
        "redtail_df['Red_Tail_Yr_Total'] = redtail_df['Red_Tail_Yr_Total'].astype(str).astype(int)"
      ],
      "execution_count": 0,
      "outputs": []
    },
    {
      "cell_type": "code",
      "metadata": {
        "id": "nHaahPtmavah",
        "colab_type": "code",
        "outputId": "4227b318-b9df-4fa9-a387-3283f2fdac3f",
        "colab": {
          "base_uri": "https://localhost:8080/",
          "height": 85
        }
      },
      "source": [
        "redtail_df.dtypes"
      ],
      "execution_count": 69,
      "outputs": [
        {
          "output_type": "execute_result",
          "data": {
            "text/plain": [
              "Year                 int64\n",
              "Redtail_ID           int64\n",
              "Red_Tail_Yr_Total    int64\n",
              "dtype: object"
            ]
          },
          "metadata": {
            "tags": []
          },
          "execution_count": 69
        }
      ]
    },
    {
      "cell_type": "code",
      "metadata": {
        "id": "xj3Tk1C6bBMK",
        "colab_type": "code",
        "outputId": "8dca5b07-daac-4bcd-929a-df2fcaae8b92",
        "colab": {
          "base_uri": "https://localhost:8080/",
          "height": 333
        }
      },
      "source": [
        "plt.style.use('default')\n",
        "ax = redtail_df.plot(kind='scatter', x='Year', y='Red_Tail_Yr_Total', figsize=(5,3))\n",
        "ax.set_title(\"Yearly Cenus Count of Red Tail Hawks\", fontweight=\"bold\");"
      ],
      "execution_count": 70,
      "outputs": [
        {
          "output_type": "display_data",
          "data": {
            "image/png": "[encoded data removed]",
            "text/plain": [
              "<Figure size 500x300 with 1 Axes>"
            ]
          },
          "metadata": {
            "tags": []
          }
        }
      ]
    },
    {
      "cell_type": "code",
      "metadata": {
        "id": "HCZvnNstcT5G",
        "colab_type": "code",
        "colab": {}
      },
      "source": [
        "# RED SHOULDERED HAWK\n",
        "redshoulder_bird_all_yrs = Kentuck_df[(Kentuck_df.AOU == 3390)]"
      ],
      "execution_count": 0,
      "outputs": []
    },
    {
      "cell_type": "code",
      "metadata": {
        "id": "ApjELoJBcv-T",
        "colab_type": "code",
        "colab": {}
      },
      "source": [
        "# SORT BY year from 1966 to present\n",
        "redshoulder_sorted_df = redshoulder_bird_all_yrs.sort_values(by='Year', ascending=True)"
      ],
      "execution_count": 0,
      "outputs": []
    },
    {
      "cell_type": "code",
      "metadata": {
        "id": "qeqa-t9qc0C0",
        "colab_type": "code",
        "colab": {}
      },
      "source": [
        "# Head\n",
        "redshoulder_sorted_df = redshoulder_sorted_df.reset_index(drop=True)"
      ],
      "execution_count": 0,
      "outputs": []
    },
    {
      "cell_type": "code",
      "metadata": {
        "id": "ArHKsEE_bqOr",
        "colab_type": "code",
        "colab": {}
      },
      "source": [
        "redshoulder_sorted_df.reset_index(level=0, inplace=True)"
      ],
      "execution_count": 0,
      "outputs": []
    },
    {
      "cell_type": "code",
      "metadata": {
        "id": "aT41oIV2dEt0",
        "colab_type": "code",
        "outputId": "9e018323-4a9c-4f98-d62e-2492513cf3dc",
        "colab": {
          "base_uri": "https://localhost:8080/",
          "height": 204
        }
      },
      "source": [
        "redshoulder_sorted_df.tail()"
      ],
      "execution_count": 81,
      "outputs": [
        {
          "output_type": "execute_result",
          "data": {
            "text/html": [
              "<div>\n",
              "<style scoped>\n",
              "    .dataframe tbody tr th:only-of-type {\n",
              "        vertical-align: middle;\n",
              "    }\n",
              "\n",
              "    .dataframe tbody tr th {\n",
              "        vertical-align: top;\n",
              "    }\n",
              "\n",
              "    .dataframe thead th {\n",
              "        text-align: right;\n",
              "    }\n",
              "</style>\n",
              "<table border=\"1\" class=\"dataframe\">\n",
              "  <thead>\n",
              "    <tr style=\"text-align: right;\">\n",
              "      <th></th>\n",
              "      <th>index</th>\n",
              "      <th>RouteDataID</th>\n",
              "      <th>CountryNum</th>\n",
              "      <th>StateNum</th>\n",
              "      <th>Route</th>\n",
              "      <th>RPID</th>\n",
              "      <th>Year</th>\n",
              "      <th>AOU</th>\n",
              "      <th>Count10</th>\n",
              "      <th>Count20</th>\n",
              "      <th>Count30</th>\n",
              "      <th>Count40</th>\n",
              "      <th>Count50</th>\n",
              "      <th>StopTotal</th>\n",
              "      <th>SpeciesTotal</th>\n",
              "    </tr>\n",
              "  </thead>\n",
              "  <tbody>\n",
              "    <tr>\n",
              "      <th>382</th>\n",
              "      <td>382</td>\n",
              "      <td>6364505</td>\n",
              "      <td>840</td>\n",
              "      <td>39</td>\n",
              "      <td>107</td>\n",
              "      <td>101</td>\n",
              "      <td>2017</td>\n",
              "      <td>3390</td>\n",
              "      <td>0</td>\n",
              "      <td>1</td>\n",
              "      <td>1</td>\n",
              "      <td>0</td>\n",
              "      <td>0</td>\n",
              "      <td>2</td>\n",
              "      <td>2</td>\n",
              "    </tr>\n",
              "    <tr>\n",
              "      <th>383</th>\n",
              "      <td>383</td>\n",
              "      <td>6363868</td>\n",
              "      <td>840</td>\n",
              "      <td>39</td>\n",
              "      <td>2</td>\n",
              "      <td>101</td>\n",
              "      <td>2017</td>\n",
              "      <td>3390</td>\n",
              "      <td>0</td>\n",
              "      <td>0</td>\n",
              "      <td>1</td>\n",
              "      <td>0</td>\n",
              "      <td>0</td>\n",
              "      <td>1</td>\n",
              "      <td>1</td>\n",
              "    </tr>\n",
              "    <tr>\n",
              "      <th>384</th>\n",
              "      <td>384</td>\n",
              "      <td>6364276</td>\n",
              "      <td>840</td>\n",
              "      <td>39</td>\n",
              "      <td>36</td>\n",
              "      <td>101</td>\n",
              "      <td>2017</td>\n",
              "      <td>3390</td>\n",
              "      <td>0</td>\n",
              "      <td>2</td>\n",
              "      <td>2</td>\n",
              "      <td>0</td>\n",
              "      <td>0</td>\n",
              "      <td>3</td>\n",
              "      <td>4</td>\n",
              "    </tr>\n",
              "    <tr>\n",
              "      <th>385</th>\n",
              "      <td>385</td>\n",
              "      <td>6367027</td>\n",
              "      <td>840</td>\n",
              "      <td>39</td>\n",
              "      <td>112</td>\n",
              "      <td>101</td>\n",
              "      <td>2017</td>\n",
              "      <td>3390</td>\n",
              "      <td>1</td>\n",
              "      <td>0</td>\n",
              "      <td>0</td>\n",
              "      <td>0</td>\n",
              "      <td>0</td>\n",
              "      <td>1</td>\n",
              "      <td>1</td>\n",
              "    </tr>\n",
              "    <tr>\n",
              "      <th>386</th>\n",
              "      <td>386</td>\n",
              "      <td>6365103</td>\n",
              "      <td>840</td>\n",
              "      <td>39</td>\n",
              "      <td>3</td>\n",
              "      <td>101</td>\n",
              "      <td>2017</td>\n",
              "      <td>3390</td>\n",
              "      <td>1</td>\n",
              "      <td>2</td>\n",
              "      <td>2</td>\n",
              "      <td>0</td>\n",
              "      <td>1</td>\n",
              "      <td>6</td>\n",
              "      <td>6</td>\n",
              "    </tr>\n",
              "  </tbody>\n",
              "</table>\n",
              "</div>"
            ],
            "text/plain": [
              "     index  RouteDataID  CountryNum  ...  Count50  StopTotal  SpeciesTotal\n",
              "382    382      6364505         840  ...        0          2             2\n",
              "383    383      6363868         840  ...        0          1             1\n",
              "384    384      6364276         840  ...        0          3             4\n",
              "385    385      6367027         840  ...        0          1             1\n",
              "386    386      6365103         840  ...        1          6             6\n",
              "\n",
              "[5 rows x 15 columns]"
            ]
          },
          "metadata": {
            "tags": []
          },
          "execution_count": 81
        }
      ]
    },
    {
      "cell_type": "code",
      "metadata": {
        "id": "qWMBv5Nldccs",
        "colab_type": "code",
        "outputId": "5a7abb2d-31d9-470b-d7ad-fb1b5b644b4d",
        "colab": {
          "base_uri": "https://localhost:8080/",
          "height": 34
        }
      },
      "source": [
        "redshoulder_sorted_df.shape"
      ],
      "execution_count": 76,
      "outputs": [
        {
          "output_type": "execute_result",
          "data": {
            "text/plain": [
              "(387, 15)"
            ]
          },
          "metadata": {
            "tags": []
          },
          "execution_count": 76
        }
      ]
    },
    {
      "cell_type": "code",
      "metadata": {
        "id": "-VTsRQ2ceDHI",
        "colab_type": "code",
        "colab": {}
      },
      "source": [
        "total_two_thou = redshoulder_sorted_df.Year == 2000\n",
        "total_two_thou_eigh = redshoulder_sorted_df.Year == 2008\n",
        "total_two_svteen = redshoulder_sorted_df.Year == 2017"
      ],
      "execution_count": 0,
      "outputs": []
    },
    {
      "cell_type": "code",
      "metadata": {
        "id": "6fnZ8QhpeYgf",
        "colab_type": "code",
        "colab": {}
      },
      "source": [
        "species_tot_two_thou = redshoulder_sorted_df[total_two_thou]\n",
        "species_tot_two_thou_eight = redshoulder_sorted_df[total_two_thou_eigh]\n",
        "species_tot_two_svn = redshoulder_sorted_df[total_two_svteen]"
      ],
      "execution_count": 0,
      "outputs": []
    },
    {
      "cell_type": "code",
      "metadata": {
        "id": "pxXMTZVseeHA",
        "colab_type": "code",
        "outputId": "65242ace-1f40-48c8-a28d-99786449d860",
        "colab": {
          "base_uri": "https://localhost:8080/",
          "height": 68
        }
      },
      "source": [
        "print(species_tot_two_thou['SpeciesTotal'].sum(axis=0))\n",
        "print(species_tot_two_thou_eight['SpeciesTotal'].sum(axis=0))\n",
        "print(species_tot_two_svn['SpeciesTotal'].sum(axis=0))"
      ],
      "execution_count": 79,
      "outputs": [
        {
          "output_type": "stream",
          "text": [
            "15\n",
            "27\n",
            "46\n"
          ],
          "name": "stdout"
        }
      ]
    },
    {
      "cell_type": "code",
      "metadata": {
        "id": "Q7lu5MLSejiL",
        "colab_type": "code",
        "outputId": "53436dab-7761-40f7-ed70-f352a558f366",
        "colab": {
          "base_uri": "https://localhost:8080/",
          "height": 49
        }
      },
      "source": [
        "# Creating an empty Dataframe with column names only\n",
        "redshoulder_df = pd.DataFrame(columns=['Year', 'Redshoulder_ID', 'Red_Shoulder_Yr_Total'])\n",
        "redshoulder_df"
      ],
      "execution_count": 80,
      "outputs": [
        {
          "output_type": "execute_result",
          "data": {
            "text/html": [
              "<div>\n",
              "<style scoped>\n",
              "    .dataframe tbody tr th:only-of-type {\n",
              "        vertical-align: middle;\n",
              "    }\n",
              "\n",
              "    .dataframe tbody tr th {\n",
              "        vertical-align: top;\n",
              "    }\n",
              "\n",
              "    .dataframe thead th {\n",
              "        text-align: right;\n",
              "    }\n",
              "</style>\n",
              "<table border=\"1\" class=\"dataframe\">\n",
              "  <thead>\n",
              "    <tr style=\"text-align: right;\">\n",
              "      <th></th>\n",
              "      <th>Year</th>\n",
              "      <th>Redshoulder_ID</th>\n",
              "      <th>Red_Shoulder_Yr_Total</th>\n",
              "    </tr>\n",
              "  </thead>\n",
              "  <tbody>\n",
              "  </tbody>\n",
              "</table>\n",
              "</div>"
            ],
            "text/plain": [
              "Empty DataFrame\n",
              "Columns: [Year, Redshoulder_ID, Red_Shoulder_Yr_Total]\n",
              "Index: []"
            ]
          },
          "metadata": {
            "tags": []
          },
          "execution_count": 80
        }
      ]
    },
    {
      "cell_type": "code",
      "metadata": {
        "id": "JVVV4Yy7euqA",
        "colab_type": "code",
        "colab": {}
      },
      "source": [
        "# Last row should hit the if statement to append: 6365103\n",
        "x = 1966\n",
        "tot = 0\n",
        "for ind in redshoulder_sorted_df.index: \n",
        "     if (redshoulder_sorted_df['Year'][ind] == x):\n",
        "       tot += (redshoulder_sorted_df['SpeciesTotal'][ind])\n",
        "       if redshoulder_sorted_df['index'][ind] == 386:\n",
        "         redshoulder_df = redshoulder_df.append({'Year': int(x), 'Redshoulder_ID': int(3390), 'Red_Shoulder_Yr_Total': int(tot)}, ignore_index=True)\n",
        "         break\n",
        "     else:\n",
        "       redshoulder_df = redshoulder_df.append({'Year': int(x), 'Redshoulder_ID': int(3390), 'Red_Shoulder_Yr_Total': int(tot)}, ignore_index=True)\n",
        "       x += 1\n",
        "       tot = 0\n",
        "       tot += (redshoulder_sorted_df['SpeciesTotal'][ind])"
      ],
      "execution_count": 0,
      "outputs": []
    },
    {
      "cell_type": "code",
      "metadata": {
        "id": "GtkTJExsfjAj",
        "colab_type": "code",
        "outputId": "ed42d623-559a-4dbe-b2ff-05e3eea34947",
        "colab": {
          "base_uri": "https://localhost:8080/",
          "height": 204
        }
      },
      "source": [
        "redshoulder_df.head()"
      ],
      "execution_count": 83,
      "outputs": [
        {
          "output_type": "execute_result",
          "data": {
            "text/html": [
              "<div>\n",
              "<style scoped>\n",
              "    .dataframe tbody tr th:only-of-type {\n",
              "        vertical-align: middle;\n",
              "    }\n",
              "\n",
              "    .dataframe tbody tr th {\n",
              "        vertical-align: top;\n",
              "    }\n",
              "\n",
              "    .dataframe thead th {\n",
              "        text-align: right;\n",
              "    }\n",
              "</style>\n",
              "<table border=\"1\" class=\"dataframe\">\n",
              "  <thead>\n",
              "    <tr style=\"text-align: right;\">\n",
              "      <th></th>\n",
              "      <th>Year</th>\n",
              "      <th>Redshoulder_ID</th>\n",
              "      <th>Red_Shoulder_Yr_Total</th>\n",
              "    </tr>\n",
              "  </thead>\n",
              "  <tbody>\n",
              "    <tr>\n",
              "      <th>0</th>\n",
              "      <td>1966</td>\n",
              "      <td>3390</td>\n",
              "      <td>7</td>\n",
              "    </tr>\n",
              "    <tr>\n",
              "      <th>1</th>\n",
              "      <td>1967</td>\n",
              "      <td>3390</td>\n",
              "      <td>8</td>\n",
              "    </tr>\n",
              "    <tr>\n",
              "      <th>2</th>\n",
              "      <td>1968</td>\n",
              "      <td>3390</td>\n",
              "      <td>6</td>\n",
              "    </tr>\n",
              "    <tr>\n",
              "      <th>3</th>\n",
              "      <td>1969</td>\n",
              "      <td>3390</td>\n",
              "      <td>4</td>\n",
              "    </tr>\n",
              "    <tr>\n",
              "      <th>4</th>\n",
              "      <td>1970</td>\n",
              "      <td>3390</td>\n",
              "      <td>8</td>\n",
              "    </tr>\n",
              "  </tbody>\n",
              "</table>\n",
              "</div>"
            ],
            "text/plain": [
              "   Year Redshoulder_ID Red_Shoulder_Yr_Total\n",
              "0  1966           3390                     7\n",
              "1  1967           3390                     8\n",
              "2  1968           3390                     6\n",
              "3  1969           3390                     4\n",
              "4  1970           3390                     8"
            ]
          },
          "metadata": {
            "tags": []
          },
          "execution_count": 83
        }
      ]
    },
    {
      "cell_type": "code",
      "metadata": {
        "id": "7h9ENx9pf02f",
        "colab_type": "code",
        "outputId": "2e88c175-3bbd-4a15-d979-3b356881a43e",
        "colab": {
          "base_uri": "https://localhost:8080/",
          "height": 607
        }
      },
      "source": [
        "# 15 for 2000, 27 for 2008, 46 for 2017\n",
        "redshoulder_df.tail(18)"
      ],
      "execution_count": 84,
      "outputs": [
        {
          "output_type": "execute_result",
          "data": {
            "text/html": [
              "<div>\n",
              "<style scoped>\n",
              "    .dataframe tbody tr th:only-of-type {\n",
              "        vertical-align: middle;\n",
              "    }\n",
              "\n",
              "    .dataframe tbody tr th {\n",
              "        vertical-align: top;\n",
              "    }\n",
              "\n",
              "    .dataframe thead th {\n",
              "        text-align: right;\n",
              "    }\n",
              "</style>\n",
              "<table border=\"1\" class=\"dataframe\">\n",
              "  <thead>\n",
              "    <tr style=\"text-align: right;\">\n",
              "      <th></th>\n",
              "      <th>Year</th>\n",
              "      <th>Redshoulder_ID</th>\n",
              "      <th>Red_Shoulder_Yr_Total</th>\n",
              "    </tr>\n",
              "  </thead>\n",
              "  <tbody>\n",
              "    <tr>\n",
              "      <th>34</th>\n",
              "      <td>2000</td>\n",
              "      <td>3390</td>\n",
              "      <td>15</td>\n",
              "    </tr>\n",
              "    <tr>\n",
              "      <th>35</th>\n",
              "      <td>2001</td>\n",
              "      <td>3390</td>\n",
              "      <td>18</td>\n",
              "    </tr>\n",
              "    <tr>\n",
              "      <th>36</th>\n",
              "      <td>2002</td>\n",
              "      <td>3390</td>\n",
              "      <td>15</td>\n",
              "    </tr>\n",
              "    <tr>\n",
              "      <th>37</th>\n",
              "      <td>2003</td>\n",
              "      <td>3390</td>\n",
              "      <td>13</td>\n",
              "    </tr>\n",
              "    <tr>\n",
              "      <th>38</th>\n",
              "      <td>2004</td>\n",
              "      <td>3390</td>\n",
              "      <td>18</td>\n",
              "    </tr>\n",
              "    <tr>\n",
              "      <th>39</th>\n",
              "      <td>2005</td>\n",
              "      <td>3390</td>\n",
              "      <td>22</td>\n",
              "    </tr>\n",
              "    <tr>\n",
              "      <th>40</th>\n",
              "      <td>2006</td>\n",
              "      <td>3390</td>\n",
              "      <td>33</td>\n",
              "    </tr>\n",
              "    <tr>\n",
              "      <th>41</th>\n",
              "      <td>2007</td>\n",
              "      <td>3390</td>\n",
              "      <td>25</td>\n",
              "    </tr>\n",
              "    <tr>\n",
              "      <th>42</th>\n",
              "      <td>2008</td>\n",
              "      <td>3390</td>\n",
              "      <td>27</td>\n",
              "    </tr>\n",
              "    <tr>\n",
              "      <th>43</th>\n",
              "      <td>2009</td>\n",
              "      <td>3390</td>\n",
              "      <td>41</td>\n",
              "    </tr>\n",
              "    <tr>\n",
              "      <th>44</th>\n",
              "      <td>2010</td>\n",
              "      <td>3390</td>\n",
              "      <td>39</td>\n",
              "    </tr>\n",
              "    <tr>\n",
              "      <th>45</th>\n",
              "      <td>2011</td>\n",
              "      <td>3390</td>\n",
              "      <td>31</td>\n",
              "    </tr>\n",
              "    <tr>\n",
              "      <th>46</th>\n",
              "      <td>2012</td>\n",
              "      <td>3390</td>\n",
              "      <td>48</td>\n",
              "    </tr>\n",
              "    <tr>\n",
              "      <th>47</th>\n",
              "      <td>2013</td>\n",
              "      <td>3390</td>\n",
              "      <td>35</td>\n",
              "    </tr>\n",
              "    <tr>\n",
              "      <th>48</th>\n",
              "      <td>2014</td>\n",
              "      <td>3390</td>\n",
              "      <td>41</td>\n",
              "    </tr>\n",
              "    <tr>\n",
              "      <th>49</th>\n",
              "      <td>2015</td>\n",
              "      <td>3390</td>\n",
              "      <td>28</td>\n",
              "    </tr>\n",
              "    <tr>\n",
              "      <th>50</th>\n",
              "      <td>2016</td>\n",
              "      <td>3390</td>\n",
              "      <td>36</td>\n",
              "    </tr>\n",
              "    <tr>\n",
              "      <th>51</th>\n",
              "      <td>2017</td>\n",
              "      <td>3390</td>\n",
              "      <td>46</td>\n",
              "    </tr>\n",
              "  </tbody>\n",
              "</table>\n",
              "</div>"
            ],
            "text/plain": [
              "    Year Redshoulder_ID Red_Shoulder_Yr_Total\n",
              "34  2000           3390                    15\n",
              "35  2001           3390                    18\n",
              "36  2002           3390                    15\n",
              "37  2003           3390                    13\n",
              "38  2004           3390                    18\n",
              "39  2005           3390                    22\n",
              "40  2006           3390                    33\n",
              "41  2007           3390                    25\n",
              "42  2008           3390                    27\n",
              "43  2009           3390                    41\n",
              "44  2010           3390                    39\n",
              "45  2011           3390                    31\n",
              "46  2012           3390                    48\n",
              "47  2013           3390                    35\n",
              "48  2014           3390                    41\n",
              "49  2015           3390                    28\n",
              "50  2016           3390                    36\n",
              "51  2017           3390                    46"
            ]
          },
          "metadata": {
            "tags": []
          },
          "execution_count": 84
        }
      ]
    },
    {
      "cell_type": "code",
      "metadata": {
        "id": "YjXMH8gHgFtx",
        "colab_type": "code",
        "colab": {}
      },
      "source": [
        "redshoulder_df['Year'] = redshoulder_df['Year'].astype(str).astype(int)\n",
        "redshoulder_df['Redshoulder_ID'] = redshoulder_df['Redshoulder_ID'].astype(str).astype(int)\n",
        "redshoulder_df['Red_Shoulder_Yr_Total'] = redshoulder_df['Red_Shoulder_Yr_Total'].astype(str).astype(int)"
      ],
      "execution_count": 0,
      "outputs": []
    },
    {
      "cell_type": "code",
      "metadata": {
        "id": "FDEKYFglgVoU",
        "colab_type": "code",
        "outputId": "f409e601-29f7-4302-f13c-435b34f72ddf",
        "colab": {
          "base_uri": "https://localhost:8080/",
          "height": 85
        }
      },
      "source": [
        "redshoulder_df.dtypes"
      ],
      "execution_count": 86,
      "outputs": [
        {
          "output_type": "execute_result",
          "data": {
            "text/plain": [
              "Year                     int64\n",
              "Redshoulder_ID           int64\n",
              "Red_Shoulder_Yr_Total    int64\n",
              "dtype: object"
            ]
          },
          "metadata": {
            "tags": []
          },
          "execution_count": 86
        }
      ]
    },
    {
      "cell_type": "code",
      "metadata": {
        "id": "C4Qap-YwmYoi",
        "colab_type": "code",
        "outputId": "8a5423b2-79f3-48f4-e667-867fc00ce722",
        "colab": {
          "base_uri": "https://localhost:8080/",
          "height": 333
        }
      },
      "source": [
        "plt.style.use('default')\n",
        "ax = redshoulder_df.plot(kind='scatter', x='Year', y='Red_Shoulder_Yr_Total', figsize=(5,3))\n",
        "ax.set_title(\"Yearly Cenus Count of RedShoulder Hawks\", fontweight=\"bold\");"
      ],
      "execution_count": 87,
      "outputs": [
        {
          "output_type": "display_data",
          "data": {
            "image/png": "[encoded data removed]",
            "text/plain": [
              "<Figure size 500x300 with 1 Axes>"
            ]
          },
          "metadata": {
            "tags": []
          }
        }
      ]
    },
    {
      "cell_type": "code",
      "metadata": {
        "id": "DOL9C3jfqpin",
        "colab_type": "code",
        "outputId": "d987ffbf-bf9a-4b60-f708-32757d1449da",
        "colab": {
          "base_uri": "https://localhost:8080/",
          "height": 204
        }
      },
      "source": [
        "resulting_df = pd.merge(redtail_df, redshoulder_df, on = ['Year'], how = 'inner')\n",
        "resulting_df.head()"
      ],
      "execution_count": 88,
      "outputs": [
        {
          "output_type": "execute_result",
          "data": {
            "text/html": [
              "<div>\n",
              "<style scoped>\n",
              "    .dataframe tbody tr th:only-of-type {\n",
              "        vertical-align: middle;\n",
              "    }\n",
              "\n",
              "    .dataframe tbody tr th {\n",
              "        vertical-align: top;\n",
              "    }\n",
              "\n",
              "    .dataframe thead th {\n",
              "        text-align: right;\n",
              "    }\n",
              "</style>\n",
              "<table border=\"1\" class=\"dataframe\">\n",
              "  <thead>\n",
              "    <tr style=\"text-align: right;\">\n",
              "      <th></th>\n",
              "      <th>Year</th>\n",
              "      <th>Redtail_ID</th>\n",
              "      <th>Red_Tail_Yr_Total</th>\n",
              "      <th>Redshoulder_ID</th>\n",
              "      <th>Red_Shoulder_Yr_Total</th>\n",
              "    </tr>\n",
              "  </thead>\n",
              "  <tbody>\n",
              "    <tr>\n",
              "      <th>0</th>\n",
              "      <td>1966</td>\n",
              "      <td>3330</td>\n",
              "      <td>5</td>\n",
              "      <td>3390</td>\n",
              "      <td>7</td>\n",
              "    </tr>\n",
              "    <tr>\n",
              "      <th>1</th>\n",
              "      <td>1967</td>\n",
              "      <td>3330</td>\n",
              "      <td>9</td>\n",
              "      <td>3390</td>\n",
              "      <td>8</td>\n",
              "    </tr>\n",
              "    <tr>\n",
              "      <th>2</th>\n",
              "      <td>1968</td>\n",
              "      <td>3330</td>\n",
              "      <td>11</td>\n",
              "      <td>3390</td>\n",
              "      <td>6</td>\n",
              "    </tr>\n",
              "    <tr>\n",
              "      <th>3</th>\n",
              "      <td>1969</td>\n",
              "      <td>3330</td>\n",
              "      <td>7</td>\n",
              "      <td>3390</td>\n",
              "      <td>4</td>\n",
              "    </tr>\n",
              "    <tr>\n",
              "      <th>4</th>\n",
              "      <td>1970</td>\n",
              "      <td>3330</td>\n",
              "      <td>8</td>\n",
              "      <td>3390</td>\n",
              "      <td>8</td>\n",
              "    </tr>\n",
              "  </tbody>\n",
              "</table>\n",
              "</div>"
            ],
            "text/plain": [
              "   Year  Redtail_ID  Red_Tail_Yr_Total  Redshoulder_ID  Red_Shoulder_Yr_Total\n",
              "0  1966        3330                  5            3390                      7\n",
              "1  1967        3330                  9            3390                      8\n",
              "2  1968        3330                 11            3390                      6\n",
              "3  1969        3330                  7            3390                      4\n",
              "4  1970        3330                  8            3390                      8"
            ]
          },
          "metadata": {
            "tags": []
          },
          "execution_count": 88
        }
      ]
    },
    {
      "cell_type": "code",
      "metadata": {
        "id": "tzhn0t2MrGT_",
        "colab_type": "code",
        "outputId": "f676389b-6694-4a42-db49-e1ff00746c74",
        "colab": {
          "base_uri": "https://localhost:8080/",
          "height": 1000
        }
      },
      "source": [
        "finished_df = pd.merge(resulting_df, coop_df, on = ['Year'], how = 'inner')\n",
        "finished_df"
      ],
      "execution_count": 115,
      "outputs": [
        {
          "output_type": "execute_result",
          "data": {
            "text/html": [
              "<div>\n",
              "<style scoped>\n",
              "    .dataframe tbody tr th:only-of-type {\n",
              "        vertical-align: middle;\n",
              "    }\n",
              "\n",
              "    .dataframe tbody tr th {\n",
              "        vertical-align: top;\n",
              "    }\n",
              "\n",
              "    .dataframe thead th {\n",
              "        text-align: right;\n",
              "    }\n",
              "</style>\n",
              "<table border=\"1\" class=\"dataframe\">\n",
              "  <thead>\n",
              "    <tr style=\"text-align: right;\">\n",
              "      <th></th>\n",
              "      <th>Year</th>\n",
              "      <th>Redtail_ID</th>\n",
              "      <th>Red_Tail_Yr_Total</th>\n",
              "      <th>Redshoulder_ID</th>\n",
              "      <th>Red_Shoulder_Yr_Total</th>\n",
              "      <th>Coopers_ID</th>\n",
              "      <th>Cooper_Hawk_Yr_Total</th>\n",
              "    </tr>\n",
              "  </thead>\n",
              "  <tbody>\n",
              "    <tr>\n",
              "      <th>0</th>\n",
              "      <td>1966</td>\n",
              "      <td>3330</td>\n",
              "      <td>5</td>\n",
              "      <td>3390</td>\n",
              "      <td>7</td>\n",
              "      <td>3330</td>\n",
              "      <td>3</td>\n",
              "    </tr>\n",
              "    <tr>\n",
              "      <th>1</th>\n",
              "      <td>1967</td>\n",
              "      <td>3330</td>\n",
              "      <td>9</td>\n",
              "      <td>3390</td>\n",
              "      <td>8</td>\n",
              "      <td>3330</td>\n",
              "      <td>2</td>\n",
              "    </tr>\n",
              "    <tr>\n",
              "      <th>2</th>\n",
              "      <td>1968</td>\n",
              "      <td>3330</td>\n",
              "      <td>11</td>\n",
              "      <td>3390</td>\n",
              "      <td>6</td>\n",
              "      <td>3330</td>\n",
              "      <td>1</td>\n",
              "    </tr>\n",
              "    <tr>\n",
              "      <th>3</th>\n",
              "      <td>1969</td>\n",
              "      <td>3330</td>\n",
              "      <td>7</td>\n",
              "      <td>3390</td>\n",
              "      <td>4</td>\n",
              "      <td>3330</td>\n",
              "      <td>2</td>\n",
              "    </tr>\n",
              "    <tr>\n",
              "      <th>4</th>\n",
              "      <td>1970</td>\n",
              "      <td>3330</td>\n",
              "      <td>8</td>\n",
              "      <td>3390</td>\n",
              "      <td>8</td>\n",
              "      <td>3330</td>\n",
              "      <td>3</td>\n",
              "    </tr>\n",
              "    <tr>\n",
              "      <th>5</th>\n",
              "      <td>1971</td>\n",
              "      <td>3330</td>\n",
              "      <td>12</td>\n",
              "      <td>3390</td>\n",
              "      <td>2</td>\n",
              "      <td>3330</td>\n",
              "      <td>1</td>\n",
              "    </tr>\n",
              "    <tr>\n",
              "      <th>6</th>\n",
              "      <td>1972</td>\n",
              "      <td>3330</td>\n",
              "      <td>22</td>\n",
              "      <td>3390</td>\n",
              "      <td>2</td>\n",
              "      <td>3330</td>\n",
              "      <td>1</td>\n",
              "    </tr>\n",
              "    <tr>\n",
              "      <th>7</th>\n",
              "      <td>1973</td>\n",
              "      <td>3330</td>\n",
              "      <td>20</td>\n",
              "      <td>3390</td>\n",
              "      <td>5</td>\n",
              "      <td>3330</td>\n",
              "      <td>2</td>\n",
              "    </tr>\n",
              "    <tr>\n",
              "      <th>8</th>\n",
              "      <td>1974</td>\n",
              "      <td>3330</td>\n",
              "      <td>13</td>\n",
              "      <td>3390</td>\n",
              "      <td>7</td>\n",
              "      <td>3330</td>\n",
              "      <td>2</td>\n",
              "    </tr>\n",
              "    <tr>\n",
              "      <th>9</th>\n",
              "      <td>1975</td>\n",
              "      <td>3330</td>\n",
              "      <td>10</td>\n",
              "      <td>3390</td>\n",
              "      <td>9</td>\n",
              "      <td>3330</td>\n",
              "      <td>3</td>\n",
              "    </tr>\n",
              "    <tr>\n",
              "      <th>10</th>\n",
              "      <td>1976</td>\n",
              "      <td>3330</td>\n",
              "      <td>17</td>\n",
              "      <td>3390</td>\n",
              "      <td>5</td>\n",
              "      <td>3330</td>\n",
              "      <td>1</td>\n",
              "    </tr>\n",
              "    <tr>\n",
              "      <th>11</th>\n",
              "      <td>1977</td>\n",
              "      <td>3330</td>\n",
              "      <td>21</td>\n",
              "      <td>3390</td>\n",
              "      <td>7</td>\n",
              "      <td>3330</td>\n",
              "      <td>3</td>\n",
              "    </tr>\n",
              "    <tr>\n",
              "      <th>12</th>\n",
              "      <td>1978</td>\n",
              "      <td>3330</td>\n",
              "      <td>15</td>\n",
              "      <td>3390</td>\n",
              "      <td>3</td>\n",
              "      <td>3330</td>\n",
              "      <td>1</td>\n",
              "    </tr>\n",
              "    <tr>\n",
              "      <th>13</th>\n",
              "      <td>1979</td>\n",
              "      <td>3330</td>\n",
              "      <td>9</td>\n",
              "      <td>3390</td>\n",
              "      <td>1</td>\n",
              "      <td>3330</td>\n",
              "      <td>1</td>\n",
              "    </tr>\n",
              "    <tr>\n",
              "      <th>14</th>\n",
              "      <td>1980</td>\n",
              "      <td>3330</td>\n",
              "      <td>9</td>\n",
              "      <td>3390</td>\n",
              "      <td>3</td>\n",
              "      <td>3330</td>\n",
              "      <td>2</td>\n",
              "    </tr>\n",
              "    <tr>\n",
              "      <th>15</th>\n",
              "      <td>1981</td>\n",
              "      <td>3330</td>\n",
              "      <td>30</td>\n",
              "      <td>3390</td>\n",
              "      <td>6</td>\n",
              "      <td>3330</td>\n",
              "      <td>4</td>\n",
              "    </tr>\n",
              "    <tr>\n",
              "      <th>16</th>\n",
              "      <td>1982</td>\n",
              "      <td>3330</td>\n",
              "      <td>23</td>\n",
              "      <td>3390</td>\n",
              "      <td>7</td>\n",
              "      <td>3330</td>\n",
              "      <td>4</td>\n",
              "    </tr>\n",
              "    <tr>\n",
              "      <th>17</th>\n",
              "      <td>1983</td>\n",
              "      <td>3330</td>\n",
              "      <td>25</td>\n",
              "      <td>3390</td>\n",
              "      <td>8</td>\n",
              "      <td>3330</td>\n",
              "      <td>2</td>\n",
              "    </tr>\n",
              "    <tr>\n",
              "      <th>18</th>\n",
              "      <td>1984</td>\n",
              "      <td>3330</td>\n",
              "      <td>12</td>\n",
              "      <td>3390</td>\n",
              "      <td>2</td>\n",
              "      <td>3330</td>\n",
              "      <td>6</td>\n",
              "    </tr>\n",
              "    <tr>\n",
              "      <th>19</th>\n",
              "      <td>1985</td>\n",
              "      <td>3330</td>\n",
              "      <td>22</td>\n",
              "      <td>3390</td>\n",
              "      <td>3</td>\n",
              "      <td>3330</td>\n",
              "      <td>1</td>\n",
              "    </tr>\n",
              "    <tr>\n",
              "      <th>20</th>\n",
              "      <td>1986</td>\n",
              "      <td>3330</td>\n",
              "      <td>22</td>\n",
              "      <td>3390</td>\n",
              "      <td>5</td>\n",
              "      <td>3330</td>\n",
              "      <td>4</td>\n",
              "    </tr>\n",
              "    <tr>\n",
              "      <th>21</th>\n",
              "      <td>1987</td>\n",
              "      <td>3330</td>\n",
              "      <td>11</td>\n",
              "      <td>3390</td>\n",
              "      <td>4</td>\n",
              "      <td>3330</td>\n",
              "      <td>3</td>\n",
              "    </tr>\n",
              "    <tr>\n",
              "      <th>22</th>\n",
              "      <td>1988</td>\n",
              "      <td>3330</td>\n",
              "      <td>35</td>\n",
              "      <td>3390</td>\n",
              "      <td>6</td>\n",
              "      <td>3330</td>\n",
              "      <td>6</td>\n",
              "    </tr>\n",
              "    <tr>\n",
              "      <th>23</th>\n",
              "      <td>1989</td>\n",
              "      <td>3330</td>\n",
              "      <td>17</td>\n",
              "      <td>3390</td>\n",
              "      <td>3</td>\n",
              "      <td>3330</td>\n",
              "      <td>3</td>\n",
              "    </tr>\n",
              "    <tr>\n",
              "      <th>24</th>\n",
              "      <td>1990</td>\n",
              "      <td>3330</td>\n",
              "      <td>24</td>\n",
              "      <td>3390</td>\n",
              "      <td>7</td>\n",
              "      <td>3330</td>\n",
              "      <td>6</td>\n",
              "    </tr>\n",
              "    <tr>\n",
              "      <th>25</th>\n",
              "      <td>1991</td>\n",
              "      <td>3330</td>\n",
              "      <td>22</td>\n",
              "      <td>3390</td>\n",
              "      <td>3</td>\n",
              "      <td>3330</td>\n",
              "      <td>5</td>\n",
              "    </tr>\n",
              "    <tr>\n",
              "      <th>26</th>\n",
              "      <td>1992</td>\n",
              "      <td>3330</td>\n",
              "      <td>33</td>\n",
              "      <td>3390</td>\n",
              "      <td>5</td>\n",
              "      <td>3330</td>\n",
              "      <td>5</td>\n",
              "    </tr>\n",
              "    <tr>\n",
              "      <th>27</th>\n",
              "      <td>1993</td>\n",
              "      <td>3330</td>\n",
              "      <td>27</td>\n",
              "      <td>3390</td>\n",
              "      <td>9</td>\n",
              "      <td>3330</td>\n",
              "      <td>4</td>\n",
              "    </tr>\n",
              "    <tr>\n",
              "      <th>28</th>\n",
              "      <td>1994</td>\n",
              "      <td>3330</td>\n",
              "      <td>15</td>\n",
              "      <td>3390</td>\n",
              "      <td>10</td>\n",
              "      <td>3330</td>\n",
              "      <td>3</td>\n",
              "    </tr>\n",
              "    <tr>\n",
              "      <th>29</th>\n",
              "      <td>1995</td>\n",
              "      <td>3330</td>\n",
              "      <td>26</td>\n",
              "      <td>3390</td>\n",
              "      <td>7</td>\n",
              "      <td>3330</td>\n",
              "      <td>4</td>\n",
              "    </tr>\n",
              "    <tr>\n",
              "      <th>30</th>\n",
              "      <td>1996</td>\n",
              "      <td>3330</td>\n",
              "      <td>13</td>\n",
              "      <td>3390</td>\n",
              "      <td>7</td>\n",
              "      <td>3330</td>\n",
              "      <td>2</td>\n",
              "    </tr>\n",
              "    <tr>\n",
              "      <th>31</th>\n",
              "      <td>1997</td>\n",
              "      <td>3330</td>\n",
              "      <td>19</td>\n",
              "      <td>3390</td>\n",
              "      <td>4</td>\n",
              "      <td>3330</td>\n",
              "      <td>1</td>\n",
              "    </tr>\n",
              "    <tr>\n",
              "      <th>32</th>\n",
              "      <td>1998</td>\n",
              "      <td>3330</td>\n",
              "      <td>24</td>\n",
              "      <td>3390</td>\n",
              "      <td>4</td>\n",
              "      <td>3330</td>\n",
              "      <td>2</td>\n",
              "    </tr>\n",
              "    <tr>\n",
              "      <th>33</th>\n",
              "      <td>1999</td>\n",
              "      <td>3330</td>\n",
              "      <td>28</td>\n",
              "      <td>3390</td>\n",
              "      <td>8</td>\n",
              "      <td>3330</td>\n",
              "      <td>11</td>\n",
              "    </tr>\n",
              "    <tr>\n",
              "      <th>34</th>\n",
              "      <td>2000</td>\n",
              "      <td>3330</td>\n",
              "      <td>37</td>\n",
              "      <td>3390</td>\n",
              "      <td>15</td>\n",
              "      <td>3330</td>\n",
              "      <td>9</td>\n",
              "    </tr>\n",
              "    <tr>\n",
              "      <th>35</th>\n",
              "      <td>2001</td>\n",
              "      <td>3330</td>\n",
              "      <td>50</td>\n",
              "      <td>3390</td>\n",
              "      <td>18</td>\n",
              "      <td>3330</td>\n",
              "      <td>4</td>\n",
              "    </tr>\n",
              "    <tr>\n",
              "      <th>36</th>\n",
              "      <td>2002</td>\n",
              "      <td>3330</td>\n",
              "      <td>29</td>\n",
              "      <td>3390</td>\n",
              "      <td>15</td>\n",
              "      <td>3330</td>\n",
              "      <td>4</td>\n",
              "    </tr>\n",
              "    <tr>\n",
              "      <th>37</th>\n",
              "      <td>2003</td>\n",
              "      <td>3330</td>\n",
              "      <td>26</td>\n",
              "      <td>3390</td>\n",
              "      <td>13</td>\n",
              "      <td>3330</td>\n",
              "      <td>8</td>\n",
              "    </tr>\n",
              "    <tr>\n",
              "      <th>38</th>\n",
              "      <td>2004</td>\n",
              "      <td>3330</td>\n",
              "      <td>17</td>\n",
              "      <td>3390</td>\n",
              "      <td>18</td>\n",
              "      <td>3330</td>\n",
              "      <td>8</td>\n",
              "    </tr>\n",
              "    <tr>\n",
              "      <th>39</th>\n",
              "      <td>2005</td>\n",
              "      <td>3330</td>\n",
              "      <td>31</td>\n",
              "      <td>3390</td>\n",
              "      <td>22</td>\n",
              "      <td>3330</td>\n",
              "      <td>10</td>\n",
              "    </tr>\n",
              "    <tr>\n",
              "      <th>40</th>\n",
              "      <td>2006</td>\n",
              "      <td>3330</td>\n",
              "      <td>34</td>\n",
              "      <td>3390</td>\n",
              "      <td>33</td>\n",
              "      <td>3330</td>\n",
              "      <td>10</td>\n",
              "    </tr>\n",
              "    <tr>\n",
              "      <th>41</th>\n",
              "      <td>2007</td>\n",
              "      <td>3330</td>\n",
              "      <td>46</td>\n",
              "      <td>3390</td>\n",
              "      <td>25</td>\n",
              "      <td>3330</td>\n",
              "      <td>8</td>\n",
              "    </tr>\n",
              "    <tr>\n",
              "      <th>42</th>\n",
              "      <td>2008</td>\n",
              "      <td>3330</td>\n",
              "      <td>28</td>\n",
              "      <td>3390</td>\n",
              "      <td>27</td>\n",
              "      <td>3330</td>\n",
              "      <td>13</td>\n",
              "    </tr>\n",
              "    <tr>\n",
              "      <th>43</th>\n",
              "      <td>2009</td>\n",
              "      <td>3330</td>\n",
              "      <td>31</td>\n",
              "      <td>3390</td>\n",
              "      <td>41</td>\n",
              "      <td>3330</td>\n",
              "      <td>12</td>\n",
              "    </tr>\n",
              "    <tr>\n",
              "      <th>44</th>\n",
              "      <td>2010</td>\n",
              "      <td>3330</td>\n",
              "      <td>50</td>\n",
              "      <td>3390</td>\n",
              "      <td>39</td>\n",
              "      <td>3330</td>\n",
              "      <td>12</td>\n",
              "    </tr>\n",
              "    <tr>\n",
              "      <th>45</th>\n",
              "      <td>2011</td>\n",
              "      <td>3330</td>\n",
              "      <td>28</td>\n",
              "      <td>3390</td>\n",
              "      <td>31</td>\n",
              "      <td>3330</td>\n",
              "      <td>7</td>\n",
              "    </tr>\n",
              "    <tr>\n",
              "      <th>46</th>\n",
              "      <td>2012</td>\n",
              "      <td>3330</td>\n",
              "      <td>48</td>\n",
              "      <td>3390</td>\n",
              "      <td>48</td>\n",
              "      <td>3330</td>\n",
              "      <td>11</td>\n",
              "    </tr>\n",
              "    <tr>\n",
              "      <th>47</th>\n",
              "      <td>2013</td>\n",
              "      <td>3330</td>\n",
              "      <td>35</td>\n",
              "      <td>3390</td>\n",
              "      <td>35</td>\n",
              "      <td>3330</td>\n",
              "      <td>5</td>\n",
              "    </tr>\n",
              "    <tr>\n",
              "      <th>48</th>\n",
              "      <td>2014</td>\n",
              "      <td>3330</td>\n",
              "      <td>37</td>\n",
              "      <td>3390</td>\n",
              "      <td>41</td>\n",
              "      <td>3330</td>\n",
              "      <td>9</td>\n",
              "    </tr>\n",
              "    <tr>\n",
              "      <th>49</th>\n",
              "      <td>2015</td>\n",
              "      <td>3330</td>\n",
              "      <td>33</td>\n",
              "      <td>3390</td>\n",
              "      <td>28</td>\n",
              "      <td>3330</td>\n",
              "      <td>3</td>\n",
              "    </tr>\n",
              "    <tr>\n",
              "      <th>50</th>\n",
              "      <td>2016</td>\n",
              "      <td>3330</td>\n",
              "      <td>56</td>\n",
              "      <td>3390</td>\n",
              "      <td>36</td>\n",
              "      <td>3330</td>\n",
              "      <td>5</td>\n",
              "    </tr>\n",
              "    <tr>\n",
              "      <th>51</th>\n",
              "      <td>2017</td>\n",
              "      <td>3330</td>\n",
              "      <td>56</td>\n",
              "      <td>3390</td>\n",
              "      <td>46</td>\n",
              "      <td>3330</td>\n",
              "      <td>8</td>\n",
              "    </tr>\n",
              "  </tbody>\n",
              "</table>\n",
              "</div>"
            ],
            "text/plain": [
              "    Year  Redtail_ID  ...  Coopers_ID  Cooper_Hawk_Yr_Total\n",
              "0   1966        3330  ...        3330                     3\n",
              "1   1967        3330  ...        3330                     2\n",
              "2   1968        3330  ...        3330                     1\n",
              "3   1969        3330  ...        3330                     2\n",
              "4   1970        3330  ...        3330                     3\n",
              "5   1971        3330  ...        3330                     1\n",
              "6   1972        3330  ...        3330                     1\n",
              "7   1973        3330  ...        3330                     2\n",
              "8   1974        3330  ...        3330                     2\n",
              "9   1975        3330  ...        3330                     3\n",
              "10  1976        3330  ...        3330                     1\n",
              "11  1977        3330  ...        3330                     3\n",
              "12  1978        3330  ...        3330                     1\n",
              "13  1979        3330  ...        3330                     1\n",
              "14  1980        3330  ...        3330                     2\n",
              "15  1981        3330  ...        3330                     4\n",
              "16  1982        3330  ...        3330                     4\n",
              "17  1983        3330  ...        3330                     2\n",
              "18  1984        3330  ...        3330                     6\n",
              "19  1985        3330  ...        3330                     1\n",
              "20  1986        3330  ...        3330                     4\n",
              "21  1987        3330  ...        3330                     3\n",
              "22  1988        3330  ...        3330                     6\n",
              "23  1989        3330  ...        3330                     3\n",
              "24  1990        3330  ...        3330                     6\n",
              "25  1991        3330  ...        3330                     5\n",
              "26  1992        3330  ...        3330                     5\n",
              "27  1993        3330  ...        3330                     4\n",
              "28  1994        3330  ...        3330                     3\n",
              "29  1995        3330  ...        3330                     4\n",
              "30  1996        3330  ...        3330                     2\n",
              "31  1997        3330  ...        3330                     1\n",
              "32  1998        3330  ...        3330                     2\n",
              "33  1999        3330  ...        3330                    11\n",
              "34  2000        3330  ...        3330                     9\n",
              "35  2001        3330  ...        3330                     4\n",
              "36  2002        3330  ...        3330                     4\n",
              "37  2003        3330  ...        3330                     8\n",
              "38  2004        3330  ...        3330                     8\n",
              "39  2005        3330  ...        3330                    10\n",
              "40  2006        3330  ...        3330                    10\n",
              "41  2007        3330  ...        3330                     8\n",
              "42  2008        3330  ...        3330                    13\n",
              "43  2009        3330  ...        3330                    12\n",
              "44  2010        3330  ...        3330                    12\n",
              "45  2011        3330  ...        3330                     7\n",
              "46  2012        3330  ...        3330                    11\n",
              "47  2013        3330  ...        3330                     5\n",
              "48  2014        3330  ...        3330                     9\n",
              "49  2015        3330  ...        3330                     3\n",
              "50  2016        3330  ...        3330                     5\n",
              "51  2017        3330  ...        3330                     8\n",
              "\n",
              "[52 rows x 7 columns]"
            ]
          },
          "metadata": {
            "tags": []
          },
          "execution_count": 115
        }
      ]
    },
    {
      "cell_type": "code",
      "metadata": {
        "id": "vcoDOOiTr8wx",
        "colab_type": "code",
        "outputId": "708d4581-d17e-4f9c-b796-9ac7131b203b",
        "colab": {
          "base_uri": "https://localhost:8080/",
          "height": 388
        }
      },
      "source": [
        "plt.style.use('default')\n",
        "ax = plt.gca()\n",
        "\n",
        "finished_df.plot(kind='scatter',x='Year',y='Red_Tail_Yr_Total', c = '#f57905', s = 100, alpha = 0.9, figsize=(6,4), ax=ax)\n",
        "finished_df.plot(kind='scatter',x='Year',y='Red_Shoulder_Yr_Total', c = '#1ABC9C', s = 100, alpha = 0.9, figsize=(6,4), ax=ax)\n",
        "finished_df.plot(kind='scatter',x='Year',y='Cooper_Hawk_Yr_Total', c = '#2E86C1', s = 100, alpha = 0.7, figsize=(6,4), ax=ax)\n",
        "ax.set_facecolor(\"#e4f2f2\")\n",
        "\n",
        "plt.show()\n"
      ],
      "execution_count": 90,
      "outputs": [
        {
          "output_type": "display_data",
          "data": {
            "image/png": "[encoded data removed]",
            "text/plain": [
              "<Figure size 600x400 with 1 Axes>"
            ]
          },
          "metadata": {
            "tags": []
          }
        }
      ]
    },
    {
      "cell_type": "code",
      "metadata": {
        "id": "CtthHd09CCKW",
        "colab_type": "code",
        "outputId": "d777a170-9c30-45be-a07d-72b1a552dec0",
        "colab": {
          "base_uri": "https://localhost:8080/",
          "height": 111
        }
      },
      "source": [
        "finished_df.head(2)"
      ],
      "execution_count": 91,
      "outputs": [
        {
          "output_type": "execute_result",
          "data": {
            "text/html": [
              "<div>\n",
              "<style scoped>\n",
              "    .dataframe tbody tr th:only-of-type {\n",
              "        vertical-align: middle;\n",
              "    }\n",
              "\n",
              "    .dataframe tbody tr th {\n",
              "        vertical-align: top;\n",
              "    }\n",
              "\n",
              "    .dataframe thead th {\n",
              "        text-align: right;\n",
              "    }\n",
              "</style>\n",
              "<table border=\"1\" class=\"dataframe\">\n",
              "  <thead>\n",
              "    <tr style=\"text-align: right;\">\n",
              "      <th></th>\n",
              "      <th>Year</th>\n",
              "      <th>Redtail_ID</th>\n",
              "      <th>Red_Tail_Yr_Total</th>\n",
              "      <th>Redshoulder_ID</th>\n",
              "      <th>Red_Shoulder_Yr_Total</th>\n",
              "      <th>Coopers_ID</th>\n",
              "      <th>Cooper_Hawk_Yr_Total</th>\n",
              "    </tr>\n",
              "  </thead>\n",
              "  <tbody>\n",
              "    <tr>\n",
              "      <th>0</th>\n",
              "      <td>1966</td>\n",
              "      <td>3330</td>\n",
              "      <td>5</td>\n",
              "      <td>3390</td>\n",
              "      <td>7</td>\n",
              "      <td>3330</td>\n",
              "      <td>3</td>\n",
              "    </tr>\n",
              "    <tr>\n",
              "      <th>1</th>\n",
              "      <td>1967</td>\n",
              "      <td>3330</td>\n",
              "      <td>9</td>\n",
              "      <td>3390</td>\n",
              "      <td>8</td>\n",
              "      <td>3330</td>\n",
              "      <td>2</td>\n",
              "    </tr>\n",
              "  </tbody>\n",
              "</table>\n",
              "</div>"
            ],
            "text/plain": [
              "   Year  Redtail_ID  ...  Coopers_ID  Cooper_Hawk_Yr_Total\n",
              "0  1966        3330  ...        3330                     3\n",
              "1  1967        3330  ...        3330                     2\n",
              "\n",
              "[2 rows x 7 columns]"
            ]
          },
          "metadata": {
            "tags": []
          },
          "execution_count": 91
        }
      ]
    },
    {
      "cell_type": "code",
      "metadata": {
        "id": "mOpyDSN6AILx",
        "colab_type": "code",
        "outputId": "b099506b-c65f-4dc5-8e81-77c83ec6e0b1",
        "colab": {
          "base_uri": "https://localhost:8080/",
          "height": 477
        }
      },
      "source": [
        "plt.style.use('default')\n",
        "from matplotlib.patches import Patch\n",
        "from matplotlib.lines import Line2D\n",
        "\n",
        "fig, ax = plt.subplots(figsize=(7,5))\n",
        "finished_df.plot(x='Year', y='Red_Tail_Yr_Total', color=\"#11ff00\", lw=1, ls='-', marker='o', markersize=10, \n",
        "        markerfacecolor=\"#dbf294\", markeredgewidth=3, markeredgecolor=\"#68ff03\", ax = ax)\n",
        "finished_df.plot(x='Year', y='Red_Shoulder_Yr_Total', color=\"#00f7b1\", lw=1, ls='-', marker='o', markersize=10, \n",
        "        markerfacecolor=\"#00ffe5\", markeredgewidth=3, markeredgecolor=\"#9961ed\", ax = ax)\n",
        "finished_df.plot(x='Year', y='Cooper_Hawk_Yr_Total', color=\"#009cf0\", lw=1, ls='-', marker='o', markersize=10, \n",
        "        markerfacecolor=\"none\", markeredgewidth=3, markeredgecolor=\"#2ab7de\", ax = ax)\n",
        "ax.set_facecolor(\"#e4f2f2\")\n",
        "\n",
        "legend_elements = [Line2D([0], [0], color=\"#11ff00\", lw=1, ls='-', marker='o', markersize=12, \n",
        "        markerfacecolor=\"#dbf294\", markeredgewidth=3, markeredgecolor=\"#68ff03\", label='Red Tail Hawk'),\n",
        "                   Line2D([0], [0], color=\"#00f7b1\", lw=1, ls='-', marker='o', markersize=12, \n",
        "        markerfacecolor=\"#00ffe5\", markeredgewidth=3, markeredgecolor=\"#9961ed\", label='Red Shouldered Hawk'),\n",
        "                  Line2D([0], [0], color=\"#009cf0\", lw=1, ls='-', marker='o', markersize=12, \n",
        "        markerfacecolor=\"none\", markeredgewidth=3, markeredgecolor=\"#2ab7de\", label=\"Cooper's Hawk\")]\n",
        "\n",
        "ax.legend(handles=legend_elements, fontsize = 14)\n",
        "# Set the x and y axes labels\n",
        "ax.set_xlabel(\"Years\", fontsize=16)\n",
        "ax.set_ylabel(\"Yearly Counts At\\n Multiple Locations\", fontsize=14)\n",
        "plt.setp(ax.get_xticklabels(), rotation='horizontal', fontsize=16)\n",
        "plt.setp(ax.get_yticklabels(), rotation='horizontal', fontsize=16)\n",
        "plt.show()"
      ],
      "execution_count": 92,
      "outputs": [
        {
          "output_type": "display_data",
          "data": {
            "image/png": "[encoded data removed]",
            "text/plain": [
              "<Figure size 700x500 with 1 Axes>"
            ]
          },
          "metadata": {
            "tags": []
          }
        }
      ]
    },
    {
      "cell_type": "code",
      "metadata": {
        "id": "Flh8ljAJ9AUo",
        "colab_type": "code",
        "outputId": "e2199f5f-71ad-4f80-a967-c9e2e1b610ed",
        "colab": {
          "base_uri": "https://localhost:8080/",
          "height": 545
        }
      },
      "source": [
        "plt.style.use('default')\n",
        "fig, ax = plt.subplots(figsize = [8,5])\n",
        "finished_df.plot(x='Year', y='Red_Tail_Yr_Total', color = 'orange', marker ='s', markersize= 8, lw = 2, markerfacecolor= 'orange', markeredgecolor='orange', ax = ax)\n",
        "finished_df.plot(x='Year', y='Red_Shoulder_Yr_Total', color = 'green', marker ='^', markersize = 8, lw = 2, ls = '--', markerfacecolor= 'green', markeredgecolor= 'g', ax = ax)\n",
        "finished_df.plot(x='Year', y='Cooper_Hawk_Yr_Total', lw = 4, ls =':', color = 'blue', ax = ax)\n",
        "ax.set_facecolor(\"#e4f2f2\")\n",
        "\n",
        "\n",
        "L=plt.legend(fontsize = 14)\n",
        "L.get_texts()[0].set_text('Red Tail Hawk')\n",
        "L.get_texts()[1].set_text('Red Shouldered Hawk')\n",
        "L.get_texts()[2].set_text(\"Cooper's Hawk\")\n",
        "\n",
        "# Set the x and y axes labels\n",
        "ax.set_xticks(range(1966, 2020, 4))\n",
        "plt.xticks(\n",
        "    rotation=45, \n",
        "    horizontalalignment='right',\n",
        "    fontweight='light',\n",
        "    fontsize='12'  \n",
        ")\n",
        "\n",
        "ax.set_yticks(range(0, 65, 10))\n",
        "plt.yticks(\n",
        "    rotation=25, \n",
        "    horizontalalignment='right',\n",
        "    fontweight='bold',\n",
        "    fontsize='14'  \n",
        ")\n",
        "\n",
        "\n",
        "# Add title and axis names\n",
        "plt.title('3 Most Common Hawk Species in Kentucky\\nCounted in Different Locations Over 50 Years.', fontsize = 14)\n",
        "plt.xlabel('Years', fontsize = 16)\n",
        "plt.ylabel(\"Hawks Counted Per Year.\", fontsize = 14)\n",
        "\n",
        "plt.show()"
      ],
      "execution_count": 117,
      "outputs": [
        {
          "output_type": "display_data",
          "data": {
            "image/png": "[encoded data removed]",
            "text/plain": [
              "<Figure size 800x500 with 1 Axes>"
            ]
          },
          "metadata": {
            "tags": []
          }
        }
      ]
    }
  ]
}