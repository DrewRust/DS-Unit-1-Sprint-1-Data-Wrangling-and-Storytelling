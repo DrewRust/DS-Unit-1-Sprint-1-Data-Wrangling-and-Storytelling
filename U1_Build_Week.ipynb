{
  "nbformat": 4,
  "nbformat_minor": 0,
  "metadata": {
    "colab": {
      "name": "U1_Build_Week.ipynb",
      "provenance": [],
      "collapsed_sections": [],
      "authorship_tag": "ABX9TyOmcRjfmLX5AaFNqA/PYA0h",
      "include_colab_link": true
    },
    "kernelspec": {
      "name": "python3",
      "display_name": "Python 3"
    }
  },
  "cells": [
    {
      "cell_type": "markdown",
      "metadata": {
        "id": "view-in-github",
        "colab_type": "text"
      },
      "source": [
        "<a href=\"https://colab.research.google.com/github/DrewRust/DS-Unit-1-Sprint-1-Data-Wrangling-and-Storytelling/blob/master/U1_Build_Week.ipynb\" target=\"_parent\"><img src=\"https://colab.research.google.com/assets/colab-badge.svg\" alt=\"Open In Colab\"/></a>"
      ]
    },
    {
      "cell_type": "code",
      "metadata": {
        "id": "tDolnBxANxNx",
        "colab_type": "code",
        "colab": {}
      },
      "source": [
        "# Yet.\n",
        "## Impose Your will.\n",
        "import pandas as pd\n",
        "import numpy as np\n",
        "import matplotlib.pyplot as plt\n",
        "import seaborn as sns\n",
        "%matplotlib inline"
      ],
      "execution_count": 0,
      "outputs": []
    },
    {
      "cell_type": "code",
      "metadata": {
        "id": "olx_zfE5OgJK",
        "colab_type": "code",
        "outputId": "1d278078-edb7-44b4-b60b-0c76b6c6f8a1",
        "colab": {
          "base_uri": "https://localhost:8080/",
          "height": 204
        }
      },
      "source": [
        "url = 'Kentuck.csv'\n",
        "Kentuck_df = pd.read_csv(url)\n",
        "Kentuck_df.head()"
      ],
      "execution_count": 236,
      "outputs": [
        {
          "output_type": "execute_result",
          "data": {
            "text/html": [
              "<div>\n",
              "<style scoped>\n",
              "    .dataframe tbody tr th:only-of-type {\n",
              "        vertical-align: middle;\n",
              "    }\n",
              "\n",
              "    .dataframe tbody tr th {\n",
              "        vertical-align: top;\n",
              "    }\n",
              "\n",
              "    .dataframe thead th {\n",
              "        text-align: right;\n",
              "    }\n",
              "</style>\n",
              "<table border=\"1\" class=\"dataframe\">\n",
              "  <thead>\n",
              "    <tr style=\"text-align: right;\">\n",
              "      <th></th>\n",
              "      <th>RouteDataID</th>\n",
              "      <th>CountryNum</th>\n",
              "      <th>StateNum</th>\n",
              "      <th>Route</th>\n",
              "      <th>RPID</th>\n",
              "      <th>Year</th>\n",
              "      <th>AOU</th>\n",
              "      <th>Count10</th>\n",
              "      <th>Count20</th>\n",
              "      <th>Count30</th>\n",
              "      <th>Count40</th>\n",
              "      <th>Count50</th>\n",
              "      <th>StopTotal</th>\n",
              "      <th>SpeciesTotal</th>\n",
              "    </tr>\n",
              "  </thead>\n",
              "  <tbody>\n",
              "    <tr>\n",
              "      <th>0</th>\n",
              "      <td>6167510</td>\n",
              "      <td>840</td>\n",
              "      <td>39</td>\n",
              "      <td>1</td>\n",
              "      <td>101</td>\n",
              "      <td>1966</td>\n",
              "      <td>1310</td>\n",
              "      <td>0</td>\n",
              "      <td>1</td>\n",
              "      <td>0</td>\n",
              "      <td>0</td>\n",
              "      <td>0</td>\n",
              "      <td>1</td>\n",
              "      <td>1</td>\n",
              "    </tr>\n",
              "    <tr>\n",
              "      <th>1</th>\n",
              "      <td>6167510</td>\n",
              "      <td>840</td>\n",
              "      <td>39</td>\n",
              "      <td>1</td>\n",
              "      <td>101</td>\n",
              "      <td>1966</td>\n",
              "      <td>2890</td>\n",
              "      <td>0</td>\n",
              "      <td>2</td>\n",
              "      <td>3</td>\n",
              "      <td>8</td>\n",
              "      <td>6</td>\n",
              "      <td>16</td>\n",
              "      <td>19</td>\n",
              "    </tr>\n",
              "    <tr>\n",
              "      <th>2</th>\n",
              "      <td>6167510</td>\n",
              "      <td>840</td>\n",
              "      <td>39</td>\n",
              "      <td>1</td>\n",
              "      <td>101</td>\n",
              "      <td>1966</td>\n",
              "      <td>3131</td>\n",
              "      <td>0</td>\n",
              "      <td>0</td>\n",
              "      <td>6</td>\n",
              "      <td>0</td>\n",
              "      <td>0</td>\n",
              "      <td>6</td>\n",
              "      <td>6</td>\n",
              "    </tr>\n",
              "    <tr>\n",
              "      <th>3</th>\n",
              "      <td>6167510</td>\n",
              "      <td>840</td>\n",
              "      <td>39</td>\n",
              "      <td>1</td>\n",
              "      <td>101</td>\n",
              "      <td>1966</td>\n",
              "      <td>3160</td>\n",
              "      <td>0</td>\n",
              "      <td>0</td>\n",
              "      <td>2</td>\n",
              "      <td>1</td>\n",
              "      <td>0</td>\n",
              "      <td>3</td>\n",
              "      <td>3</td>\n",
              "    </tr>\n",
              "    <tr>\n",
              "      <th>4</th>\n",
              "      <td>6167510</td>\n",
              "      <td>840</td>\n",
              "      <td>39</td>\n",
              "      <td>1</td>\n",
              "      <td>101</td>\n",
              "      <td>1966</td>\n",
              "      <td>3390</td>\n",
              "      <td>0</td>\n",
              "      <td>0</td>\n",
              "      <td>0</td>\n",
              "      <td>0</td>\n",
              "      <td>1</td>\n",
              "      <td>1</td>\n",
              "      <td>1</td>\n",
              "    </tr>\n",
              "  </tbody>\n",
              "</table>\n",
              "</div>"
            ],
            "text/plain": [
              "   RouteDataID  CountryNum  StateNum  ...  Count50  StopTotal  SpeciesTotal\n",
              "0      6167510         840        39  ...        0          1             1\n",
              "1      6167510         840        39  ...        6         16            19\n",
              "2      6167510         840        39  ...        0          6             6\n",
              "3      6167510         840        39  ...        0          3             3\n",
              "4      6167510         840        39  ...        1          1             1\n",
              "\n",
              "[5 rows x 14 columns]"
            ]
          },
          "metadata": {
            "tags": []
          },
          "execution_count": 236
        }
      ]
    },
    {
      "cell_type": "code",
      "metadata": {
        "id": "mK5wPUhnOjrE",
        "colab_type": "code",
        "colab": {}
      },
      "source": [
        "# COOPER'S HAWK\n",
        "coop_bird_all_yrs = Kentuck_df[(Kentuck_df.AOU == 3330)]\n",
        "# SORT BY year from 1966 to present\n",
        "coop_sorted_df = coop_bird_all_yrs.sort_values(by='Year', ascending=True)"
      ],
      "execution_count": 0,
      "outputs": []
    },
    {
      "cell_type": "code",
      "metadata": {
        "id": "Z3phhBE00s5I",
        "colab_type": "code",
        "colab": {}
      },
      "source": [
        "coop_sorted_df = coop_sorted_df.reset_index(drop=True)"
      ],
      "execution_count": 0,
      "outputs": []
    },
    {
      "cell_type": "code",
      "metadata": {
        "id": "ym1OWc4UO4Sj",
        "colab_type": "code",
        "outputId": "01d91c35-dd96-4195-b81b-247f858de2bd",
        "colab": {
          "base_uri": "https://localhost:8080/",
          "height": 204
        }
      },
      "source": [
        "coop_sorted_df.head()"
      ],
      "execution_count": 239,
      "outputs": [
        {
          "output_type": "execute_result",
          "data": {
            "text/html": [
              "<div>\n",
              "<style scoped>\n",
              "    .dataframe tbody tr th:only-of-type {\n",
              "        vertical-align: middle;\n",
              "    }\n",
              "\n",
              "    .dataframe tbody tr th {\n",
              "        vertical-align: top;\n",
              "    }\n",
              "\n",
              "    .dataframe thead th {\n",
              "        text-align: right;\n",
              "    }\n",
              "</style>\n",
              "<table border=\"1\" class=\"dataframe\">\n",
              "  <thead>\n",
              "    <tr style=\"text-align: right;\">\n",
              "      <th></th>\n",
              "      <th>RouteDataID</th>\n",
              "      <th>CountryNum</th>\n",
              "      <th>StateNum</th>\n",
              "      <th>Route</th>\n",
              "      <th>RPID</th>\n",
              "      <th>Year</th>\n",
              "      <th>AOU</th>\n",
              "      <th>Count10</th>\n",
              "      <th>Count20</th>\n",
              "      <th>Count30</th>\n",
              "      <th>Count40</th>\n",
              "      <th>Count50</th>\n",
              "      <th>StopTotal</th>\n",
              "      <th>SpeciesTotal</th>\n",
              "    </tr>\n",
              "  </thead>\n",
              "  <tbody>\n",
              "    <tr>\n",
              "      <th>0</th>\n",
              "      <td>6238578</td>\n",
              "      <td>840</td>\n",
              "      <td>39</td>\n",
              "      <td>33</td>\n",
              "      <td>101</td>\n",
              "      <td>1966</td>\n",
              "      <td>3330</td>\n",
              "      <td>0</td>\n",
              "      <td>0</td>\n",
              "      <td>0</td>\n",
              "      <td>0</td>\n",
              "      <td>1</td>\n",
              "      <td>1</td>\n",
              "      <td>1</td>\n",
              "    </tr>\n",
              "    <tr>\n",
              "      <th>1</th>\n",
              "      <td>6168366</td>\n",
              "      <td>840</td>\n",
              "      <td>39</td>\n",
              "      <td>8</td>\n",
              "      <td>101</td>\n",
              "      <td>1966</td>\n",
              "      <td>3330</td>\n",
              "      <td>0</td>\n",
              "      <td>2</td>\n",
              "      <td>0</td>\n",
              "      <td>0</td>\n",
              "      <td>0</td>\n",
              "      <td>1</td>\n",
              "      <td>2</td>\n",
              "    </tr>\n",
              "    <tr>\n",
              "      <th>2</th>\n",
              "      <td>6235337</td>\n",
              "      <td>840</td>\n",
              "      <td>39</td>\n",
              "      <td>1</td>\n",
              "      <td>101</td>\n",
              "      <td>1967</td>\n",
              "      <td>3330</td>\n",
              "      <td>0</td>\n",
              "      <td>0</td>\n",
              "      <td>0</td>\n",
              "      <td>0</td>\n",
              "      <td>1</td>\n",
              "      <td>1</td>\n",
              "      <td>1</td>\n",
              "    </tr>\n",
              "    <tr>\n",
              "      <th>3</th>\n",
              "      <td>6234694</td>\n",
              "      <td>840</td>\n",
              "      <td>39</td>\n",
              "      <td>33</td>\n",
              "      <td>101</td>\n",
              "      <td>1967</td>\n",
              "      <td>3330</td>\n",
              "      <td>0</td>\n",
              "      <td>1</td>\n",
              "      <td>0</td>\n",
              "      <td>0</td>\n",
              "      <td>0</td>\n",
              "      <td>1</td>\n",
              "      <td>1</td>\n",
              "    </tr>\n",
              "    <tr>\n",
              "      <th>4</th>\n",
              "      <td>6167592</td>\n",
              "      <td>840</td>\n",
              "      <td>39</td>\n",
              "      <td>26</td>\n",
              "      <td>101</td>\n",
              "      <td>1968</td>\n",
              "      <td>3330</td>\n",
              "      <td>1</td>\n",
              "      <td>0</td>\n",
              "      <td>0</td>\n",
              "      <td>0</td>\n",
              "      <td>0</td>\n",
              "      <td>1</td>\n",
              "      <td>1</td>\n",
              "    </tr>\n",
              "  </tbody>\n",
              "</table>\n",
              "</div>"
            ],
            "text/plain": [
              "   RouteDataID  CountryNum  StateNum  ...  Count50  StopTotal  SpeciesTotal\n",
              "0      6238578         840        39  ...        1          1             1\n",
              "1      6168366         840        39  ...        0          1             2\n",
              "2      6235337         840        39  ...        1          1             1\n",
              "3      6234694         840        39  ...        0          1             1\n",
              "4      6167592         840        39  ...        0          1             1\n",
              "\n",
              "[5 rows x 14 columns]"
            ]
          },
          "metadata": {
            "tags": []
          },
          "execution_count": 239
        }
      ]
    },
    {
      "cell_type": "code",
      "metadata": {
        "id": "w6k4ukjdTQMQ",
        "colab_type": "code",
        "outputId": "db509194-c2c6-42e0-e864-c648cf1b0346",
        "colab": {
          "base_uri": "https://localhost:8080/",
          "height": 272
        }
      },
      "source": [
        "coop_sorted_df.isnull().sum()"
      ],
      "execution_count": 240,
      "outputs": [
        {
          "output_type": "execute_result",
          "data": {
            "text/plain": [
              "RouteDataID     0\n",
              "CountryNum      0\n",
              "StateNum        0\n",
              "Route           0\n",
              "RPID            0\n",
              "Year            0\n",
              "AOU             0\n",
              "Count10         0\n",
              "Count20         0\n",
              "Count30         0\n",
              "Count40         0\n",
              "Count50         0\n",
              "StopTotal       0\n",
              "SpeciesTotal    0\n",
              "dtype: int64"
            ]
          },
          "metadata": {
            "tags": []
          },
          "execution_count": 240
        }
      ]
    },
    {
      "cell_type": "code",
      "metadata": {
        "id": "UMFs4P2wPGHp",
        "colab_type": "code",
        "outputId": "d65ea931-8242-4d94-a4b9-3e64e569bc86",
        "colab": {
          "base_uri": "https://localhost:8080/",
          "height": 34
        }
      },
      "source": [
        "coop_sorted_df.shape"
      ],
      "execution_count": 241,
      "outputs": [
        {
          "output_type": "execute_result",
          "data": {
            "text/plain": [
              "(211, 14)"
            ]
          },
          "metadata": {
            "tags": []
          },
          "execution_count": 241
        }
      ]
    },
    {
      "cell_type": "code",
      "metadata": {
        "id": "euVPzCFVQAWm",
        "colab_type": "code",
        "colab": {}
      },
      "source": [
        "total_two_thou = coop_sorted_df.Year == 2000\n",
        "total_two_thou_eigh = coop_sorted_df.Year == 2008\n",
        "total_two_svteen = coop_sorted_df.Year == 2017"
      ],
      "execution_count": 0,
      "outputs": []
    },
    {
      "cell_type": "code",
      "metadata": {
        "id": "3i2eXH3NQhi_",
        "colab_type": "code",
        "colab": {}
      },
      "source": [
        "species_tot_two_thou = coop_sorted_df[total_two_thou]\n",
        "species_tot_two_thou_eight = coop_sorted_df[total_two_thou_eigh]\n",
        "species_tot_two_svn = coop_sorted_df[total_two_svteen]"
      ],
      "execution_count": 0,
      "outputs": []
    },
    {
      "cell_type": "code",
      "metadata": {
        "id": "EpvbR1osQ-fS",
        "colab_type": "code",
        "outputId": "bd5ece05-e2a7-4281-8b49-4ac5d34746c0",
        "colab": {
          "base_uri": "https://localhost:8080/",
          "height": 68
        }
      },
      "source": [
        "print(species_tot_two_thou['SpeciesTotal'].sum(axis=0))\n",
        "print(species_tot_two_thou_eight['SpeciesTotal'].sum(axis=0))\n",
        "print(species_tot_two_svn['SpeciesTotal'].sum(axis=0))"
      ],
      "execution_count": 244,
      "outputs": [
        {
          "output_type": "stream",
          "text": [
            "9\n",
            "13\n",
            "8\n"
          ],
          "name": "stdout"
        }
      ]
    },
    {
      "cell_type": "code",
      "metadata": {
        "id": "VlY4S6RKxcNV",
        "colab_type": "code",
        "outputId": "870ae8bd-e145-436f-ef00-39f3bc32a701",
        "colab": {
          "base_uri": "https://localhost:8080/",
          "height": 34
        }
      },
      "source": [
        "len(coop_sorted_df)"
      ],
      "execution_count": 245,
      "outputs": [
        {
          "output_type": "execute_result",
          "data": {
            "text/plain": [
              "211"
            ]
          },
          "metadata": {
            "tags": []
          },
          "execution_count": 245
        }
      ]
    },
    {
      "cell_type": "code",
      "metadata": {
        "id": "B4_-6MLN2fwQ",
        "colab_type": "code",
        "colab": {}
      },
      "source": [
        "# Just prints the last row don't use.\n",
        "coop_sorted_df.iloc[210, : ]"
      ],
      "execution_count": 0,
      "outputs": []
    },
    {
      "cell_type": "code",
      "metadata": {
        "id": "kQGGXeoyRPSv",
        "colab_type": "code",
        "outputId": "7b85d6e5-8477-4555-b851-ebc0741e41ab",
        "colab": {
          "base_uri": "https://localhost:8080/",
          "height": 49
        }
      },
      "source": [
        "# Creating an empty Dataframe with column names only\n",
        "coop_df = pd.DataFrame(columns=['Year', 'Coopers_ID', 'Cooper_Hawk_Yr_Total'])\n",
        "coop_df"
      ],
      "execution_count": 251,
      "outputs": [
        {
          "output_type": "execute_result",
          "data": {
            "text/html": [
              "<div>\n",
              "<style scoped>\n",
              "    .dataframe tbody tr th:only-of-type {\n",
              "        vertical-align: middle;\n",
              "    }\n",
              "\n",
              "    .dataframe tbody tr th {\n",
              "        vertical-align: top;\n",
              "    }\n",
              "\n",
              "    .dataframe thead th {\n",
              "        text-align: right;\n",
              "    }\n",
              "</style>\n",
              "<table border=\"1\" class=\"dataframe\">\n",
              "  <thead>\n",
              "    <tr style=\"text-align: right;\">\n",
              "      <th></th>\n",
              "      <th>Year</th>\n",
              "      <th>Coopers_ID</th>\n",
              "      <th>Cooper_Hawk_Yr_Total</th>\n",
              "    </tr>\n",
              "  </thead>\n",
              "  <tbody>\n",
              "  </tbody>\n",
              "</table>\n",
              "</div>"
            ],
            "text/plain": [
              "Empty DataFrame\n",
              "Columns: [Year, Coopers_ID, Cooper_Hawk_Yr_Total]\n",
              "Index: []"
            ]
          },
          "metadata": {
            "tags": []
          },
          "execution_count": 251
        }
      ]
    },
    {
      "cell_type": "code",
      "metadata": {
        "id": "tNGP3ftARZ92",
        "colab_type": "code",
        "colab": {}
      },
      "source": [
        "# The only way I could think of to print the last column was to equal it to RouteDataID: 6366765\n",
        "x = 1966\n",
        "tot = 0\n",
        "for ind in coop_sorted_df.index: \n",
        "     if (coop_sorted_df['Year'][ind] == x):\n",
        "       tot += (coop_sorted_df['SpeciesTotal'][ind])\n",
        "       if coop_sorted_df['RouteDataID'][ind] == 6366765:\n",
        "         coop_df = coop_df.append({'Year': int(x), 'Coopers_ID': int(3330), 'Cooper_Hawk_Yr_Total': int(tot)}, ignore_index=True)\n",
        "         break\n",
        "     else:\n",
        "       coop_df = coop_df.append({'Year': int(x), 'Coopers_ID': int(3330), 'Cooper_Hawk_Yr_Total': int(tot)}, ignore_index=True)\n",
        "       x += 1\n",
        "       tot = 0\n",
        "       tot += (coop_sorted_df['SpeciesTotal'][ind])"
      ],
      "execution_count": 0,
      "outputs": []
    },
    {
      "cell_type": "code",
      "metadata": {
        "id": "H9GvnH3HRyK4",
        "colab_type": "code",
        "outputId": "6e1ede8d-cbf6-4d11-ed0a-f779cd4ec79b",
        "colab": {
          "base_uri": "https://localhost:8080/",
          "height": 204
        }
      },
      "source": [
        "coop_df.head()"
      ],
      "execution_count": 253,
      "outputs": [
        {
          "output_type": "execute_result",
          "data": {
            "text/html": [
              "<div>\n",
              "<style scoped>\n",
              "    .dataframe tbody tr th:only-of-type {\n",
              "        vertical-align: middle;\n",
              "    }\n",
              "\n",
              "    .dataframe tbody tr th {\n",
              "        vertical-align: top;\n",
              "    }\n",
              "\n",
              "    .dataframe thead th {\n",
              "        text-align: right;\n",
              "    }\n",
              "</style>\n",
              "<table border=\"1\" class=\"dataframe\">\n",
              "  <thead>\n",
              "    <tr style=\"text-align: right;\">\n",
              "      <th></th>\n",
              "      <th>Year</th>\n",
              "      <th>Coopers_ID</th>\n",
              "      <th>Cooper_Hawk_Yr_Total</th>\n",
              "    </tr>\n",
              "  </thead>\n",
              "  <tbody>\n",
              "    <tr>\n",
              "      <th>0</th>\n",
              "      <td>1966</td>\n",
              "      <td>3330</td>\n",
              "      <td>3</td>\n",
              "    </tr>\n",
              "    <tr>\n",
              "      <th>1</th>\n",
              "      <td>1967</td>\n",
              "      <td>3330</td>\n",
              "      <td>2</td>\n",
              "    </tr>\n",
              "    <tr>\n",
              "      <th>2</th>\n",
              "      <td>1968</td>\n",
              "      <td>3330</td>\n",
              "      <td>1</td>\n",
              "    </tr>\n",
              "    <tr>\n",
              "      <th>3</th>\n",
              "      <td>1969</td>\n",
              "      <td>3330</td>\n",
              "      <td>2</td>\n",
              "    </tr>\n",
              "    <tr>\n",
              "      <th>4</th>\n",
              "      <td>1970</td>\n",
              "      <td>3330</td>\n",
              "      <td>3</td>\n",
              "    </tr>\n",
              "  </tbody>\n",
              "</table>\n",
              "</div>"
            ],
            "text/plain": [
              "   Year Coopers_ID Cooper_Hawk_Yr_Total\n",
              "0  1966       3330                    3\n",
              "1  1967       3330                    2\n",
              "2  1968       3330                    1\n",
              "3  1969       3330                    2\n",
              "4  1970       3330                    3"
            ]
          },
          "metadata": {
            "tags": []
          },
          "execution_count": 253
        }
      ]
    },
    {
      "cell_type": "code",
      "metadata": {
        "id": "XAD6Fo8C-6oQ",
        "colab_type": "code",
        "outputId": "aa56f557-cc34-4c40-982d-516d6df04375",
        "colab": {
          "base_uri": "https://localhost:8080/",
          "height": 85
        }
      },
      "source": [
        "coop_df.dtypes"
      ],
      "execution_count": 254,
      "outputs": [
        {
          "output_type": "execute_result",
          "data": {
            "text/plain": [
              "Year                    object\n",
              "Coopers_ID              object\n",
              "Cooper_Hawk_Yr_Total    object\n",
              "dtype: object"
            ]
          },
          "metadata": {
            "tags": []
          },
          "execution_count": 254
        }
      ]
    },
    {
      "cell_type": "code",
      "metadata": {
        "id": "FTmyyLJy_Et8",
        "colab_type": "code",
        "colab": {}
      },
      "source": [
        "coop_df['Year'] = coop_df['Year'].astype(str).astype(int)\n",
        "coop_df['Coopers_ID'] = coop_df['Coopers_ID'].astype(str).astype(int)\n",
        "coop_df['Cooper_Hawk_Yr_Total'] = coop_df['Cooper_Hawk_Yr_Total'].astype(str).astype(int)"
      ],
      "execution_count": 0,
      "outputs": []
    },
    {
      "cell_type": "code",
      "metadata": {
        "id": "4ry4iIQa_iHL",
        "colab_type": "code",
        "outputId": "09de290a-99f4-4d5e-84f3-ce35916c0a36",
        "colab": {
          "base_uri": "https://localhost:8080/",
          "height": 85
        }
      },
      "source": [
        "coop_df.dtypes"
      ],
      "execution_count": 256,
      "outputs": [
        {
          "output_type": "execute_result",
          "data": {
            "text/plain": [
              "Year                    int64\n",
              "Coopers_ID              int64\n",
              "Cooper_Hawk_Yr_Total    int64\n",
              "dtype: object"
            ]
          },
          "metadata": {
            "tags": []
          },
          "execution_count": 256
        }
      ]
    },
    {
      "cell_type": "code",
      "metadata": {
        "id": "eWPRdZty_oK4",
        "colab_type": "code",
        "outputId": "1747d96c-1f5a-4638-ba84-a27be9979feb",
        "colab": {
          "base_uri": "https://localhost:8080/",
          "height": 607
        }
      },
      "source": [
        "# 9 for 2000, 13 for 2008, 8 for 2017\n",
        "coop_df.tail(18)"
      ],
      "execution_count": 257,
      "outputs": [
        {
          "output_type": "execute_result",
          "data": {
            "text/html": [
              "<div>\n",
              "<style scoped>\n",
              "    .dataframe tbody tr th:only-of-type {\n",
              "        vertical-align: middle;\n",
              "    }\n",
              "\n",
              "    .dataframe tbody tr th {\n",
              "        vertical-align: top;\n",
              "    }\n",
              "\n",
              "    .dataframe thead th {\n",
              "        text-align: right;\n",
              "    }\n",
              "</style>\n",
              "<table border=\"1\" class=\"dataframe\">\n",
              "  <thead>\n",
              "    <tr style=\"text-align: right;\">\n",
              "      <th></th>\n",
              "      <th>Year</th>\n",
              "      <th>Coopers_ID</th>\n",
              "      <th>Cooper_Hawk_Yr_Total</th>\n",
              "    </tr>\n",
              "  </thead>\n",
              "  <tbody>\n",
              "    <tr>\n",
              "      <th>34</th>\n",
              "      <td>2000</td>\n",
              "      <td>3330</td>\n",
              "      <td>9</td>\n",
              "    </tr>\n",
              "    <tr>\n",
              "      <th>35</th>\n",
              "      <td>2001</td>\n",
              "      <td>3330</td>\n",
              "      <td>4</td>\n",
              "    </tr>\n",
              "    <tr>\n",
              "      <th>36</th>\n",
              "      <td>2002</td>\n",
              "      <td>3330</td>\n",
              "      <td>4</td>\n",
              "    </tr>\n",
              "    <tr>\n",
              "      <th>37</th>\n",
              "      <td>2003</td>\n",
              "      <td>3330</td>\n",
              "      <td>8</td>\n",
              "    </tr>\n",
              "    <tr>\n",
              "      <th>38</th>\n",
              "      <td>2004</td>\n",
              "      <td>3330</td>\n",
              "      <td>8</td>\n",
              "    </tr>\n",
              "    <tr>\n",
              "      <th>39</th>\n",
              "      <td>2005</td>\n",
              "      <td>3330</td>\n",
              "      <td>10</td>\n",
              "    </tr>\n",
              "    <tr>\n",
              "      <th>40</th>\n",
              "      <td>2006</td>\n",
              "      <td>3330</td>\n",
              "      <td>10</td>\n",
              "    </tr>\n",
              "    <tr>\n",
              "      <th>41</th>\n",
              "      <td>2007</td>\n",
              "      <td>3330</td>\n",
              "      <td>8</td>\n",
              "    </tr>\n",
              "    <tr>\n",
              "      <th>42</th>\n",
              "      <td>2008</td>\n",
              "      <td>3330</td>\n",
              "      <td>13</td>\n",
              "    </tr>\n",
              "    <tr>\n",
              "      <th>43</th>\n",
              "      <td>2009</td>\n",
              "      <td>3330</td>\n",
              "      <td>12</td>\n",
              "    </tr>\n",
              "    <tr>\n",
              "      <th>44</th>\n",
              "      <td>2010</td>\n",
              "      <td>3330</td>\n",
              "      <td>12</td>\n",
              "    </tr>\n",
              "    <tr>\n",
              "      <th>45</th>\n",
              "      <td>2011</td>\n",
              "      <td>3330</td>\n",
              "      <td>7</td>\n",
              "    </tr>\n",
              "    <tr>\n",
              "      <th>46</th>\n",
              "      <td>2012</td>\n",
              "      <td>3330</td>\n",
              "      <td>11</td>\n",
              "    </tr>\n",
              "    <tr>\n",
              "      <th>47</th>\n",
              "      <td>2013</td>\n",
              "      <td>3330</td>\n",
              "      <td>5</td>\n",
              "    </tr>\n",
              "    <tr>\n",
              "      <th>48</th>\n",
              "      <td>2014</td>\n",
              "      <td>3330</td>\n",
              "      <td>9</td>\n",
              "    </tr>\n",
              "    <tr>\n",
              "      <th>49</th>\n",
              "      <td>2015</td>\n",
              "      <td>3330</td>\n",
              "      <td>3</td>\n",
              "    </tr>\n",
              "    <tr>\n",
              "      <th>50</th>\n",
              "      <td>2016</td>\n",
              "      <td>3330</td>\n",
              "      <td>5</td>\n",
              "    </tr>\n",
              "    <tr>\n",
              "      <th>51</th>\n",
              "      <td>2017</td>\n",
              "      <td>3330</td>\n",
              "      <td>8</td>\n",
              "    </tr>\n",
              "  </tbody>\n",
              "</table>\n",
              "</div>"
            ],
            "text/plain": [
              "    Year  Coopers_ID  Cooper_Hawk_Yr_Total\n",
              "34  2000        3330                     9\n",
              "35  2001        3330                     4\n",
              "36  2002        3330                     4\n",
              "37  2003        3330                     8\n",
              "38  2004        3330                     8\n",
              "39  2005        3330                    10\n",
              "40  2006        3330                    10\n",
              "41  2007        3330                     8\n",
              "42  2008        3330                    13\n",
              "43  2009        3330                    12\n",
              "44  2010        3330                    12\n",
              "45  2011        3330                     7\n",
              "46  2012        3330                    11\n",
              "47  2013        3330                     5\n",
              "48  2014        3330                     9\n",
              "49  2015        3330                     3\n",
              "50  2016        3330                     5\n",
              "51  2017        3330                     8"
            ]
          },
          "metadata": {
            "tags": []
          },
          "execution_count": 257
        }
      ]
    },
    {
      "cell_type": "code",
      "metadata": {
        "id": "3WlId3Ip_889",
        "colab_type": "code",
        "outputId": "ab7fdb03-606d-4147-bd0f-73acd14b5050",
        "colab": {
          "base_uri": "https://localhost:8080/",
          "height": 333
        }
      },
      "source": [
        "plt.style.use('default')\n",
        "ax = coop_df.plot(kind='scatter', x='Year', y='Cooper_Hawk_Yr_Total', figsize=(5, 3))\n",
        "ax.set_title(\"Yearly Cenus Count of Cooper Hawks\", fontweight=\"bold\");"
      ],
      "execution_count": 265,
      "outputs": [
        {
          "output_type": "display_data",
          "data": {
            "image/png": "[encoded data removed]",
            "text/plain": [
              "<Figure size 500x300 with 1 Axes>"
            ]
          },
          "metadata": {
            "tags": []
          }
        }
      ]
    },
    {
      "cell_type": "code",
      "metadata": {
        "id": "isIsNk6pZEU-",
        "colab_type": "code",
        "colab": {}
      },
      "source": [
        "# RED TAIL HAWK\n",
        "redtail_bird_all_yrs = Kentuck_df[(Kentuck_df.AOU == 3370)]"
      ],
      "execution_count": 0,
      "outputs": []
    },
    {
      "cell_type": "code",
      "metadata": {
        "id": "zp48HbAAZPct",
        "colab_type": "code",
        "colab": {}
      },
      "source": [
        "# SORT BY year from 1966 to present\n",
        "redtail_sorted_df = redtail_bird_all_yrs.sort_values(by='Year', ascending=True)"
      ],
      "execution_count": 0,
      "outputs": []
    },
    {
      "cell_type": "code",
      "metadata": {
        "id": "I-20lEMoZShG",
        "colab_type": "code",
        "colab": {}
      },
      "source": [
        "# Head\n",
        "redtail_sorted_df = redtail_sorted_df.reset_index(drop=True)"
      ],
      "execution_count": 0,
      "outputs": []
    },
    {
      "cell_type": "code",
      "metadata": {
        "id": "DnbW7EFvZV2e",
        "colab_type": "code",
        "outputId": "bf33a58a-6e4a-4084-f51c-4464782fcdb3",
        "colab": {
          "base_uri": "https://localhost:8080/",
          "height": 204
        }
      },
      "source": [
        "redtail_sorted_df.tail()"
      ],
      "execution_count": 269,
      "outputs": [
        {
          "output_type": "execute_result",
          "data": {
            "text/html": [
              "<div>\n",
              "<style scoped>\n",
              "    .dataframe tbody tr th:only-of-type {\n",
              "        vertical-align: middle;\n",
              "    }\n",
              "\n",
              "    .dataframe tbody tr th {\n",
              "        vertical-align: top;\n",
              "    }\n",
              "\n",
              "    .dataframe thead th {\n",
              "        text-align: right;\n",
              "    }\n",
              "</style>\n",
              "<table border=\"1\" class=\"dataframe\">\n",
              "  <thead>\n",
              "    <tr style=\"text-align: right;\">\n",
              "      <th></th>\n",
              "      <th>RouteDataID</th>\n",
              "      <th>CountryNum</th>\n",
              "      <th>StateNum</th>\n",
              "      <th>Route</th>\n",
              "      <th>RPID</th>\n",
              "      <th>Year</th>\n",
              "      <th>AOU</th>\n",
              "      <th>Count10</th>\n",
              "      <th>Count20</th>\n",
              "      <th>Count30</th>\n",
              "      <th>Count40</th>\n",
              "      <th>Count50</th>\n",
              "      <th>StopTotal</th>\n",
              "      <th>SpeciesTotal</th>\n",
              "    </tr>\n",
              "  </thead>\n",
              "  <tbody>\n",
              "    <tr>\n",
              "      <th>706</th>\n",
              "      <td>6365103</td>\n",
              "      <td>840</td>\n",
              "      <td>39</td>\n",
              "      <td>3</td>\n",
              "      <td>101</td>\n",
              "      <td>2017</td>\n",
              "      <td>3370</td>\n",
              "      <td>0</td>\n",
              "      <td>1</td>\n",
              "      <td>0</td>\n",
              "      <td>2</td>\n",
              "      <td>0</td>\n",
              "      <td>2</td>\n",
              "      <td>3</td>\n",
              "    </tr>\n",
              "    <tr>\n",
              "      <th>707</th>\n",
              "      <td>6367018</td>\n",
              "      <td>840</td>\n",
              "      <td>39</td>\n",
              "      <td>10</td>\n",
              "      <td>101</td>\n",
              "      <td>2017</td>\n",
              "      <td>3370</td>\n",
              "      <td>0</td>\n",
              "      <td>0</td>\n",
              "      <td>2</td>\n",
              "      <td>0</td>\n",
              "      <td>0</td>\n",
              "      <td>1</td>\n",
              "      <td>2</td>\n",
              "    </tr>\n",
              "    <tr>\n",
              "      <th>708</th>\n",
              "      <td>6364179</td>\n",
              "      <td>840</td>\n",
              "      <td>39</td>\n",
              "      <td>21</td>\n",
              "      <td>101</td>\n",
              "      <td>2017</td>\n",
              "      <td>3370</td>\n",
              "      <td>0</td>\n",
              "      <td>0</td>\n",
              "      <td>0</td>\n",
              "      <td>2</td>\n",
              "      <td>1</td>\n",
              "      <td>2</td>\n",
              "      <td>3</td>\n",
              "    </tr>\n",
              "    <tr>\n",
              "      <th>709</th>\n",
              "      <td>6364072</td>\n",
              "      <td>840</td>\n",
              "      <td>39</td>\n",
              "      <td>120</td>\n",
              "      <td>101</td>\n",
              "      <td>2017</td>\n",
              "      <td>3370</td>\n",
              "      <td>0</td>\n",
              "      <td>2</td>\n",
              "      <td>0</td>\n",
              "      <td>0</td>\n",
              "      <td>0</td>\n",
              "      <td>1</td>\n",
              "      <td>2</td>\n",
              "    </tr>\n",
              "    <tr>\n",
              "      <th>710</th>\n",
              "      <td>6363930</td>\n",
              "      <td>840</td>\n",
              "      <td>39</td>\n",
              "      <td>6</td>\n",
              "      <td>101</td>\n",
              "      <td>2017</td>\n",
              "      <td>3370</td>\n",
              "      <td>0</td>\n",
              "      <td>0</td>\n",
              "      <td>2</td>\n",
              "      <td>0</td>\n",
              "      <td>1</td>\n",
              "      <td>2</td>\n",
              "      <td>3</td>\n",
              "    </tr>\n",
              "  </tbody>\n",
              "</table>\n",
              "</div>"
            ],
            "text/plain": [
              "     RouteDataID  CountryNum  StateNum  ...  Count50  StopTotal  SpeciesTotal\n",
              "706      6365103         840        39  ...        0          2             3\n",
              "707      6367018         840        39  ...        0          1             2\n",
              "708      6364179         840        39  ...        1          2             3\n",
              "709      6364072         840        39  ...        0          1             2\n",
              "710      6363930         840        39  ...        1          2             3\n",
              "\n",
              "[5 rows x 14 columns]"
            ]
          },
          "metadata": {
            "tags": []
          },
          "execution_count": 269
        }
      ]
    },
    {
      "cell_type": "code",
      "metadata": {
        "id": "N7mJ7BKYZaoo",
        "colab_type": "code",
        "outputId": "bf775963-bf48-4260-9188-6b44438a3163",
        "colab": {
          "base_uri": "https://localhost:8080/",
          "height": 34
        }
      },
      "source": [
        "redtail_sorted_df.shape"
      ],
      "execution_count": 270,
      "outputs": [
        {
          "output_type": "execute_result",
          "data": {
            "text/plain": [
              "(711, 14)"
            ]
          },
          "metadata": {
            "tags": []
          },
          "execution_count": 270
        }
      ]
    },
    {
      "cell_type": "code",
      "metadata": {
        "id": "_LugPmI9ZfrI",
        "colab_type": "code",
        "outputId": "25062052-1ba7-4873-d814-a355f025348d",
        "colab": {
          "base_uri": "https://localhost:8080/",
          "height": 51
        }
      },
      "source": [
        "# Making sure it's only red tail\n",
        "redtail_sorted_df['AOU'].value_counts().head()"
      ],
      "execution_count": 271,
      "outputs": [
        {
          "output_type": "execute_result",
          "data": {
            "text/plain": [
              "3370    711\n",
              "Name: AOU, dtype: int64"
            ]
          },
          "metadata": {
            "tags": []
          },
          "execution_count": 271
        }
      ]
    },
    {
      "cell_type": "code",
      "metadata": {
        "id": "vPrwI-VTZmLY",
        "colab_type": "code",
        "colab": {}
      },
      "source": [
        "total_two_thou = redtail_sorted_df.Year == 2000\n",
        "total_two_thou_eigh = redtail_sorted_df.Year == 2008\n",
        "total_two_svteen = redtail_sorted_df.Year == 2017"
      ],
      "execution_count": 0,
      "outputs": []
    },
    {
      "cell_type": "code",
      "metadata": {
        "id": "i4FOST0IZ51V",
        "colab_type": "code",
        "colab": {}
      },
      "source": [
        "species_tot_two_thou = redtail_sorted_df[total_two_thou]\n",
        "species_tot_two_svn = redtail_sorted_df[total_two_svteen]\n",
        "species_tot_two_thou_eight = redtail_sorted_df[total_two_thou_eigh]"
      ],
      "execution_count": 0,
      "outputs": []
    },
    {
      "cell_type": "code",
      "metadata": {
        "id": "s71cWMp6aKCd",
        "colab_type": "code",
        "outputId": "acc99610-f0c5-4700-f635-8ebc957ba65b",
        "colab": {
          "base_uri": "https://localhost:8080/",
          "height": 68
        }
      },
      "source": [
        "print(species_tot_two_thou['SpeciesTotal'].sum(axis=0))\n",
        "print(species_tot_two_thou_eight['SpeciesTotal'].sum(axis=0))\n",
        "print(species_tot_two_svn['SpeciesTotal'].sum(axis=0))"
      ],
      "execution_count": 274,
      "outputs": [
        {
          "output_type": "stream",
          "text": [
            "37\n",
            "28\n",
            "56\n"
          ],
          "name": "stdout"
        }
      ]
    },
    {
      "cell_type": "code",
      "metadata": {
        "id": "hMmbdQk3aai9",
        "colab_type": "code",
        "outputId": "ee345951-48e5-4053-cf2c-3b74d57158b4",
        "colab": {
          "base_uri": "https://localhost:8080/",
          "height": 49
        }
      },
      "source": [
        "# Creating an empty Dataframe with column names only\n",
        "redtail_df = pd.DataFrame(columns=['Year', 'Redtail_ID', 'Red_Tail_Yr_Total'])\n",
        "redtail_df"
      ],
      "execution_count": 275,
      "outputs": [
        {
          "output_type": "execute_result",
          "data": {
            "text/html": [
              "<div>\n",
              "<style scoped>\n",
              "    .dataframe tbody tr th:only-of-type {\n",
              "        vertical-align: middle;\n",
              "    }\n",
              "\n",
              "    .dataframe tbody tr th {\n",
              "        vertical-align: top;\n",
              "    }\n",
              "\n",
              "    .dataframe thead th {\n",
              "        text-align: right;\n",
              "    }\n",
              "</style>\n",
              "<table border=\"1\" class=\"dataframe\">\n",
              "  <thead>\n",
              "    <tr style=\"text-align: right;\">\n",
              "      <th></th>\n",
              "      <th>Year</th>\n",
              "      <th>Redtail_ID</th>\n",
              "      <th>Red_Tail_Yr_Total</th>\n",
              "    </tr>\n",
              "  </thead>\n",
              "  <tbody>\n",
              "  </tbody>\n",
              "</table>\n",
              "</div>"
            ],
            "text/plain": [
              "Empty DataFrame\n",
              "Columns: [Year, Redtail_ID, Red_Tail_Yr_Total]\n",
              "Index: []"
            ]
          },
          "metadata": {
            "tags": []
          },
          "execution_count": 275
        }
      ]
    },
    {
      "cell_type": "code",
      "metadata": {
        "id": "KtBxyZ4gaeX5",
        "colab_type": "code",
        "colab": {}
      },
      "source": [
        "# This was the last row route ID otherwise it would skip over the last else statement and not append the last row of 2017 data: 6363930\n",
        "x = 1966\n",
        "tot = 0\n",
        "for ind in redtail_sorted_df.index: \n",
        "     if (redtail_sorted_df['Year'][ind] == x):\n",
        "       tot += (redtail_sorted_df['SpeciesTotal'][ind])\n",
        "       if redtail_sorted_df['RouteDataID'][ind] == 6363930:\n",
        "         redtail_df = redtail_df.append({'Year': int(x), 'Redtail_ID': int(3330), 'Red_Tail_Yr_Total': int(tot)}, ignore_index=True)\n",
        "         break\n",
        "     else:\n",
        "       redtail_df = redtail_df.append({'Year': int(x), 'Redtail_ID': int(3330), 'Red_Tail_Yr_Total': int(tot)}, ignore_index=True)\n",
        "       x += 1\n",
        "       tot = 0\n",
        "       tot += (redtail_sorted_df['SpeciesTotal'][ind])"
      ],
      "execution_count": 0,
      "outputs": []
    },
    {
      "cell_type": "code",
      "metadata": {
        "id": "_FU-YY_0ah83",
        "colab_type": "code",
        "outputId": "4aac65c5-59f0-4fa5-ed73-f412e2e0d50e",
        "colab": {
          "base_uri": "https://localhost:8080/",
          "height": 204
        }
      },
      "source": [
        "redtail_df.head()"
      ],
      "execution_count": 277,
      "outputs": [
        {
          "output_type": "execute_result",
          "data": {
            "text/html": [
              "<div>\n",
              "<style scoped>\n",
              "    .dataframe tbody tr th:only-of-type {\n",
              "        vertical-align: middle;\n",
              "    }\n",
              "\n",
              "    .dataframe tbody tr th {\n",
              "        vertical-align: top;\n",
              "    }\n",
              "\n",
              "    .dataframe thead th {\n",
              "        text-align: right;\n",
              "    }\n",
              "</style>\n",
              "<table border=\"1\" class=\"dataframe\">\n",
              "  <thead>\n",
              "    <tr style=\"text-align: right;\">\n",
              "      <th></th>\n",
              "      <th>Year</th>\n",
              "      <th>Redtail_ID</th>\n",
              "      <th>Red_Tail_Yr_Total</th>\n",
              "    </tr>\n",
              "  </thead>\n",
              "  <tbody>\n",
              "    <tr>\n",
              "      <th>0</th>\n",
              "      <td>1966</td>\n",
              "      <td>3330</td>\n",
              "      <td>5</td>\n",
              "    </tr>\n",
              "    <tr>\n",
              "      <th>1</th>\n",
              "      <td>1967</td>\n",
              "      <td>3330</td>\n",
              "      <td>9</td>\n",
              "    </tr>\n",
              "    <tr>\n",
              "      <th>2</th>\n",
              "      <td>1968</td>\n",
              "      <td>3330</td>\n",
              "      <td>11</td>\n",
              "    </tr>\n",
              "    <tr>\n",
              "      <th>3</th>\n",
              "      <td>1969</td>\n",
              "      <td>3330</td>\n",
              "      <td>7</td>\n",
              "    </tr>\n",
              "    <tr>\n",
              "      <th>4</th>\n",
              "      <td>1970</td>\n",
              "      <td>3330</td>\n",
              "      <td>8</td>\n",
              "    </tr>\n",
              "  </tbody>\n",
              "</table>\n",
              "</div>"
            ],
            "text/plain": [
              "   Year Redtail_ID Red_Tail_Yr_Total\n",
              "0  1966       3330                 5\n",
              "1  1967       3330                 9\n",
              "2  1968       3330                11\n",
              "3  1969       3330                 7\n",
              "4  1970       3330                 8"
            ]
          },
          "metadata": {
            "tags": []
          },
          "execution_count": 277
        }
      ]
    },
    {
      "cell_type": "code",
      "metadata": {
        "id": "zmP8HRu0am0B",
        "colab_type": "code",
        "outputId": "3122b50f-01bf-4a37-b606-0eb8309d7dd5",
        "colab": {
          "base_uri": "https://localhost:8080/",
          "height": 607
        }
      },
      "source": [
        "# 37 for 2000, 28 for 2008, and 56 for 2017\n",
        "redtail_df.tail(18)"
      ],
      "execution_count": 278,
      "outputs": [
        {
          "output_type": "execute_result",
          "data": {
            "text/html": [
              "<div>\n",
              "<style scoped>\n",
              "    .dataframe tbody tr th:only-of-type {\n",
              "        vertical-align: middle;\n",
              "    }\n",
              "\n",
              "    .dataframe tbody tr th {\n",
              "        vertical-align: top;\n",
              "    }\n",
              "\n",
              "    .dataframe thead th {\n",
              "        text-align: right;\n",
              "    }\n",
              "</style>\n",
              "<table border=\"1\" class=\"dataframe\">\n",
              "  <thead>\n",
              "    <tr style=\"text-align: right;\">\n",
              "      <th></th>\n",
              "      <th>Year</th>\n",
              "      <th>Redtail_ID</th>\n",
              "      <th>Red_Tail_Yr_Total</th>\n",
              "    </tr>\n",
              "  </thead>\n",
              "  <tbody>\n",
              "    <tr>\n",
              "      <th>34</th>\n",
              "      <td>2000</td>\n",
              "      <td>3330</td>\n",
              "      <td>37</td>\n",
              "    </tr>\n",
              "    <tr>\n",
              "      <th>35</th>\n",
              "      <td>2001</td>\n",
              "      <td>3330</td>\n",
              "      <td>50</td>\n",
              "    </tr>\n",
              "    <tr>\n",
              "      <th>36</th>\n",
              "      <td>2002</td>\n",
              "      <td>3330</td>\n",
              "      <td>29</td>\n",
              "    </tr>\n",
              "    <tr>\n",
              "      <th>37</th>\n",
              "      <td>2003</td>\n",
              "      <td>3330</td>\n",
              "      <td>26</td>\n",
              "    </tr>\n",
              "    <tr>\n",
              "      <th>38</th>\n",
              "      <td>2004</td>\n",
              "      <td>3330</td>\n",
              "      <td>17</td>\n",
              "    </tr>\n",
              "    <tr>\n",
              "      <th>39</th>\n",
              "      <td>2005</td>\n",
              "      <td>3330</td>\n",
              "      <td>31</td>\n",
              "    </tr>\n",
              "    <tr>\n",
              "      <th>40</th>\n",
              "      <td>2006</td>\n",
              "      <td>3330</td>\n",
              "      <td>34</td>\n",
              "    </tr>\n",
              "    <tr>\n",
              "      <th>41</th>\n",
              "      <td>2007</td>\n",
              "      <td>3330</td>\n",
              "      <td>46</td>\n",
              "    </tr>\n",
              "    <tr>\n",
              "      <th>42</th>\n",
              "      <td>2008</td>\n",
              "      <td>3330</td>\n",
              "      <td>28</td>\n",
              "    </tr>\n",
              "    <tr>\n",
              "      <th>43</th>\n",
              "      <td>2009</td>\n",
              "      <td>3330</td>\n",
              "      <td>31</td>\n",
              "    </tr>\n",
              "    <tr>\n",
              "      <th>44</th>\n",
              "      <td>2010</td>\n",
              "      <td>3330</td>\n",
              "      <td>50</td>\n",
              "    </tr>\n",
              "    <tr>\n",
              "      <th>45</th>\n",
              "      <td>2011</td>\n",
              "      <td>3330</td>\n",
              "      <td>28</td>\n",
              "    </tr>\n",
              "    <tr>\n",
              "      <th>46</th>\n",
              "      <td>2012</td>\n",
              "      <td>3330</td>\n",
              "      <td>48</td>\n",
              "    </tr>\n",
              "    <tr>\n",
              "      <th>47</th>\n",
              "      <td>2013</td>\n",
              "      <td>3330</td>\n",
              "      <td>35</td>\n",
              "    </tr>\n",
              "    <tr>\n",
              "      <th>48</th>\n",
              "      <td>2014</td>\n",
              "      <td>3330</td>\n",
              "      <td>37</td>\n",
              "    </tr>\n",
              "    <tr>\n",
              "      <th>49</th>\n",
              "      <td>2015</td>\n",
              "      <td>3330</td>\n",
              "      <td>33</td>\n",
              "    </tr>\n",
              "    <tr>\n",
              "      <th>50</th>\n",
              "      <td>2016</td>\n",
              "      <td>3330</td>\n",
              "      <td>56</td>\n",
              "    </tr>\n",
              "    <tr>\n",
              "      <th>51</th>\n",
              "      <td>2017</td>\n",
              "      <td>3330</td>\n",
              "      <td>56</td>\n",
              "    </tr>\n",
              "  </tbody>\n",
              "</table>\n",
              "</div>"
            ],
            "text/plain": [
              "    Year Redtail_ID Red_Tail_Yr_Total\n",
              "34  2000       3330                37\n",
              "35  2001       3330                50\n",
              "36  2002       3330                29\n",
              "37  2003       3330                26\n",
              "38  2004       3330                17\n",
              "39  2005       3330                31\n",
              "40  2006       3330                34\n",
              "41  2007       3330                46\n",
              "42  2008       3330                28\n",
              "43  2009       3330                31\n",
              "44  2010       3330                50\n",
              "45  2011       3330                28\n",
              "46  2012       3330                48\n",
              "47  2013       3330                35\n",
              "48  2014       3330                37\n",
              "49  2015       3330                33\n",
              "50  2016       3330                56\n",
              "51  2017       3330                56"
            ]
          },
          "metadata": {
            "tags": []
          },
          "execution_count": 278
        }
      ]
    },
    {
      "cell_type": "code",
      "metadata": {
        "id": "pIWkuNJhasKg",
        "colab_type": "code",
        "colab": {}
      },
      "source": [
        "redtail_df['Year'] = redtail_df['Year'].astype(str).astype(int)\n",
        "redtail_df['Redtail_ID'] = redtail_df['Redtail_ID'].astype(str).astype(int)\n",
        "redtail_df['Red_Tail_Yr_Total'] = redtail_df['Red_Tail_Yr_Total'].astype(str).astype(int)"
      ],
      "execution_count": 0,
      "outputs": []
    },
    {
      "cell_type": "code",
      "metadata": {
        "id": "nHaahPtmavah",
        "colab_type": "code",
        "outputId": "b216f070-03c6-4d2f-d00a-b9abd6936fc2",
        "colab": {
          "base_uri": "https://localhost:8080/",
          "height": 85
        }
      },
      "source": [
        "redtail_df.dtypes"
      ],
      "execution_count": 280,
      "outputs": [
        {
          "output_type": "execute_result",
          "data": {
            "text/plain": [
              "Year                 int64\n",
              "Redtail_ID           int64\n",
              "Red_Tail_Yr_Total    int64\n",
              "dtype: object"
            ]
          },
          "metadata": {
            "tags": []
          },
          "execution_count": 280
        }
      ]
    },
    {
      "cell_type": "code",
      "metadata": {
        "id": "xj3Tk1C6bBMK",
        "colab_type": "code",
        "outputId": "060a09d0-37c2-4413-faf6-5f945e814c6f",
        "colab": {
          "base_uri": "https://localhost:8080/",
          "height": 333
        }
      },
      "source": [
        "plt.style.use('default')\n",
        "ax = redtail_df.plot(kind='scatter', x='Year', y='Red_Tail_Yr_Total', figsize=(5,3))\n",
        "ax.set_title(\"Yearly Cenus Count of Red Tail Hawks\", fontweight=\"bold\");"
      ],
      "execution_count": 281,
      "outputs": [
        {
          "output_type": "display_data",
          "data": {
            "image/png": "[encoded data removed]",
            "text/plain": [
              "<Figure size 500x300 with 1 Axes>"
            ]
          },
          "metadata": {
            "tags": []
          }
        }
      ]
    },
    {
      "cell_type": "code",
      "metadata": {
        "id": "HCZvnNstcT5G",
        "colab_type": "code",
        "colab": {}
      },
      "source": [
        "# RED SHOULDERED HAWK\n",
        "redshoulder_bird_all_yrs = Kentuck_df[(Kentuck_df.AOU == 3390)]"
      ],
      "execution_count": 0,
      "outputs": []
    },
    {
      "cell_type": "code",
      "metadata": {
        "id": "ApjELoJBcv-T",
        "colab_type": "code",
        "colab": {}
      },
      "source": [
        "# SORT BY year from 1966 to present\n",
        "redshoulder_sorted_df = redshoulder_bird_all_yrs.sort_values(by='Year', ascending=True)"
      ],
      "execution_count": 0,
      "outputs": []
    },
    {
      "cell_type": "code",
      "metadata": {
        "id": "qeqa-t9qc0C0",
        "colab_type": "code",
        "colab": {}
      },
      "source": [
        "# Head\n",
        "redshoulder_sorted_df = redshoulder_sorted_df.reset_index(drop=True)"
      ],
      "execution_count": 0,
      "outputs": []
    },
    {
      "cell_type": "code",
      "metadata": {
        "id": "aT41oIV2dEt0",
        "colab_type": "code",
        "outputId": "b5a00eb3-74c9-4426-8f88-ffa0636e270e",
        "colab": {
          "base_uri": "https://localhost:8080/",
          "height": 204
        }
      },
      "source": [
        "redshoulder_sorted_df.head()"
      ],
      "execution_count": 285,
      "outputs": [
        {
          "output_type": "execute_result",
          "data": {
            "text/html": [
              "<div>\n",
              "<style scoped>\n",
              "    .dataframe tbody tr th:only-of-type {\n",
              "        vertical-align: middle;\n",
              "    }\n",
              "\n",
              "    .dataframe tbody tr th {\n",
              "        vertical-align: top;\n",
              "    }\n",
              "\n",
              "    .dataframe thead th {\n",
              "        text-align: right;\n",
              "    }\n",
              "</style>\n",
              "<table border=\"1\" class=\"dataframe\">\n",
              "  <thead>\n",
              "    <tr style=\"text-align: right;\">\n",
              "      <th></th>\n",
              "      <th>RouteDataID</th>\n",
              "      <th>CountryNum</th>\n",
              "      <th>StateNum</th>\n",
              "      <th>Route</th>\n",
              "      <th>RPID</th>\n",
              "      <th>Year</th>\n",
              "      <th>AOU</th>\n",
              "      <th>Count10</th>\n",
              "      <th>Count20</th>\n",
              "      <th>Count30</th>\n",
              "      <th>Count40</th>\n",
              "      <th>Count50</th>\n",
              "      <th>StopTotal</th>\n",
              "      <th>SpeciesTotal</th>\n",
              "    </tr>\n",
              "  </thead>\n",
              "  <tbody>\n",
              "    <tr>\n",
              "      <th>0</th>\n",
              "      <td>6167510</td>\n",
              "      <td>840</td>\n",
              "      <td>39</td>\n",
              "      <td>1</td>\n",
              "      <td>101</td>\n",
              "      <td>1966</td>\n",
              "      <td>3390</td>\n",
              "      <td>0</td>\n",
              "      <td>0</td>\n",
              "      <td>0</td>\n",
              "      <td>0</td>\n",
              "      <td>1</td>\n",
              "      <td>1</td>\n",
              "      <td>1</td>\n",
              "    </tr>\n",
              "    <tr>\n",
              "      <th>1</th>\n",
              "      <td>6167796</td>\n",
              "      <td>840</td>\n",
              "      <td>39</td>\n",
              "      <td>17</td>\n",
              "      <td>101</td>\n",
              "      <td>1966</td>\n",
              "      <td>3390</td>\n",
              "      <td>0</td>\n",
              "      <td>0</td>\n",
              "      <td>0</td>\n",
              "      <td>1</td>\n",
              "      <td>0</td>\n",
              "      <td>1</td>\n",
              "      <td>1</td>\n",
              "    </tr>\n",
              "    <tr>\n",
              "      <th>2</th>\n",
              "      <td>6228022</td>\n",
              "      <td>840</td>\n",
              "      <td>39</td>\n",
              "      <td>36</td>\n",
              "      <td>101</td>\n",
              "      <td>1966</td>\n",
              "      <td>3390</td>\n",
              "      <td>0</td>\n",
              "      <td>2</td>\n",
              "      <td>1</td>\n",
              "      <td>0</td>\n",
              "      <td>0</td>\n",
              "      <td>3</td>\n",
              "      <td>3</td>\n",
              "    </tr>\n",
              "    <tr>\n",
              "      <th>3</th>\n",
              "      <td>6238431</td>\n",
              "      <td>840</td>\n",
              "      <td>39</td>\n",
              "      <td>29</td>\n",
              "      <td>101</td>\n",
              "      <td>1966</td>\n",
              "      <td>3390</td>\n",
              "      <td>0</td>\n",
              "      <td>0</td>\n",
              "      <td>1</td>\n",
              "      <td>0</td>\n",
              "      <td>1</td>\n",
              "      <td>2</td>\n",
              "      <td>2</td>\n",
              "    </tr>\n",
              "    <tr>\n",
              "      <th>4</th>\n",
              "      <td>6234685</td>\n",
              "      <td>840</td>\n",
              "      <td>39</td>\n",
              "      <td>4</td>\n",
              "      <td>101</td>\n",
              "      <td>1967</td>\n",
              "      <td>3390</td>\n",
              "      <td>1</td>\n",
              "      <td>0</td>\n",
              "      <td>0</td>\n",
              "      <td>0</td>\n",
              "      <td>0</td>\n",
              "      <td>1</td>\n",
              "      <td>1</td>\n",
              "    </tr>\n",
              "  </tbody>\n",
              "</table>\n",
              "</div>"
            ],
            "text/plain": [
              "   RouteDataID  CountryNum  StateNum  ...  Count50  StopTotal  SpeciesTotal\n",
              "0      6167510         840        39  ...        1          1             1\n",
              "1      6167796         840        39  ...        0          1             1\n",
              "2      6228022         840        39  ...        0          3             3\n",
              "3      6238431         840        39  ...        1          2             2\n",
              "4      6234685         840        39  ...        0          1             1\n",
              "\n",
              "[5 rows x 14 columns]"
            ]
          },
          "metadata": {
            "tags": []
          },
          "execution_count": 285
        }
      ]
    },
    {
      "cell_type": "code",
      "metadata": {
        "id": "qWMBv5Nldccs",
        "colab_type": "code",
        "outputId": "2a82d4e3-5b81-406a-8775-8338ba64f95f",
        "colab": {
          "base_uri": "https://localhost:8080/",
          "height": 34
        }
      },
      "source": [
        "redshoulder_sorted_df.shape"
      ],
      "execution_count": 286,
      "outputs": [
        {
          "output_type": "execute_result",
          "data": {
            "text/plain": [
              "(387, 14)"
            ]
          },
          "metadata": {
            "tags": []
          },
          "execution_count": 286
        }
      ]
    },
    {
      "cell_type": "code",
      "metadata": {
        "id": "-VTsRQ2ceDHI",
        "colab_type": "code",
        "colab": {}
      },
      "source": [
        "total_two_thou = redshoulder_sorted_df.Year == 2000\n",
        "total_two_thou_eigh = redshoulder_sorted_df.Year == 2008\n",
        "total_two_svteen = redshoulder_sorted_df.Year == 2017"
      ],
      "execution_count": 0,
      "outputs": []
    },
    {
      "cell_type": "code",
      "metadata": {
        "id": "6fnZ8QhpeYgf",
        "colab_type": "code",
        "colab": {}
      },
      "source": [
        "species_tot_two_thou = redshoulder_sorted_df[total_two_thou]\n",
        "species_tot_two_thou_eight = redshoulder_sorted_df[total_two_thou_eigh]\n",
        "species_tot_two_svn = redshoulder_sorted_df[total_two_svteen]"
      ],
      "execution_count": 0,
      "outputs": []
    },
    {
      "cell_type": "code",
      "metadata": {
        "id": "pxXMTZVseeHA",
        "colab_type": "code",
        "outputId": "05a4a734-401b-467e-f56c-6488506f2009",
        "colab": {
          "base_uri": "https://localhost:8080/",
          "height": 68
        }
      },
      "source": [
        "print(species_tot_two_thou['SpeciesTotal'].sum(axis=0))\n",
        "print(species_tot_two_thou_eight['SpeciesTotal'].sum(axis=0))\n",
        "print(species_tot_two_svn['SpeciesTotal'].sum(axis=0))"
      ],
      "execution_count": 289,
      "outputs": [
        {
          "output_type": "stream",
          "text": [
            "15\n",
            "27\n",
            "46\n"
          ],
          "name": "stdout"
        }
      ]
    },
    {
      "cell_type": "code",
      "metadata": {
        "id": "Q7lu5MLSejiL",
        "colab_type": "code",
        "outputId": "abe2ce64-f39e-47fb-f425-43f400262465",
        "colab": {
          "base_uri": "https://localhost:8080/",
          "height": 49
        }
      },
      "source": [
        "# Creating an empty Dataframe with column names only\n",
        "redshoulder_df = pd.DataFrame(columns=['Year', 'Redshoulder_ID', 'Red_Shoulder_Yr_Total'])\n",
        "redshoulder_df"
      ],
      "execution_count": 290,
      "outputs": [
        {
          "output_type": "execute_result",
          "data": {
            "text/html": [
              "<div>\n",
              "<style scoped>\n",
              "    .dataframe tbody tr th:only-of-type {\n",
              "        vertical-align: middle;\n",
              "    }\n",
              "\n",
              "    .dataframe tbody tr th {\n",
              "        vertical-align: top;\n",
              "    }\n",
              "\n",
              "    .dataframe thead th {\n",
              "        text-align: right;\n",
              "    }\n",
              "</style>\n",
              "<table border=\"1\" class=\"dataframe\">\n",
              "  <thead>\n",
              "    <tr style=\"text-align: right;\">\n",
              "      <th></th>\n",
              "      <th>Year</th>\n",
              "      <th>Redshoulder_ID</th>\n",
              "      <th>Red_Shoulder_Yr_Total</th>\n",
              "    </tr>\n",
              "  </thead>\n",
              "  <tbody>\n",
              "  </tbody>\n",
              "</table>\n",
              "</div>"
            ],
            "text/plain": [
              "Empty DataFrame\n",
              "Columns: [Year, Redshoulder_ID, Red_Shoulder_Yr_Total]\n",
              "Index: []"
            ]
          },
          "metadata": {
            "tags": []
          },
          "execution_count": 290
        }
      ]
    },
    {
      "cell_type": "code",
      "metadata": {
        "id": "JVVV4Yy7euqA",
        "colab_type": "code",
        "colab": {}
      },
      "source": [
        "# Last row should hit the if statement to append: 6365103\n",
        "x = 1966\n",
        "tot = 0\n",
        "for ind in redshoulder_sorted_df.index: \n",
        "     if (redshoulder_sorted_df['Year'][ind] == x):\n",
        "       tot += (redshoulder_sorted_df['SpeciesTotal'][ind])\n",
        "       if redshoulder_sorted_df['RouteDataID'][ind] == 6365103:\n",
        "         redshoulder_df = redshoulder_df.append({'Year': int(x), 'Redshoulder_ID': int(3390), 'Red_Shoulder_Yr_Total': int(tot)}, ignore_index=True)\n",
        "         break\n",
        "     else:\n",
        "       redshoulder_df = redshoulder_df.append({'Year': int(x), 'Redshoulder_ID': int(3390), 'Red_Shoulder_Yr_Total': int(tot)}, ignore_index=True)\n",
        "       x += 1\n",
        "       tot = 0\n",
        "       tot += (redshoulder_sorted_df['SpeciesTotal'][ind])"
      ],
      "execution_count": 0,
      "outputs": []
    },
    {
      "cell_type": "code",
      "metadata": {
        "id": "GtkTJExsfjAj",
        "colab_type": "code",
        "outputId": "eace25de-8421-4d6c-f53b-5c596ca400e9",
        "colab": {
          "base_uri": "https://localhost:8080/",
          "height": 204
        }
      },
      "source": [
        "redshoulder_df.head()"
      ],
      "execution_count": 292,
      "outputs": [
        {
          "output_type": "execute_result",
          "data": {
            "text/html": [
              "<div>\n",
              "<style scoped>\n",
              "    .dataframe tbody tr th:only-of-type {\n",
              "        vertical-align: middle;\n",
              "    }\n",
              "\n",
              "    .dataframe tbody tr th {\n",
              "        vertical-align: top;\n",
              "    }\n",
              "\n",
              "    .dataframe thead th {\n",
              "        text-align: right;\n",
              "    }\n",
              "</style>\n",
              "<table border=\"1\" class=\"dataframe\">\n",
              "  <thead>\n",
              "    <tr style=\"text-align: right;\">\n",
              "      <th></th>\n",
              "      <th>Year</th>\n",
              "      <th>Redshoulder_ID</th>\n",
              "      <th>Red_Shoulder_Yr_Total</th>\n",
              "    </tr>\n",
              "  </thead>\n",
              "  <tbody>\n",
              "    <tr>\n",
              "      <th>0</th>\n",
              "      <td>1966</td>\n",
              "      <td>3390</td>\n",
              "      <td>7</td>\n",
              "    </tr>\n",
              "    <tr>\n",
              "      <th>1</th>\n",
              "      <td>1967</td>\n",
              "      <td>3390</td>\n",
              "      <td>8</td>\n",
              "    </tr>\n",
              "    <tr>\n",
              "      <th>2</th>\n",
              "      <td>1968</td>\n",
              "      <td>3390</td>\n",
              "      <td>6</td>\n",
              "    </tr>\n",
              "    <tr>\n",
              "      <th>3</th>\n",
              "      <td>1969</td>\n",
              "      <td>3390</td>\n",
              "      <td>4</td>\n",
              "    </tr>\n",
              "    <tr>\n",
              "      <th>4</th>\n",
              "      <td>1970</td>\n",
              "      <td>3390</td>\n",
              "      <td>8</td>\n",
              "    </tr>\n",
              "  </tbody>\n",
              "</table>\n",
              "</div>"
            ],
            "text/plain": [
              "   Year Redshoulder_ID Red_Shoulder_Yr_Total\n",
              "0  1966           3390                     7\n",
              "1  1967           3390                     8\n",
              "2  1968           3390                     6\n",
              "3  1969           3390                     4\n",
              "4  1970           3390                     8"
            ]
          },
          "metadata": {
            "tags": []
          },
          "execution_count": 292
        }
      ]
    },
    {
      "cell_type": "code",
      "metadata": {
        "id": "7h9ENx9pf02f",
        "colab_type": "code",
        "outputId": "a83c8c30-7064-4eb5-bfde-0841e4525e52",
        "colab": {
          "base_uri": "https://localhost:8080/",
          "height": 607
        }
      },
      "source": [
        "# 15 for 2000, 27 for 2008, 46 for 2017\n",
        "redshoulder_df.tail(18)"
      ],
      "execution_count": 293,
      "outputs": [
        {
          "output_type": "execute_result",
          "data": {
            "text/html": [
              "<div>\n",
              "<style scoped>\n",
              "    .dataframe tbody tr th:only-of-type {\n",
              "        vertical-align: middle;\n",
              "    }\n",
              "\n",
              "    .dataframe tbody tr th {\n",
              "        vertical-align: top;\n",
              "    }\n",
              "\n",
              "    .dataframe thead th {\n",
              "        text-align: right;\n",
              "    }\n",
              "</style>\n",
              "<table border=\"1\" class=\"dataframe\">\n",
              "  <thead>\n",
              "    <tr style=\"text-align: right;\">\n",
              "      <th></th>\n",
              "      <th>Year</th>\n",
              "      <th>Redshoulder_ID</th>\n",
              "      <th>Red_Shoulder_Yr_Total</th>\n",
              "    </tr>\n",
              "  </thead>\n",
              "  <tbody>\n",
              "    <tr>\n",
              "      <th>34</th>\n",
              "      <td>2000</td>\n",
              "      <td>3390</td>\n",
              "      <td>15</td>\n",
              "    </tr>\n",
              "    <tr>\n",
              "      <th>35</th>\n",
              "      <td>2001</td>\n",
              "      <td>3390</td>\n",
              "      <td>18</td>\n",
              "    </tr>\n",
              "    <tr>\n",
              "      <th>36</th>\n",
              "      <td>2002</td>\n",
              "      <td>3390</td>\n",
              "      <td>15</td>\n",
              "    </tr>\n",
              "    <tr>\n",
              "      <th>37</th>\n",
              "      <td>2003</td>\n",
              "      <td>3390</td>\n",
              "      <td>13</td>\n",
              "    </tr>\n",
              "    <tr>\n",
              "      <th>38</th>\n",
              "      <td>2004</td>\n",
              "      <td>3390</td>\n",
              "      <td>18</td>\n",
              "    </tr>\n",
              "    <tr>\n",
              "      <th>39</th>\n",
              "      <td>2005</td>\n",
              "      <td>3390</td>\n",
              "      <td>22</td>\n",
              "    </tr>\n",
              "    <tr>\n",
              "      <th>40</th>\n",
              "      <td>2006</td>\n",
              "      <td>3390</td>\n",
              "      <td>33</td>\n",
              "    </tr>\n",
              "    <tr>\n",
              "      <th>41</th>\n",
              "      <td>2007</td>\n",
              "      <td>3390</td>\n",
              "      <td>25</td>\n",
              "    </tr>\n",
              "    <tr>\n",
              "      <th>42</th>\n",
              "      <td>2008</td>\n",
              "      <td>3390</td>\n",
              "      <td>27</td>\n",
              "    </tr>\n",
              "    <tr>\n",
              "      <th>43</th>\n",
              "      <td>2009</td>\n",
              "      <td>3390</td>\n",
              "      <td>41</td>\n",
              "    </tr>\n",
              "    <tr>\n",
              "      <th>44</th>\n",
              "      <td>2010</td>\n",
              "      <td>3390</td>\n",
              "      <td>39</td>\n",
              "    </tr>\n",
              "    <tr>\n",
              "      <th>45</th>\n",
              "      <td>2011</td>\n",
              "      <td>3390</td>\n",
              "      <td>31</td>\n",
              "    </tr>\n",
              "    <tr>\n",
              "      <th>46</th>\n",
              "      <td>2012</td>\n",
              "      <td>3390</td>\n",
              "      <td>48</td>\n",
              "    </tr>\n",
              "    <tr>\n",
              "      <th>47</th>\n",
              "      <td>2013</td>\n",
              "      <td>3390</td>\n",
              "      <td>35</td>\n",
              "    </tr>\n",
              "    <tr>\n",
              "      <th>48</th>\n",
              "      <td>2014</td>\n",
              "      <td>3390</td>\n",
              "      <td>41</td>\n",
              "    </tr>\n",
              "    <tr>\n",
              "      <th>49</th>\n",
              "      <td>2015</td>\n",
              "      <td>3390</td>\n",
              "      <td>28</td>\n",
              "    </tr>\n",
              "    <tr>\n",
              "      <th>50</th>\n",
              "      <td>2016</td>\n",
              "      <td>3390</td>\n",
              "      <td>36</td>\n",
              "    </tr>\n",
              "    <tr>\n",
              "      <th>51</th>\n",
              "      <td>2017</td>\n",
              "      <td>3390</td>\n",
              "      <td>46</td>\n",
              "    </tr>\n",
              "  </tbody>\n",
              "</table>\n",
              "</div>"
            ],
            "text/plain": [
              "    Year Redshoulder_ID Red_Shoulder_Yr_Total\n",
              "34  2000           3390                    15\n",
              "35  2001           3390                    18\n",
              "36  2002           3390                    15\n",
              "37  2003           3390                    13\n",
              "38  2004           3390                    18\n",
              "39  2005           3390                    22\n",
              "40  2006           3390                    33\n",
              "41  2007           3390                    25\n",
              "42  2008           3390                    27\n",
              "43  2009           3390                    41\n",
              "44  2010           3390                    39\n",
              "45  2011           3390                    31\n",
              "46  2012           3390                    48\n",
              "47  2013           3390                    35\n",
              "48  2014           3390                    41\n",
              "49  2015           3390                    28\n",
              "50  2016           3390                    36\n",
              "51  2017           3390                    46"
            ]
          },
          "metadata": {
            "tags": []
          },
          "execution_count": 293
        }
      ]
    },
    {
      "cell_type": "code",
      "metadata": {
        "id": "YjXMH8gHgFtx",
        "colab_type": "code",
        "colab": {}
      },
      "source": [
        "redshoulder_df['Year'] = redshoulder_df['Year'].astype(str).astype(int)\n",
        "redshoulder_df['Redshoulder_ID'] = redshoulder_df['Redshoulder_ID'].astype(str).astype(int)\n",
        "redshoulder_df['Red_Shoulder_Yr_Total'] = redshoulder_df['Red_Shoulder_Yr_Total'].astype(str).astype(int)"
      ],
      "execution_count": 0,
      "outputs": []
    },
    {
      "cell_type": "code",
      "metadata": {
        "id": "FDEKYFglgVoU",
        "colab_type": "code",
        "outputId": "4945b840-9b19-415c-db1c-6c1d9e3be014",
        "colab": {
          "base_uri": "https://localhost:8080/",
          "height": 85
        }
      },
      "source": [
        "redshoulder_df.dtypes"
      ],
      "execution_count": 295,
      "outputs": [
        {
          "output_type": "execute_result",
          "data": {
            "text/plain": [
              "Year                     int64\n",
              "Redshoulder_ID           int64\n",
              "Red_Shoulder_Yr_Total    int64\n",
              "dtype: object"
            ]
          },
          "metadata": {
            "tags": []
          },
          "execution_count": 295
        }
      ]
    },
    {
      "cell_type": "code",
      "metadata": {
        "id": "C4Qap-YwmYoi",
        "colab_type": "code",
        "outputId": "e3cdef84-bf72-4ed1-f8e0-2a331d6dbd70",
        "colab": {
          "base_uri": "https://localhost:8080/",
          "height": 333
        }
      },
      "source": [
        "plt.style.use('default')\n",
        "ax = redshoulder_df.plot(kind='scatter', x='Year', y='Red_Shoulder_Yr_Total', figsize=(5,3))\n",
        "ax.set_title(\"Yearly Cenus Count of RedShoulder Hawks\", fontweight=\"bold\");"
      ],
      "execution_count": 296,
      "outputs": [
        {
          "output_type": "display_data",
          "data": {
            "image/png": "[encoded data removed]",
            "text/plain": [
              "<Figure size 500x300 with 1 Axes>"
            ]
          },
          "metadata": {
            "tags": []
          }
        }
      ]
    },
    {
      "cell_type": "code",
      "metadata": {
        "id": "DOL9C3jfqpin",
        "colab_type": "code",
        "outputId": "f947dd5c-b65a-45a8-ac72-cc08fdfe2f2e",
        "colab": {
          "base_uri": "https://localhost:8080/",
          "height": 204
        }
      },
      "source": [
        "resulting_df = pd.merge(redtail_df, redshoulder_df, on = ['Year'], how = 'inner')\n",
        "resulting_df.head()"
      ],
      "execution_count": 297,
      "outputs": [
        {
          "output_type": "execute_result",
          "data": {
            "text/html": [
              "<div>\n",
              "<style scoped>\n",
              "    .dataframe tbody tr th:only-of-type {\n",
              "        vertical-align: middle;\n",
              "    }\n",
              "\n",
              "    .dataframe tbody tr th {\n",
              "        vertical-align: top;\n",
              "    }\n",
              "\n",
              "    .dataframe thead th {\n",
              "        text-align: right;\n",
              "    }\n",
              "</style>\n",
              "<table border=\"1\" class=\"dataframe\">\n",
              "  <thead>\n",
              "    <tr style=\"text-align: right;\">\n",
              "      <th></th>\n",
              "      <th>Year</th>\n",
              "      <th>Redtail_ID</th>\n",
              "      <th>Red_Tail_Yr_Total</th>\n",
              "      <th>Redshoulder_ID</th>\n",
              "      <th>Red_Shoulder_Yr_Total</th>\n",
              "    </tr>\n",
              "  </thead>\n",
              "  <tbody>\n",
              "    <tr>\n",
              "      <th>0</th>\n",
              "      <td>1966</td>\n",
              "      <td>3330</td>\n",
              "      <td>5</td>\n",
              "      <td>3390</td>\n",
              "      <td>7</td>\n",
              "    </tr>\n",
              "    <tr>\n",
              "      <th>1</th>\n",
              "      <td>1967</td>\n",
              "      <td>3330</td>\n",
              "      <td>9</td>\n",
              "      <td>3390</td>\n",
              "      <td>8</td>\n",
              "    </tr>\n",
              "    <tr>\n",
              "      <th>2</th>\n",
              "      <td>1968</td>\n",
              "      <td>3330</td>\n",
              "      <td>11</td>\n",
              "      <td>3390</td>\n",
              "      <td>6</td>\n",
              "    </tr>\n",
              "    <tr>\n",
              "      <th>3</th>\n",
              "      <td>1969</td>\n",
              "      <td>3330</td>\n",
              "      <td>7</td>\n",
              "      <td>3390</td>\n",
              "      <td>4</td>\n",
              "    </tr>\n",
              "    <tr>\n",
              "      <th>4</th>\n",
              "      <td>1970</td>\n",
              "      <td>3330</td>\n",
              "      <td>8</td>\n",
              "      <td>3390</td>\n",
              "      <td>8</td>\n",
              "    </tr>\n",
              "  </tbody>\n",
              "</table>\n",
              "</div>"
            ],
            "text/plain": [
              "   Year  Redtail_ID  Red_Tail_Yr_Total  Redshoulder_ID  Red_Shoulder_Yr_Total\n",
              "0  1966        3330                  5            3390                      7\n",
              "1  1967        3330                  9            3390                      8\n",
              "2  1968        3330                 11            3390                      6\n",
              "3  1969        3330                  7            3390                      4\n",
              "4  1970        3330                  8            3390                      8"
            ]
          },
          "metadata": {
            "tags": []
          },
          "execution_count": 297
        }
      ]
    },
    {
      "cell_type": "code",
      "metadata": {
        "id": "tzhn0t2MrGT_",
        "colab_type": "code",
        "outputId": "02a4c8b9-f425-42f2-f6a6-a1b2e9c147d9",
        "colab": {
          "base_uri": "https://localhost:8080/",
          "height": 1000
        }
      },
      "source": [
        "finished_df = pd.merge(resulting_df, coop_df, on = ['Year'], how = 'inner')\n",
        "finished_df"
      ],
      "execution_count": 298,
      "outputs": [
        {
          "output_type": "execute_result",
          "data": {
            "text/html": [
              "<div>\n",
              "<style scoped>\n",
              "    .dataframe tbody tr th:only-of-type {\n",
              "        vertical-align: middle;\n",
              "    }\n",
              "\n",
              "    .dataframe tbody tr th {\n",
              "        vertical-align: top;\n",
              "    }\n",
              "\n",
              "    .dataframe thead th {\n",
              "        text-align: right;\n",
              "    }\n",
              "</style>\n",
              "<table border=\"1\" class=\"dataframe\">\n",
              "  <thead>\n",
              "    <tr style=\"text-align: right;\">\n",
              "      <th></th>\n",
              "      <th>Year</th>\n",
              "      <th>Redtail_ID</th>\n",
              "      <th>Red_Tail_Yr_Total</th>\n",
              "      <th>Redshoulder_ID</th>\n",
              "      <th>Red_Shoulder_Yr_Total</th>\n",
              "      <th>Coopers_ID</th>\n",
              "      <th>Cooper_Hawk_Yr_Total</th>\n",
              "    </tr>\n",
              "  </thead>\n",
              "  <tbody>\n",
              "    <tr>\n",
              "      <th>0</th>\n",
              "      <td>1966</td>\n",
              "      <td>3330</td>\n",
              "      <td>5</td>\n",
              "      <td>3390</td>\n",
              "      <td>7</td>\n",
              "      <td>3330</td>\n",
              "      <td>3</td>\n",
              "    </tr>\n",
              "    <tr>\n",
              "      <th>1</th>\n",
              "      <td>1967</td>\n",
              "      <td>3330</td>\n",
              "      <td>9</td>\n",
              "      <td>3390</td>\n",
              "      <td>8</td>\n",
              "      <td>3330</td>\n",
              "      <td>2</td>\n",
              "    </tr>\n",
              "    <tr>\n",
              "      <th>2</th>\n",
              "      <td>1968</td>\n",
              "      <td>3330</td>\n",
              "      <td>11</td>\n",
              "      <td>3390</td>\n",
              "      <td>6</td>\n",
              "      <td>3330</td>\n",
              "      <td>1</td>\n",
              "    </tr>\n",
              "    <tr>\n",
              "      <th>3</th>\n",
              "      <td>1969</td>\n",
              "      <td>3330</td>\n",
              "      <td>7</td>\n",
              "      <td>3390</td>\n",
              "      <td>4</td>\n",
              "      <td>3330</td>\n",
              "      <td>2</td>\n",
              "    </tr>\n",
              "    <tr>\n",
              "      <th>4</th>\n",
              "      <td>1970</td>\n",
              "      <td>3330</td>\n",
              "      <td>8</td>\n",
              "      <td>3390</td>\n",
              "      <td>8</td>\n",
              "      <td>3330</td>\n",
              "      <td>3</td>\n",
              "    </tr>\n",
              "    <tr>\n",
              "      <th>5</th>\n",
              "      <td>1971</td>\n",
              "      <td>3330</td>\n",
              "      <td>12</td>\n",
              "      <td>3390</td>\n",
              "      <td>2</td>\n",
              "      <td>3330</td>\n",
              "      <td>1</td>\n",
              "    </tr>\n",
              "    <tr>\n",
              "      <th>6</th>\n",
              "      <td>1972</td>\n",
              "      <td>3330</td>\n",
              "      <td>22</td>\n",
              "      <td>3390</td>\n",
              "      <td>2</td>\n",
              "      <td>3330</td>\n",
              "      <td>1</td>\n",
              "    </tr>\n",
              "    <tr>\n",
              "      <th>7</th>\n",
              "      <td>1973</td>\n",
              "      <td>3330</td>\n",
              "      <td>20</td>\n",
              "      <td>3390</td>\n",
              "      <td>5</td>\n",
              "      <td>3330</td>\n",
              "      <td>2</td>\n",
              "    </tr>\n",
              "    <tr>\n",
              "      <th>8</th>\n",
              "      <td>1974</td>\n",
              "      <td>3330</td>\n",
              "      <td>13</td>\n",
              "      <td>3390</td>\n",
              "      <td>7</td>\n",
              "      <td>3330</td>\n",
              "      <td>2</td>\n",
              "    </tr>\n",
              "    <tr>\n",
              "      <th>9</th>\n",
              "      <td>1975</td>\n",
              "      <td>3330</td>\n",
              "      <td>10</td>\n",
              "      <td>3390</td>\n",
              "      <td>9</td>\n",
              "      <td>3330</td>\n",
              "      <td>3</td>\n",
              "    </tr>\n",
              "    <tr>\n",
              "      <th>10</th>\n",
              "      <td>1976</td>\n",
              "      <td>3330</td>\n",
              "      <td>17</td>\n",
              "      <td>3390</td>\n",
              "      <td>5</td>\n",
              "      <td>3330</td>\n",
              "      <td>1</td>\n",
              "    </tr>\n",
              "    <tr>\n",
              "      <th>11</th>\n",
              "      <td>1977</td>\n",
              "      <td>3330</td>\n",
              "      <td>21</td>\n",
              "      <td>3390</td>\n",
              "      <td>7</td>\n",
              "      <td>3330</td>\n",
              "      <td>3</td>\n",
              "    </tr>\n",
              "    <tr>\n",
              "      <th>12</th>\n",
              "      <td>1978</td>\n",
              "      <td>3330</td>\n",
              "      <td>15</td>\n",
              "      <td>3390</td>\n",
              "      <td>3</td>\n",
              "      <td>3330</td>\n",
              "      <td>1</td>\n",
              "    </tr>\n",
              "    <tr>\n",
              "      <th>13</th>\n",
              "      <td>1979</td>\n",
              "      <td>3330</td>\n",
              "      <td>9</td>\n",
              "      <td>3390</td>\n",
              "      <td>1</td>\n",
              "      <td>3330</td>\n",
              "      <td>1</td>\n",
              "    </tr>\n",
              "    <tr>\n",
              "      <th>14</th>\n",
              "      <td>1980</td>\n",
              "      <td>3330</td>\n",
              "      <td>9</td>\n",
              "      <td>3390</td>\n",
              "      <td>3</td>\n",
              "      <td>3330</td>\n",
              "      <td>2</td>\n",
              "    </tr>\n",
              "    <tr>\n",
              "      <th>15</th>\n",
              "      <td>1981</td>\n",
              "      <td>3330</td>\n",
              "      <td>30</td>\n",
              "      <td>3390</td>\n",
              "      <td>6</td>\n",
              "      <td>3330</td>\n",
              "      <td>4</td>\n",
              "    </tr>\n",
              "    <tr>\n",
              "      <th>16</th>\n",
              "      <td>1982</td>\n",
              "      <td>3330</td>\n",
              "      <td>23</td>\n",
              "      <td>3390</td>\n",
              "      <td>7</td>\n",
              "      <td>3330</td>\n",
              "      <td>4</td>\n",
              "    </tr>\n",
              "    <tr>\n",
              "      <th>17</th>\n",
              "      <td>1983</td>\n",
              "      <td>3330</td>\n",
              "      <td>25</td>\n",
              "      <td>3390</td>\n",
              "      <td>8</td>\n",
              "      <td>3330</td>\n",
              "      <td>2</td>\n",
              "    </tr>\n",
              "    <tr>\n",
              "      <th>18</th>\n",
              "      <td>1984</td>\n",
              "      <td>3330</td>\n",
              "      <td>12</td>\n",
              "      <td>3390</td>\n",
              "      <td>2</td>\n",
              "      <td>3330</td>\n",
              "      <td>6</td>\n",
              "    </tr>\n",
              "    <tr>\n",
              "      <th>19</th>\n",
              "      <td>1985</td>\n",
              "      <td>3330</td>\n",
              "      <td>22</td>\n",
              "      <td>3390</td>\n",
              "      <td>3</td>\n",
              "      <td>3330</td>\n",
              "      <td>1</td>\n",
              "    </tr>\n",
              "    <tr>\n",
              "      <th>20</th>\n",
              "      <td>1986</td>\n",
              "      <td>3330</td>\n",
              "      <td>22</td>\n",
              "      <td>3390</td>\n",
              "      <td>5</td>\n",
              "      <td>3330</td>\n",
              "      <td>4</td>\n",
              "    </tr>\n",
              "    <tr>\n",
              "      <th>21</th>\n",
              "      <td>1987</td>\n",
              "      <td>3330</td>\n",
              "      <td>11</td>\n",
              "      <td>3390</td>\n",
              "      <td>4</td>\n",
              "      <td>3330</td>\n",
              "      <td>3</td>\n",
              "    </tr>\n",
              "    <tr>\n",
              "      <th>22</th>\n",
              "      <td>1988</td>\n",
              "      <td>3330</td>\n",
              "      <td>35</td>\n",
              "      <td>3390</td>\n",
              "      <td>6</td>\n",
              "      <td>3330</td>\n",
              "      <td>6</td>\n",
              "    </tr>\n",
              "    <tr>\n",
              "      <th>23</th>\n",
              "      <td>1989</td>\n",
              "      <td>3330</td>\n",
              "      <td>17</td>\n",
              "      <td>3390</td>\n",
              "      <td>3</td>\n",
              "      <td>3330</td>\n",
              "      <td>3</td>\n",
              "    </tr>\n",
              "    <tr>\n",
              "      <th>24</th>\n",
              "      <td>1990</td>\n",
              "      <td>3330</td>\n",
              "      <td>24</td>\n",
              "      <td>3390</td>\n",
              "      <td>7</td>\n",
              "      <td>3330</td>\n",
              "      <td>6</td>\n",
              "    </tr>\n",
              "    <tr>\n",
              "      <th>25</th>\n",
              "      <td>1991</td>\n",
              "      <td>3330</td>\n",
              "      <td>22</td>\n",
              "      <td>3390</td>\n",
              "      <td>3</td>\n",
              "      <td>3330</td>\n",
              "      <td>5</td>\n",
              "    </tr>\n",
              "    <tr>\n",
              "      <th>26</th>\n",
              "      <td>1992</td>\n",
              "      <td>3330</td>\n",
              "      <td>33</td>\n",
              "      <td>3390</td>\n",
              "      <td>5</td>\n",
              "      <td>3330</td>\n",
              "      <td>5</td>\n",
              "    </tr>\n",
              "    <tr>\n",
              "      <th>27</th>\n",
              "      <td>1993</td>\n",
              "      <td>3330</td>\n",
              "      <td>27</td>\n",
              "      <td>3390</td>\n",
              "      <td>9</td>\n",
              "      <td>3330</td>\n",
              "      <td>4</td>\n",
              "    </tr>\n",
              "    <tr>\n",
              "      <th>28</th>\n",
              "      <td>1994</td>\n",
              "      <td>3330</td>\n",
              "      <td>15</td>\n",
              "      <td>3390</td>\n",
              "      <td>10</td>\n",
              "      <td>3330</td>\n",
              "      <td>3</td>\n",
              "    </tr>\n",
              "    <tr>\n",
              "      <th>29</th>\n",
              "      <td>1995</td>\n",
              "      <td>3330</td>\n",
              "      <td>26</td>\n",
              "      <td>3390</td>\n",
              "      <td>7</td>\n",
              "      <td>3330</td>\n",
              "      <td>4</td>\n",
              "    </tr>\n",
              "    <tr>\n",
              "      <th>30</th>\n",
              "      <td>1996</td>\n",
              "      <td>3330</td>\n",
              "      <td>13</td>\n",
              "      <td>3390</td>\n",
              "      <td>7</td>\n",
              "      <td>3330</td>\n",
              "      <td>2</td>\n",
              "    </tr>\n",
              "    <tr>\n",
              "      <th>31</th>\n",
              "      <td>1997</td>\n",
              "      <td>3330</td>\n",
              "      <td>19</td>\n",
              "      <td>3390</td>\n",
              "      <td>4</td>\n",
              "      <td>3330</td>\n",
              "      <td>1</td>\n",
              "    </tr>\n",
              "    <tr>\n",
              "      <th>32</th>\n",
              "      <td>1998</td>\n",
              "      <td>3330</td>\n",
              "      <td>24</td>\n",
              "      <td>3390</td>\n",
              "      <td>4</td>\n",
              "      <td>3330</td>\n",
              "      <td>2</td>\n",
              "    </tr>\n",
              "    <tr>\n",
              "      <th>33</th>\n",
              "      <td>1999</td>\n",
              "      <td>3330</td>\n",
              "      <td>28</td>\n",
              "      <td>3390</td>\n",
              "      <td>8</td>\n",
              "      <td>3330</td>\n",
              "      <td>11</td>\n",
              "    </tr>\n",
              "    <tr>\n",
              "      <th>34</th>\n",
              "      <td>2000</td>\n",
              "      <td>3330</td>\n",
              "      <td>37</td>\n",
              "      <td>3390</td>\n",
              "      <td>15</td>\n",
              "      <td>3330</td>\n",
              "      <td>9</td>\n",
              "    </tr>\n",
              "    <tr>\n",
              "      <th>35</th>\n",
              "      <td>2001</td>\n",
              "      <td>3330</td>\n",
              "      <td>50</td>\n",
              "      <td>3390</td>\n",
              "      <td>18</td>\n",
              "      <td>3330</td>\n",
              "      <td>4</td>\n",
              "    </tr>\n",
              "    <tr>\n",
              "      <th>36</th>\n",
              "      <td>2002</td>\n",
              "      <td>3330</td>\n",
              "      <td>29</td>\n",
              "      <td>3390</td>\n",
              "      <td>15</td>\n",
              "      <td>3330</td>\n",
              "      <td>4</td>\n",
              "    </tr>\n",
              "    <tr>\n",
              "      <th>37</th>\n",
              "      <td>2003</td>\n",
              "      <td>3330</td>\n",
              "      <td>26</td>\n",
              "      <td>3390</td>\n",
              "      <td>13</td>\n",
              "      <td>3330</td>\n",
              "      <td>8</td>\n",
              "    </tr>\n",
              "    <tr>\n",
              "      <th>38</th>\n",
              "      <td>2004</td>\n",
              "      <td>3330</td>\n",
              "      <td>17</td>\n",
              "      <td>3390</td>\n",
              "      <td>18</td>\n",
              "      <td>3330</td>\n",
              "      <td>8</td>\n",
              "    </tr>\n",
              "    <tr>\n",
              "      <th>39</th>\n",
              "      <td>2005</td>\n",
              "      <td>3330</td>\n",
              "      <td>31</td>\n",
              "      <td>3390</td>\n",
              "      <td>22</td>\n",
              "      <td>3330</td>\n",
              "      <td>10</td>\n",
              "    </tr>\n",
              "    <tr>\n",
              "      <th>40</th>\n",
              "      <td>2006</td>\n",
              "      <td>3330</td>\n",
              "      <td>34</td>\n",
              "      <td>3390</td>\n",
              "      <td>33</td>\n",
              "      <td>3330</td>\n",
              "      <td>10</td>\n",
              "    </tr>\n",
              "    <tr>\n",
              "      <th>41</th>\n",
              "      <td>2007</td>\n",
              "      <td>3330</td>\n",
              "      <td>46</td>\n",
              "      <td>3390</td>\n",
              "      <td>25</td>\n",
              "      <td>3330</td>\n",
              "      <td>8</td>\n",
              "    </tr>\n",
              "    <tr>\n",
              "      <th>42</th>\n",
              "      <td>2008</td>\n",
              "      <td>3330</td>\n",
              "      <td>28</td>\n",
              "      <td>3390</td>\n",
              "      <td>27</td>\n",
              "      <td>3330</td>\n",
              "      <td>13</td>\n",
              "    </tr>\n",
              "    <tr>\n",
              "      <th>43</th>\n",
              "      <td>2009</td>\n",
              "      <td>3330</td>\n",
              "      <td>31</td>\n",
              "      <td>3390</td>\n",
              "      <td>41</td>\n",
              "      <td>3330</td>\n",
              "      <td>12</td>\n",
              "    </tr>\n",
              "    <tr>\n",
              "      <th>44</th>\n",
              "      <td>2010</td>\n",
              "      <td>3330</td>\n",
              "      <td>50</td>\n",
              "      <td>3390</td>\n",
              "      <td>39</td>\n",
              "      <td>3330</td>\n",
              "      <td>12</td>\n",
              "    </tr>\n",
              "    <tr>\n",
              "      <th>45</th>\n",
              "      <td>2011</td>\n",
              "      <td>3330</td>\n",
              "      <td>28</td>\n",
              "      <td>3390</td>\n",
              "      <td>31</td>\n",
              "      <td>3330</td>\n",
              "      <td>7</td>\n",
              "    </tr>\n",
              "    <tr>\n",
              "      <th>46</th>\n",
              "      <td>2012</td>\n",
              "      <td>3330</td>\n",
              "      <td>48</td>\n",
              "      <td>3390</td>\n",
              "      <td>48</td>\n",
              "      <td>3330</td>\n",
              "      <td>11</td>\n",
              "    </tr>\n",
              "    <tr>\n",
              "      <th>47</th>\n",
              "      <td>2013</td>\n",
              "      <td>3330</td>\n",
              "      <td>35</td>\n",
              "      <td>3390</td>\n",
              "      <td>35</td>\n",
              "      <td>3330</td>\n",
              "      <td>5</td>\n",
              "    </tr>\n",
              "    <tr>\n",
              "      <th>48</th>\n",
              "      <td>2014</td>\n",
              "      <td>3330</td>\n",
              "      <td>37</td>\n",
              "      <td>3390</td>\n",
              "      <td>41</td>\n",
              "      <td>3330</td>\n",
              "      <td>9</td>\n",
              "    </tr>\n",
              "    <tr>\n",
              "      <th>49</th>\n",
              "      <td>2015</td>\n",
              "      <td>3330</td>\n",
              "      <td>33</td>\n",
              "      <td>3390</td>\n",
              "      <td>28</td>\n",
              "      <td>3330</td>\n",
              "      <td>3</td>\n",
              "    </tr>\n",
              "    <tr>\n",
              "      <th>50</th>\n",
              "      <td>2016</td>\n",
              "      <td>3330</td>\n",
              "      <td>56</td>\n",
              "      <td>3390</td>\n",
              "      <td>36</td>\n",
              "      <td>3330</td>\n",
              "      <td>5</td>\n",
              "    </tr>\n",
              "    <tr>\n",
              "      <th>51</th>\n",
              "      <td>2017</td>\n",
              "      <td>3330</td>\n",
              "      <td>56</td>\n",
              "      <td>3390</td>\n",
              "      <td>46</td>\n",
              "      <td>3330</td>\n",
              "      <td>8</td>\n",
              "    </tr>\n",
              "  </tbody>\n",
              "</table>\n",
              "</div>"
            ],
            "text/plain": [
              "    Year  Redtail_ID  ...  Coopers_ID  Cooper_Hawk_Yr_Total\n",
              "0   1966        3330  ...        3330                     3\n",
              "1   1967        3330  ...        3330                     2\n",
              "2   1968        3330  ...        3330                     1\n",
              "3   1969        3330  ...        3330                     2\n",
              "4   1970        3330  ...        3330                     3\n",
              "5   1971        3330  ...        3330                     1\n",
              "6   1972        3330  ...        3330                     1\n",
              "7   1973        3330  ...        3330                     2\n",
              "8   1974        3330  ...        3330                     2\n",
              "9   1975        3330  ...        3330                     3\n",
              "10  1976        3330  ...        3330                     1\n",
              "11  1977        3330  ...        3330                     3\n",
              "12  1978        3330  ...        3330                     1\n",
              "13  1979        3330  ...        3330                     1\n",
              "14  1980        3330  ...        3330                     2\n",
              "15  1981        3330  ...        3330                     4\n",
              "16  1982        3330  ...        3330                     4\n",
              "17  1983        3330  ...        3330                     2\n",
              "18  1984        3330  ...        3330                     6\n",
              "19  1985        3330  ...        3330                     1\n",
              "20  1986        3330  ...        3330                     4\n",
              "21  1987        3330  ...        3330                     3\n",
              "22  1988        3330  ...        3330                     6\n",
              "23  1989        3330  ...        3330                     3\n",
              "24  1990        3330  ...        3330                     6\n",
              "25  1991        3330  ...        3330                     5\n",
              "26  1992        3330  ...        3330                     5\n",
              "27  1993        3330  ...        3330                     4\n",
              "28  1994        3330  ...        3330                     3\n",
              "29  1995        3330  ...        3330                     4\n",
              "30  1996        3330  ...        3330                     2\n",
              "31  1997        3330  ...        3330                     1\n",
              "32  1998        3330  ...        3330                     2\n",
              "33  1999        3330  ...        3330                    11\n",
              "34  2000        3330  ...        3330                     9\n",
              "35  2001        3330  ...        3330                     4\n",
              "36  2002        3330  ...        3330                     4\n",
              "37  2003        3330  ...        3330                     8\n",
              "38  2004        3330  ...        3330                     8\n",
              "39  2005        3330  ...        3330                    10\n",
              "40  2006        3330  ...        3330                    10\n",
              "41  2007        3330  ...        3330                     8\n",
              "42  2008        3330  ...        3330                    13\n",
              "43  2009        3330  ...        3330                    12\n",
              "44  2010        3330  ...        3330                    12\n",
              "45  2011        3330  ...        3330                     7\n",
              "46  2012        3330  ...        3330                    11\n",
              "47  2013        3330  ...        3330                     5\n",
              "48  2014        3330  ...        3330                     9\n",
              "49  2015        3330  ...        3330                     3\n",
              "50  2016        3330  ...        3330                     5\n",
              "51  2017        3330  ...        3330                     8\n",
              "\n",
              "[52 rows x 7 columns]"
            ]
          },
          "metadata": {
            "tags": []
          },
          "execution_count": 298
        }
      ]
    },
    {
      "cell_type": "code",
      "metadata": {
        "id": "vcoDOOiTr8wx",
        "colab_type": "code",
        "outputId": "b9167944-d91c-47dd-ea4a-2b4ff8b9254c",
        "colab": {
          "base_uri": "https://localhost:8080/",
          "height": 388
        }
      },
      "source": [
        "plt.style.use('default')\n",
        "ax = plt.gca()\n",
        "\n",
        "finished_df.plot(kind='scatter',x='Year',y='Red_Tail_Yr_Total', c = '#f57905', s = 100, alpha = 0.9, figsize=(6,4), ax=ax)\n",
        "finished_df.plot(kind='scatter',x='Year',y='Red_Shoulder_Yr_Total', c = '#1ABC9C', s = 100, alpha = 0.9, figsize=(6,4), ax=ax)\n",
        "finished_df.plot(kind='scatter',x='Year',y='Cooper_Hawk_Yr_Total', c = '#2E86C1', s = 100, alpha = 0.7, figsize=(6,4), ax=ax)\n",
        "ax.set_facecolor(\"#e4f2f2\")\n",
        "\n",
        "plt.show()\n"
      ],
      "execution_count": 304,
      "outputs": [
        {
          "output_type": "display_data",
          "data": {
            "image/png": "[encoded data removed]",
            "text/plain": [
              "<Figure size 600x400 with 1 Axes>"
            ]
          },
          "metadata": {
            "tags": []
          }
        }
      ]
    },
    {
      "cell_type": "code",
      "metadata": {
        "id": "CtthHd09CCKW",
        "colab_type": "code",
        "outputId": "e252baf2-6135-4ea2-bc61-f18b13ca3c00",
        "colab": {
          "base_uri": "https://localhost:8080/",
          "height": 111
        }
      },
      "source": [
        "finished_df.head(2)"
      ],
      "execution_count": 305,
      "outputs": [
        {
          "output_type": "execute_result",
          "data": {
            "text/html": [
              "<div>\n",
              "<style scoped>\n",
              "    .dataframe tbody tr th:only-of-type {\n",
              "        vertical-align: middle;\n",
              "    }\n",
              "\n",
              "    .dataframe tbody tr th {\n",
              "        vertical-align: top;\n",
              "    }\n",
              "\n",
              "    .dataframe thead th {\n",
              "        text-align: right;\n",
              "    }\n",
              "</style>\n",
              "<table border=\"1\" class=\"dataframe\">\n",
              "  <thead>\n",
              "    <tr style=\"text-align: right;\">\n",
              "      <th></th>\n",
              "      <th>Year</th>\n",
              "      <th>Redtail_ID</th>\n",
              "      <th>Red_Tail_Yr_Total</th>\n",
              "      <th>Redshoulder_ID</th>\n",
              "      <th>Red_Shoulder_Yr_Total</th>\n",
              "      <th>Coopers_ID</th>\n",
              "      <th>Cooper_Hawk_Yr_Total</th>\n",
              "    </tr>\n",
              "  </thead>\n",
              "  <tbody>\n",
              "    <tr>\n",
              "      <th>0</th>\n",
              "      <td>1966</td>\n",
              "      <td>3330</td>\n",
              "      <td>5</td>\n",
              "      <td>3390</td>\n",
              "      <td>7</td>\n",
              "      <td>3330</td>\n",
              "      <td>3</td>\n",
              "    </tr>\n",
              "    <tr>\n",
              "      <th>1</th>\n",
              "      <td>1967</td>\n",
              "      <td>3330</td>\n",
              "      <td>9</td>\n",
              "      <td>3390</td>\n",
              "      <td>8</td>\n",
              "      <td>3330</td>\n",
              "      <td>2</td>\n",
              "    </tr>\n",
              "  </tbody>\n",
              "</table>\n",
              "</div>"
            ],
            "text/plain": [
              "   Year  Redtail_ID  ...  Coopers_ID  Cooper_Hawk_Yr_Total\n",
              "0  1966        3330  ...        3330                     3\n",
              "1  1967        3330  ...        3330                     2\n",
              "\n",
              "[2 rows x 7 columns]"
            ]
          },
          "metadata": {
            "tags": []
          },
          "execution_count": 305
        }
      ]
    },
    {
      "cell_type": "code",
      "metadata": {
        "id": "mOpyDSN6AILx",
        "colab_type": "code",
        "outputId": "75a5a711-04dc-494d-bf8e-f508b6d415a9",
        "colab": {
          "base_uri": "https://localhost:8080/",
          "height": 477
        }
      },
      "source": [
        "plt.style.use('default')\n",
        "from matplotlib.patches import Patch\n",
        "from matplotlib.lines import Line2D\n",
        "\n",
        "fig, ax = plt.subplots(figsize=(7,5))\n",
        "finished_df.plot(x='Year', y='Red_Tail_Yr_Total', color=\"#11ff00\", lw=1, ls='-', marker='o', markersize=12, \n",
        "        markerfacecolor=\"#dbf294\", markeredgewidth=3, markeredgecolor=\"#68ff03\", ax = ax)\n",
        "finished_df.plot(x='Year', y='Red_Shoulder_Yr_Total', color=\"#00f7b1\", lw=1, ls='-', marker='o', markersize=12, \n",
        "        markerfacecolor=\"#00ffe5\", markeredgewidth=3, markeredgecolor=\"#9961ed\", ax = ax)\n",
        "finished_df.plot(x='Year', y='Cooper_Hawk_Yr_Total', color=\"#009cf0\", lw=1, ls='-', marker='o', markersize=12, \n",
        "        markerfacecolor=\"none\", markeredgewidth=3, markeredgecolor=\"#2ab7de\", ax = ax)\n",
        "ax.set_facecolor(\"#e4f2f2\")\n",
        "\n",
        "legend_elements = [Line2D([0], [0], color=\"#11ff00\", lw=1, ls='-', marker='o', markersize=12, \n",
        "        markerfacecolor=\"#dbf294\", markeredgewidth=3, markeredgecolor=\"#68ff03\", label='Red Tail Hawk'),\n",
        "                   Line2D([0], [0], color=\"#00f7b1\", lw=1, ls='-', marker='o', markersize=12, \n",
        "        markerfacecolor=\"#00ffe5\", markeredgewidth=3, markeredgecolor=\"#9961ed\", label='Red Shouldered Hawk'),\n",
        "                  Line2D([0], [0], color=\"#009cf0\", lw=1, ls='-', marker='o', markersize=12, \n",
        "        markerfacecolor=\"none\", markeredgewidth=3, markeredgecolor=\"#2ab7de\", label=\"Cooper's Hawk\")]\n",
        "\n",
        "ax.legend(handles=legend_elements, fontsize = 14)\n",
        "# Set the x and y axes labels\n",
        "ax.set_xlabel(\"Years\", fontsize=16)\n",
        "ax.set_ylabel(\"Yearly Counts At\\n Multiple Locations\", fontsize=14)\n",
        "plt.setp(ax.get_xticklabels(), rotation='horizontal', fontsize=16)\n",
        "plt.setp(ax.get_yticklabels(), rotation='horizontal', fontsize=16)\n",
        "plt.show()"
      ],
      "execution_count": 313,
      "outputs": [
        {
          "output_type": "display_data",
          "data": {
            "image/png": "[encoded data removed]",
            "text/plain": [
              "<Figure size 700x500 with 1 Axes>"
            ]
          },
          "metadata": {
            "tags": []
          }
        }
      ]
    },
    {
      "cell_type": "code",
      "metadata": {
        "id": "Flh8ljAJ9AUo",
        "colab_type": "code",
        "outputId": "224dd8a2-7def-414e-9178-c6c8fd9bf2d0",
        "colab": {
          "base_uri": "https://localhost:8080/",
          "height": 522
        }
      },
      "source": [
        "plt.style.use('default')\n",
        "fig, ax = plt.subplots(figsize = [8,5])\n",
        "finished_df.plot(x='Year', y='Red_Tail_Yr_Total', marker ='s', markersize=10, lw = 0, markerfacecolor= 'orange', markeredgecolor='r', ax = ax)\n",
        "finished_df.plot(x='Year', y='Red_Shoulder_Yr_Total', marker ='^', markersize = 12, lw = 0, markerfacecolor= 'green', markeredgecolor= 'g', ax = ax)\n",
        "finished_df.plot(x='Year', y='Cooper_Hawk_Yr_Total', lw = 4, ls =':', color = 'blue', ax = ax)\n",
        "ax.set_facecolor(\"#e4f2f2\")\n",
        "\n",
        "\n",
        "L=plt.legend(fontsize = 12)\n",
        "L.get_texts()[0].set_text('Red Tail')\n",
        "L.get_texts()[1].set_text('Red Shouldered')\n",
        "L.get_texts()[2].set_text(\"Cooper's Hawk\")\n",
        "\n",
        "# Set the x and y axes labels\n",
        "ax.set_xticks(range(1966, 2018, 4))\n",
        "plt.xticks(\n",
        "    rotation=45, \n",
        "    horizontalalignment='right',\n",
        "    fontweight='light',\n",
        "    fontsize='12'  \n",
        ")\n",
        "\n",
        "ax.set_yticks(range(0, 65, 10))\n",
        "plt.yticks(\n",
        "    rotation=0, \n",
        "    horizontalalignment='right',\n",
        "    fontweight='light',\n",
        "    fontsize='14'  \n",
        ")\n",
        "\n",
        "\n",
        "# Add title and axis names\n",
        "plt.title('3 Most Common Hawk Species in Kentucky.', fontsize = 14)\n",
        "plt.xlabel('Years', fontsize = 14)\n",
        "plt.ylabel(\"Total Counted.\", fontsize = 14)\n",
        "\n",
        "plt.show()"
      ],
      "execution_count": 344,
      "outputs": [
        {
          "output_type": "display_data",
          "data": {
            "image/png": "[encoded data removed]",
            "text/plain": [
              "<Figure size 800x500 with 1 Axes>"
            ]
          },
          "metadata": {
            "tags": []
          }
        }
      ]
    }
  ]
}