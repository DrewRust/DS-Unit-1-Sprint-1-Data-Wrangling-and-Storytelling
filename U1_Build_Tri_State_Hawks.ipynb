{
  "nbformat": 4,
  "nbformat_minor": 0,
  "metadata": {
    "colab": {
      "name": "U1 Build Tri-State Hawks.ipynb",
      "provenance": [],
      "collapsed_sections": [],
      "authorship_tag": "ABX9TyO35TNemYa5QMglOSiT9Skk",
      "include_colab_link": true
    },
    "kernelspec": {
      "name": "python3",
      "display_name": "Python 3"
    }
  },
  "cells": [
    {
      "cell_type": "markdown",
      "metadata": {
        "id": "view-in-github",
        "colab_type": "text"
      },
      "source": [
        "<a href=\"https://colab.research.google.com/github/DrewRust/DS-Unit-1-Sprint-1-Data-Wrangling-and-Storytelling/blob/master/U1_Build_Tri_State_Hawks.ipynb\" target=\"_parent\"><img src=\"https://colab.research.google.com/assets/colab-badge.svg\" alt=\"Open In Colab\"/></a>"
      ]
    },
    {
      "cell_type": "code",
      "metadata": {
        "id": "T7XzvgUOZa3R",
        "colab_type": "code",
        "colab": {}
      },
      "source": [
        "# Yet.\n",
        "## Impose Your will.\n",
        "import pandas as pd\n",
        "import numpy as np\n",
        "import matplotlib.pyplot as plt\n",
        "import seaborn as sns\n",
        "%matplotlib inline"
      ],
      "execution_count": 0,
      "outputs": []
    },
    {
      "cell_type": "code",
      "metadata": {
        "id": "lVhmaVDHZ97N",
        "colab_type": "code",
        "colab": {}
      },
      "source": [
        "url = 'fifty4.csv'\n",
        "fifty4_df = pd.read_csv(url)\n",
        "fifty4_df.head()"
      ],
      "execution_count": 0,
      "outputs": []
    },
    {
      "cell_type": "code",
      "metadata": {
        "id": "fQoyr_hkaItJ",
        "colab_type": "code",
        "colab": {}
      },
      "source": [
        "# 45 Manitoba\n",
        "# 38 Kansas\n",
        "# Other states finally must've loaded\n",
        "fifty4_df['StateNum'].value_counts().head(10)"
      ],
      "execution_count": 0,
      "outputs": []
    },
    {
      "cell_type": "code",
      "metadata": {
        "id": "JFZb2bP0bdZz",
        "colab_type": "code",
        "colab": {}
      },
      "source": [
        "# 124 Canada\n",
        "# 840 US\n",
        "fifty4_df['CountryNum'].value_counts().head(5)"
      ],
      "execution_count": 0,
      "outputs": []
    },
    {
      "cell_type": "code",
      "metadata": {
        "id": "Eto8MnzOdkTi",
        "colab_type": "code",
        "outputId": "bdfbad57-0115-4e8c-c43d-6b833d97d38e",
        "colab": {
          "base_uri": "https://localhost:8080/",
          "height": 204
        }
      },
      "source": [
        "url2 = 'Kentuck.csv'\n",
        "Kentucky_df = pd.read_csv(url2)\n",
        "Kentucky_df.head()"
      ],
      "execution_count": 142,
      "outputs": [
        {
          "output_type": "execute_result",
          "data": {
            "text/html": [
              "<div>\n",
              "<style scoped>\n",
              "    .dataframe tbody tr th:only-of-type {\n",
              "        vertical-align: middle;\n",
              "    }\n",
              "\n",
              "    .dataframe tbody tr th {\n",
              "        vertical-align: top;\n",
              "    }\n",
              "\n",
              "    .dataframe thead th {\n",
              "        text-align: right;\n",
              "    }\n",
              "</style>\n",
              "<table border=\"1\" class=\"dataframe\">\n",
              "  <thead>\n",
              "    <tr style=\"text-align: right;\">\n",
              "      <th></th>\n",
              "      <th>RouteDataID</th>\n",
              "      <th>CountryNum</th>\n",
              "      <th>StateNum</th>\n",
              "      <th>Route</th>\n",
              "      <th>RPID</th>\n",
              "      <th>Year</th>\n",
              "      <th>AOU</th>\n",
              "      <th>Count10</th>\n",
              "      <th>Count20</th>\n",
              "      <th>Count30</th>\n",
              "      <th>Count40</th>\n",
              "      <th>Count50</th>\n",
              "      <th>StopTotal</th>\n",
              "      <th>SpeciesTotal</th>\n",
              "    </tr>\n",
              "  </thead>\n",
              "  <tbody>\n",
              "    <tr>\n",
              "      <th>0</th>\n",
              "      <td>6167510</td>\n",
              "      <td>840</td>\n",
              "      <td>39</td>\n",
              "      <td>1</td>\n",
              "      <td>101</td>\n",
              "      <td>1966</td>\n",
              "      <td>1310</td>\n",
              "      <td>0</td>\n",
              "      <td>1</td>\n",
              "      <td>0</td>\n",
              "      <td>0</td>\n",
              "      <td>0</td>\n",
              "      <td>1</td>\n",
              "      <td>1</td>\n",
              "    </tr>\n",
              "    <tr>\n",
              "      <th>1</th>\n",
              "      <td>6167510</td>\n",
              "      <td>840</td>\n",
              "      <td>39</td>\n",
              "      <td>1</td>\n",
              "      <td>101</td>\n",
              "      <td>1966</td>\n",
              "      <td>2890</td>\n",
              "      <td>0</td>\n",
              "      <td>2</td>\n",
              "      <td>3</td>\n",
              "      <td>8</td>\n",
              "      <td>6</td>\n",
              "      <td>16</td>\n",
              "      <td>19</td>\n",
              "    </tr>\n",
              "    <tr>\n",
              "      <th>2</th>\n",
              "      <td>6167510</td>\n",
              "      <td>840</td>\n",
              "      <td>39</td>\n",
              "      <td>1</td>\n",
              "      <td>101</td>\n",
              "      <td>1966</td>\n",
              "      <td>3131</td>\n",
              "      <td>0</td>\n",
              "      <td>0</td>\n",
              "      <td>6</td>\n",
              "      <td>0</td>\n",
              "      <td>0</td>\n",
              "      <td>6</td>\n",
              "      <td>6</td>\n",
              "    </tr>\n",
              "    <tr>\n",
              "      <th>3</th>\n",
              "      <td>6167510</td>\n",
              "      <td>840</td>\n",
              "      <td>39</td>\n",
              "      <td>1</td>\n",
              "      <td>101</td>\n",
              "      <td>1966</td>\n",
              "      <td>3160</td>\n",
              "      <td>0</td>\n",
              "      <td>0</td>\n",
              "      <td>2</td>\n",
              "      <td>1</td>\n",
              "      <td>0</td>\n",
              "      <td>3</td>\n",
              "      <td>3</td>\n",
              "    </tr>\n",
              "    <tr>\n",
              "      <th>4</th>\n",
              "      <td>6167510</td>\n",
              "      <td>840</td>\n",
              "      <td>39</td>\n",
              "      <td>1</td>\n",
              "      <td>101</td>\n",
              "      <td>1966</td>\n",
              "      <td>3390</td>\n",
              "      <td>0</td>\n",
              "      <td>0</td>\n",
              "      <td>0</td>\n",
              "      <td>0</td>\n",
              "      <td>1</td>\n",
              "      <td>1</td>\n",
              "      <td>1</td>\n",
              "    </tr>\n",
              "  </tbody>\n",
              "</table>\n",
              "</div>"
            ],
            "text/plain": [
              "   RouteDataID  CountryNum  StateNum  ...  Count50  StopTotal  SpeciesTotal\n",
              "0      6167510         840        39  ...        0          1             1\n",
              "1      6167510         840        39  ...        6         16            19\n",
              "2      6167510         840        39  ...        0          6             6\n",
              "3      6167510         840        39  ...        0          3             3\n",
              "4      6167510         840        39  ...        1          1             1\n",
              "\n",
              "[5 rows x 14 columns]"
            ]
          },
          "metadata": {
            "tags": []
          },
          "execution_count": 142
        }
      ]
    },
    {
      "cell_type": "code",
      "metadata": {
        "id": "OzmmS4TEdlP6",
        "colab_type": "code",
        "outputId": "b66e599c-2903-4567-e646-a83fcfa569a6",
        "colab": {
          "base_uri": "https://localhost:8080/",
          "height": 204
        }
      },
      "source": [
        "url3 = 'Indiana.csv'\n",
        "Indiana_df = pd.read_csv(url3)\n",
        "Indiana_df.head()"
      ],
      "execution_count": 143,
      "outputs": [
        {
          "output_type": "execute_result",
          "data": {
            "text/html": [
              "<div>\n",
              "<style scoped>\n",
              "    .dataframe tbody tr th:only-of-type {\n",
              "        vertical-align: middle;\n",
              "    }\n",
              "\n",
              "    .dataframe tbody tr th {\n",
              "        vertical-align: top;\n",
              "    }\n",
              "\n",
              "    .dataframe thead th {\n",
              "        text-align: right;\n",
              "    }\n",
              "</style>\n",
              "<table border=\"1\" class=\"dataframe\">\n",
              "  <thead>\n",
              "    <tr style=\"text-align: right;\">\n",
              "      <th></th>\n",
              "      <th>RouteDataID</th>\n",
              "      <th>CountryNum</th>\n",
              "      <th>StateNum</th>\n",
              "      <th>Route</th>\n",
              "      <th>RPID</th>\n",
              "      <th>Year</th>\n",
              "      <th>AOU</th>\n",
              "      <th>Count10</th>\n",
              "      <th>Count20</th>\n",
              "      <th>Count30</th>\n",
              "      <th>Count40</th>\n",
              "      <th>Count50</th>\n",
              "      <th>StopTotal</th>\n",
              "      <th>SpeciesTotal</th>\n",
              "    </tr>\n",
              "  </thead>\n",
              "  <tbody>\n",
              "    <tr>\n",
              "      <th>0</th>\n",
              "      <td>6188110</td>\n",
              "      <td>840</td>\n",
              "      <td>35</td>\n",
              "      <td>1</td>\n",
              "      <td>101</td>\n",
              "      <td>1980</td>\n",
              "      <td>60</td>\n",
              "      <td>0</td>\n",
              "      <td>0</td>\n",
              "      <td>6</td>\n",
              "      <td>0</td>\n",
              "      <td>0</td>\n",
              "      <td>1</td>\n",
              "      <td>6</td>\n",
              "    </tr>\n",
              "    <tr>\n",
              "      <th>1</th>\n",
              "      <td>6188110</td>\n",
              "      <td>840</td>\n",
              "      <td>35</td>\n",
              "      <td>1</td>\n",
              "      <td>101</td>\n",
              "      <td>1980</td>\n",
              "      <td>1320</td>\n",
              "      <td>0</td>\n",
              "      <td>15</td>\n",
              "      <td>1</td>\n",
              "      <td>0</td>\n",
              "      <td>0</td>\n",
              "      <td>2</td>\n",
              "      <td>16</td>\n",
              "    </tr>\n",
              "    <tr>\n",
              "      <th>2</th>\n",
              "      <td>6188110</td>\n",
              "      <td>840</td>\n",
              "      <td>35</td>\n",
              "      <td>1</td>\n",
              "      <td>101</td>\n",
              "      <td>1980</td>\n",
              "      <td>1400</td>\n",
              "      <td>0</td>\n",
              "      <td>10</td>\n",
              "      <td>2</td>\n",
              "      <td>0</td>\n",
              "      <td>0</td>\n",
              "      <td>2</td>\n",
              "      <td>12</td>\n",
              "    </tr>\n",
              "    <tr>\n",
              "      <th>3</th>\n",
              "      <td>6188110</td>\n",
              "      <td>840</td>\n",
              "      <td>35</td>\n",
              "      <td>1</td>\n",
              "      <td>101</td>\n",
              "      <td>1980</td>\n",
              "      <td>2010</td>\n",
              "      <td>3</td>\n",
              "      <td>0</td>\n",
              "      <td>1</td>\n",
              "      <td>0</td>\n",
              "      <td>0</td>\n",
              "      <td>3</td>\n",
              "      <td>4</td>\n",
              "    </tr>\n",
              "    <tr>\n",
              "      <th>4</th>\n",
              "      <td>6188110</td>\n",
              "      <td>840</td>\n",
              "      <td>35</td>\n",
              "      <td>1</td>\n",
              "      <td>101</td>\n",
              "      <td>1980</td>\n",
              "      <td>2190</td>\n",
              "      <td>0</td>\n",
              "      <td>0</td>\n",
              "      <td>1</td>\n",
              "      <td>0</td>\n",
              "      <td>0</td>\n",
              "      <td>1</td>\n",
              "      <td>1</td>\n",
              "    </tr>\n",
              "  </tbody>\n",
              "</table>\n",
              "</div>"
            ],
            "text/plain": [
              "   RouteDataID  CountryNum  StateNum  ...  Count50  StopTotal  SpeciesTotal\n",
              "0      6188110         840        35  ...        0          1             6\n",
              "1      6188110         840        35  ...        0          2            16\n",
              "2      6188110         840        35  ...        0          2            12\n",
              "3      6188110         840        35  ...        0          3             4\n",
              "4      6188110         840        35  ...        0          1             1\n",
              "\n",
              "[5 rows x 14 columns]"
            ]
          },
          "metadata": {
            "tags": []
          },
          "execution_count": 143
        }
      ]
    },
    {
      "cell_type": "code",
      "metadata": {
        "id": "hGRbwsVvdmKR",
        "colab_type": "code",
        "outputId": "818ca4e5-ebbd-4db5-fc35-fb18697dd7b9",
        "colab": {
          "base_uri": "https://localhost:8080/",
          "height": 204
        }
      },
      "source": [
        "url4 = 'Ohio.csv'\n",
        "Ohio_df = pd.read_csv(url4)\n",
        "Ohio_df.head()"
      ],
      "execution_count": 144,
      "outputs": [
        {
          "output_type": "execute_result",
          "data": {
            "text/html": [
              "<div>\n",
              "<style scoped>\n",
              "    .dataframe tbody tr th:only-of-type {\n",
              "        vertical-align: middle;\n",
              "    }\n",
              "\n",
              "    .dataframe tbody tr th {\n",
              "        vertical-align: top;\n",
              "    }\n",
              "\n",
              "    .dataframe thead th {\n",
              "        text-align: right;\n",
              "    }\n",
              "</style>\n",
              "<table border=\"1\" class=\"dataframe\">\n",
              "  <thead>\n",
              "    <tr style=\"text-align: right;\">\n",
              "      <th></th>\n",
              "      <th>RouteDataID</th>\n",
              "      <th>CountryNum</th>\n",
              "      <th>StateNum</th>\n",
              "      <th>Route</th>\n",
              "      <th>RPID</th>\n",
              "      <th>Year</th>\n",
              "      <th>AOU</th>\n",
              "      <th>Count10</th>\n",
              "      <th>Count20</th>\n",
              "      <th>Count30</th>\n",
              "      <th>Count40</th>\n",
              "      <th>Count50</th>\n",
              "      <th>StopTotal</th>\n",
              "      <th>SpeciesTotal</th>\n",
              "    </tr>\n",
              "  </thead>\n",
              "  <tbody>\n",
              "    <tr>\n",
              "      <th>0</th>\n",
              "      <td>6237018</td>\n",
              "      <td>840</td>\n",
              "      <td>66</td>\n",
              "      <td>1</td>\n",
              "      <td>101</td>\n",
              "      <td>1966</td>\n",
              "      <td>2730</td>\n",
              "      <td>1</td>\n",
              "      <td>1</td>\n",
              "      <td>0</td>\n",
              "      <td>1</td>\n",
              "      <td>0</td>\n",
              "      <td>3</td>\n",
              "      <td>3</td>\n",
              "    </tr>\n",
              "    <tr>\n",
              "      <th>1</th>\n",
              "      <td>6237018</td>\n",
              "      <td>840</td>\n",
              "      <td>66</td>\n",
              "      <td>1</td>\n",
              "      <td>101</td>\n",
              "      <td>1966</td>\n",
              "      <td>2890</td>\n",
              "      <td>1</td>\n",
              "      <td>10</td>\n",
              "      <td>15</td>\n",
              "      <td>2</td>\n",
              "      <td>4</td>\n",
              "      <td>18</td>\n",
              "      <td>32</td>\n",
              "    </tr>\n",
              "    <tr>\n",
              "      <th>2</th>\n",
              "      <td>6237018</td>\n",
              "      <td>840</td>\n",
              "      <td>66</td>\n",
              "      <td>1</td>\n",
              "      <td>101</td>\n",
              "      <td>1966</td>\n",
              "      <td>3091</td>\n",
              "      <td>2</td>\n",
              "      <td>1</td>\n",
              "      <td>1</td>\n",
              "      <td>0</td>\n",
              "      <td>0</td>\n",
              "      <td>4</td>\n",
              "      <td>4</td>\n",
              "    </tr>\n",
              "    <tr>\n",
              "      <th>3</th>\n",
              "      <td>6237018</td>\n",
              "      <td>840</td>\n",
              "      <td>66</td>\n",
              "      <td>1</td>\n",
              "      <td>101</td>\n",
              "      <td>1966</td>\n",
              "      <td>3131</td>\n",
              "      <td>3</td>\n",
              "      <td>15</td>\n",
              "      <td>5</td>\n",
              "      <td>31</td>\n",
              "      <td>1</td>\n",
              "      <td>11</td>\n",
              "      <td>55</td>\n",
              "    </tr>\n",
              "    <tr>\n",
              "      <th>4</th>\n",
              "      <td>6237018</td>\n",
              "      <td>840</td>\n",
              "      <td>66</td>\n",
              "      <td>1</td>\n",
              "      <td>101</td>\n",
              "      <td>1966</td>\n",
              "      <td>3160</td>\n",
              "      <td>5</td>\n",
              "      <td>0</td>\n",
              "      <td>8</td>\n",
              "      <td>4</td>\n",
              "      <td>2</td>\n",
              "      <td>11</td>\n",
              "      <td>19</td>\n",
              "    </tr>\n",
              "  </tbody>\n",
              "</table>\n",
              "</div>"
            ],
            "text/plain": [
              "   RouteDataID  CountryNum  StateNum  ...  Count50  StopTotal  SpeciesTotal\n",
              "0      6237018         840        66  ...        0          3             3\n",
              "1      6237018         840        66  ...        4         18            32\n",
              "2      6237018         840        66  ...        0          4             4\n",
              "3      6237018         840        66  ...        1         11            55\n",
              "4      6237018         840        66  ...        2         11            19\n",
              "\n",
              "[5 rows x 14 columns]"
            ]
          },
          "metadata": {
            "tags": []
          },
          "execution_count": 144
        }
      ]
    },
    {
      "cell_type": "code",
      "metadata": {
        "id": "PuCy9dYLeCyP",
        "colab_type": "code",
        "outputId": "cf1374a6-98c4-4455-fd49-04b20c6cf8ff",
        "colab": {
          "base_uri": "https://localhost:8080/",
          "height": 68
        }
      },
      "source": [
        "# 96753\n",
        "# 104623\n",
        "# 138191\n",
        "print((Kentucky_df).shape)\n",
        "print((Indiana_df).shape)\n",
        "print((Ohio_df).shape)"
      ],
      "execution_count": 145,
      "outputs": [
        {
          "output_type": "stream",
          "text": [
            "(96753, 14)\n",
            "(104623, 14)\n",
            "(138191, 14)\n"
          ],
          "name": "stdout"
        }
      ]
    },
    {
      "cell_type": "code",
      "metadata": {
        "id": "Jhe6Tiose4y8",
        "colab_type": "code",
        "colab": {}
      },
      "source": [
        "result_df = Ohio_df.append(Indiana_df)"
      ],
      "execution_count": 0,
      "outputs": []
    },
    {
      "cell_type": "code",
      "metadata": {
        "id": "yGnXV1UwfKmr",
        "colab_type": "code",
        "outputId": "c818ef62-bafb-41dc-ff7f-caa6425ee13d",
        "colab": {
          "base_uri": "https://localhost:8080/",
          "height": 34
        }
      },
      "source": [
        "result_df.shape"
      ],
      "execution_count": 147,
      "outputs": [
        {
          "output_type": "execute_result",
          "data": {
            "text/plain": [
              "(242814, 14)"
            ]
          },
          "metadata": {
            "tags": []
          },
          "execution_count": 147
        }
      ]
    },
    {
      "cell_type": "code",
      "metadata": {
        "id": "wNoChES7fcAb",
        "colab_type": "code",
        "colab": {}
      },
      "source": [
        "Kent_Ind_Oh_df = result_df.append(Kentucky_df)"
      ],
      "execution_count": 0,
      "outputs": []
    },
    {
      "cell_type": "code",
      "metadata": {
        "id": "jhK7o8YVfpvT",
        "colab_type": "code",
        "outputId": "4dbf26a3-64b8-4798-98a8-29274e885b2b",
        "colab": {
          "base_uri": "https://localhost:8080/",
          "height": 34
        }
      },
      "source": [
        "# 339567\n",
        "Kent_Ind_Oh_df.shape"
      ],
      "execution_count": 149,
      "outputs": [
        {
          "output_type": "execute_result",
          "data": {
            "text/plain": [
              "(339567, 14)"
            ]
          },
          "metadata": {
            "tags": []
          },
          "execution_count": 149
        }
      ]
    },
    {
      "cell_type": "code",
      "metadata": {
        "id": "3dlgbphbo8VC",
        "colab_type": "code",
        "outputId": "7b5f913e-f6cf-49af-890f-847bfbcd85c6",
        "colab": {
          "base_uri": "https://localhost:8080/",
          "height": 85
        }
      },
      "source": [
        "# KY 39, IN 35, OH 66\n",
        "Kent_Ind_Oh_df['StateNum'].value_counts().head(5)"
      ],
      "execution_count": 150,
      "outputs": [
        {
          "output_type": "execute_result",
          "data": {
            "text/plain": [
              "66    138191\n",
              "35    104623\n",
              "39     96753\n",
              "Name: StateNum, dtype: int64"
            ]
          },
          "metadata": {
            "tags": []
          },
          "execution_count": 150
        }
      ]
    },
    {
      "cell_type": "code",
      "metadata": {
        "id": "9rKjqJ6zhAkH",
        "colab_type": "code",
        "colab": {}
      },
      "source": [
        "# Cooper's Hawk 3330 and Sharp Shinned Hawk 3320\n",
        "Coopers_df = Kent_Ind_Oh_df[(Kent_Ind_Oh_df.AOU == 3330)] \n",
        "Sharpie_df = Kent_Ind_Oh_df[(Kent_Ind_Oh_df.AOU == 3320)]\n",
        "\n",
        "# Northern Gosh Hawk 3340 and Common Black Hawk 3450\n",
        "Gosh_df = Kent_Ind_Oh_df[(Kent_Ind_Oh_df.AOU == 3340)] \n",
        "Black_df = Kent_Ind_Oh_df[(Kent_Ind_Oh_df.AOU == 3450)]\n",
        "\n",
        "# Harris's Hawk 3350 and White Tailed Hawk 3410\n",
        "Harris_df = Kent_Ind_Oh_df[(Kent_Ind_Oh_df.AOU == 3350)]\n",
        "White_df = Kent_Ind_Oh_df[(Kent_Ind_Oh_df.AOU == 3410)]\n",
        "\n",
        "# Gray Hawk 3460 and Red Shouldered Hawk 3390\n",
        "Gray_df = Kent_Ind_Oh_df[(Kent_Ind_Oh_df.AOU == 3460)]\n",
        "RShoulder_df = Kent_Ind_Oh_df[(Kent_Ind_Oh_df.AOU == 3390)]\n",
        "\n",
        "# Broad Winged Hawk 3430 and Short-Tailed Hawk 3440\n",
        "Broad_df = Kent_Ind_Oh_df[(Kent_Ind_Oh_df.AOU == 3430)]\n",
        "ShortT_df = Kent_Ind_Oh_df[(Kent_Ind_Oh_df.AOU == 3440)]\n",
        "\n",
        "# Swainson's Hawk 3420 and Zone-Tailed Hawk 3400\n",
        "Sainson_df = Kent_Ind_Oh_df[(Kent_Ind_Oh_df.AOU == 3420)]\n",
        "Zone_df = Kent_Ind_Oh_df[(Kent_Ind_Oh_df.AOU == 3400)]\n",
        "\n",
        "# Rough-Legged Hawk 3470 and Ferruginous Hawk 3480\n",
        "Rough_df = Kent_Ind_Oh_df[(Kent_Ind_Oh_df.AOU == 3470)] \n",
        "Ferg_df = Kent_Ind_Oh_df[(Kent_Ind_Oh_df.AOU == 3480)]\n",
        "\n",
        "# Unidentified Bueto Hawk 3451 and Unidentified Accipiter Hawk 3333\n",
        "UnidB_df = Kent_Ind_Oh_df[(Kent_Ind_Oh_df.AOU == 3451)] \n",
        "UnidA_df = Kent_Ind_Oh_df[(Kent_Ind_Oh_df.AOU == 3333)]\n",
        "\n",
        "# Harlan's Red Tail Hawk 3380\n",
        "Harlans_only_df = Kent_Ind_Oh_df[(Kent_Ind_Oh_df.AOU == 3380)]\n",
        "# Red Tail Hawk 3370\n",
        "Red_Tail_only_df = Kent_Ind_Oh_df[(Kent_Ind_Oh_df.AOU == 3370)]"
      ],
      "execution_count": 0,
      "outputs": []
    },
    {
      "cell_type": "code",
      "metadata": {
        "id": "JNN6Iz4tzioe",
        "colab_type": "code",
        "outputId": "9f521efb-18c8-449c-c5f3-ab43becb79a9",
        "colab": {
          "base_uri": "https://localhost:8080/",
          "height": 102
        }
      },
      "source": [
        "# Sharpie should be 119\n",
        "# BroadT should be 295\n",
        "# Coopers should be 760\n",
        "# RShoulder should be 876\n",
        "# Red Tail should be 3083\n",
        "# These add up to 2050 the total OTHERS\n",
        "print(Sharpie_df.shape)\n",
        "print(Broad_df.shape)\n",
        "print(Coopers_df.shape)\n",
        "print(RShoulder_df.shape)\n",
        "print(Red_Tail_only_df.shape)"
      ],
      "execution_count": 152,
      "outputs": [
        {
          "output_type": "stream",
          "text": [
            "(119, 14)\n",
            "(295, 14)\n",
            "(760, 14)\n",
            "(876, 14)\n",
            "(3083, 14)\n"
          ],
          "name": "stdout"
        }
      ]
    },
    {
      "cell_type": "code",
      "metadata": {
        "id": "dlP23e1tGRSg",
        "colab_type": "code",
        "colab": {
          "base_uri": "https://localhost:8080/",
          "height": 102
        },
        "outputId": "750f27fa-625b-4bf6-fa24-07a54f7d3696"
      },
      "source": [
        "print(Sharpie_df['SpeciesTotal'].sum(axis=0))\n",
        "print(Broad_df['SpeciesTotal'].sum(axis=0))\n",
        "print(Coopers_df['SpeciesTotal'].sum(axis=0))\n",
        "print(RShoulder_df['SpeciesTotal'].sum(axis=0))\n",
        "print(Red_Tail_only_df['SpeciesTotal'].sum(axis=0))"
      ],
      "execution_count": 308,
      "outputs": [
        {
          "output_type": "stream",
          "text": [
            "125\n",
            "385\n",
            "900\n",
            "1550\n",
            "6228\n"
          ],
          "name": "stdout"
        }
      ]
    },
    {
      "cell_type": "code",
      "metadata": {
        "id": "PqFpGw5ixY8p",
        "colab_type": "code",
        "outputId": "685805e5-5256-4197-e886-326d7de1464c",
        "colab": {
          "base_uri": "https://localhost:8080/",
          "height": 34
        }
      },
      "source": [
        "# Should be 879 (760 + 119)\n",
        "df1 = Coopers_df.append(Sharpie_df)\n",
        "df1.shape"
      ],
      "execution_count": 153,
      "outputs": [
        {
          "output_type": "execute_result",
          "data": {
            "text/plain": [
              "(879, 14)"
            ]
          },
          "metadata": {
            "tags": []
          },
          "execution_count": 153
        }
      ]
    },
    {
      "cell_type": "code",
      "metadata": {
        "id": "kBxSehoYuC3S",
        "colab_type": "code",
        "outputId": "21c9b506-ea0e-447d-e6e6-a2407d33b02c",
        "colab": {
          "base_uri": "https://localhost:8080/",
          "height": 34
        }
      },
      "source": [
        "df2 = df1.append(Gosh_df)\n",
        "df2.shape"
      ],
      "execution_count": 154,
      "outputs": [
        {
          "output_type": "execute_result",
          "data": {
            "text/plain": [
              "(879, 14)"
            ]
          },
          "metadata": {
            "tags": []
          },
          "execution_count": 154
        }
      ]
    },
    {
      "cell_type": "code",
      "metadata": {
        "id": "8nUvOj6yuUhM",
        "colab_type": "code",
        "outputId": "e88d6762-9ed3-45e0-881f-108e7c1698e4",
        "colab": {
          "base_uri": "https://localhost:8080/",
          "height": 34
        }
      },
      "source": [
        "df3 = df2.append(Black_df)\n",
        "df3.shape"
      ],
      "execution_count": 155,
      "outputs": [
        {
          "output_type": "execute_result",
          "data": {
            "text/plain": [
              "(879, 14)"
            ]
          },
          "metadata": {
            "tags": []
          },
          "execution_count": 155
        }
      ]
    },
    {
      "cell_type": "code",
      "metadata": {
        "id": "ceb8AwKhuaTE",
        "colab_type": "code",
        "outputId": "4b70bff4-8341-4415-a959-5fedc6677f34",
        "colab": {
          "base_uri": "https://localhost:8080/",
          "height": 34
        }
      },
      "source": [
        "df4 = df3.append(Harris_df)\n",
        "df4.shape"
      ],
      "execution_count": 156,
      "outputs": [
        {
          "output_type": "execute_result",
          "data": {
            "text/plain": [
              "(879, 14)"
            ]
          },
          "metadata": {
            "tags": []
          },
          "execution_count": 156
        }
      ]
    },
    {
      "cell_type": "code",
      "metadata": {
        "id": "qpTrAJRLufHL",
        "colab_type": "code",
        "outputId": "708d90fe-1178-479e-9ee6-61ea4c428be7",
        "colab": {
          "base_uri": "https://localhost:8080/",
          "height": 34
        }
      },
      "source": [
        "df5 = df4.append(White_df)\n",
        "df5.shape"
      ],
      "execution_count": 157,
      "outputs": [
        {
          "output_type": "execute_result",
          "data": {
            "text/plain": [
              "(879, 14)"
            ]
          },
          "metadata": {
            "tags": []
          },
          "execution_count": 157
        }
      ]
    },
    {
      "cell_type": "code",
      "metadata": {
        "id": "q1kCfUCruuGH",
        "colab_type": "code",
        "outputId": "64c2ec54-cdc9-4d96-8d31-d285bd0ee6c0",
        "colab": {
          "base_uri": "https://localhost:8080/",
          "height": 34
        }
      },
      "source": [
        "df6 = df5.append(Gray_df)\n",
        "df6.shape"
      ],
      "execution_count": 158,
      "outputs": [
        {
          "output_type": "execute_result",
          "data": {
            "text/plain": [
              "(879, 14)"
            ]
          },
          "metadata": {
            "tags": []
          },
          "execution_count": 158
        }
      ]
    },
    {
      "cell_type": "code",
      "metadata": {
        "id": "LF7YLc5uu1rR",
        "colab_type": "code",
        "outputId": "50a2b31e-20bc-4173-f99a-3378094c88ed",
        "colab": {
          "base_uri": "https://localhost:8080/",
          "height": 34
        }
      },
      "source": [
        "df7 = df6.append(RShoulder_df)\n",
        "df7.shape"
      ],
      "execution_count": 159,
      "outputs": [
        {
          "output_type": "execute_result",
          "data": {
            "text/plain": [
              "(1755, 14)"
            ]
          },
          "metadata": {
            "tags": []
          },
          "execution_count": 159
        }
      ]
    },
    {
      "cell_type": "code",
      "metadata": {
        "id": "KAfNs2OVu68u",
        "colab_type": "code",
        "outputId": "4c8d7d53-0c07-42fd-a42c-a222c7bc3d2a",
        "colab": {
          "base_uri": "https://localhost:8080/",
          "height": 34
        }
      },
      "source": [
        "# Changes to 2050 so quite a few Red Shoulder\n",
        "df8 = df7.append(Broad_df)\n",
        "df8.shape"
      ],
      "execution_count": 160,
      "outputs": [
        {
          "output_type": "execute_result",
          "data": {
            "text/plain": [
              "(2050, 14)"
            ]
          },
          "metadata": {
            "tags": []
          },
          "execution_count": 160
        }
      ]
    },
    {
      "cell_type": "code",
      "metadata": {
        "id": "9KTR53v-u_4g",
        "colab_type": "code",
        "outputId": "86f5a8f0-5d5e-42ea-a7bf-39a699cc2a39",
        "colab": {
          "base_uri": "https://localhost:8080/",
          "height": 34
        }
      },
      "source": [
        "df9 = df8.append(ShortT_df)\n",
        "df9.shape"
      ],
      "execution_count": 161,
      "outputs": [
        {
          "output_type": "execute_result",
          "data": {
            "text/plain": [
              "(2050, 14)"
            ]
          },
          "metadata": {
            "tags": []
          },
          "execution_count": 161
        }
      ]
    },
    {
      "cell_type": "code",
      "metadata": {
        "id": "vvf_4VobvJgO",
        "colab_type": "code",
        "outputId": "1401a59d-e748-493a-8ebb-a0d868cf1671",
        "colab": {
          "base_uri": "https://localhost:8080/",
          "height": 34
        }
      },
      "source": [
        "df10 = df9.append(Sainson_df)\n",
        "df10.shape"
      ],
      "execution_count": 162,
      "outputs": [
        {
          "output_type": "execute_result",
          "data": {
            "text/plain": [
              "(2050, 14)"
            ]
          },
          "metadata": {
            "tags": []
          },
          "execution_count": 162
        }
      ]
    },
    {
      "cell_type": "code",
      "metadata": {
        "id": "yO7qpulevQy9",
        "colab_type": "code",
        "outputId": "f15b7fdf-e518-412a-86ef-468fca72c362",
        "colab": {
          "base_uri": "https://localhost:8080/",
          "height": 34
        }
      },
      "source": [
        "df11 = df10.append(Zone_df)\n",
        "df11.shape"
      ],
      "execution_count": 163,
      "outputs": [
        {
          "output_type": "execute_result",
          "data": {
            "text/plain": [
              "(2050, 14)"
            ]
          },
          "metadata": {
            "tags": []
          },
          "execution_count": 163
        }
      ]
    },
    {
      "cell_type": "code",
      "metadata": {
        "id": "5ciiBcb_vVF6",
        "colab_type": "code",
        "outputId": "0283348a-1278-4b7b-b5ee-147781050393",
        "colab": {
          "base_uri": "https://localhost:8080/",
          "height": 34
        }
      },
      "source": [
        "df12 = df11.append(Rough_df)\n",
        "df12.shape"
      ],
      "execution_count": 164,
      "outputs": [
        {
          "output_type": "execute_result",
          "data": {
            "text/plain": [
              "(2050, 14)"
            ]
          },
          "metadata": {
            "tags": []
          },
          "execution_count": 164
        }
      ]
    },
    {
      "cell_type": "code",
      "metadata": {
        "id": "Xoq4zc9pw0Pu",
        "colab_type": "code",
        "outputId": "bdbe7c7f-6e37-4ed3-866c-3488a521fc42",
        "colab": {
          "base_uri": "https://localhost:8080/",
          "height": 34
        }
      },
      "source": [
        "df13 = df12.append(Ferg_df)\n",
        "df13.shape"
      ],
      "execution_count": 165,
      "outputs": [
        {
          "output_type": "execute_result",
          "data": {
            "text/plain": [
              "(2050, 14)"
            ]
          },
          "metadata": {
            "tags": []
          },
          "execution_count": 165
        }
      ]
    },
    {
      "cell_type": "code",
      "metadata": {
        "id": "0b8hPcNWva9e",
        "colab_type": "code",
        "outputId": "99432d61-c16e-4438-8d86-8ec6e37ca97d",
        "colab": {
          "base_uri": "https://localhost:8080/",
          "height": 34
        }
      },
      "source": [
        "Unidentified_df = UnidA_df.append(UnidB_df)\n",
        "Unidentified_df.shape"
      ],
      "execution_count": 166,
      "outputs": [
        {
          "output_type": "execute_result",
          "data": {
            "text/plain": [
              "(10, 14)"
            ]
          },
          "metadata": {
            "tags": []
          },
          "execution_count": 166
        }
      ]
    },
    {
      "cell_type": "code",
      "metadata": {
        "id": "e-XJxyh5y9zK",
        "colab_type": "code",
        "outputId": "82031047-36e7-42a0-9228-3c1a78a090ca",
        "colab": {
          "base_uri": "https://localhost:8080/",
          "height": 34
        }
      },
      "source": [
        "Red_Tail_only_df.shape"
      ],
      "execution_count": 167,
      "outputs": [
        {
          "output_type": "execute_result",
          "data": {
            "text/plain": [
              "(3083, 14)"
            ]
          },
          "metadata": {
            "tags": []
          },
          "execution_count": 167
        }
      ]
    },
    {
      "cell_type": "code",
      "metadata": {
        "id": "YW01qS1DzA0n",
        "colab_type": "code",
        "outputId": "b09e5e5f-4e28-463c-a9a2-0a4ba50bdd21",
        "colab": {
          "base_uri": "https://localhost:8080/",
          "height": 34
        }
      },
      "source": [
        "Harlans_only_df.shape"
      ],
      "execution_count": 168,
      "outputs": [
        {
          "output_type": "execute_result",
          "data": {
            "text/plain": [
              "(0, 14)"
            ]
          },
          "metadata": {
            "tags": []
          },
          "execution_count": 168
        }
      ]
    },
    {
      "cell_type": "code",
      "metadata": {
        "id": "qzZoPUyRPu_f",
        "colab_type": "code",
        "outputId": "927170b9-ed44-4e75-cca1-9590e667d352",
        "colab": {
          "base_uri": "https://localhost:8080/",
          "height": 34
        }
      },
      "source": [
        "# Should be 2050\n",
        "df13.shape"
      ],
      "execution_count": 169,
      "outputs": [
        {
          "output_type": "execute_result",
          "data": {
            "text/plain": [
              "(2050, 14)"
            ]
          },
          "metadata": {
            "tags": []
          },
          "execution_count": 169
        }
      ]
    },
    {
      "cell_type": "code",
      "metadata": {
        "id": "3pVViQ8owgG4",
        "colab_type": "code",
        "colab": {}
      },
      "source": [
        "Red_Tail_sorted_df = Red_Tail_only_df.sort_values(by='Year', ascending=True)"
      ],
      "execution_count": 0,
      "outputs": []
    },
    {
      "cell_type": "code",
      "metadata": {
        "id": "Tchpqx-k2zdm",
        "colab_type": "code",
        "colab": {}
      },
      "source": [
        "RS_Coop_Br_Sha_sorted_df = df13.sort_values(by='Year', ascending=True)"
      ],
      "execution_count": 0,
      "outputs": []
    },
    {
      "cell_type": "code",
      "metadata": {
        "id": "GUzwE9kjQH4f",
        "colab_type": "code",
        "colab": {}
      },
      "source": [
        "RS_Coop_Br_Sha_sorted_df = RS_Coop_Br_Sha_sorted_df.reset_index(drop=True)\n",
        "Red_Tail_sorted_df = Red_Tail_sorted_df.reset_index(drop=True)"
      ],
      "execution_count": 0,
      "outputs": []
    },
    {
      "cell_type": "code",
      "metadata": {
        "id": "WdiDcBQo_BLh",
        "colab_type": "code",
        "colab": {}
      },
      "source": [
        "RS_Coop_Br_Sha_sorted_df.reset_index(level=0, inplace=True)"
      ],
      "execution_count": 0,
      "outputs": []
    },
    {
      "cell_type": "code",
      "metadata": {
        "id": "1pKaexAj_huO",
        "colab_type": "code",
        "colab": {}
      },
      "source": [
        "Red_Tail_sorted_df.reset_index(level=0, inplace=True)"
      ],
      "execution_count": 0,
      "outputs": []
    },
    {
      "cell_type": "code",
      "metadata": {
        "id": "NQWQGn4e_K_l",
        "colab_type": "code",
        "outputId": "fcb01869-6b2d-401c-e4f3-8f15328e1788",
        "colab": {
          "base_uri": "https://localhost:8080/",
          "height": 204
        }
      },
      "source": [
        "RS_Coop_Br_Sha_sorted_df.head()"
      ],
      "execution_count": 175,
      "outputs": [
        {
          "output_type": "execute_result",
          "data": {
            "text/html": [
              "<div>\n",
              "<style scoped>\n",
              "    .dataframe tbody tr th:only-of-type {\n",
              "        vertical-align: middle;\n",
              "    }\n",
              "\n",
              "    .dataframe tbody tr th {\n",
              "        vertical-align: top;\n",
              "    }\n",
              "\n",
              "    .dataframe thead th {\n",
              "        text-align: right;\n",
              "    }\n",
              "</style>\n",
              "<table border=\"1\" class=\"dataframe\">\n",
              "  <thead>\n",
              "    <tr style=\"text-align: right;\">\n",
              "      <th></th>\n",
              "      <th>index</th>\n",
              "      <th>RouteDataID</th>\n",
              "      <th>CountryNum</th>\n",
              "      <th>StateNum</th>\n",
              "      <th>Route</th>\n",
              "      <th>RPID</th>\n",
              "      <th>Year</th>\n",
              "      <th>AOU</th>\n",
              "      <th>Count10</th>\n",
              "      <th>Count20</th>\n",
              "      <th>Count30</th>\n",
              "      <th>Count40</th>\n",
              "      <th>Count50</th>\n",
              "      <th>StopTotal</th>\n",
              "      <th>SpeciesTotal</th>\n",
              "    </tr>\n",
              "  </thead>\n",
              "  <tbody>\n",
              "    <tr>\n",
              "      <th>0</th>\n",
              "      <td>0</td>\n",
              "      <td>6228022</td>\n",
              "      <td>840</td>\n",
              "      <td>39</td>\n",
              "      <td>36</td>\n",
              "      <td>101</td>\n",
              "      <td>1966</td>\n",
              "      <td>3390</td>\n",
              "      <td>0</td>\n",
              "      <td>2</td>\n",
              "      <td>1</td>\n",
              "      <td>0</td>\n",
              "      <td>0</td>\n",
              "      <td>3</td>\n",
              "      <td>3</td>\n",
              "    </tr>\n",
              "    <tr>\n",
              "      <th>1</th>\n",
              "      <td>1</td>\n",
              "      <td>6237036</td>\n",
              "      <td>840</td>\n",
              "      <td>66</td>\n",
              "      <td>21</td>\n",
              "      <td>101</td>\n",
              "      <td>1966</td>\n",
              "      <td>3390</td>\n",
              "      <td>0</td>\n",
              "      <td>1</td>\n",
              "      <td>0</td>\n",
              "      <td>0</td>\n",
              "      <td>0</td>\n",
              "      <td>1</td>\n",
              "      <td>1</td>\n",
              "    </tr>\n",
              "    <tr>\n",
              "      <th>2</th>\n",
              "      <td>2</td>\n",
              "      <td>6167510</td>\n",
              "      <td>840</td>\n",
              "      <td>39</td>\n",
              "      <td>1</td>\n",
              "      <td>101</td>\n",
              "      <td>1966</td>\n",
              "      <td>3390</td>\n",
              "      <td>0</td>\n",
              "      <td>0</td>\n",
              "      <td>0</td>\n",
              "      <td>0</td>\n",
              "      <td>1</td>\n",
              "      <td>1</td>\n",
              "      <td>1</td>\n",
              "    </tr>\n",
              "    <tr>\n",
              "      <th>3</th>\n",
              "      <td>3</td>\n",
              "      <td>6238578</td>\n",
              "      <td>840</td>\n",
              "      <td>39</td>\n",
              "      <td>33</td>\n",
              "      <td>101</td>\n",
              "      <td>1966</td>\n",
              "      <td>3330</td>\n",
              "      <td>0</td>\n",
              "      <td>0</td>\n",
              "      <td>0</td>\n",
              "      <td>0</td>\n",
              "      <td>1</td>\n",
              "      <td>1</td>\n",
              "      <td>1</td>\n",
              "    </tr>\n",
              "    <tr>\n",
              "      <th>4</th>\n",
              "      <td>4</td>\n",
              "      <td>6168358</td>\n",
              "      <td>840</td>\n",
              "      <td>35</td>\n",
              "      <td>22</td>\n",
              "      <td>101</td>\n",
              "      <td>1966</td>\n",
              "      <td>3390</td>\n",
              "      <td>0</td>\n",
              "      <td>1</td>\n",
              "      <td>0</td>\n",
              "      <td>0</td>\n",
              "      <td>0</td>\n",
              "      <td>1</td>\n",
              "      <td>1</td>\n",
              "    </tr>\n",
              "  </tbody>\n",
              "</table>\n",
              "</div>"
            ],
            "text/plain": [
              "   index  RouteDataID  CountryNum  ...  Count50  StopTotal  SpeciesTotal\n",
              "0      0      6228022         840  ...        0          3             3\n",
              "1      1      6237036         840  ...        0          1             1\n",
              "2      2      6167510         840  ...        1          1             1\n",
              "3      3      6238578         840  ...        1          1             1\n",
              "4      4      6168358         840  ...        0          1             1\n",
              "\n",
              "[5 rows x 15 columns]"
            ]
          },
          "metadata": {
            "tags": []
          },
          "execution_count": 175
        }
      ]
    },
    {
      "cell_type": "code",
      "metadata": {
        "id": "k_FwHuZI_jkp",
        "colab_type": "code",
        "outputId": "a34d5405-0b02-42c2-c274-6e09c4beee47",
        "colab": {
          "base_uri": "https://localhost:8080/",
          "height": 204
        }
      },
      "source": [
        "Red_Tail_sorted_df.head()"
      ],
      "execution_count": 176,
      "outputs": [
        {
          "output_type": "execute_result",
          "data": {
            "text/html": [
              "<div>\n",
              "<style scoped>\n",
              "    .dataframe tbody tr th:only-of-type {\n",
              "        vertical-align: middle;\n",
              "    }\n",
              "\n",
              "    .dataframe tbody tr th {\n",
              "        vertical-align: top;\n",
              "    }\n",
              "\n",
              "    .dataframe thead th {\n",
              "        text-align: right;\n",
              "    }\n",
              "</style>\n",
              "<table border=\"1\" class=\"dataframe\">\n",
              "  <thead>\n",
              "    <tr style=\"text-align: right;\">\n",
              "      <th></th>\n",
              "      <th>index</th>\n",
              "      <th>RouteDataID</th>\n",
              "      <th>CountryNum</th>\n",
              "      <th>StateNum</th>\n",
              "      <th>Route</th>\n",
              "      <th>RPID</th>\n",
              "      <th>Year</th>\n",
              "      <th>AOU</th>\n",
              "      <th>Count10</th>\n",
              "      <th>Count20</th>\n",
              "      <th>Count30</th>\n",
              "      <th>Count40</th>\n",
              "      <th>Count50</th>\n",
              "      <th>StopTotal</th>\n",
              "      <th>SpeciesTotal</th>\n",
              "    </tr>\n",
              "  </thead>\n",
              "  <tbody>\n",
              "    <tr>\n",
              "      <th>0</th>\n",
              "      <td>0</td>\n",
              "      <td>6236372</td>\n",
              "      <td>840</td>\n",
              "      <td>66</td>\n",
              "      <td>8</td>\n",
              "      <td>101</td>\n",
              "      <td>1966</td>\n",
              "      <td>3370</td>\n",
              "      <td>1</td>\n",
              "      <td>0</td>\n",
              "      <td>0</td>\n",
              "      <td>0</td>\n",
              "      <td>0</td>\n",
              "      <td>1</td>\n",
              "      <td>1</td>\n",
              "    </tr>\n",
              "    <tr>\n",
              "      <th>1</th>\n",
              "      <td>1</td>\n",
              "      <td>6167772</td>\n",
              "      <td>840</td>\n",
              "      <td>35</td>\n",
              "      <td>9</td>\n",
              "      <td>101</td>\n",
              "      <td>1966</td>\n",
              "      <td>3370</td>\n",
              "      <td>0</td>\n",
              "      <td>1</td>\n",
              "      <td>0</td>\n",
              "      <td>0</td>\n",
              "      <td>0</td>\n",
              "      <td>1</td>\n",
              "      <td>1</td>\n",
              "    </tr>\n",
              "    <tr>\n",
              "      <th>2</th>\n",
              "      <td>2</td>\n",
              "      <td>6237498</td>\n",
              "      <td>840</td>\n",
              "      <td>66</td>\n",
              "      <td>48</td>\n",
              "      <td>101</td>\n",
              "      <td>1966</td>\n",
              "      <td>3370</td>\n",
              "      <td>0</td>\n",
              "      <td>0</td>\n",
              "      <td>0</td>\n",
              "      <td>0</td>\n",
              "      <td>1</td>\n",
              "      <td>1</td>\n",
              "      <td>1</td>\n",
              "    </tr>\n",
              "    <tr>\n",
              "      <th>3</th>\n",
              "      <td>3</td>\n",
              "      <td>6236385</td>\n",
              "      <td>840</td>\n",
              "      <td>66</td>\n",
              "      <td>40</td>\n",
              "      <td>101</td>\n",
              "      <td>1966</td>\n",
              "      <td>3370</td>\n",
              "      <td>0</td>\n",
              "      <td>0</td>\n",
              "      <td>0</td>\n",
              "      <td>0</td>\n",
              "      <td>1</td>\n",
              "      <td>1</td>\n",
              "      <td>1</td>\n",
              "    </tr>\n",
              "    <tr>\n",
              "      <th>4</th>\n",
              "      <td>4</td>\n",
              "      <td>6167946</td>\n",
              "      <td>840</td>\n",
              "      <td>35</td>\n",
              "      <td>42</td>\n",
              "      <td>101</td>\n",
              "      <td>1966</td>\n",
              "      <td>3370</td>\n",
              "      <td>0</td>\n",
              "      <td>0</td>\n",
              "      <td>0</td>\n",
              "      <td>1</td>\n",
              "      <td>0</td>\n",
              "      <td>1</td>\n",
              "      <td>1</td>\n",
              "    </tr>\n",
              "  </tbody>\n",
              "</table>\n",
              "</div>"
            ],
            "text/plain": [
              "   index  RouteDataID  CountryNum  ...  Count50  StopTotal  SpeciesTotal\n",
              "0      0      6236372         840  ...        0          1             1\n",
              "1      1      6167772         840  ...        0          1             1\n",
              "2      2      6237498         840  ...        1          1             1\n",
              "3      3      6236385         840  ...        1          1             1\n",
              "4      4      6167946         840  ...        0          1             1\n",
              "\n",
              "[5 rows x 15 columns]"
            ]
          },
          "metadata": {
            "tags": []
          },
          "execution_count": 176
        }
      ]
    },
    {
      "cell_type": "code",
      "metadata": {
        "id": "F9oe9T8D_vNQ",
        "colab_type": "code",
        "outputId": "6bcd73a9-e938-4694-e57d-747a12b8ae39",
        "colab": {
          "base_uri": "https://localhost:8080/",
          "height": 289
        }
      },
      "source": [
        "Red_Tail_sorted_df.isnull().sum()"
      ],
      "execution_count": 177,
      "outputs": [
        {
          "output_type": "execute_result",
          "data": {
            "text/plain": [
              "index           0\n",
              "RouteDataID     0\n",
              "CountryNum      0\n",
              "StateNum        0\n",
              "Route           0\n",
              "RPID            0\n",
              "Year            0\n",
              "AOU             0\n",
              "Count10         0\n",
              "Count20         0\n",
              "Count30         0\n",
              "Count40         0\n",
              "Count50         0\n",
              "StopTotal       0\n",
              "SpeciesTotal    0\n",
              "dtype: int64"
            ]
          },
          "metadata": {
            "tags": []
          },
          "execution_count": 177
        }
      ]
    },
    {
      "cell_type": "code",
      "metadata": {
        "id": "TEUsuTR3-1nZ",
        "colab_type": "code",
        "outputId": "889af40c-102b-4723-9bbe-65bbfaafa69f",
        "colab": {
          "base_uri": "https://localhost:8080/",
          "height": 204
        }
      },
      "source": [
        "# HEAD\n",
        "Red_Tail_sorted_df.head()"
      ],
      "execution_count": 178,
      "outputs": [
        {
          "output_type": "execute_result",
          "data": {
            "text/html": [
              "<div>\n",
              "<style scoped>\n",
              "    .dataframe tbody tr th:only-of-type {\n",
              "        vertical-align: middle;\n",
              "    }\n",
              "\n",
              "    .dataframe tbody tr th {\n",
              "        vertical-align: top;\n",
              "    }\n",
              "\n",
              "    .dataframe thead th {\n",
              "        text-align: right;\n",
              "    }\n",
              "</style>\n",
              "<table border=\"1\" class=\"dataframe\">\n",
              "  <thead>\n",
              "    <tr style=\"text-align: right;\">\n",
              "      <th></th>\n",
              "      <th>index</th>\n",
              "      <th>RouteDataID</th>\n",
              "      <th>CountryNum</th>\n",
              "      <th>StateNum</th>\n",
              "      <th>Route</th>\n",
              "      <th>RPID</th>\n",
              "      <th>Year</th>\n",
              "      <th>AOU</th>\n",
              "      <th>Count10</th>\n",
              "      <th>Count20</th>\n",
              "      <th>Count30</th>\n",
              "      <th>Count40</th>\n",
              "      <th>Count50</th>\n",
              "      <th>StopTotal</th>\n",
              "      <th>SpeciesTotal</th>\n",
              "    </tr>\n",
              "  </thead>\n",
              "  <tbody>\n",
              "    <tr>\n",
              "      <th>0</th>\n",
              "      <td>0</td>\n",
              "      <td>6236372</td>\n",
              "      <td>840</td>\n",
              "      <td>66</td>\n",
              "      <td>8</td>\n",
              "      <td>101</td>\n",
              "      <td>1966</td>\n",
              "      <td>3370</td>\n",
              "      <td>1</td>\n",
              "      <td>0</td>\n",
              "      <td>0</td>\n",
              "      <td>0</td>\n",
              "      <td>0</td>\n",
              "      <td>1</td>\n",
              "      <td>1</td>\n",
              "    </tr>\n",
              "    <tr>\n",
              "      <th>1</th>\n",
              "      <td>1</td>\n",
              "      <td>6167772</td>\n",
              "      <td>840</td>\n",
              "      <td>35</td>\n",
              "      <td>9</td>\n",
              "      <td>101</td>\n",
              "      <td>1966</td>\n",
              "      <td>3370</td>\n",
              "      <td>0</td>\n",
              "      <td>1</td>\n",
              "      <td>0</td>\n",
              "      <td>0</td>\n",
              "      <td>0</td>\n",
              "      <td>1</td>\n",
              "      <td>1</td>\n",
              "    </tr>\n",
              "    <tr>\n",
              "      <th>2</th>\n",
              "      <td>2</td>\n",
              "      <td>6237498</td>\n",
              "      <td>840</td>\n",
              "      <td>66</td>\n",
              "      <td>48</td>\n",
              "      <td>101</td>\n",
              "      <td>1966</td>\n",
              "      <td>3370</td>\n",
              "      <td>0</td>\n",
              "      <td>0</td>\n",
              "      <td>0</td>\n",
              "      <td>0</td>\n",
              "      <td>1</td>\n",
              "      <td>1</td>\n",
              "      <td>1</td>\n",
              "    </tr>\n",
              "    <tr>\n",
              "      <th>3</th>\n",
              "      <td>3</td>\n",
              "      <td>6236385</td>\n",
              "      <td>840</td>\n",
              "      <td>66</td>\n",
              "      <td>40</td>\n",
              "      <td>101</td>\n",
              "      <td>1966</td>\n",
              "      <td>3370</td>\n",
              "      <td>0</td>\n",
              "      <td>0</td>\n",
              "      <td>0</td>\n",
              "      <td>0</td>\n",
              "      <td>1</td>\n",
              "      <td>1</td>\n",
              "      <td>1</td>\n",
              "    </tr>\n",
              "    <tr>\n",
              "      <th>4</th>\n",
              "      <td>4</td>\n",
              "      <td>6167946</td>\n",
              "      <td>840</td>\n",
              "      <td>35</td>\n",
              "      <td>42</td>\n",
              "      <td>101</td>\n",
              "      <td>1966</td>\n",
              "      <td>3370</td>\n",
              "      <td>0</td>\n",
              "      <td>0</td>\n",
              "      <td>0</td>\n",
              "      <td>1</td>\n",
              "      <td>0</td>\n",
              "      <td>1</td>\n",
              "      <td>1</td>\n",
              "    </tr>\n",
              "  </tbody>\n",
              "</table>\n",
              "</div>"
            ],
            "text/plain": [
              "   index  RouteDataID  CountryNum  ...  Count50  StopTotal  SpeciesTotal\n",
              "0      0      6236372         840  ...        0          1             1\n",
              "1      1      6167772         840  ...        0          1             1\n",
              "2      2      6237498         840  ...        1          1             1\n",
              "3      3      6236385         840  ...        1          1             1\n",
              "4      4      6167946         840  ...        0          1             1\n",
              "\n",
              "[5 rows x 15 columns]"
            ]
          },
          "metadata": {
            "tags": []
          },
          "execution_count": 178
        }
      ]
    },
    {
      "cell_type": "code",
      "metadata": {
        "id": "Ube-Gj7H3gFt",
        "colab_type": "code",
        "outputId": "185dfcdb-6838-4114-c3ac-53bb01197c05",
        "colab": {
          "base_uri": "https://localhost:8080/",
          "height": 221
        }
      },
      "source": [
        "# TAIL \n",
        "print(Red_Tail_sorted_df.shape)\n",
        "Red_Tail_sorted_df.tail()"
      ],
      "execution_count": 179,
      "outputs": [
        {
          "output_type": "stream",
          "text": [
            "(3083, 15)\n"
          ],
          "name": "stdout"
        },
        {
          "output_type": "execute_result",
          "data": {
            "text/html": [
              "<div>\n",
              "<style scoped>\n",
              "    .dataframe tbody tr th:only-of-type {\n",
              "        vertical-align: middle;\n",
              "    }\n",
              "\n",
              "    .dataframe tbody tr th {\n",
              "        vertical-align: top;\n",
              "    }\n",
              "\n",
              "    .dataframe thead th {\n",
              "        text-align: right;\n",
              "    }\n",
              "</style>\n",
              "<table border=\"1\" class=\"dataframe\">\n",
              "  <thead>\n",
              "    <tr style=\"text-align: right;\">\n",
              "      <th></th>\n",
              "      <th>index</th>\n",
              "      <th>RouteDataID</th>\n",
              "      <th>CountryNum</th>\n",
              "      <th>StateNum</th>\n",
              "      <th>Route</th>\n",
              "      <th>RPID</th>\n",
              "      <th>Year</th>\n",
              "      <th>AOU</th>\n",
              "      <th>Count10</th>\n",
              "      <th>Count20</th>\n",
              "      <th>Count30</th>\n",
              "      <th>Count40</th>\n",
              "      <th>Count50</th>\n",
              "      <th>StopTotal</th>\n",
              "      <th>SpeciesTotal</th>\n",
              "    </tr>\n",
              "  </thead>\n",
              "  <tbody>\n",
              "    <tr>\n",
              "      <th>3078</th>\n",
              "      <td>3078</td>\n",
              "      <td>6368030</td>\n",
              "      <td>840</td>\n",
              "      <td>35</td>\n",
              "      <td>19</td>\n",
              "      <td>101</td>\n",
              "      <td>2018</td>\n",
              "      <td>3370</td>\n",
              "      <td>0</td>\n",
              "      <td>1</td>\n",
              "      <td>0</td>\n",
              "      <td>0</td>\n",
              "      <td>1</td>\n",
              "      <td>2</td>\n",
              "      <td>2</td>\n",
              "    </tr>\n",
              "    <tr>\n",
              "      <th>3079</th>\n",
              "      <td>3079</td>\n",
              "      <td>6368603</td>\n",
              "      <td>840</td>\n",
              "      <td>66</td>\n",
              "      <td>952</td>\n",
              "      <td>101</td>\n",
              "      <td>2018</td>\n",
              "      <td>3370</td>\n",
              "      <td>0</td>\n",
              "      <td>0</td>\n",
              "      <td>0</td>\n",
              "      <td>1</td>\n",
              "      <td>0</td>\n",
              "      <td>1</td>\n",
              "      <td>1</td>\n",
              "    </tr>\n",
              "    <tr>\n",
              "      <th>3080</th>\n",
              "      <td>3080</td>\n",
              "      <td>6367644</td>\n",
              "      <td>840</td>\n",
              "      <td>66</td>\n",
              "      <td>5</td>\n",
              "      <td>101</td>\n",
              "      <td>2018</td>\n",
              "      <td>3370</td>\n",
              "      <td>1</td>\n",
              "      <td>1</td>\n",
              "      <td>1</td>\n",
              "      <td>1</td>\n",
              "      <td>2</td>\n",
              "      <td>6</td>\n",
              "      <td>6</td>\n",
              "    </tr>\n",
              "    <tr>\n",
              "      <th>3081</th>\n",
              "      <td>3081</td>\n",
              "      <td>6368254</td>\n",
              "      <td>840</td>\n",
              "      <td>66</td>\n",
              "      <td>904</td>\n",
              "      <td>101</td>\n",
              "      <td>2018</td>\n",
              "      <td>3370</td>\n",
              "      <td>0</td>\n",
              "      <td>0</td>\n",
              "      <td>1</td>\n",
              "      <td>0</td>\n",
              "      <td>1</td>\n",
              "      <td>2</td>\n",
              "      <td>2</td>\n",
              "    </tr>\n",
              "    <tr>\n",
              "      <th>3082</th>\n",
              "      <td>3082</td>\n",
              "      <td>6368529</td>\n",
              "      <td>840</td>\n",
              "      <td>35</td>\n",
              "      <td>38</td>\n",
              "      <td>101</td>\n",
              "      <td>2018</td>\n",
              "      <td>3370</td>\n",
              "      <td>0</td>\n",
              "      <td>0</td>\n",
              "      <td>0</td>\n",
              "      <td>0</td>\n",
              "      <td>2</td>\n",
              "      <td>2</td>\n",
              "      <td>2</td>\n",
              "    </tr>\n",
              "  </tbody>\n",
              "</table>\n",
              "</div>"
            ],
            "text/plain": [
              "      index  RouteDataID  CountryNum  ...  Count50  StopTotal  SpeciesTotal\n",
              "3078   3078      6368030         840  ...        1          2             2\n",
              "3079   3079      6368603         840  ...        0          1             1\n",
              "3080   3080      6367644         840  ...        2          6             6\n",
              "3081   3081      6368254         840  ...        1          2             2\n",
              "3082   3082      6368529         840  ...        2          2             2\n",
              "\n",
              "[5 rows x 15 columns]"
            ]
          },
          "metadata": {
            "tags": []
          },
          "execution_count": 179
        }
      ]
    },
    {
      "cell_type": "code",
      "metadata": {
        "id": "kZPPTlbX3lTj",
        "colab_type": "code",
        "outputId": "e9c44866-ca4e-408e-e509-5f7f335ef96b",
        "colab": {
          "base_uri": "https://localhost:8080/",
          "height": 221
        }
      },
      "source": [
        "print(RS_Coop_Br_Sha_sorted_df.shape)\n",
        "RS_Coop_Br_Sha_sorted_df.tail()"
      ],
      "execution_count": 180,
      "outputs": [
        {
          "output_type": "stream",
          "text": [
            "(2050, 15)\n"
          ],
          "name": "stdout"
        },
        {
          "output_type": "execute_result",
          "data": {
            "text/html": [
              "<div>\n",
              "<style scoped>\n",
              "    .dataframe tbody tr th:only-of-type {\n",
              "        vertical-align: middle;\n",
              "    }\n",
              "\n",
              "    .dataframe tbody tr th {\n",
              "        vertical-align: top;\n",
              "    }\n",
              "\n",
              "    .dataframe thead th {\n",
              "        text-align: right;\n",
              "    }\n",
              "</style>\n",
              "<table border=\"1\" class=\"dataframe\">\n",
              "  <thead>\n",
              "    <tr style=\"text-align: right;\">\n",
              "      <th></th>\n",
              "      <th>index</th>\n",
              "      <th>RouteDataID</th>\n",
              "      <th>CountryNum</th>\n",
              "      <th>StateNum</th>\n",
              "      <th>Route</th>\n",
              "      <th>RPID</th>\n",
              "      <th>Year</th>\n",
              "      <th>AOU</th>\n",
              "      <th>Count10</th>\n",
              "      <th>Count20</th>\n",
              "      <th>Count30</th>\n",
              "      <th>Count40</th>\n",
              "      <th>Count50</th>\n",
              "      <th>StopTotal</th>\n",
              "      <th>SpeciesTotal</th>\n",
              "    </tr>\n",
              "  </thead>\n",
              "  <tbody>\n",
              "    <tr>\n",
              "      <th>2045</th>\n",
              "      <td>2045</td>\n",
              "      <td>6370411</td>\n",
              "      <td>840</td>\n",
              "      <td>35</td>\n",
              "      <td>26</td>\n",
              "      <td>101</td>\n",
              "      <td>2018</td>\n",
              "      <td>3390</td>\n",
              "      <td>0</td>\n",
              "      <td>0</td>\n",
              "      <td>0</td>\n",
              "      <td>2</td>\n",
              "      <td>1</td>\n",
              "      <td>3</td>\n",
              "      <td>3</td>\n",
              "    </tr>\n",
              "    <tr>\n",
              "      <th>2046</th>\n",
              "      <td>2046</td>\n",
              "      <td>6369571</td>\n",
              "      <td>840</td>\n",
              "      <td>35</td>\n",
              "      <td>28</td>\n",
              "      <td>101</td>\n",
              "      <td>2018</td>\n",
              "      <td>3390</td>\n",
              "      <td>0</td>\n",
              "      <td>1</td>\n",
              "      <td>0</td>\n",
              "      <td>0</td>\n",
              "      <td>0</td>\n",
              "      <td>1</td>\n",
              "      <td>1</td>\n",
              "    </tr>\n",
              "    <tr>\n",
              "      <th>2047</th>\n",
              "      <td>2047</td>\n",
              "      <td>6368161</td>\n",
              "      <td>840</td>\n",
              "      <td>66</td>\n",
              "      <td>113</td>\n",
              "      <td>101</td>\n",
              "      <td>2018</td>\n",
              "      <td>3330</td>\n",
              "      <td>0</td>\n",
              "      <td>1</td>\n",
              "      <td>0</td>\n",
              "      <td>0</td>\n",
              "      <td>0</td>\n",
              "      <td>1</td>\n",
              "      <td>1</td>\n",
              "    </tr>\n",
              "    <tr>\n",
              "      <th>2048</th>\n",
              "      <td>2048</td>\n",
              "      <td>6369081</td>\n",
              "      <td>840</td>\n",
              "      <td>66</td>\n",
              "      <td>86</td>\n",
              "      <td>101</td>\n",
              "      <td>2018</td>\n",
              "      <td>3390</td>\n",
              "      <td>0</td>\n",
              "      <td>1</td>\n",
              "      <td>0</td>\n",
              "      <td>0</td>\n",
              "      <td>0</td>\n",
              "      <td>1</td>\n",
              "      <td>1</td>\n",
              "    </tr>\n",
              "    <tr>\n",
              "      <th>2049</th>\n",
              "      <td>2049</td>\n",
              "      <td>6367598</td>\n",
              "      <td>840</td>\n",
              "      <td>35</td>\n",
              "      <td>900</td>\n",
              "      <td>101</td>\n",
              "      <td>2018</td>\n",
              "      <td>3430</td>\n",
              "      <td>0</td>\n",
              "      <td>0</td>\n",
              "      <td>1</td>\n",
              "      <td>1</td>\n",
              "      <td>0</td>\n",
              "      <td>2</td>\n",
              "      <td>2</td>\n",
              "    </tr>\n",
              "  </tbody>\n",
              "</table>\n",
              "</div>"
            ],
            "text/plain": [
              "      index  RouteDataID  CountryNum  ...  Count50  StopTotal  SpeciesTotal\n",
              "2045   2045      6370411         840  ...        1          3             3\n",
              "2046   2046      6369571         840  ...        0          1             1\n",
              "2047   2047      6368161         840  ...        0          1             1\n",
              "2048   2048      6369081         840  ...        0          1             1\n",
              "2049   2049      6367598         840  ...        0          2             2\n",
              "\n",
              "[5 rows x 15 columns]"
            ]
          },
          "metadata": {
            "tags": []
          },
          "execution_count": 180
        }
      ]
    },
    {
      "cell_type": "code",
      "metadata": {
        "id": "GbOmU5Zf_0RS",
        "colab_type": "code",
        "outputId": "251c70fd-af2e-4ff6-8bcc-1bcfad56955f",
        "colab": {
          "base_uri": "https://localhost:8080/",
          "height": 34
        }
      },
      "source": [
        "RS_Coop_Br_Sha_sorted_df.index.dtype"
      ],
      "execution_count": 181,
      "outputs": [
        {
          "output_type": "execute_result",
          "data": {
            "text/plain": [
              "dtype('int64')"
            ]
          },
          "metadata": {
            "tags": []
          },
          "execution_count": 181
        }
      ]
    },
    {
      "cell_type": "code",
      "metadata": {
        "id": "FEPnFfDm-ELf",
        "colab_type": "code",
        "outputId": "0248c028-4306-4ed6-fb2c-004700b955bd",
        "colab": {
          "base_uri": "https://localhost:8080/",
          "height": 49
        }
      },
      "source": [
        "# Creating an empty Dataframe with column names only\n",
        "Final_RT_df = pd.DataFrame(columns=['Year', 'Redtail_ID', 'Redtail_Yr_Total'])\n",
        "Final_RT_df"
      ],
      "execution_count": 182,
      "outputs": [
        {
          "output_type": "execute_result",
          "data": {
            "text/html": [
              "<div>\n",
              "<style scoped>\n",
              "    .dataframe tbody tr th:only-of-type {\n",
              "        vertical-align: middle;\n",
              "    }\n",
              "\n",
              "    .dataframe tbody tr th {\n",
              "        vertical-align: top;\n",
              "    }\n",
              "\n",
              "    .dataframe thead th {\n",
              "        text-align: right;\n",
              "    }\n",
              "</style>\n",
              "<table border=\"1\" class=\"dataframe\">\n",
              "  <thead>\n",
              "    <tr style=\"text-align: right;\">\n",
              "      <th></th>\n",
              "      <th>Year</th>\n",
              "      <th>Redtail_ID</th>\n",
              "      <th>Redtail_Yr_Total</th>\n",
              "    </tr>\n",
              "  </thead>\n",
              "  <tbody>\n",
              "  </tbody>\n",
              "</table>\n",
              "</div>"
            ],
            "text/plain": [
              "Empty DataFrame\n",
              "Columns: [Year, Redtail_ID, Redtail_Yr_Total]\n",
              "Index: []"
            ]
          },
          "metadata": {
            "tags": []
          },
          "execution_count": 182
        }
      ]
    },
    {
      "cell_type": "code",
      "metadata": {
        "id": "esqYaAf7QrjF",
        "colab_type": "code",
        "colab": {}
      },
      "source": [
        "x = 1966\n",
        "tot = 0\n",
        "for ind in Red_Tail_sorted_df.index: \n",
        "     if (Red_Tail_sorted_df['Year'][ind] == x):\n",
        "       tot += (Red_Tail_sorted_df['SpeciesTotal'][ind])\n",
        "       if Red_Tail_sorted_df['index'][ind] == 3082:\n",
        "         Final_RT_df = Final_RT_df.append({'Year': int(x), 'Redtail_ID': int(3370), 'Redtail_Yr_Total': int(tot)}, ignore_index=True)\n",
        "         break\n",
        "     else:\n",
        "       Final_RT_df = Final_RT_df.append({'Year': int(x), 'Redtail_ID': int(3370), 'Redtail_Yr_Total': int(tot)}, ignore_index=True)\n",
        "       x += 1\n",
        "       tot = 0\n",
        "       tot += (Red_Tail_sorted_df['SpeciesTotal'][ind])"
      ],
      "execution_count": 0,
      "outputs": []
    },
    {
      "cell_type": "code",
      "metadata": {
        "id": "rXCJjueJszgF",
        "colab_type": "code",
        "outputId": "c053f896-6425-4d56-9d21-8cb2f199f4d0",
        "colab": {
          "base_uri": "https://localhost:8080/",
          "height": 204
        }
      },
      "source": [
        "Final_RT_df.head()"
      ],
      "execution_count": 184,
      "outputs": [
        {
          "output_type": "execute_result",
          "data": {
            "text/html": [
              "<div>\n",
              "<style scoped>\n",
              "    .dataframe tbody tr th:only-of-type {\n",
              "        vertical-align: middle;\n",
              "    }\n",
              "\n",
              "    .dataframe tbody tr th {\n",
              "        vertical-align: top;\n",
              "    }\n",
              "\n",
              "    .dataframe thead th {\n",
              "        text-align: right;\n",
              "    }\n",
              "</style>\n",
              "<table border=\"1\" class=\"dataframe\">\n",
              "  <thead>\n",
              "    <tr style=\"text-align: right;\">\n",
              "      <th></th>\n",
              "      <th>Year</th>\n",
              "      <th>Redtail_ID</th>\n",
              "      <th>Redtail_Yr_Total</th>\n",
              "    </tr>\n",
              "  </thead>\n",
              "  <tbody>\n",
              "    <tr>\n",
              "      <th>0</th>\n",
              "      <td>1966</td>\n",
              "      <td>3370</td>\n",
              "      <td>29</td>\n",
              "    </tr>\n",
              "    <tr>\n",
              "      <th>1</th>\n",
              "      <td>1967</td>\n",
              "      <td>3370</td>\n",
              "      <td>28</td>\n",
              "    </tr>\n",
              "    <tr>\n",
              "      <th>2</th>\n",
              "      <td>1968</td>\n",
              "      <td>3370</td>\n",
              "      <td>28</td>\n",
              "    </tr>\n",
              "    <tr>\n",
              "      <th>3</th>\n",
              "      <td>1969</td>\n",
              "      <td>3370</td>\n",
              "      <td>35</td>\n",
              "    </tr>\n",
              "    <tr>\n",
              "      <th>4</th>\n",
              "      <td>1970</td>\n",
              "      <td>3370</td>\n",
              "      <td>28</td>\n",
              "    </tr>\n",
              "  </tbody>\n",
              "</table>\n",
              "</div>"
            ],
            "text/plain": [
              "   Year Redtail_ID Redtail_Yr_Total\n",
              "0  1966       3370               29\n",
              "1  1967       3370               28\n",
              "2  1968       3370               28\n",
              "3  1969       3370               35\n",
              "4  1970       3370               28"
            ]
          },
          "metadata": {
            "tags": []
          },
          "execution_count": 184
        }
      ]
    },
    {
      "cell_type": "code",
      "metadata": {
        "id": "4w-8TauXtAFr",
        "colab_type": "code",
        "outputId": "4fd09a6b-6b7e-4edf-b373-cf8aad068b75",
        "colab": {
          "base_uri": "https://localhost:8080/",
          "height": 34
        }
      },
      "source": [
        "Final_RT_df.shape"
      ],
      "execution_count": 185,
      "outputs": [
        {
          "output_type": "execute_result",
          "data": {
            "text/plain": [
              "(53, 3)"
            ]
          },
          "metadata": {
            "tags": []
          },
          "execution_count": 185
        }
      ]
    },
    {
      "cell_type": "code",
      "metadata": {
        "id": "LNfCXkG1tTEB",
        "colab_type": "code",
        "colab": {}
      },
      "source": [
        "total_nin_six_six = Red_Tail_sorted_df.Year == 1966\n",
        "total_two_thou = Red_Tail_sorted_df.Year == 2000\n",
        "total_two_thou_eigh = Red_Tail_sorted_df.Year == 2008\n",
        "total_two_svteen = Red_Tail_sorted_df.Year == 2017\n",
        "total_two_eight_ten = Red_Tail_sorted_df.Year == 2018"
      ],
      "execution_count": 0,
      "outputs": []
    },
    {
      "cell_type": "code",
      "metadata": {
        "id": "si7J-jiutYut",
        "colab_type": "code",
        "colab": {}
      },
      "source": [
        "species_nin_six_six = Red_Tail_sorted_df[total_nin_six_six]\n",
        "species_tot_two_thou = Red_Tail_sorted_df[total_two_thou]\n",
        "species_tot_two_thou_eight = Red_Tail_sorted_df[total_two_thou_eigh]\n",
        "species_tot_two_svn = Red_Tail_sorted_df[total_two_svteen]\n",
        "species_tot_two_eight_ten = Red_Tail_sorted_df[total_two_eight_ten]"
      ],
      "execution_count": 0,
      "outputs": []
    },
    {
      "cell_type": "code",
      "metadata": {
        "id": "h1IHlQwJtcJJ",
        "colab_type": "code",
        "outputId": "2c9c5e71-796d-4e37-8756-7a02931de45f",
        "colab": {
          "base_uri": "https://localhost:8080/",
          "height": 102
        }
      },
      "source": [
        "# 29, 176, 137, 209, 142\n",
        "print(species_nin_six_six['SpeciesTotal'].sum(axis=0))\n",
        "print(species_tot_two_thou['SpeciesTotal'].sum(axis=0))\n",
        "print(species_tot_two_thou_eight['SpeciesTotal'].sum(axis=0))\n",
        "print(species_tot_two_svn['SpeciesTotal'].sum(axis=0))\n",
        "print(species_tot_two_eight_ten['SpeciesTotal'].sum(axis=0))"
      ],
      "execution_count": 188,
      "outputs": [
        {
          "output_type": "stream",
          "text": [
            "29\n",
            "176\n",
            "137\n",
            "209\n",
            "142\n"
          ],
          "name": "stdout"
        }
      ]
    },
    {
      "cell_type": "code",
      "metadata": {
        "id": "r2H-p0HXtIEV",
        "colab_type": "code",
        "colab": {
          "base_uri": "https://localhost:8080/",
          "height": 1000
        },
        "outputId": "3b775b2a-e8b2-47d6-aad6-4c2974e3da53"
      },
      "source": [
        "Final_RT_df"
      ],
      "execution_count": 189,
      "outputs": [
        {
          "output_type": "execute_result",
          "data": {
            "text/html": [
              "<div>\n",
              "<style scoped>\n",
              "    .dataframe tbody tr th:only-of-type {\n",
              "        vertical-align: middle;\n",
              "    }\n",
              "\n",
              "    .dataframe tbody tr th {\n",
              "        vertical-align: top;\n",
              "    }\n",
              "\n",
              "    .dataframe thead th {\n",
              "        text-align: right;\n",
              "    }\n",
              "</style>\n",
              "<table border=\"1\" class=\"dataframe\">\n",
              "  <thead>\n",
              "    <tr style=\"text-align: right;\">\n",
              "      <th></th>\n",
              "      <th>Year</th>\n",
              "      <th>Redtail_ID</th>\n",
              "      <th>Redtail_Yr_Total</th>\n",
              "    </tr>\n",
              "  </thead>\n",
              "  <tbody>\n",
              "    <tr>\n",
              "      <th>0</th>\n",
              "      <td>1966</td>\n",
              "      <td>3370</td>\n",
              "      <td>29</td>\n",
              "    </tr>\n",
              "    <tr>\n",
              "      <th>1</th>\n",
              "      <td>1967</td>\n",
              "      <td>3370</td>\n",
              "      <td>28</td>\n",
              "    </tr>\n",
              "    <tr>\n",
              "      <th>2</th>\n",
              "      <td>1968</td>\n",
              "      <td>3370</td>\n",
              "      <td>28</td>\n",
              "    </tr>\n",
              "    <tr>\n",
              "      <th>3</th>\n",
              "      <td>1969</td>\n",
              "      <td>3370</td>\n",
              "      <td>35</td>\n",
              "    </tr>\n",
              "    <tr>\n",
              "      <th>4</th>\n",
              "      <td>1970</td>\n",
              "      <td>3370</td>\n",
              "      <td>28</td>\n",
              "    </tr>\n",
              "    <tr>\n",
              "      <th>5</th>\n",
              "      <td>1971</td>\n",
              "      <td>3370</td>\n",
              "      <td>34</td>\n",
              "    </tr>\n",
              "    <tr>\n",
              "      <th>6</th>\n",
              "      <td>1972</td>\n",
              "      <td>3370</td>\n",
              "      <td>41</td>\n",
              "    </tr>\n",
              "    <tr>\n",
              "      <th>7</th>\n",
              "      <td>1973</td>\n",
              "      <td>3370</td>\n",
              "      <td>37</td>\n",
              "    </tr>\n",
              "    <tr>\n",
              "      <th>8</th>\n",
              "      <td>1974</td>\n",
              "      <td>3370</td>\n",
              "      <td>48</td>\n",
              "    </tr>\n",
              "    <tr>\n",
              "      <th>9</th>\n",
              "      <td>1975</td>\n",
              "      <td>3370</td>\n",
              "      <td>41</td>\n",
              "    </tr>\n",
              "    <tr>\n",
              "      <th>10</th>\n",
              "      <td>1976</td>\n",
              "      <td>3370</td>\n",
              "      <td>53</td>\n",
              "    </tr>\n",
              "    <tr>\n",
              "      <th>11</th>\n",
              "      <td>1977</td>\n",
              "      <td>3370</td>\n",
              "      <td>51</td>\n",
              "    </tr>\n",
              "    <tr>\n",
              "      <th>12</th>\n",
              "      <td>1978</td>\n",
              "      <td>3370</td>\n",
              "      <td>44</td>\n",
              "    </tr>\n",
              "    <tr>\n",
              "      <th>13</th>\n",
              "      <td>1979</td>\n",
              "      <td>3370</td>\n",
              "      <td>34</td>\n",
              "    </tr>\n",
              "    <tr>\n",
              "      <th>14</th>\n",
              "      <td>1980</td>\n",
              "      <td>3370</td>\n",
              "      <td>44</td>\n",
              "    </tr>\n",
              "    <tr>\n",
              "      <th>15</th>\n",
              "      <td>1981</td>\n",
              "      <td>3370</td>\n",
              "      <td>68</td>\n",
              "    </tr>\n",
              "    <tr>\n",
              "      <th>16</th>\n",
              "      <td>1982</td>\n",
              "      <td>3370</td>\n",
              "      <td>65</td>\n",
              "    </tr>\n",
              "    <tr>\n",
              "      <th>17</th>\n",
              "      <td>1983</td>\n",
              "      <td>3370</td>\n",
              "      <td>70</td>\n",
              "    </tr>\n",
              "    <tr>\n",
              "      <th>18</th>\n",
              "      <td>1984</td>\n",
              "      <td>3370</td>\n",
              "      <td>61</td>\n",
              "    </tr>\n",
              "    <tr>\n",
              "      <th>19</th>\n",
              "      <td>1985</td>\n",
              "      <td>3370</td>\n",
              "      <td>83</td>\n",
              "    </tr>\n",
              "    <tr>\n",
              "      <th>20</th>\n",
              "      <td>1986</td>\n",
              "      <td>3370</td>\n",
              "      <td>78</td>\n",
              "    </tr>\n",
              "    <tr>\n",
              "      <th>21</th>\n",
              "      <td>1987</td>\n",
              "      <td>3370</td>\n",
              "      <td>63</td>\n",
              "    </tr>\n",
              "    <tr>\n",
              "      <th>22</th>\n",
              "      <td>1988</td>\n",
              "      <td>3370</td>\n",
              "      <td>113</td>\n",
              "    </tr>\n",
              "    <tr>\n",
              "      <th>23</th>\n",
              "      <td>1989</td>\n",
              "      <td>3370</td>\n",
              "      <td>94</td>\n",
              "    </tr>\n",
              "    <tr>\n",
              "      <th>24</th>\n",
              "      <td>1990</td>\n",
              "      <td>3370</td>\n",
              "      <td>101</td>\n",
              "    </tr>\n",
              "    <tr>\n",
              "      <th>25</th>\n",
              "      <td>1991</td>\n",
              "      <td>3370</td>\n",
              "      <td>137</td>\n",
              "    </tr>\n",
              "    <tr>\n",
              "      <th>26</th>\n",
              "      <td>1992</td>\n",
              "      <td>3370</td>\n",
              "      <td>145</td>\n",
              "    </tr>\n",
              "    <tr>\n",
              "      <th>27</th>\n",
              "      <td>1993</td>\n",
              "      <td>3370</td>\n",
              "      <td>149</td>\n",
              "    </tr>\n",
              "    <tr>\n",
              "      <th>28</th>\n",
              "      <td>1994</td>\n",
              "      <td>3370</td>\n",
              "      <td>140</td>\n",
              "    </tr>\n",
              "    <tr>\n",
              "      <th>29</th>\n",
              "      <td>1995</td>\n",
              "      <td>3370</td>\n",
              "      <td>141</td>\n",
              "    </tr>\n",
              "    <tr>\n",
              "      <th>30</th>\n",
              "      <td>1996</td>\n",
              "      <td>3370</td>\n",
              "      <td>125</td>\n",
              "    </tr>\n",
              "    <tr>\n",
              "      <th>31</th>\n",
              "      <td>1997</td>\n",
              "      <td>3370</td>\n",
              "      <td>162</td>\n",
              "    </tr>\n",
              "    <tr>\n",
              "      <th>32</th>\n",
              "      <td>1998</td>\n",
              "      <td>3370</td>\n",
              "      <td>175</td>\n",
              "    </tr>\n",
              "    <tr>\n",
              "      <th>33</th>\n",
              "      <td>1999</td>\n",
              "      <td>3370</td>\n",
              "      <td>213</td>\n",
              "    </tr>\n",
              "    <tr>\n",
              "      <th>34</th>\n",
              "      <td>2000</td>\n",
              "      <td>3370</td>\n",
              "      <td>176</td>\n",
              "    </tr>\n",
              "    <tr>\n",
              "      <th>35</th>\n",
              "      <td>2001</td>\n",
              "      <td>3370</td>\n",
              "      <td>231</td>\n",
              "    </tr>\n",
              "    <tr>\n",
              "      <th>36</th>\n",
              "      <td>2002</td>\n",
              "      <td>3370</td>\n",
              "      <td>173</td>\n",
              "    </tr>\n",
              "    <tr>\n",
              "      <th>37</th>\n",
              "      <td>2003</td>\n",
              "      <td>3370</td>\n",
              "      <td>144</td>\n",
              "    </tr>\n",
              "    <tr>\n",
              "      <th>38</th>\n",
              "      <td>2004</td>\n",
              "      <td>3370</td>\n",
              "      <td>218</td>\n",
              "    </tr>\n",
              "    <tr>\n",
              "      <th>39</th>\n",
              "      <td>2005</td>\n",
              "      <td>3370</td>\n",
              "      <td>217</td>\n",
              "    </tr>\n",
              "    <tr>\n",
              "      <th>40</th>\n",
              "      <td>2006</td>\n",
              "      <td>3370</td>\n",
              "      <td>182</td>\n",
              "    </tr>\n",
              "    <tr>\n",
              "      <th>41</th>\n",
              "      <td>2007</td>\n",
              "      <td>3370</td>\n",
              "      <td>189</td>\n",
              "    </tr>\n",
              "    <tr>\n",
              "      <th>42</th>\n",
              "      <td>2008</td>\n",
              "      <td>3370</td>\n",
              "      <td>137</td>\n",
              "    </tr>\n",
              "    <tr>\n",
              "      <th>43</th>\n",
              "      <td>2009</td>\n",
              "      <td>3370</td>\n",
              "      <td>176</td>\n",
              "    </tr>\n",
              "    <tr>\n",
              "      <th>44</th>\n",
              "      <td>2010</td>\n",
              "      <td>3370</td>\n",
              "      <td>203</td>\n",
              "    </tr>\n",
              "    <tr>\n",
              "      <th>45</th>\n",
              "      <td>2011</td>\n",
              "      <td>3370</td>\n",
              "      <td>162</td>\n",
              "    </tr>\n",
              "    <tr>\n",
              "      <th>46</th>\n",
              "      <td>2012</td>\n",
              "      <td>3370</td>\n",
              "      <td>215</td>\n",
              "    </tr>\n",
              "    <tr>\n",
              "      <th>47</th>\n",
              "      <td>2013</td>\n",
              "      <td>3370</td>\n",
              "      <td>153</td>\n",
              "    </tr>\n",
              "    <tr>\n",
              "      <th>48</th>\n",
              "      <td>2014</td>\n",
              "      <td>3370</td>\n",
              "      <td>162</td>\n",
              "    </tr>\n",
              "    <tr>\n",
              "      <th>49</th>\n",
              "      <td>2015</td>\n",
              "      <td>3370</td>\n",
              "      <td>177</td>\n",
              "    </tr>\n",
              "    <tr>\n",
              "      <th>50</th>\n",
              "      <td>2016</td>\n",
              "      <td>3370</td>\n",
              "      <td>204</td>\n",
              "    </tr>\n",
              "    <tr>\n",
              "      <th>51</th>\n",
              "      <td>2017</td>\n",
              "      <td>3370</td>\n",
              "      <td>209</td>\n",
              "    </tr>\n",
              "    <tr>\n",
              "      <th>52</th>\n",
              "      <td>2018</td>\n",
              "      <td>3370</td>\n",
              "      <td>142</td>\n",
              "    </tr>\n",
              "  </tbody>\n",
              "</table>\n",
              "</div>"
            ],
            "text/plain": [
              "    Year Redtail_ID Redtail_Yr_Total\n",
              "0   1966       3370               29\n",
              "1   1967       3370               28\n",
              "2   1968       3370               28\n",
              "3   1969       3370               35\n",
              "4   1970       3370               28\n",
              "5   1971       3370               34\n",
              "6   1972       3370               41\n",
              "7   1973       3370               37\n",
              "8   1974       3370               48\n",
              "9   1975       3370               41\n",
              "10  1976       3370               53\n",
              "11  1977       3370               51\n",
              "12  1978       3370               44\n",
              "13  1979       3370               34\n",
              "14  1980       3370               44\n",
              "15  1981       3370               68\n",
              "16  1982       3370               65\n",
              "17  1983       3370               70\n",
              "18  1984       3370               61\n",
              "19  1985       3370               83\n",
              "20  1986       3370               78\n",
              "21  1987       3370               63\n",
              "22  1988       3370              113\n",
              "23  1989       3370               94\n",
              "24  1990       3370              101\n",
              "25  1991       3370              137\n",
              "26  1992       3370              145\n",
              "27  1993       3370              149\n",
              "28  1994       3370              140\n",
              "29  1995       3370              141\n",
              "30  1996       3370              125\n",
              "31  1997       3370              162\n",
              "32  1998       3370              175\n",
              "33  1999       3370              213\n",
              "34  2000       3370              176\n",
              "35  2001       3370              231\n",
              "36  2002       3370              173\n",
              "37  2003       3370              144\n",
              "38  2004       3370              218\n",
              "39  2005       3370              217\n",
              "40  2006       3370              182\n",
              "41  2007       3370              189\n",
              "42  2008       3370              137\n",
              "43  2009       3370              176\n",
              "44  2010       3370              203\n",
              "45  2011       3370              162\n",
              "46  2012       3370              215\n",
              "47  2013       3370              153\n",
              "48  2014       3370              162\n",
              "49  2015       3370              177\n",
              "50  2016       3370              204\n",
              "51  2017       3370              209\n",
              "52  2018       3370              142"
            ]
          },
          "metadata": {
            "tags": []
          },
          "execution_count": 189
        }
      ]
    },
    {
      "cell_type": "code",
      "metadata": {
        "id": "F8coC30kwOcv",
        "colab_type": "code",
        "colab": {}
      },
      "source": [
        "Final_RT_df['Year'] = Final_RT_df['Year'].astype(str).astype(int)\n",
        "Final_RT_df['Redtail_ID'] = Final_RT_df['Redtail_ID'].astype(str).astype(int)\n",
        "Final_RT_df['Redtail_Yr_Total'] = Final_RT_df['Redtail_Yr_Total'].astype(str).astype(int)"
      ],
      "execution_count": 0,
      "outputs": []
    },
    {
      "cell_type": "code",
      "metadata": {
        "id": "By6M-9s_wyuu",
        "colab_type": "code",
        "outputId": "f35437f9-7625-47dc-b7d5-42e4d19ebd86",
        "colab": {
          "base_uri": "https://localhost:8080/",
          "height": 85
        }
      },
      "source": [
        "Final_RT_df.dtypes"
      ],
      "execution_count": 191,
      "outputs": [
        {
          "output_type": "execute_result",
          "data": {
            "text/plain": [
              "Year                int64\n",
              "Redtail_ID          int64\n",
              "Redtail_Yr_Total    int64\n",
              "dtype: object"
            ]
          },
          "metadata": {
            "tags": []
          },
          "execution_count": 191
        }
      ]
    },
    {
      "cell_type": "code",
      "metadata": {
        "id": "VX_k4d4UwDLu",
        "colab_type": "code",
        "outputId": "0cd0b896-79c5-48d6-f9f4-226748db4e5c",
        "colab": {
          "base_uri": "https://localhost:8080/",
          "height": 333
        }
      },
      "source": [
        "# I definately want a bar chart.  Side by side.\n",
        "plt.style.use('default')\n",
        "ax = Final_RT_df.plot(kind='scatter', x='Year', y='Redtail_Yr_Total', figsize=(5, 3))\n",
        "ax.set_title(\"Yearly Cenus Count of Redtail Hawks in Indiana, Ohio, Kentucky.\", fontweight=\"bold\");"
      ],
      "execution_count": 192,
      "outputs": [
        {
          "output_type": "display_data",
          "data": {
            "image/png": "[encoded data removed]",
            "text/plain": [
              "<Figure size 500x300 with 1 Axes>"
            ]
          },
          "metadata": {
            "tags": []
          }
        }
      ]
    },
    {
      "cell_type": "code",
      "metadata": {
        "id": "xYqVHdP-3iqU",
        "colab_type": "code",
        "outputId": "f03ed919-58cd-41cd-f031-be465bdcdaca",
        "colab": {
          "base_uri": "https://localhost:8080/",
          "height": 204
        }
      },
      "source": [
        "RS_Coop_Br_Sha_sorted_df.tail()"
      ],
      "execution_count": 193,
      "outputs": [
        {
          "output_type": "execute_result",
          "data": {
            "text/html": [
              "<div>\n",
              "<style scoped>\n",
              "    .dataframe tbody tr th:only-of-type {\n",
              "        vertical-align: middle;\n",
              "    }\n",
              "\n",
              "    .dataframe tbody tr th {\n",
              "        vertical-align: top;\n",
              "    }\n",
              "\n",
              "    .dataframe thead th {\n",
              "        text-align: right;\n",
              "    }\n",
              "</style>\n",
              "<table border=\"1\" class=\"dataframe\">\n",
              "  <thead>\n",
              "    <tr style=\"text-align: right;\">\n",
              "      <th></th>\n",
              "      <th>index</th>\n",
              "      <th>RouteDataID</th>\n",
              "      <th>CountryNum</th>\n",
              "      <th>StateNum</th>\n",
              "      <th>Route</th>\n",
              "      <th>RPID</th>\n",
              "      <th>Year</th>\n",
              "      <th>AOU</th>\n",
              "      <th>Count10</th>\n",
              "      <th>Count20</th>\n",
              "      <th>Count30</th>\n",
              "      <th>Count40</th>\n",
              "      <th>Count50</th>\n",
              "      <th>StopTotal</th>\n",
              "      <th>SpeciesTotal</th>\n",
              "    </tr>\n",
              "  </thead>\n",
              "  <tbody>\n",
              "    <tr>\n",
              "      <th>2045</th>\n",
              "      <td>2045</td>\n",
              "      <td>6370411</td>\n",
              "      <td>840</td>\n",
              "      <td>35</td>\n",
              "      <td>26</td>\n",
              "      <td>101</td>\n",
              "      <td>2018</td>\n",
              "      <td>3390</td>\n",
              "      <td>0</td>\n",
              "      <td>0</td>\n",
              "      <td>0</td>\n",
              "      <td>2</td>\n",
              "      <td>1</td>\n",
              "      <td>3</td>\n",
              "      <td>3</td>\n",
              "    </tr>\n",
              "    <tr>\n",
              "      <th>2046</th>\n",
              "      <td>2046</td>\n",
              "      <td>6369571</td>\n",
              "      <td>840</td>\n",
              "      <td>35</td>\n",
              "      <td>28</td>\n",
              "      <td>101</td>\n",
              "      <td>2018</td>\n",
              "      <td>3390</td>\n",
              "      <td>0</td>\n",
              "      <td>1</td>\n",
              "      <td>0</td>\n",
              "      <td>0</td>\n",
              "      <td>0</td>\n",
              "      <td>1</td>\n",
              "      <td>1</td>\n",
              "    </tr>\n",
              "    <tr>\n",
              "      <th>2047</th>\n",
              "      <td>2047</td>\n",
              "      <td>6368161</td>\n",
              "      <td>840</td>\n",
              "      <td>66</td>\n",
              "      <td>113</td>\n",
              "      <td>101</td>\n",
              "      <td>2018</td>\n",
              "      <td>3330</td>\n",
              "      <td>0</td>\n",
              "      <td>1</td>\n",
              "      <td>0</td>\n",
              "      <td>0</td>\n",
              "      <td>0</td>\n",
              "      <td>1</td>\n",
              "      <td>1</td>\n",
              "    </tr>\n",
              "    <tr>\n",
              "      <th>2048</th>\n",
              "      <td>2048</td>\n",
              "      <td>6369081</td>\n",
              "      <td>840</td>\n",
              "      <td>66</td>\n",
              "      <td>86</td>\n",
              "      <td>101</td>\n",
              "      <td>2018</td>\n",
              "      <td>3390</td>\n",
              "      <td>0</td>\n",
              "      <td>1</td>\n",
              "      <td>0</td>\n",
              "      <td>0</td>\n",
              "      <td>0</td>\n",
              "      <td>1</td>\n",
              "      <td>1</td>\n",
              "    </tr>\n",
              "    <tr>\n",
              "      <th>2049</th>\n",
              "      <td>2049</td>\n",
              "      <td>6367598</td>\n",
              "      <td>840</td>\n",
              "      <td>35</td>\n",
              "      <td>900</td>\n",
              "      <td>101</td>\n",
              "      <td>2018</td>\n",
              "      <td>3430</td>\n",
              "      <td>0</td>\n",
              "      <td>0</td>\n",
              "      <td>1</td>\n",
              "      <td>1</td>\n",
              "      <td>0</td>\n",
              "      <td>2</td>\n",
              "      <td>2</td>\n",
              "    </tr>\n",
              "  </tbody>\n",
              "</table>\n",
              "</div>"
            ],
            "text/plain": [
              "      index  RouteDataID  CountryNum  ...  Count50  StopTotal  SpeciesTotal\n",
              "2045   2045      6370411         840  ...        1          3             3\n",
              "2046   2046      6369571         840  ...        0          1             1\n",
              "2047   2047      6368161         840  ...        0          1             1\n",
              "2048   2048      6369081         840  ...        0          1             1\n",
              "2049   2049      6367598         840  ...        0          2             2\n",
              "\n",
              "[5 rows x 15 columns]"
            ]
          },
          "metadata": {
            "tags": []
          },
          "execution_count": 193
        }
      ]
    },
    {
      "cell_type": "code",
      "metadata": {
        "id": "zXQasOzx30ZE",
        "colab_type": "code",
        "outputId": "4a0d0036-c83a-4bd7-cd63-2f9d95ebca05",
        "colab": {
          "base_uri": "https://localhost:8080/",
          "height": 49
        }
      },
      "source": [
        "Final_Others_df = pd.DataFrame(columns=['Year', 'Other_ID', 'Other_Yr_Total'])\n",
        "Final_Others_df"
      ],
      "execution_count": 194,
      "outputs": [
        {
          "output_type": "execute_result",
          "data": {
            "text/html": [
              "<div>\n",
              "<style scoped>\n",
              "    .dataframe tbody tr th:only-of-type {\n",
              "        vertical-align: middle;\n",
              "    }\n",
              "\n",
              "    .dataframe tbody tr th {\n",
              "        vertical-align: top;\n",
              "    }\n",
              "\n",
              "    .dataframe thead th {\n",
              "        text-align: right;\n",
              "    }\n",
              "</style>\n",
              "<table border=\"1\" class=\"dataframe\">\n",
              "  <thead>\n",
              "    <tr style=\"text-align: right;\">\n",
              "      <th></th>\n",
              "      <th>Year</th>\n",
              "      <th>Other_ID</th>\n",
              "      <th>Other_Yr_Total</th>\n",
              "    </tr>\n",
              "  </thead>\n",
              "  <tbody>\n",
              "  </tbody>\n",
              "</table>\n",
              "</div>"
            ],
            "text/plain": [
              "Empty DataFrame\n",
              "Columns: [Year, Other_ID, Other_Yr_Total]\n",
              "Index: []"
            ]
          },
          "metadata": {
            "tags": []
          },
          "execution_count": 194
        }
      ]
    },
    {
      "cell_type": "code",
      "metadata": {
        "id": "k43coiuR4cuA",
        "colab_type": "code",
        "colab": {}
      },
      "source": [
        "x = 1966\n",
        "tot = 0\n",
        "for ind in RS_Coop_Br_Sha_sorted_df.index: \n",
        "     if (RS_Coop_Br_Sha_sorted_df['Year'][ind] == x):\n",
        "       tot += (RS_Coop_Br_Sha_sorted_df['SpeciesTotal'][ind])\n",
        "       if RS_Coop_Br_Sha_sorted_df['index'][ind] == 2049:\n",
        "         Final_Others_df = Final_Others_df.append({'Year': int(x), 'Other_ID': int(1234), 'Other_Yr_Total': int(tot)}, ignore_index=True)\n",
        "         break\n",
        "     else:\n",
        "       Final_Others_df = Final_Others_df.append({'Year': int(x), 'Other_ID': int(1234), 'Other_Yr_Total': int(tot)}, ignore_index=True)\n",
        "       x += 1\n",
        "       tot = 0\n",
        "       tot += (RS_Coop_Br_Sha_sorted_df['SpeciesTotal'][ind])"
      ],
      "execution_count": 0,
      "outputs": []
    },
    {
      "cell_type": "code",
      "metadata": {
        "id": "p_k8cyod5Xf_",
        "colab_type": "code",
        "outputId": "41207f42-40aa-4436-a740-30653c7c26c4",
        "colab": {
          "base_uri": "https://localhost:8080/",
          "height": 204
        }
      },
      "source": [
        "Final_Others_df.head()"
      ],
      "execution_count": 196,
      "outputs": [
        {
          "output_type": "execute_result",
          "data": {
            "text/html": [
              "<div>\n",
              "<style scoped>\n",
              "    .dataframe tbody tr th:only-of-type {\n",
              "        vertical-align: middle;\n",
              "    }\n",
              "\n",
              "    .dataframe tbody tr th {\n",
              "        vertical-align: top;\n",
              "    }\n",
              "\n",
              "    .dataframe thead th {\n",
              "        text-align: right;\n",
              "    }\n",
              "</style>\n",
              "<table border=\"1\" class=\"dataframe\">\n",
              "  <thead>\n",
              "    <tr style=\"text-align: right;\">\n",
              "      <th></th>\n",
              "      <th>Year</th>\n",
              "      <th>Other_ID</th>\n",
              "      <th>Other_Yr_Total</th>\n",
              "    </tr>\n",
              "  </thead>\n",
              "  <tbody>\n",
              "    <tr>\n",
              "      <th>0</th>\n",
              "      <td>1966</td>\n",
              "      <td>1234</td>\n",
              "      <td>24</td>\n",
              "    </tr>\n",
              "    <tr>\n",
              "      <th>1</th>\n",
              "      <td>1967</td>\n",
              "      <td>1234</td>\n",
              "      <td>20</td>\n",
              "    </tr>\n",
              "    <tr>\n",
              "      <th>2</th>\n",
              "      <td>1968</td>\n",
              "      <td>1234</td>\n",
              "      <td>21</td>\n",
              "    </tr>\n",
              "    <tr>\n",
              "      <th>3</th>\n",
              "      <td>1969</td>\n",
              "      <td>1234</td>\n",
              "      <td>16</td>\n",
              "    </tr>\n",
              "    <tr>\n",
              "      <th>4</th>\n",
              "      <td>1970</td>\n",
              "      <td>1234</td>\n",
              "      <td>19</td>\n",
              "    </tr>\n",
              "  </tbody>\n",
              "</table>\n",
              "</div>"
            ],
            "text/plain": [
              "   Year Other_ID Other_Yr_Total\n",
              "0  1966     1234             24\n",
              "1  1967     1234             20\n",
              "2  1968     1234             21\n",
              "3  1969     1234             16\n",
              "4  1970     1234             19"
            ]
          },
          "metadata": {
            "tags": []
          },
          "execution_count": 196
        }
      ]
    },
    {
      "cell_type": "code",
      "metadata": {
        "id": "VAL8DaPz5XTI",
        "colab_type": "code",
        "outputId": "666b346e-8d71-4124-c7ce-9fffc549c29c",
        "colab": {
          "base_uri": "https://localhost:8080/",
          "height": 34
        }
      },
      "source": [
        "Final_Others_df.shape"
      ],
      "execution_count": 197,
      "outputs": [
        {
          "output_type": "execute_result",
          "data": {
            "text/plain": [
              "(53, 3)"
            ]
          },
          "metadata": {
            "tags": []
          },
          "execution_count": 197
        }
      ]
    },
    {
      "cell_type": "code",
      "metadata": {
        "id": "cFMWh6h56SJV",
        "colab_type": "code",
        "colab": {}
      },
      "source": [
        "total_nin_six_six = RS_Coop_Br_Sha_sorted_df.Year == 1966\n",
        "total_two_thou = RS_Coop_Br_Sha_sorted_df.Year == 2000\n",
        "total_two_thou_eigh = RS_Coop_Br_Sha_sorted_df.Year == 2008\n",
        "total_two_svteen = RS_Coop_Br_Sha_sorted_df.Year == 2017\n",
        "total_two_eight_ten = RS_Coop_Br_Sha_sorted_df.Year == 2018"
      ],
      "execution_count": 0,
      "outputs": []
    },
    {
      "cell_type": "code",
      "metadata": {
        "id": "JLH67PPx6V0U",
        "colab_type": "code",
        "colab": {}
      },
      "source": [
        "species_nin_six_six = RS_Coop_Br_Sha_sorted_df[total_nin_six_six]\n",
        "species_tot_two_thou = RS_Coop_Br_Sha_sorted_df[total_two_thou]\n",
        "species_tot_two_thou_eight = RS_Coop_Br_Sha_sorted_df[total_two_thou_eigh]\n",
        "species_tot_two_svn = RS_Coop_Br_Sha_sorted_df[total_two_svteen]\n",
        "species_tot_two_eight_ten = RS_Coop_Br_Sha_sorted_df[total_two_eight_ten]"
      ],
      "execution_count": 0,
      "outputs": []
    },
    {
      "cell_type": "code",
      "metadata": {
        "id": "A9YmagzN6ZWd",
        "colab_type": "code",
        "outputId": "e8af6445-dcee-4d6e-8dad-a997f7ccdbc4",
        "colab": {
          "base_uri": "https://localhost:8080/",
          "height": 102
        }
      },
      "source": [
        "print(species_nin_six_six['SpeciesTotal'].sum(axis=0))\n",
        "print(species_tot_two_thou['SpeciesTotal'].sum(axis=0))\n",
        "print(species_tot_two_thou_eight['SpeciesTotal'].sum(axis=0))\n",
        "print(species_tot_two_svn['SpeciesTotal'].sum(axis=0))\n",
        "print(species_tot_two_eight_ten['SpeciesTotal'].sum(axis=0))"
      ],
      "execution_count": 200,
      "outputs": [
        {
          "output_type": "stream",
          "text": [
            "24\n",
            "76\n",
            "88\n",
            "125\n",
            "65\n"
          ],
          "name": "stdout"
        }
      ]
    },
    {
      "cell_type": "code",
      "metadata": {
        "id": "Ygvtre1S62h8",
        "colab_type": "code",
        "outputId": "1b626be9-36d3-44d0-a1b2-5757c2af6dd7",
        "colab": {
          "base_uri": "https://localhost:8080/",
          "height": 1000
        }
      },
      "source": [
        "# 24, 76, 88, 125, 65\n",
        "Final_Others_df"
      ],
      "execution_count": 201,
      "outputs": [
        {
          "output_type": "execute_result",
          "data": {
            "text/html": [
              "<div>\n",
              "<style scoped>\n",
              "    .dataframe tbody tr th:only-of-type {\n",
              "        vertical-align: middle;\n",
              "    }\n",
              "\n",
              "    .dataframe tbody tr th {\n",
              "        vertical-align: top;\n",
              "    }\n",
              "\n",
              "    .dataframe thead th {\n",
              "        text-align: right;\n",
              "    }\n",
              "</style>\n",
              "<table border=\"1\" class=\"dataframe\">\n",
              "  <thead>\n",
              "    <tr style=\"text-align: right;\">\n",
              "      <th></th>\n",
              "      <th>Year</th>\n",
              "      <th>Other_ID</th>\n",
              "      <th>Other_Yr_Total</th>\n",
              "    </tr>\n",
              "  </thead>\n",
              "  <tbody>\n",
              "    <tr>\n",
              "      <th>0</th>\n",
              "      <td>1966</td>\n",
              "      <td>1234</td>\n",
              "      <td>24</td>\n",
              "    </tr>\n",
              "    <tr>\n",
              "      <th>1</th>\n",
              "      <td>1967</td>\n",
              "      <td>1234</td>\n",
              "      <td>20</td>\n",
              "    </tr>\n",
              "    <tr>\n",
              "      <th>2</th>\n",
              "      <td>1968</td>\n",
              "      <td>1234</td>\n",
              "      <td>21</td>\n",
              "    </tr>\n",
              "    <tr>\n",
              "      <th>3</th>\n",
              "      <td>1969</td>\n",
              "      <td>1234</td>\n",
              "      <td>16</td>\n",
              "    </tr>\n",
              "    <tr>\n",
              "      <th>4</th>\n",
              "      <td>1970</td>\n",
              "      <td>1234</td>\n",
              "      <td>19</td>\n",
              "    </tr>\n",
              "    <tr>\n",
              "      <th>5</th>\n",
              "      <td>1971</td>\n",
              "      <td>1234</td>\n",
              "      <td>6</td>\n",
              "    </tr>\n",
              "    <tr>\n",
              "      <th>6</th>\n",
              "      <td>1972</td>\n",
              "      <td>1234</td>\n",
              "      <td>16</td>\n",
              "    </tr>\n",
              "    <tr>\n",
              "      <th>7</th>\n",
              "      <td>1973</td>\n",
              "      <td>1234</td>\n",
              "      <td>15</td>\n",
              "    </tr>\n",
              "    <tr>\n",
              "      <th>8</th>\n",
              "      <td>1974</td>\n",
              "      <td>1234</td>\n",
              "      <td>21</td>\n",
              "    </tr>\n",
              "    <tr>\n",
              "      <th>9</th>\n",
              "      <td>1975</td>\n",
              "      <td>1234</td>\n",
              "      <td>20</td>\n",
              "    </tr>\n",
              "    <tr>\n",
              "      <th>10</th>\n",
              "      <td>1976</td>\n",
              "      <td>1234</td>\n",
              "      <td>13</td>\n",
              "    </tr>\n",
              "    <tr>\n",
              "      <th>11</th>\n",
              "      <td>1977</td>\n",
              "      <td>1234</td>\n",
              "      <td>17</td>\n",
              "    </tr>\n",
              "    <tr>\n",
              "      <th>12</th>\n",
              "      <td>1978</td>\n",
              "      <td>1234</td>\n",
              "      <td>14</td>\n",
              "    </tr>\n",
              "    <tr>\n",
              "      <th>13</th>\n",
              "      <td>1979</td>\n",
              "      <td>1234</td>\n",
              "      <td>24</td>\n",
              "    </tr>\n",
              "    <tr>\n",
              "      <th>14</th>\n",
              "      <td>1980</td>\n",
              "      <td>1234</td>\n",
              "      <td>17</td>\n",
              "    </tr>\n",
              "    <tr>\n",
              "      <th>15</th>\n",
              "      <td>1981</td>\n",
              "      <td>1234</td>\n",
              "      <td>27</td>\n",
              "    </tr>\n",
              "    <tr>\n",
              "      <th>16</th>\n",
              "      <td>1982</td>\n",
              "      <td>1234</td>\n",
              "      <td>31</td>\n",
              "    </tr>\n",
              "    <tr>\n",
              "      <th>17</th>\n",
              "      <td>1983</td>\n",
              "      <td>1234</td>\n",
              "      <td>20</td>\n",
              "    </tr>\n",
              "    <tr>\n",
              "      <th>18</th>\n",
              "      <td>1984</td>\n",
              "      <td>1234</td>\n",
              "      <td>21</td>\n",
              "    </tr>\n",
              "    <tr>\n",
              "      <th>19</th>\n",
              "      <td>1985</td>\n",
              "      <td>1234</td>\n",
              "      <td>25</td>\n",
              "    </tr>\n",
              "    <tr>\n",
              "      <th>20</th>\n",
              "      <td>1986</td>\n",
              "      <td>1234</td>\n",
              "      <td>21</td>\n",
              "    </tr>\n",
              "    <tr>\n",
              "      <th>21</th>\n",
              "      <td>1987</td>\n",
              "      <td>1234</td>\n",
              "      <td>26</td>\n",
              "    </tr>\n",
              "    <tr>\n",
              "      <th>22</th>\n",
              "      <td>1988</td>\n",
              "      <td>1234</td>\n",
              "      <td>33</td>\n",
              "    </tr>\n",
              "    <tr>\n",
              "      <th>23</th>\n",
              "      <td>1989</td>\n",
              "      <td>1234</td>\n",
              "      <td>19</td>\n",
              "    </tr>\n",
              "    <tr>\n",
              "      <th>24</th>\n",
              "      <td>1990</td>\n",
              "      <td>1234</td>\n",
              "      <td>40</td>\n",
              "    </tr>\n",
              "    <tr>\n",
              "      <th>25</th>\n",
              "      <td>1991</td>\n",
              "      <td>1234</td>\n",
              "      <td>32</td>\n",
              "    </tr>\n",
              "    <tr>\n",
              "      <th>26</th>\n",
              "      <td>1992</td>\n",
              "      <td>1234</td>\n",
              "      <td>50</td>\n",
              "    </tr>\n",
              "    <tr>\n",
              "      <th>27</th>\n",
              "      <td>1993</td>\n",
              "      <td>1234</td>\n",
              "      <td>74</td>\n",
              "    </tr>\n",
              "    <tr>\n",
              "      <th>28</th>\n",
              "      <td>1994</td>\n",
              "      <td>1234</td>\n",
              "      <td>51</td>\n",
              "    </tr>\n",
              "    <tr>\n",
              "      <th>29</th>\n",
              "      <td>1995</td>\n",
              "      <td>1234</td>\n",
              "      <td>41</td>\n",
              "    </tr>\n",
              "    <tr>\n",
              "      <th>30</th>\n",
              "      <td>1996</td>\n",
              "      <td>1234</td>\n",
              "      <td>41</td>\n",
              "    </tr>\n",
              "    <tr>\n",
              "      <th>31</th>\n",
              "      <td>1997</td>\n",
              "      <td>1234</td>\n",
              "      <td>63</td>\n",
              "    </tr>\n",
              "    <tr>\n",
              "      <th>32</th>\n",
              "      <td>1998</td>\n",
              "      <td>1234</td>\n",
              "      <td>63</td>\n",
              "    </tr>\n",
              "    <tr>\n",
              "      <th>33</th>\n",
              "      <td>1999</td>\n",
              "      <td>1234</td>\n",
              "      <td>79</td>\n",
              "    </tr>\n",
              "    <tr>\n",
              "      <th>34</th>\n",
              "      <td>2000</td>\n",
              "      <td>1234</td>\n",
              "      <td>76</td>\n",
              "    </tr>\n",
              "    <tr>\n",
              "      <th>35</th>\n",
              "      <td>2001</td>\n",
              "      <td>1234</td>\n",
              "      <td>106</td>\n",
              "    </tr>\n",
              "    <tr>\n",
              "      <th>36</th>\n",
              "      <td>2002</td>\n",
              "      <td>1234</td>\n",
              "      <td>74</td>\n",
              "    </tr>\n",
              "    <tr>\n",
              "      <th>37</th>\n",
              "      <td>2003</td>\n",
              "      <td>1234</td>\n",
              "      <td>71</td>\n",
              "    </tr>\n",
              "    <tr>\n",
              "      <th>38</th>\n",
              "      <td>2004</td>\n",
              "      <td>1234</td>\n",
              "      <td>91</td>\n",
              "    </tr>\n",
              "    <tr>\n",
              "      <th>39</th>\n",
              "      <td>2005</td>\n",
              "      <td>1234</td>\n",
              "      <td>78</td>\n",
              "    </tr>\n",
              "    <tr>\n",
              "      <th>40</th>\n",
              "      <td>2006</td>\n",
              "      <td>1234</td>\n",
              "      <td>94</td>\n",
              "    </tr>\n",
              "    <tr>\n",
              "      <th>41</th>\n",
              "      <td>2007</td>\n",
              "      <td>1234</td>\n",
              "      <td>95</td>\n",
              "    </tr>\n",
              "    <tr>\n",
              "      <th>42</th>\n",
              "      <td>2008</td>\n",
              "      <td>1234</td>\n",
              "      <td>88</td>\n",
              "    </tr>\n",
              "    <tr>\n",
              "      <th>43</th>\n",
              "      <td>2009</td>\n",
              "      <td>1234</td>\n",
              "      <td>125</td>\n",
              "    </tr>\n",
              "    <tr>\n",
              "      <th>44</th>\n",
              "      <td>2010</td>\n",
              "      <td>1234</td>\n",
              "      <td>111</td>\n",
              "    </tr>\n",
              "    <tr>\n",
              "      <th>45</th>\n",
              "      <td>2011</td>\n",
              "      <td>1234</td>\n",
              "      <td>108</td>\n",
              "    </tr>\n",
              "    <tr>\n",
              "      <th>46</th>\n",
              "      <td>2012</td>\n",
              "      <td>1234</td>\n",
              "      <td>159</td>\n",
              "    </tr>\n",
              "    <tr>\n",
              "      <th>47</th>\n",
              "      <td>2013</td>\n",
              "      <td>1234</td>\n",
              "      <td>139</td>\n",
              "    </tr>\n",
              "    <tr>\n",
              "      <th>48</th>\n",
              "      <td>2014</td>\n",
              "      <td>1234</td>\n",
              "      <td>115</td>\n",
              "    </tr>\n",
              "    <tr>\n",
              "      <th>49</th>\n",
              "      <td>2015</td>\n",
              "      <td>1234</td>\n",
              "      <td>100</td>\n",
              "    </tr>\n",
              "    <tr>\n",
              "      <th>50</th>\n",
              "      <td>2016</td>\n",
              "      <td>1234</td>\n",
              "      <td>120</td>\n",
              "    </tr>\n",
              "    <tr>\n",
              "      <th>51</th>\n",
              "      <td>2017</td>\n",
              "      <td>1234</td>\n",
              "      <td>125</td>\n",
              "    </tr>\n",
              "    <tr>\n",
              "      <th>52</th>\n",
              "      <td>2018</td>\n",
              "      <td>1234</td>\n",
              "      <td>65</td>\n",
              "    </tr>\n",
              "  </tbody>\n",
              "</table>\n",
              "</div>"
            ],
            "text/plain": [
              "    Year Other_ID Other_Yr_Total\n",
              "0   1966     1234             24\n",
              "1   1967     1234             20\n",
              "2   1968     1234             21\n",
              "3   1969     1234             16\n",
              "4   1970     1234             19\n",
              "5   1971     1234              6\n",
              "6   1972     1234             16\n",
              "7   1973     1234             15\n",
              "8   1974     1234             21\n",
              "9   1975     1234             20\n",
              "10  1976     1234             13\n",
              "11  1977     1234             17\n",
              "12  1978     1234             14\n",
              "13  1979     1234             24\n",
              "14  1980     1234             17\n",
              "15  1981     1234             27\n",
              "16  1982     1234             31\n",
              "17  1983     1234             20\n",
              "18  1984     1234             21\n",
              "19  1985     1234             25\n",
              "20  1986     1234             21\n",
              "21  1987     1234             26\n",
              "22  1988     1234             33\n",
              "23  1989     1234             19\n",
              "24  1990     1234             40\n",
              "25  1991     1234             32\n",
              "26  1992     1234             50\n",
              "27  1993     1234             74\n",
              "28  1994     1234             51\n",
              "29  1995     1234             41\n",
              "30  1996     1234             41\n",
              "31  1997     1234             63\n",
              "32  1998     1234             63\n",
              "33  1999     1234             79\n",
              "34  2000     1234             76\n",
              "35  2001     1234            106\n",
              "36  2002     1234             74\n",
              "37  2003     1234             71\n",
              "38  2004     1234             91\n",
              "39  2005     1234             78\n",
              "40  2006     1234             94\n",
              "41  2007     1234             95\n",
              "42  2008     1234             88\n",
              "43  2009     1234            125\n",
              "44  2010     1234            111\n",
              "45  2011     1234            108\n",
              "46  2012     1234            159\n",
              "47  2013     1234            139\n",
              "48  2014     1234            115\n",
              "49  2015     1234            100\n",
              "50  2016     1234            120\n",
              "51  2017     1234            125\n",
              "52  2018     1234             65"
            ]
          },
          "metadata": {
            "tags": []
          },
          "execution_count": 201
        }
      ]
    },
    {
      "cell_type": "code",
      "metadata": {
        "id": "kArgB7kSCh0N",
        "colab_type": "code",
        "colab": {}
      },
      "source": [
        "Final_Others_df['Year'] = Final_Others_df['Year'].astype(str).astype(int)\n",
        "Final_Others_df['Other_ID'] = Final_Others_df['Other_ID'].astype(str).astype(int)\n",
        "Final_Others_df['Other_Yr_Total'] = Final_Others_df['Other_Yr_Total'].astype(str).astype(int)"
      ],
      "execution_count": 0,
      "outputs": []
    },
    {
      "cell_type": "code",
      "metadata": {
        "id": "xBfW03SFDHeI",
        "colab_type": "code",
        "outputId": "dd4ec170-50e6-4d4b-b15c-c97fa2515f87",
        "colab": {
          "base_uri": "https://localhost:8080/",
          "height": 85
        }
      },
      "source": [
        "Final_Others_df.dtypes"
      ],
      "execution_count": 203,
      "outputs": [
        {
          "output_type": "execute_result",
          "data": {
            "text/plain": [
              "Year              int64\n",
              "Other_ID          int64\n",
              "Other_Yr_Total    int64\n",
              "dtype: object"
            ]
          },
          "metadata": {
            "tags": []
          },
          "execution_count": 203
        }
      ]
    },
    {
      "cell_type": "code",
      "metadata": {
        "id": "xdpuoXA1DPjz",
        "colab_type": "code",
        "outputId": "87ce8372-d2c4-4b8c-f7d1-aa8861274013",
        "colab": {
          "base_uri": "https://localhost:8080/",
          "height": 333
        }
      },
      "source": [
        "plt.style.use('default')\n",
        "ax = Final_Others_df.plot(kind='scatter', x='Year', y='Other_Yr_Total', figsize=(5,3))\n",
        "ax.set_title(\"Yearly Cenus Count of Other Hawks in the Tri-State.\", fontweight=\"bold\");"
      ],
      "execution_count": 204,
      "outputs": [
        {
          "output_type": "display_data",
          "data": {
            "image/png": "[encoded data removed]",
            "text/plain": [
              "<Figure size 500x300 with 1 Axes>"
            ]
          },
          "metadata": {
            "tags": []
          }
        }
      ]
    },
    {
      "cell_type": "code",
      "metadata": {
        "id": "H4HkYCi0XZ0J",
        "colab_type": "code",
        "colab": {
          "base_uri": "https://localhost:8080/",
          "height": 388
        },
        "outputId": "192eb654-8ae7-4305-b663-50c40af82cf3"
      },
      "source": [
        "plt.style.use('default')\n",
        "ax = plt.gca()\n",
        "\n",
        "Final_RT_df.plot(kind='line', x='Year', y='Redtail_Yr_Total', lw = 4, ls ='--', c = '#f57905', alpha = 0.9, figsize=(6,4), ax=ax)\n",
        "Final_Others_df.plot(kind='line', x='Year', y='Other_Yr_Total', lw = 4, ls = ':', c = '#1ABC9C', alpha = 0.9, figsize=(6,4), ax=ax)\n",
        "ax.set_facecolor(\"#e4f2f2\")\n",
        "\n",
        "plt.show()"
      ],
      "execution_count": 215,
      "outputs": [
        {
          "output_type": "display_data",
          "data": {
            "image/png": "[encoded data removed]",
            "text/plain": [
              "<Figure size 600x400 with 1 Axes>"
            ]
          },
          "metadata": {
            "tags": []
          }
        }
      ]
    },
    {
      "cell_type": "code",
      "metadata": {
        "id": "QT-OueRzFDC0",
        "colab_type": "code",
        "outputId": "0fb3d04c-a760-4398-8a61-b2d624edea3c",
        "colab": {
          "base_uri": "https://localhost:8080/",
          "height": 477
        }
      },
      "source": [
        "plt.style.use('default')\n",
        "from matplotlib.patches import Patch\n",
        "from matplotlib.lines import Line2D\n",
        "\n",
        "fig, ax = plt.subplots(figsize=(7,5))\n",
        "Final_RT_df.plot(x='Year', y='Redtail_Yr_Total', color= \"#11ff00\", lw = 1, ls ='-', marker='o', markersize=10, \n",
        "        markerfacecolor= \"#dbf294\", markeredgewidth=3, markeredgecolor= \"#68ff03\", ax = ax)\n",
        "Final_Others_df.plot(x='Year', y='Other_Yr_Total', color=\"#00f7b1\", lw = 1, ls ='-', marker='o', markersize=10, \n",
        "        markerfacecolor=\"#00ffe5\", markeredgewidth=3, markeredgecolor= \"#9961ed\", ax = ax)\n",
        "\n",
        "ax.set_facecolor(\"#e4f2f2\")\n",
        "\n",
        "legend_elements = [Line2D([0], [0], color=\"#11ff00\", lw=1, ls='-', marker='o', markersize=10, \n",
        "        markerfacecolor=\"#dbf294\", markeredgewidth=3, markeredgecolor=\"#68ff03\", label='Red Tail Hawk'),\n",
        "                   Line2D([0], [0], color=\"#00f7b1\", lw=1, ls='-', marker='o', markersize=10, \n",
        "        markerfacecolor=\"#00ffe5\", markeredgewidth=3, markeredgecolor=\"#9961ed\", label=\"Other Hawks: Red Shouldered,\\n Cooper's, Broad Winged,\\n Sharpe Shinned.\")]\n",
        "\n",
        "ax.legend(handles=legend_elements, fontsize = 14)\n",
        "# Set the x and y axes labels\n",
        "ax.set_xlabel(\"Years\", fontsize=16)\n",
        "ax.set_ylabel(\"Yearly Counts At\\n Multiple Locations\", fontsize=14)\n",
        "plt.setp(ax.get_xticklabels(), rotation='horizontal', fontsize=16)\n",
        "plt.setp(ax.get_yticklabels(), rotation='horizontal', fontsize=16)\n",
        "plt.show()"
      ],
      "execution_count": 212,
      "outputs": [
        {
          "output_type": "display_data",
          "data": {
            "image/png": "[encoded data removed]",
            "text/plain": [
              "<Figure size 700x500 with 1 Axes>"
            ]
          },
          "metadata": {
            "tags": []
          }
        }
      ]
    },
    {
      "cell_type": "code",
      "metadata": {
        "id": "nxEcw6lKk-SG",
        "colab_type": "code",
        "colab": {
          "base_uri": "https://localhost:8080/",
          "height": 542
        },
        "outputId": "f523e6b4-e964-4b77-eb07-28c55e559596"
      },
      "source": [
        "plt.style.use('default')\n",
        "\n",
        "fig, ax = plt.subplots(figsize=(8,5))\n",
        "Final_RT_df.plot(x='Year', y='Redtail_Yr_Total', color= \"orange\", kind = 'bar', alpha=.5, ax = ax)\n",
        "Final_Others_df.plot(x='Year', y='Other_Yr_Total', color=\"blue\", kind = 'bar', alpha=.6, ax = ax)\n",
        "ax.set_facecolor(\"#e4f2f2\")\n",
        "\n",
        "legend_elements = [Line2D([0], [0], color=\"orange\", lw='5', label='Red Tail Hawk.'),\n",
        "                   Line2D([0], [0], color=\"blue\", lw='4', label='Other Hawks.')]\n",
        "\n",
        "ax.legend(handles=legend_elements, fontsize = 16)\n",
        "\n",
        "# Set the title and subtitle\n",
        "ax.set_title(\"Hawk Activity Census Shows The Red-Tail is the\\n Most Common Hawk In Kentucky, Indiana, and Ohio.\", \n",
        "             fontsize=15, fontweight='bold')\n",
        "ax.text(s=\"Sums:\\nRed Tail - 6,228\\nRed Shouldered - 1,550\\nCooper's - 900\\nBroad Winged - 385\\nSharp Shinned - 125\", fontsize=13, x=1, y=115);\n",
        "\n",
        "# Set the x and y axes labels\n",
        "ax.set_xlabel(\"Years.\", fontsize=16)\n",
        "ax.set_ylabel(\"Hawks Counted Per Year.\", fontsize=14)\n",
        "\n",
        "# Fix the x an y axis tick marks and grid\n",
        "ax.set_xticklabels(range(1966, 2020, 4), fontsize=14, rotation=25)\n",
        "ax.set_yticklabels(range(0, 250, 25), fontsize = 12, fontweight='bold', rotation=45)\n",
        "ax.set_xticks(range(0,54,4))\n",
        "ax.set_yticks(range(0, 250, 25))\n",
        "\n",
        "\n",
        "plt.show()\n",
        "\n"
      ],
      "execution_count": 361,
      "outputs": [
        {
          "output_type": "display_data",
          "data": {
            "image/png": "[encoded data removed]",
            "text/plain": [
              "<Figure size 800x500 with 1 Axes>"
            ]
          },
          "metadata": {
            "tags": []
          }
        }
      ]
    }
  ]
}