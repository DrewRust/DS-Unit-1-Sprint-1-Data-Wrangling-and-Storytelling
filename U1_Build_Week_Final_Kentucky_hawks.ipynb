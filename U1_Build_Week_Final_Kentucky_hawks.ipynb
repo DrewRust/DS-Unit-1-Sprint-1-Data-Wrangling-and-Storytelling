{
  "nbformat": 4,
  "nbformat_minor": 0,
  "metadata": {
    "colab": {
      "name": "U1_Build_Week.ipynb",
      "provenance": [],
      "collapsed_sections": [],
      "authorship_tag": "ABX9TyOT+B77ajd4wvm4VY2bCdLg",
      "include_colab_link": true
    },
    "kernelspec": {
      "name": "python3",
      "display_name": "Python 3"
    }
  },
  "cells": [
    {
      "cell_type": "markdown",
      "metadata": {
        "id": "view-in-github",
        "colab_type": "text"
      },
      "source": [
        "<a href=\"https://colab.research.google.com/github/DrewRust/DS-Unit-1-Sprint-1-Data-Wrangling-and-Storytelling/blob/master/U1_Build_Week_Final_Kentucky_hawks.ipynb\" target=\"_parent\"><img src=\"https://colab.research.google.com/assets/colab-badge.svg\" alt=\"Open In Colab\"/></a>"
      ]
    },
    {
      "cell_type": "code",
      "metadata": {
        "id": "tDolnBxANxNx",
        "colab_type": "code",
        "colab": {}
      },
      "source": [
        "import pandas as pd\n",
        "import numpy as np\n",
        "import matplotlib.pyplot as plt\n",
        "import seaborn as sns\n",
        "%matplotlib inline"
      ],
      "execution_count": 0,
      "outputs": []
    },
    {
      "cell_type": "code",
      "metadata": {
        "id": "j5uhbewbKCF8",
        "colab_type": "code",
        "outputId": "a6412b52-3f32-4386-81ae-bb28a6510d24",
        "colab": {
          "base_uri": "https://localhost:8080/",
          "height": 68
        }
      },
      "source": [
        "# Attempt to install plotly (didn't work)\n",
        "!pip install plotly"
      ],
      "execution_count": 0,
      "outputs": [
        {
          "output_type": "stream",
          "text": [
            "Requirement already satisfied: plotly in /usr/local/lib/python3.6/dist-packages (4.4.1)\n",
            "Requirement already satisfied: retrying>=1.3.3 in /usr/local/lib/python3.6/dist-packages (from plotly) (1.3.3)\n",
            "Requirement already satisfied: six in /usr/local/lib/python3.6/dist-packages (from plotly) (1.12.0)\n"
          ],
          "name": "stdout"
        }
      ]
    },
    {
      "cell_type": "code",
      "metadata": {
        "id": "evfNnnXwKLHC",
        "colab_type": "code",
        "colab": {}
      },
      "source": [
        "# Attempt to install plotly\n",
        "import plotly.express as px"
      ],
      "execution_count": 0,
      "outputs": []
    },
    {
      "cell_type": "code",
      "metadata": {
        "id": "-1IzsbH4KqeG",
        "colab_type": "code",
        "colab": {}
      },
      "source": [
        "# plotly\n",
        "!pip install chart_studio"
      ],
      "execution_count": 0,
      "outputs": []
    },
    {
      "cell_type": "code",
      "metadata": {
        "id": "3huLhKAvK6Km",
        "colab_type": "code",
        "colab": {}
      },
      "source": [
        "# plotly\n",
        "import chart_studio"
      ],
      "execution_count": 0,
      "outputs": []
    },
    {
      "cell_type": "code",
      "metadata": {
        "id": "whgZSNbINIMy",
        "colab_type": "code",
        "colab": {}
      },
      "source": [
        "# plotly\n",
        "username = 'drewrust1' # your username\n",
        "api_key = 'VyKiGpeqryfQnhEiN4op' # your api key - go to profile > settings > regenerate key\n",
        "chart_studio.tools.set_credentials_file(username=username, api_key=api_key)"
      ],
      "execution_count": 0,
      "outputs": []
    },
    {
      "cell_type": "code",
      "metadata": {
        "id": "GylGyCLMI8uS",
        "colab_type": "code",
        "colab": {
          "base_uri": "https://localhost:8080/",
          "height": 272
        },
        "outputId": "ba113bf3-ffaf-4882-e0cd-2a5af20dc97b"
      },
      "source": [
        "# WEIRD for some reason unzipping it here gave different results then uzipping it on my computer and then uploading it \n",
        "# Not really different but off by a few lines of code I checked it and this code is slightly different.  \n",
        "# My for loop works but is slightly different.\n",
        "! wget ftp://ftpext.usgs.gov/pub/er/md/laurel/BBS/DataFiles/States/Kentuck.zip"
      ],
      "execution_count": 1,
      "outputs": [
        {
          "output_type": "stream",
          "text": [
            "--2020-03-29 02:35:04--  ftp://ftpext.usgs.gov/pub/er/md/laurel/BBS/DataFiles/States/Kentuck.zip\n",
            "           => ‘Kentuck.zip’\n",
            "Resolving ftpext.usgs.gov (ftpext.usgs.gov)... 137.227.224.199, 2001:49c8:8000:120c::199\n",
            "Connecting to ftpext.usgs.gov (ftpext.usgs.gov)|137.227.224.199|:21... connected.\n",
            "Logging in as anonymous ... Logged in!\n",
            "==> SYST ... done.    ==> PWD ... done.\n",
            "==> TYPE I ... done.  ==> CWD (1) /pub/er/md/laurel/BBS/DataFiles/States ... done.\n",
            "==> SIZE Kentuck.zip ... 884591\n",
            "==> PASV ... done.    ==> RETR Kentuck.zip ... done.\n",
            "Length: 884591 (864K) (unauthoritative)\n",
            "\n",
            "Kentuck.zip         100%[===================>] 863.86K   443KB/s    in 1.9s    \n",
            "\n",
            "2020-03-29 02:35:08 (443 KB/s) - ‘Kentuck.zip’ saved [884591]\n",
            "\n"
          ],
          "name": "stdout"
        }
      ]
    },
    {
      "cell_type": "code",
      "metadata": {
        "id": "Dr7EmWKBJAh6",
        "colab_type": "code",
        "colab": {
          "base_uri": "https://localhost:8080/",
          "height": 51
        },
        "outputId": "f1f9be64-a0bd-4cb7-998d-c8d57a9ce067"
      },
      "source": [
        "! unzip Kentuck.zip"
      ],
      "execution_count": 2,
      "outputs": [
        {
          "output_type": "stream",
          "text": [
            "Archive:  Kentuck.zip\n",
            "  inflating: Kentuck.csv             \n"
          ],
          "name": "stdout"
        }
      ]
    },
    {
      "cell_type": "code",
      "metadata": {
        "id": "olx_zfE5OgJK",
        "colab_type": "code",
        "outputId": "8b97d6a9-f0b7-4b36-c1e9-a397df99564b",
        "colab": {
          "base_uri": "https://localhost:8080/",
          "height": 142
        }
      },
      "source": [
        "url = 'Kentuck.csv'\n",
        "Kentuck_df = pd.read_csv(url)\n",
        "Kentuck_df.head(3)"
      ],
      "execution_count": 6,
      "outputs": [
        {
          "output_type": "execute_result",
          "data": {
            "text/html": [
              "<div>\n",
              "<style scoped>\n",
              "    .dataframe tbody tr th:only-of-type {\n",
              "        vertical-align: middle;\n",
              "    }\n",
              "\n",
              "    .dataframe tbody tr th {\n",
              "        vertical-align: top;\n",
              "    }\n",
              "\n",
              "    .dataframe thead th {\n",
              "        text-align: right;\n",
              "    }\n",
              "</style>\n",
              "<table border=\"1\" class=\"dataframe\">\n",
              "  <thead>\n",
              "    <tr style=\"text-align: right;\">\n",
              "      <th></th>\n",
              "      <th>RouteDataID</th>\n",
              "      <th>CountryNum</th>\n",
              "      <th>StateNum</th>\n",
              "      <th>Route</th>\n",
              "      <th>RPID</th>\n",
              "      <th>Year</th>\n",
              "      <th>AOU</th>\n",
              "      <th>Count10</th>\n",
              "      <th>Count20</th>\n",
              "      <th>Count30</th>\n",
              "      <th>Count40</th>\n",
              "      <th>Count50</th>\n",
              "      <th>StopTotal</th>\n",
              "      <th>SpeciesTotal</th>\n",
              "    </tr>\n",
              "  </thead>\n",
              "  <tbody>\n",
              "    <tr>\n",
              "      <th>0</th>\n",
              "      <td>6167510</td>\n",
              "      <td>840</td>\n",
              "      <td>39</td>\n",
              "      <td>1</td>\n",
              "      <td>101</td>\n",
              "      <td>1966</td>\n",
              "      <td>1310</td>\n",
              "      <td>0</td>\n",
              "      <td>1</td>\n",
              "      <td>0</td>\n",
              "      <td>0</td>\n",
              "      <td>0</td>\n",
              "      <td>1</td>\n",
              "      <td>1</td>\n",
              "    </tr>\n",
              "    <tr>\n",
              "      <th>1</th>\n",
              "      <td>6167510</td>\n",
              "      <td>840</td>\n",
              "      <td>39</td>\n",
              "      <td>1</td>\n",
              "      <td>101</td>\n",
              "      <td>1966</td>\n",
              "      <td>2890</td>\n",
              "      <td>0</td>\n",
              "      <td>2</td>\n",
              "      <td>3</td>\n",
              "      <td>8</td>\n",
              "      <td>6</td>\n",
              "      <td>16</td>\n",
              "      <td>19</td>\n",
              "    </tr>\n",
              "    <tr>\n",
              "      <th>2</th>\n",
              "      <td>6167510</td>\n",
              "      <td>840</td>\n",
              "      <td>39</td>\n",
              "      <td>1</td>\n",
              "      <td>101</td>\n",
              "      <td>1966</td>\n",
              "      <td>3131</td>\n",
              "      <td>0</td>\n",
              "      <td>0</td>\n",
              "      <td>6</td>\n",
              "      <td>0</td>\n",
              "      <td>0</td>\n",
              "      <td>6</td>\n",
              "      <td>6</td>\n",
              "    </tr>\n",
              "  </tbody>\n",
              "</table>\n",
              "</div>"
            ],
            "text/plain": [
              "   RouteDataID  CountryNum  StateNum  ...  Count50  StopTotal  SpeciesTotal\n",
              "0      6167510         840        39  ...        0          1             1\n",
              "1      6167510         840        39  ...        6         16            19\n",
              "2      6167510         840        39  ...        0          6             6\n",
              "\n",
              "[3 rows x 14 columns]"
            ]
          },
          "metadata": {
            "tags": []
          },
          "execution_count": 6
        }
      ]
    },
    {
      "cell_type": "code",
      "metadata": {
        "id": "mK5wPUhnOjrE",
        "colab_type": "code",
        "colab": {}
      },
      "source": [
        "# COOPER'S HAWK\n",
        "coop_bird_all_yrs = Kentuck_df[(Kentuck_df.AOU == 3330)]\n",
        "# SORT BY year from 1966 to present\n",
        "coop_sorted_df = coop_bird_all_yrs.sort_values(by='Year', ascending=True)"
      ],
      "execution_count": 0,
      "outputs": []
    },
    {
      "cell_type": "code",
      "metadata": {
        "id": "Z3phhBE00s5I",
        "colab_type": "code",
        "colab": {}
      },
      "source": [
        "# Have to reset index on new df\n",
        "coop_sorted_df = coop_sorted_df.reset_index(drop=True)"
      ],
      "execution_count": 0,
      "outputs": []
    },
    {
      "cell_type": "code",
      "metadata": {
        "id": "x2rsJsk7bUzx",
        "colab_type": "code",
        "colab": {}
      },
      "source": [
        "# This makes the index a column which I'll need later for my for loop\n",
        "coop_sorted_df.reset_index(level=0, inplace=True)"
      ],
      "execution_count": 0,
      "outputs": []
    },
    {
      "cell_type": "code",
      "metadata": {
        "id": "ym1OWc4UO4Sj",
        "colab_type": "code",
        "outputId": "a6c7ffe6-eeaa-4dea-d25d-02af1fb32d9d",
        "colab": {
          "base_uri": "https://localhost:8080/",
          "height": 142
        }
      },
      "source": [
        "coop_sorted_df.tail(3)"
      ],
      "execution_count": 10,
      "outputs": [
        {
          "output_type": "execute_result",
          "data": {
            "text/html": [
              "<div>\n",
              "<style scoped>\n",
              "    .dataframe tbody tr th:only-of-type {\n",
              "        vertical-align: middle;\n",
              "    }\n",
              "\n",
              "    .dataframe tbody tr th {\n",
              "        vertical-align: top;\n",
              "    }\n",
              "\n",
              "    .dataframe thead th {\n",
              "        text-align: right;\n",
              "    }\n",
              "</style>\n",
              "<table border=\"1\" class=\"dataframe\">\n",
              "  <thead>\n",
              "    <tr style=\"text-align: right;\">\n",
              "      <th></th>\n",
              "      <th>index</th>\n",
              "      <th>RouteDataID</th>\n",
              "      <th>CountryNum</th>\n",
              "      <th>StateNum</th>\n",
              "      <th>Route</th>\n",
              "      <th>RPID</th>\n",
              "      <th>Year</th>\n",
              "      <th>AOU</th>\n",
              "      <th>Count10</th>\n",
              "      <th>Count20</th>\n",
              "      <th>Count30</th>\n",
              "      <th>Count40</th>\n",
              "      <th>Count50</th>\n",
              "      <th>StopTotal</th>\n",
              "      <th>SpeciesTotal</th>\n",
              "    </tr>\n",
              "  </thead>\n",
              "  <tbody>\n",
              "    <tr>\n",
              "      <th>216</th>\n",
              "      <td>216</td>\n",
              "      <td>6367740</td>\n",
              "      <td>840</td>\n",
              "      <td>39</td>\n",
              "      <td>6</td>\n",
              "      <td>101</td>\n",
              "      <td>2018</td>\n",
              "      <td>3330</td>\n",
              "      <td>0</td>\n",
              "      <td>1</td>\n",
              "      <td>0</td>\n",
              "      <td>0</td>\n",
              "      <td>0</td>\n",
              "      <td>1</td>\n",
              "      <td>1</td>\n",
              "    </tr>\n",
              "    <tr>\n",
              "      <th>217</th>\n",
              "      <td>217</td>\n",
              "      <td>6367813</td>\n",
              "      <td>840</td>\n",
              "      <td>39</td>\n",
              "      <td>28</td>\n",
              "      <td>101</td>\n",
              "      <td>2018</td>\n",
              "      <td>3330</td>\n",
              "      <td>0</td>\n",
              "      <td>0</td>\n",
              "      <td>0</td>\n",
              "      <td>0</td>\n",
              "      <td>1</td>\n",
              "      <td>1</td>\n",
              "      <td>1</td>\n",
              "    </tr>\n",
              "    <tr>\n",
              "      <th>218</th>\n",
              "      <td>218</td>\n",
              "      <td>6370194</td>\n",
              "      <td>840</td>\n",
              "      <td>39</td>\n",
              "      <td>134</td>\n",
              "      <td>101</td>\n",
              "      <td>2018</td>\n",
              "      <td>3330</td>\n",
              "      <td>0</td>\n",
              "      <td>0</td>\n",
              "      <td>0</td>\n",
              "      <td>1</td>\n",
              "      <td>0</td>\n",
              "      <td>1</td>\n",
              "      <td>1</td>\n",
              "    </tr>\n",
              "  </tbody>\n",
              "</table>\n",
              "</div>"
            ],
            "text/plain": [
              "     index  RouteDataID  CountryNum  ...  Count50  StopTotal  SpeciesTotal\n",
              "216    216      6367740         840  ...        0          1             1\n",
              "217    217      6367813         840  ...        1          1             1\n",
              "218    218      6370194         840  ...        0          1             1\n",
              "\n",
              "[3 rows x 15 columns]"
            ]
          },
          "metadata": {
            "tags": []
          },
          "execution_count": 10
        }
      ]
    },
    {
      "cell_type": "code",
      "metadata": {
        "id": "w6k4ukjdTQMQ",
        "colab_type": "code",
        "outputId": "38330ed8-9b81-4f17-d6a1-b4ced3b96509",
        "colab": {
          "base_uri": "https://localhost:8080/",
          "height": 272
        }
      },
      "source": [
        "coop_sorted_df.isnull().sum()"
      ],
      "execution_count": 0,
      "outputs": [
        {
          "output_type": "execute_result",
          "data": {
            "text/plain": [
              "RouteDataID     0\n",
              "CountryNum      0\n",
              "StateNum        0\n",
              "Route           0\n",
              "RPID            0\n",
              "Year            0\n",
              "AOU             0\n",
              "Count10         0\n",
              "Count20         0\n",
              "Count30         0\n",
              "Count40         0\n",
              "Count50         0\n",
              "StopTotal       0\n",
              "SpeciesTotal    0\n",
              "dtype: int64"
            ]
          },
          "metadata": {
            "tags": []
          },
          "execution_count": 8
        }
      ]
    },
    {
      "cell_type": "code",
      "metadata": {
        "id": "UMFs4P2wPGHp",
        "colab_type": "code",
        "outputId": "1ef6409b-e757-4ef2-e4ec-899cc6102732",
        "colab": {
          "base_uri": "https://localhost:8080/",
          "height": 34
        }
      },
      "source": [
        "# Should be 219\n",
        "coop_sorted_df.shape"
      ],
      "execution_count": 11,
      "outputs": [
        {
          "output_type": "execute_result",
          "data": {
            "text/plain": [
              "(219, 15)"
            ]
          },
          "metadata": {
            "tags": []
          },
          "execution_count": 11
        }
      ]
    },
    {
      "cell_type": "code",
      "metadata": {
        "id": "euVPzCFVQAWm",
        "colab_type": "code",
        "colab": {}
      },
      "source": [
        "# Getting sums for some of the years to check my for loop later\n",
        "total_nin_six_six = coop_sorted_df.Year == 1966\n",
        "total_two_thou = coop_sorted_df.Year == 2000\n",
        "total_two_thou_eigh = coop_sorted_df.Year == 2008\n",
        "total_two_svteen = coop_sorted_df.Year == 2017\n",
        "total_two_eig_teen = coop_sorted_df.Year == 2018"
      ],
      "execution_count": 0,
      "outputs": []
    },
    {
      "cell_type": "code",
      "metadata": {
        "id": "3i2eXH3NQhi_",
        "colab_type": "code",
        "colab": {}
      },
      "source": [
        "# getting sums of years above\n",
        "species_tot_nin_six_six = coop_sorted_df[total_nin_six_six]\n",
        "species_tot_two_thou = coop_sorted_df[total_two_thou]\n",
        "species_tot_two_thou_eight = coop_sorted_df[total_two_thou_eigh]\n",
        "species_tot_two_svn = coop_sorted_df[total_two_svteen]\n",
        "species_tot_two_eig_teen = coop_sorted_df[total_two_eig_teen ]"
      ],
      "execution_count": 0,
      "outputs": []
    },
    {
      "cell_type": "code",
      "metadata": {
        "id": "EpvbR1osQ-fS",
        "colab_type": "code",
        "outputId": "cd2c7c4a-9751-4445-9812-7ecd6b4aaf63",
        "colab": {
          "base_uri": "https://localhost:8080/",
          "height": 102
        }
      },
      "source": [
        "# getting sums of years above \n",
        "# should be 3 = 1966, 9 = 2000, 13 = 2008, 8 = 2017, 14 = 2018\n",
        "print(species_tot_nin_six_six['SpeciesTotal'].sum(axis=0))\n",
        "print(species_tot_two_thou['SpeciesTotal'].sum(axis=0))\n",
        "print(species_tot_two_thou_eight['SpeciesTotal'].sum(axis=0))\n",
        "print(species_tot_two_svn['SpeciesTotal'].sum(axis=0))\n",
        "print(species_tot_two_eig_teen['SpeciesTotal'].sum(axis=0))"
      ],
      "execution_count": 27,
      "outputs": [
        {
          "output_type": "stream",
          "text": [
            "3\n",
            "9\n",
            "13\n",
            "8\n",
            "14\n"
          ],
          "name": "stdout"
        }
      ]
    },
    {
      "cell_type": "code",
      "metadata": {
        "id": "VlY4S6RKxcNV",
        "colab_type": "code",
        "outputId": "295806b6-dc0e-49a8-d1cc-66136bd6b971",
        "colab": {
          "base_uri": "https://localhost:8080/",
          "height": 34
        }
      },
      "source": [
        "# should be 219\n",
        "len(coop_sorted_df)"
      ],
      "execution_count": 15,
      "outputs": [
        {
          "output_type": "execute_result",
          "data": {
            "text/plain": [
              "219"
            ]
          },
          "metadata": {
            "tags": []
          },
          "execution_count": 15
        }
      ]
    },
    {
      "cell_type": "code",
      "metadata": {
        "id": "kQGGXeoyRPSv",
        "colab_type": "code",
        "outputId": "1b437101-30a5-470d-9c2e-aaaee22ccd72",
        "colab": {
          "base_uri": "https://localhost:8080/",
          "height": 49
        }
      },
      "source": [
        "# Creating an empty Dataframe with column names only\n",
        "coop_df = pd.DataFrame(columns=['Year', 'Coopers_ID', 'Cooper_Hawk_Yr_Total'])\n",
        "coop_df"
      ],
      "execution_count": 18,
      "outputs": [
        {
          "output_type": "execute_result",
          "data": {
            "text/html": [
              "<div>\n",
              "<style scoped>\n",
              "    .dataframe tbody tr th:only-of-type {\n",
              "        vertical-align: middle;\n",
              "    }\n",
              "\n",
              "    .dataframe tbody tr th {\n",
              "        vertical-align: top;\n",
              "    }\n",
              "\n",
              "    .dataframe thead th {\n",
              "        text-align: right;\n",
              "    }\n",
              "</style>\n",
              "<table border=\"1\" class=\"dataframe\">\n",
              "  <thead>\n",
              "    <tr style=\"text-align: right;\">\n",
              "      <th></th>\n",
              "      <th>Year</th>\n",
              "      <th>Coopers_ID</th>\n",
              "      <th>Cooper_Hawk_Yr_Total</th>\n",
              "    </tr>\n",
              "  </thead>\n",
              "  <tbody>\n",
              "  </tbody>\n",
              "</table>\n",
              "</div>"
            ],
            "text/plain": [
              "Empty DataFrame\n",
              "Columns: [Year, Coopers_ID, Cooper_Hawk_Yr_Total]\n",
              "Index: []"
            ]
          },
          "metadata": {
            "tags": []
          },
          "execution_count": 18
        }
      ]
    },
    {
      "cell_type": "code",
      "metadata": {
        "id": "tNGP3ftARZ92",
        "colab_type": "code",
        "colab": {}
      },
      "source": [
        "# This for loop adds the multiple routes or rows for each year to only give me one year for all the counts\n",
        "x = 1966\n",
        "tot = 0\n",
        "for ind in coop_sorted_df.index: \n",
        "     if (coop_sorted_df['Year'][ind] == x):\n",
        "       tot += (coop_sorted_df['SpeciesTotal'][ind])\n",
        "       if coop_sorted_df['index'][ind] == 218:\n",
        "         coop_df = coop_df.append({'Year': int(x), 'Coopers_ID': int(3330), 'Cooper_Hawk_Yr_Total': int(tot)}, ignore_index=True)\n",
        "         break\n",
        "     else:\n",
        "       coop_df = coop_df.append({'Year': int(x), 'Coopers_ID': int(3330), 'Cooper_Hawk_Yr_Total': int(tot)}, ignore_index=True)\n",
        "       x += 1\n",
        "       tot = 0\n",
        "       tot += (coop_sorted_df['SpeciesTotal'][ind])"
      ],
      "execution_count": 0,
      "outputs": []
    },
    {
      "cell_type": "code",
      "metadata": {
        "id": "H9GvnH3HRyK4",
        "colab_type": "code",
        "outputId": "c58473d0-ad70-40b8-914e-bf084f978c34",
        "colab": {
          "base_uri": "https://localhost:8080/",
          "height": 204
        }
      },
      "source": [
        "coop_df.head()"
      ],
      "execution_count": 20,
      "outputs": [
        {
          "output_type": "execute_result",
          "data": {
            "text/html": [
              "<div>\n",
              "<style scoped>\n",
              "    .dataframe tbody tr th:only-of-type {\n",
              "        vertical-align: middle;\n",
              "    }\n",
              "\n",
              "    .dataframe tbody tr th {\n",
              "        vertical-align: top;\n",
              "    }\n",
              "\n",
              "    .dataframe thead th {\n",
              "        text-align: right;\n",
              "    }\n",
              "</style>\n",
              "<table border=\"1\" class=\"dataframe\">\n",
              "  <thead>\n",
              "    <tr style=\"text-align: right;\">\n",
              "      <th></th>\n",
              "      <th>Year</th>\n",
              "      <th>Coopers_ID</th>\n",
              "      <th>Cooper_Hawk_Yr_Total</th>\n",
              "    </tr>\n",
              "  </thead>\n",
              "  <tbody>\n",
              "    <tr>\n",
              "      <th>0</th>\n",
              "      <td>1966</td>\n",
              "      <td>3330</td>\n",
              "      <td>3</td>\n",
              "    </tr>\n",
              "    <tr>\n",
              "      <th>1</th>\n",
              "      <td>1967</td>\n",
              "      <td>3330</td>\n",
              "      <td>2</td>\n",
              "    </tr>\n",
              "    <tr>\n",
              "      <th>2</th>\n",
              "      <td>1968</td>\n",
              "      <td>3330</td>\n",
              "      <td>1</td>\n",
              "    </tr>\n",
              "    <tr>\n",
              "      <th>3</th>\n",
              "      <td>1969</td>\n",
              "      <td>3330</td>\n",
              "      <td>2</td>\n",
              "    </tr>\n",
              "    <tr>\n",
              "      <th>4</th>\n",
              "      <td>1970</td>\n",
              "      <td>3330</td>\n",
              "      <td>3</td>\n",
              "    </tr>\n",
              "  </tbody>\n",
              "</table>\n",
              "</div>"
            ],
            "text/plain": [
              "   Year Coopers_ID Cooper_Hawk_Yr_Total\n",
              "0  1966       3330                    3\n",
              "1  1967       3330                    2\n",
              "2  1968       3330                    1\n",
              "3  1969       3330                    2\n",
              "4  1970       3330                    3"
            ]
          },
          "metadata": {
            "tags": []
          },
          "execution_count": 20
        }
      ]
    },
    {
      "cell_type": "code",
      "metadata": {
        "id": "XAD6Fo8C-6oQ",
        "colab_type": "code",
        "outputId": "cb0cec2f-275d-48b6-9fe4-450752d57869",
        "colab": {
          "base_uri": "https://localhost:8080/",
          "height": 85
        }
      },
      "source": [
        "coop_df.dtypes"
      ],
      "execution_count": 21,
      "outputs": [
        {
          "output_type": "execute_result",
          "data": {
            "text/plain": [
              "Year                    object\n",
              "Coopers_ID              object\n",
              "Cooper_Hawk_Yr_Total    object\n",
              "dtype: object"
            ]
          },
          "metadata": {
            "tags": []
          },
          "execution_count": 21
        }
      ]
    },
    {
      "cell_type": "code",
      "metadata": {
        "id": "FTmyyLJy_Et8",
        "colab_type": "code",
        "colab": {}
      },
      "source": [
        "# changes datatype to ints\n",
        "coop_df['Year'] = coop_df['Year'].astype(str).astype(int)\n",
        "coop_df['Coopers_ID'] = coop_df['Coopers_ID'].astype(str).astype(int)\n",
        "coop_df['Cooper_Hawk_Yr_Total'] = coop_df['Cooper_Hawk_Yr_Total'].astype(str).astype(int)"
      ],
      "execution_count": 0,
      "outputs": []
    },
    {
      "cell_type": "code",
      "metadata": {
        "id": "4ry4iIQa_iHL",
        "colab_type": "code",
        "outputId": "36bb7832-534b-4a9e-98e7-0616ea571f6e",
        "colab": {
          "base_uri": "https://localhost:8080/",
          "height": 85
        }
      },
      "source": [
        "# should be ints now\n",
        "coop_df.dtypes"
      ],
      "execution_count": 23,
      "outputs": [
        {
          "output_type": "execute_result",
          "data": {
            "text/plain": [
              "Year                    int64\n",
              "Coopers_ID              int64\n",
              "Cooper_Hawk_Yr_Total    int64\n",
              "dtype: object"
            ]
          },
          "metadata": {
            "tags": []
          },
          "execution_count": 23
        }
      ]
    },
    {
      "cell_type": "code",
      "metadata": {
        "id": "8keY0bewOA3K",
        "colab_type": "code",
        "colab": {
          "base_uri": "https://localhost:8080/",
          "height": 142
        },
        "outputId": "be4eef26-558c-48c6-c100-262922442798"
      },
      "source": [
        "# should be 3 = 1966, 9 = 2000, 13 = 2008, 8 = 2017, 14 = 2018\n",
        "coop_df.head(3)"
      ],
      "execution_count": 30,
      "outputs": [
        {
          "output_type": "execute_result",
          "data": {
            "text/html": [
              "<div>\n",
              "<style scoped>\n",
              "    .dataframe tbody tr th:only-of-type {\n",
              "        vertical-align: middle;\n",
              "    }\n",
              "\n",
              "    .dataframe tbody tr th {\n",
              "        vertical-align: top;\n",
              "    }\n",
              "\n",
              "    .dataframe thead th {\n",
              "        text-align: right;\n",
              "    }\n",
              "</style>\n",
              "<table border=\"1\" class=\"dataframe\">\n",
              "  <thead>\n",
              "    <tr style=\"text-align: right;\">\n",
              "      <th></th>\n",
              "      <th>Year</th>\n",
              "      <th>Coopers_ID</th>\n",
              "      <th>Cooper_Hawk_Yr_Total</th>\n",
              "    </tr>\n",
              "  </thead>\n",
              "  <tbody>\n",
              "    <tr>\n",
              "      <th>0</th>\n",
              "      <td>1966</td>\n",
              "      <td>3330</td>\n",
              "      <td>3</td>\n",
              "    </tr>\n",
              "    <tr>\n",
              "      <th>1</th>\n",
              "      <td>1967</td>\n",
              "      <td>3330</td>\n",
              "      <td>2</td>\n",
              "    </tr>\n",
              "    <tr>\n",
              "      <th>2</th>\n",
              "      <td>1968</td>\n",
              "      <td>3330</td>\n",
              "      <td>1</td>\n",
              "    </tr>\n",
              "  </tbody>\n",
              "</table>\n",
              "</div>"
            ],
            "text/plain": [
              "   Year  Coopers_ID  Cooper_Hawk_Yr_Total\n",
              "0  1966        3330                     3\n",
              "1  1967        3330                     2\n",
              "2  1968        3330                     1"
            ]
          },
          "metadata": {
            "tags": []
          },
          "execution_count": 30
        }
      ]
    },
    {
      "cell_type": "code",
      "metadata": {
        "id": "eWPRdZty_oK4",
        "colab_type": "code",
        "outputId": "2c7b64ae-662a-43d5-f8de-39df421b1e1b",
        "colab": {
          "base_uri": "https://localhost:8080/",
          "height": 638
        }
      },
      "source": [
        "# should be 3 = 1966, 9 = 2000, 13 = 2008, 8 = 2017, 14 = 2018\n",
        "coop_df.tail(19)"
      ],
      "execution_count": 29,
      "outputs": [
        {
          "output_type": "execute_result",
          "data": {
            "text/html": [
              "<div>\n",
              "<style scoped>\n",
              "    .dataframe tbody tr th:only-of-type {\n",
              "        vertical-align: middle;\n",
              "    }\n",
              "\n",
              "    .dataframe tbody tr th {\n",
              "        vertical-align: top;\n",
              "    }\n",
              "\n",
              "    .dataframe thead th {\n",
              "        text-align: right;\n",
              "    }\n",
              "</style>\n",
              "<table border=\"1\" class=\"dataframe\">\n",
              "  <thead>\n",
              "    <tr style=\"text-align: right;\">\n",
              "      <th></th>\n",
              "      <th>Year</th>\n",
              "      <th>Coopers_ID</th>\n",
              "      <th>Cooper_Hawk_Yr_Total</th>\n",
              "    </tr>\n",
              "  </thead>\n",
              "  <tbody>\n",
              "    <tr>\n",
              "      <th>34</th>\n",
              "      <td>2000</td>\n",
              "      <td>3330</td>\n",
              "      <td>9</td>\n",
              "    </tr>\n",
              "    <tr>\n",
              "      <th>35</th>\n",
              "      <td>2001</td>\n",
              "      <td>3330</td>\n",
              "      <td>4</td>\n",
              "    </tr>\n",
              "    <tr>\n",
              "      <th>36</th>\n",
              "      <td>2002</td>\n",
              "      <td>3330</td>\n",
              "      <td>4</td>\n",
              "    </tr>\n",
              "    <tr>\n",
              "      <th>37</th>\n",
              "      <td>2003</td>\n",
              "      <td>3330</td>\n",
              "      <td>8</td>\n",
              "    </tr>\n",
              "    <tr>\n",
              "      <th>38</th>\n",
              "      <td>2004</td>\n",
              "      <td>3330</td>\n",
              "      <td>8</td>\n",
              "    </tr>\n",
              "    <tr>\n",
              "      <th>39</th>\n",
              "      <td>2005</td>\n",
              "      <td>3330</td>\n",
              "      <td>10</td>\n",
              "    </tr>\n",
              "    <tr>\n",
              "      <th>40</th>\n",
              "      <td>2006</td>\n",
              "      <td>3330</td>\n",
              "      <td>10</td>\n",
              "    </tr>\n",
              "    <tr>\n",
              "      <th>41</th>\n",
              "      <td>2007</td>\n",
              "      <td>3330</td>\n",
              "      <td>8</td>\n",
              "    </tr>\n",
              "    <tr>\n",
              "      <th>42</th>\n",
              "      <td>2008</td>\n",
              "      <td>3330</td>\n",
              "      <td>13</td>\n",
              "    </tr>\n",
              "    <tr>\n",
              "      <th>43</th>\n",
              "      <td>2009</td>\n",
              "      <td>3330</td>\n",
              "      <td>12</td>\n",
              "    </tr>\n",
              "    <tr>\n",
              "      <th>44</th>\n",
              "      <td>2010</td>\n",
              "      <td>3330</td>\n",
              "      <td>12</td>\n",
              "    </tr>\n",
              "    <tr>\n",
              "      <th>45</th>\n",
              "      <td>2011</td>\n",
              "      <td>3330</td>\n",
              "      <td>7</td>\n",
              "    </tr>\n",
              "    <tr>\n",
              "      <th>46</th>\n",
              "      <td>2012</td>\n",
              "      <td>3330</td>\n",
              "      <td>11</td>\n",
              "    </tr>\n",
              "    <tr>\n",
              "      <th>47</th>\n",
              "      <td>2013</td>\n",
              "      <td>3330</td>\n",
              "      <td>5</td>\n",
              "    </tr>\n",
              "    <tr>\n",
              "      <th>48</th>\n",
              "      <td>2014</td>\n",
              "      <td>3330</td>\n",
              "      <td>9</td>\n",
              "    </tr>\n",
              "    <tr>\n",
              "      <th>49</th>\n",
              "      <td>2015</td>\n",
              "      <td>3330</td>\n",
              "      <td>3</td>\n",
              "    </tr>\n",
              "    <tr>\n",
              "      <th>50</th>\n",
              "      <td>2016</td>\n",
              "      <td>3330</td>\n",
              "      <td>5</td>\n",
              "    </tr>\n",
              "    <tr>\n",
              "      <th>51</th>\n",
              "      <td>2017</td>\n",
              "      <td>3330</td>\n",
              "      <td>8</td>\n",
              "    </tr>\n",
              "    <tr>\n",
              "      <th>52</th>\n",
              "      <td>2018</td>\n",
              "      <td>3330</td>\n",
              "      <td>14</td>\n",
              "    </tr>\n",
              "  </tbody>\n",
              "</table>\n",
              "</div>"
            ],
            "text/plain": [
              "    Year  Coopers_ID  Cooper_Hawk_Yr_Total\n",
              "34  2000        3330                     9\n",
              "35  2001        3330                     4\n",
              "36  2002        3330                     4\n",
              "37  2003        3330                     8\n",
              "38  2004        3330                     8\n",
              "39  2005        3330                    10\n",
              "40  2006        3330                    10\n",
              "41  2007        3330                     8\n",
              "42  2008        3330                    13\n",
              "43  2009        3330                    12\n",
              "44  2010        3330                    12\n",
              "45  2011        3330                     7\n",
              "46  2012        3330                    11\n",
              "47  2013        3330                     5\n",
              "48  2014        3330                     9\n",
              "49  2015        3330                     3\n",
              "50  2016        3330                     5\n",
              "51  2017        3330                     8\n",
              "52  2018        3330                    14"
            ]
          },
          "metadata": {
            "tags": []
          },
          "execution_count": 29
        }
      ]
    },
    {
      "cell_type": "code",
      "metadata": {
        "id": "3WlId3Ip_889",
        "colab_type": "code",
        "outputId": "6d9c2518-760a-4ba9-82a7-93b00ddf57d7",
        "colab": {
          "base_uri": "https://localhost:8080/",
          "height": 333
        }
      },
      "source": [
        "plt.style.use('default')\n",
        "ax = coop_df.plot(kind='scatter', x='Year', y='Cooper_Hawk_Yr_Total', figsize=(5, 3))\n",
        "ax.set_title(\"Yearly Cenus Count of Cooper Hawks\", fontweight=\"bold\");"
      ],
      "execution_count": 31,
      "outputs": [
        {
          "output_type": "display_data",
          "data": {
            "image/png": "[encoded data removed]",
            "text/plain": [
              "<Figure size 500x300 with 1 Axes>"
            ]
          },
          "metadata": {
            "tags": []
          }
        }
      ]
    },
    {
      "cell_type": "code",
      "metadata": {
        "id": "isIsNk6pZEU-",
        "colab_type": "code",
        "colab": {}
      },
      "source": [
        "# RED TAIL HAWK\n",
        "redtail_bird_all_yrs = Kentuck_df[(Kentuck_df.AOU == 3370)]"
      ],
      "execution_count": 0,
      "outputs": []
    },
    {
      "cell_type": "code",
      "metadata": {
        "id": "vLNDAq9IOkDT",
        "colab_type": "code",
        "colab": {
          "base_uri": "https://localhost:8080/",
          "height": 34
        },
        "outputId": "882eee27-dab6-4ef3-df2e-5b486f325ce0"
      },
      "source": [
        "# should be 738\n",
        "redtail_bird_all_yrs.shape"
      ],
      "execution_count": 38,
      "outputs": [
        {
          "output_type": "execute_result",
          "data": {
            "text/plain": [
              "(738, 14)"
            ]
          },
          "metadata": {
            "tags": []
          },
          "execution_count": 38
        }
      ]
    },
    {
      "cell_type": "code",
      "metadata": {
        "id": "zp48HbAAZPct",
        "colab_type": "code",
        "colab": {}
      },
      "source": [
        "# SORT BY year from 1966 to present\n",
        "redtail_sorted_df = redtail_bird_all_yrs.sort_values(by='Year', ascending=True)"
      ],
      "execution_count": 0,
      "outputs": []
    },
    {
      "cell_type": "code",
      "metadata": {
        "id": "I-20lEMoZShG",
        "colab_type": "code",
        "colab": {}
      },
      "source": [
        "# resets index on new df\n",
        "redtail_sorted_df = redtail_sorted_df.reset_index(drop=True)"
      ],
      "execution_count": 0,
      "outputs": []
    },
    {
      "cell_type": "code",
      "metadata": {
        "id": "eKOnmENqbiZh",
        "colab_type": "code",
        "colab": {}
      },
      "source": [
        "# makes new index a column important for loop\n",
        "redtail_sorted_df.reset_index(level=0, inplace=True)"
      ],
      "execution_count": 0,
      "outputs": []
    },
    {
      "cell_type": "code",
      "metadata": {
        "id": "DnbW7EFvZV2e",
        "colab_type": "code",
        "outputId": "3b181d32-bd20-4d17-82e4-7fc24f489e5b",
        "colab": {
          "base_uri": "https://localhost:8080/",
          "height": 142
        }
      },
      "source": [
        "redtail_sorted_df.tail(3)"
      ],
      "execution_count": 36,
      "outputs": [
        {
          "output_type": "execute_result",
          "data": {
            "text/html": [
              "<div>\n",
              "<style scoped>\n",
              "    .dataframe tbody tr th:only-of-type {\n",
              "        vertical-align: middle;\n",
              "    }\n",
              "\n",
              "    .dataframe tbody tr th {\n",
              "        vertical-align: top;\n",
              "    }\n",
              "\n",
              "    .dataframe thead th {\n",
              "        text-align: right;\n",
              "    }\n",
              "</style>\n",
              "<table border=\"1\" class=\"dataframe\">\n",
              "  <thead>\n",
              "    <tr style=\"text-align: right;\">\n",
              "      <th></th>\n",
              "      <th>index</th>\n",
              "      <th>RouteDataID</th>\n",
              "      <th>CountryNum</th>\n",
              "      <th>StateNum</th>\n",
              "      <th>Route</th>\n",
              "      <th>RPID</th>\n",
              "      <th>Year</th>\n",
              "      <th>AOU</th>\n",
              "      <th>Count10</th>\n",
              "      <th>Count20</th>\n",
              "      <th>Count30</th>\n",
              "      <th>Count40</th>\n",
              "      <th>Count50</th>\n",
              "      <th>StopTotal</th>\n",
              "      <th>SpeciesTotal</th>\n",
              "    </tr>\n",
              "  </thead>\n",
              "  <tbody>\n",
              "    <tr>\n",
              "      <th>735</th>\n",
              "      <td>735</td>\n",
              "      <td>6368263</td>\n",
              "      <td>840</td>\n",
              "      <td>39</td>\n",
              "      <td>35</td>\n",
              "      <td>101</td>\n",
              "      <td>2018</td>\n",
              "      <td>3370</td>\n",
              "      <td>0</td>\n",
              "      <td>2</td>\n",
              "      <td>0</td>\n",
              "      <td>1</td>\n",
              "      <td>1</td>\n",
              "      <td>4</td>\n",
              "      <td>4</td>\n",
              "    </tr>\n",
              "    <tr>\n",
              "      <th>736</th>\n",
              "      <td>736</td>\n",
              "      <td>6367740</td>\n",
              "      <td>840</td>\n",
              "      <td>39</td>\n",
              "      <td>6</td>\n",
              "      <td>101</td>\n",
              "      <td>2018</td>\n",
              "      <td>3370</td>\n",
              "      <td>0</td>\n",
              "      <td>0</td>\n",
              "      <td>0</td>\n",
              "      <td>0</td>\n",
              "      <td>1</td>\n",
              "      <td>1</td>\n",
              "      <td>1</td>\n",
              "    </tr>\n",
              "    <tr>\n",
              "      <th>737</th>\n",
              "      <td>737</td>\n",
              "      <td>6368121</td>\n",
              "      <td>840</td>\n",
              "      <td>39</td>\n",
              "      <td>31</td>\n",
              "      <td>101</td>\n",
              "      <td>2018</td>\n",
              "      <td>3370</td>\n",
              "      <td>0</td>\n",
              "      <td>2</td>\n",
              "      <td>6</td>\n",
              "      <td>1</td>\n",
              "      <td>0</td>\n",
              "      <td>7</td>\n",
              "      <td>9</td>\n",
              "    </tr>\n",
              "  </tbody>\n",
              "</table>\n",
              "</div>"
            ],
            "text/plain": [
              "     index  RouteDataID  CountryNum  ...  Count50  StopTotal  SpeciesTotal\n",
              "735    735      6368263         840  ...        1          4             4\n",
              "736    736      6367740         840  ...        1          1             1\n",
              "737    737      6368121         840  ...        0          7             9\n",
              "\n",
              "[3 rows x 15 columns]"
            ]
          },
          "metadata": {
            "tags": []
          },
          "execution_count": 36
        }
      ]
    },
    {
      "cell_type": "code",
      "metadata": {
        "id": "N7mJ7BKYZaoo",
        "colab_type": "code",
        "outputId": "aac745ce-ca08-4e6f-9e4f-76755a7f9c79",
        "colab": {
          "base_uri": "https://localhost:8080/",
          "height": 34
        }
      },
      "source": [
        "# should be 738\n",
        "redtail_sorted_df.shape"
      ],
      "execution_count": 37,
      "outputs": [
        {
          "output_type": "execute_result",
          "data": {
            "text/plain": [
              "(738, 15)"
            ]
          },
          "metadata": {
            "tags": []
          },
          "execution_count": 37
        }
      ]
    },
    {
      "cell_type": "code",
      "metadata": {
        "id": "_LugPmI9ZfrI",
        "colab_type": "code",
        "outputId": "9f65db44-4c71-4ad6-8207-67a4e6fa28e5",
        "colab": {
          "base_uri": "https://localhost:8080/",
          "height": 51
        }
      },
      "source": [
        "# Making sure it's only red tail 3370\n",
        "redtail_sorted_df['AOU'].value_counts().head()"
      ],
      "execution_count": 39,
      "outputs": [
        {
          "output_type": "execute_result",
          "data": {
            "text/plain": [
              "3370    738\n",
              "Name: AOU, dtype: int64"
            ]
          },
          "metadata": {
            "tags": []
          },
          "execution_count": 39
        }
      ]
    },
    {
      "cell_type": "code",
      "metadata": {
        "id": "vPrwI-VTZmLY",
        "colab_type": "code",
        "colab": {}
      },
      "source": [
        "# Redtail sum checks\n",
        "# Getting sums for some of the years to check my for loop later\n",
        "total_nin_six_six = redtail_sorted_df.Year == 1966\n",
        "total_two_thou = redtail_sorted_df.Year == 2000\n",
        "total_two_thou_eigh = redtail_sorted_df.Year == 2008\n",
        "total_two_svteen = redtail_sorted_df.Year == 2017\n",
        "total_two_eig_teen = redtail_sorted_df.Year == 2018"
      ],
      "execution_count": 0,
      "outputs": []
    },
    {
      "cell_type": "code",
      "metadata": {
        "id": "i4FOST0IZ51V",
        "colab_type": "code",
        "colab": {}
      },
      "source": [
        "# getting sums of years above\n",
        "species_tot_nin_six_six = redtail_sorted_df[total_nin_six_six]\n",
        "species_tot_two_thou = redtail_sorted_df[total_two_thou]\n",
        "species_tot_two_thou_eight = redtail_sorted_df[total_two_thou_eigh]\n",
        "species_tot_two_svn = redtail_sorted_df[total_two_svteen]\n",
        "species_tot_two_eig_teen = redtail_sorted_df[total_two_eig_teen]"
      ],
      "execution_count": 0,
      "outputs": []
    },
    {
      "cell_type": "code",
      "metadata": {
        "id": "s71cWMp6aKCd",
        "colab_type": "code",
        "outputId": "7a8f25c8-5cae-4bb8-dbfc-115c9b8d7e65",
        "colab": {
          "base_uri": "https://localhost:8080/",
          "height": 102
        }
      },
      "source": [
        "# getting sums of years above \n",
        "# should be 5 = 1966, 37 = 2000, 28 = 2008, 57 = 2017, 68 = 2018\n",
        "print(species_tot_nin_six_six['SpeciesTotal'].sum(axis=0))\n",
        "print(species_tot_two_thou['SpeciesTotal'].sum(axis=0))\n",
        "print(species_tot_two_thou_eight['SpeciesTotal'].sum(axis=0))\n",
        "print(species_tot_two_svn['SpeciesTotal'].sum(axis=0))\n",
        "print(species_tot_two_eig_teen['SpeciesTotal'].sum(axis=0))"
      ],
      "execution_count": 42,
      "outputs": [
        {
          "output_type": "stream",
          "text": [
            "5\n",
            "37\n",
            "28\n",
            "57\n",
            "68\n"
          ],
          "name": "stdout"
        }
      ]
    },
    {
      "cell_type": "code",
      "metadata": {
        "id": "hMmbdQk3aai9",
        "colab_type": "code",
        "outputId": "a1d6e9ac-4b69-40d8-ea4b-b3d94f45b62a",
        "colab": {
          "base_uri": "https://localhost:8080/",
          "height": 49
        }
      },
      "source": [
        "# Creating an empty Dataframe with column names only\n",
        "redtail_df = pd.DataFrame(columns=['Year', 'Redtail_ID', 'Red_Tail_Yr_Total'])\n",
        "redtail_df"
      ],
      "execution_count": 43,
      "outputs": [
        {
          "output_type": "execute_result",
          "data": {
            "text/html": [
              "<div>\n",
              "<style scoped>\n",
              "    .dataframe tbody tr th:only-of-type {\n",
              "        vertical-align: middle;\n",
              "    }\n",
              "\n",
              "    .dataframe tbody tr th {\n",
              "        vertical-align: top;\n",
              "    }\n",
              "\n",
              "    .dataframe thead th {\n",
              "        text-align: right;\n",
              "    }\n",
              "</style>\n",
              "<table border=\"1\" class=\"dataframe\">\n",
              "  <thead>\n",
              "    <tr style=\"text-align: right;\">\n",
              "      <th></th>\n",
              "      <th>Year</th>\n",
              "      <th>Redtail_ID</th>\n",
              "      <th>Red_Tail_Yr_Total</th>\n",
              "    </tr>\n",
              "  </thead>\n",
              "  <tbody>\n",
              "  </tbody>\n",
              "</table>\n",
              "</div>"
            ],
            "text/plain": [
              "Empty DataFrame\n",
              "Columns: [Year, Redtail_ID, Red_Tail_Yr_Total]\n",
              "Index: []"
            ]
          },
          "metadata": {
            "tags": []
          },
          "execution_count": 43
        }
      ]
    },
    {
      "cell_type": "code",
      "metadata": {
        "id": "KtBxyZ4gaeX5",
        "colab_type": "code",
        "colab": {}
      },
      "source": [
        "# This was the last row route ID otherwise it would skip over the last else statement and not append the last row of 2017 data: 6363930\n",
        "x = 1966\n",
        "tot = 0\n",
        "for ind in redtail_sorted_df.index: \n",
        "     if (redtail_sorted_df['Year'][ind] == x):\n",
        "       tot += (redtail_sorted_df['SpeciesTotal'][ind])\n",
        "       if redtail_sorted_df['index'][ind] == 737:\n",
        "         redtail_df = redtail_df.append({'Year': int(x), 'Redtail_ID': int(3330), 'Red_Tail_Yr_Total': int(tot)}, ignore_index=True)\n",
        "         break\n",
        "     else:\n",
        "       redtail_df = redtail_df.append({'Year': int(x), 'Redtail_ID': int(3330), 'Red_Tail_Yr_Total': int(tot)}, ignore_index=True)\n",
        "       x += 1\n",
        "       tot = 0\n",
        "       tot += (redtail_sorted_df['SpeciesTotal'][ind])"
      ],
      "execution_count": 0,
      "outputs": []
    },
    {
      "cell_type": "code",
      "metadata": {
        "id": "_FU-YY_0ah83",
        "colab_type": "code",
        "outputId": "44e216bd-b199-4f77-8888-a7e642693b69",
        "colab": {
          "base_uri": "https://localhost:8080/",
          "height": 204
        }
      },
      "source": [
        "redtail_df.head()"
      ],
      "execution_count": 45,
      "outputs": [
        {
          "output_type": "execute_result",
          "data": {
            "text/html": [
              "<div>\n",
              "<style scoped>\n",
              "    .dataframe tbody tr th:only-of-type {\n",
              "        vertical-align: middle;\n",
              "    }\n",
              "\n",
              "    .dataframe tbody tr th {\n",
              "        vertical-align: top;\n",
              "    }\n",
              "\n",
              "    .dataframe thead th {\n",
              "        text-align: right;\n",
              "    }\n",
              "</style>\n",
              "<table border=\"1\" class=\"dataframe\">\n",
              "  <thead>\n",
              "    <tr style=\"text-align: right;\">\n",
              "      <th></th>\n",
              "      <th>Year</th>\n",
              "      <th>Redtail_ID</th>\n",
              "      <th>Red_Tail_Yr_Total</th>\n",
              "    </tr>\n",
              "  </thead>\n",
              "  <tbody>\n",
              "    <tr>\n",
              "      <th>0</th>\n",
              "      <td>1966</td>\n",
              "      <td>3330</td>\n",
              "      <td>5</td>\n",
              "    </tr>\n",
              "    <tr>\n",
              "      <th>1</th>\n",
              "      <td>1967</td>\n",
              "      <td>3330</td>\n",
              "      <td>9</td>\n",
              "    </tr>\n",
              "    <tr>\n",
              "      <th>2</th>\n",
              "      <td>1968</td>\n",
              "      <td>3330</td>\n",
              "      <td>11</td>\n",
              "    </tr>\n",
              "    <tr>\n",
              "      <th>3</th>\n",
              "      <td>1969</td>\n",
              "      <td>3330</td>\n",
              "      <td>7</td>\n",
              "    </tr>\n",
              "    <tr>\n",
              "      <th>4</th>\n",
              "      <td>1970</td>\n",
              "      <td>3330</td>\n",
              "      <td>8</td>\n",
              "    </tr>\n",
              "  </tbody>\n",
              "</table>\n",
              "</div>"
            ],
            "text/plain": [
              "   Year Redtail_ID Red_Tail_Yr_Total\n",
              "0  1966       3330                 5\n",
              "1  1967       3330                 9\n",
              "2  1968       3330                11\n",
              "3  1969       3330                 7\n",
              "4  1970       3330                 8"
            ]
          },
          "metadata": {
            "tags": []
          },
          "execution_count": 45
        }
      ]
    },
    {
      "cell_type": "code",
      "metadata": {
        "id": "zmP8HRu0am0B",
        "colab_type": "code",
        "outputId": "2e9eaf5c-2ef1-4786-9585-01c80b8972fb",
        "colab": {
          "base_uri": "https://localhost:8080/",
          "height": 638
        }
      },
      "source": [
        "# should be 5 = 1966, 37 = 2000, 28 = 2008, 57 = 2017, 68 = 2018\n",
        "redtail_df.tail(19)"
      ],
      "execution_count": 46,
      "outputs": [
        {
          "output_type": "execute_result",
          "data": {
            "text/html": [
              "<div>\n",
              "<style scoped>\n",
              "    .dataframe tbody tr th:only-of-type {\n",
              "        vertical-align: middle;\n",
              "    }\n",
              "\n",
              "    .dataframe tbody tr th {\n",
              "        vertical-align: top;\n",
              "    }\n",
              "\n",
              "    .dataframe thead th {\n",
              "        text-align: right;\n",
              "    }\n",
              "</style>\n",
              "<table border=\"1\" class=\"dataframe\">\n",
              "  <thead>\n",
              "    <tr style=\"text-align: right;\">\n",
              "      <th></th>\n",
              "      <th>Year</th>\n",
              "      <th>Redtail_ID</th>\n",
              "      <th>Red_Tail_Yr_Total</th>\n",
              "    </tr>\n",
              "  </thead>\n",
              "  <tbody>\n",
              "    <tr>\n",
              "      <th>34</th>\n",
              "      <td>2000</td>\n",
              "      <td>3330</td>\n",
              "      <td>37</td>\n",
              "    </tr>\n",
              "    <tr>\n",
              "      <th>35</th>\n",
              "      <td>2001</td>\n",
              "      <td>3330</td>\n",
              "      <td>50</td>\n",
              "    </tr>\n",
              "    <tr>\n",
              "      <th>36</th>\n",
              "      <td>2002</td>\n",
              "      <td>3330</td>\n",
              "      <td>29</td>\n",
              "    </tr>\n",
              "    <tr>\n",
              "      <th>37</th>\n",
              "      <td>2003</td>\n",
              "      <td>3330</td>\n",
              "      <td>26</td>\n",
              "    </tr>\n",
              "    <tr>\n",
              "      <th>38</th>\n",
              "      <td>2004</td>\n",
              "      <td>3330</td>\n",
              "      <td>17</td>\n",
              "    </tr>\n",
              "    <tr>\n",
              "      <th>39</th>\n",
              "      <td>2005</td>\n",
              "      <td>3330</td>\n",
              "      <td>31</td>\n",
              "    </tr>\n",
              "    <tr>\n",
              "      <th>40</th>\n",
              "      <td>2006</td>\n",
              "      <td>3330</td>\n",
              "      <td>34</td>\n",
              "    </tr>\n",
              "    <tr>\n",
              "      <th>41</th>\n",
              "      <td>2007</td>\n",
              "      <td>3330</td>\n",
              "      <td>46</td>\n",
              "    </tr>\n",
              "    <tr>\n",
              "      <th>42</th>\n",
              "      <td>2008</td>\n",
              "      <td>3330</td>\n",
              "      <td>28</td>\n",
              "    </tr>\n",
              "    <tr>\n",
              "      <th>43</th>\n",
              "      <td>2009</td>\n",
              "      <td>3330</td>\n",
              "      <td>31</td>\n",
              "    </tr>\n",
              "    <tr>\n",
              "      <th>44</th>\n",
              "      <td>2010</td>\n",
              "      <td>3330</td>\n",
              "      <td>50</td>\n",
              "    </tr>\n",
              "    <tr>\n",
              "      <th>45</th>\n",
              "      <td>2011</td>\n",
              "      <td>3330</td>\n",
              "      <td>28</td>\n",
              "    </tr>\n",
              "    <tr>\n",
              "      <th>46</th>\n",
              "      <td>2012</td>\n",
              "      <td>3330</td>\n",
              "      <td>48</td>\n",
              "    </tr>\n",
              "    <tr>\n",
              "      <th>47</th>\n",
              "      <td>2013</td>\n",
              "      <td>3330</td>\n",
              "      <td>35</td>\n",
              "    </tr>\n",
              "    <tr>\n",
              "      <th>48</th>\n",
              "      <td>2014</td>\n",
              "      <td>3330</td>\n",
              "      <td>37</td>\n",
              "    </tr>\n",
              "    <tr>\n",
              "      <th>49</th>\n",
              "      <td>2015</td>\n",
              "      <td>3330</td>\n",
              "      <td>34</td>\n",
              "    </tr>\n",
              "    <tr>\n",
              "      <th>50</th>\n",
              "      <td>2016</td>\n",
              "      <td>3330</td>\n",
              "      <td>56</td>\n",
              "    </tr>\n",
              "    <tr>\n",
              "      <th>51</th>\n",
              "      <td>2017</td>\n",
              "      <td>3330</td>\n",
              "      <td>57</td>\n",
              "    </tr>\n",
              "    <tr>\n",
              "      <th>52</th>\n",
              "      <td>2018</td>\n",
              "      <td>3330</td>\n",
              "      <td>68</td>\n",
              "    </tr>\n",
              "  </tbody>\n",
              "</table>\n",
              "</div>"
            ],
            "text/plain": [
              "    Year Redtail_ID Red_Tail_Yr_Total\n",
              "34  2000       3330                37\n",
              "35  2001       3330                50\n",
              "36  2002       3330                29\n",
              "37  2003       3330                26\n",
              "38  2004       3330                17\n",
              "39  2005       3330                31\n",
              "40  2006       3330                34\n",
              "41  2007       3330                46\n",
              "42  2008       3330                28\n",
              "43  2009       3330                31\n",
              "44  2010       3330                50\n",
              "45  2011       3330                28\n",
              "46  2012       3330                48\n",
              "47  2013       3330                35\n",
              "48  2014       3330                37\n",
              "49  2015       3330                34\n",
              "50  2016       3330                56\n",
              "51  2017       3330                57\n",
              "52  2018       3330                68"
            ]
          },
          "metadata": {
            "tags": []
          },
          "execution_count": 46
        }
      ]
    },
    {
      "cell_type": "code",
      "metadata": {
        "id": "pIWkuNJhasKg",
        "colab_type": "code",
        "colab": {}
      },
      "source": [
        "# Make into ints\n",
        "redtail_df['Year'] = redtail_df['Year'].astype(str).astype(int)\n",
        "redtail_df['Redtail_ID'] = redtail_df['Redtail_ID'].astype(str).astype(int)\n",
        "redtail_df['Red_Tail_Yr_Total'] = redtail_df['Red_Tail_Yr_Total'].astype(str).astype(int)"
      ],
      "execution_count": 0,
      "outputs": []
    },
    {
      "cell_type": "code",
      "metadata": {
        "id": "nHaahPtmavah",
        "colab_type": "code",
        "outputId": "0b98e477-9003-499f-954a-30742d1b2cb8",
        "colab": {
          "base_uri": "https://localhost:8080/",
          "height": 85
        }
      },
      "source": [
        "redtail_df.dtypes"
      ],
      "execution_count": 48,
      "outputs": [
        {
          "output_type": "execute_result",
          "data": {
            "text/plain": [
              "Year                 int64\n",
              "Redtail_ID           int64\n",
              "Red_Tail_Yr_Total    int64\n",
              "dtype: object"
            ]
          },
          "metadata": {
            "tags": []
          },
          "execution_count": 48
        }
      ]
    },
    {
      "cell_type": "code",
      "metadata": {
        "id": "xj3Tk1C6bBMK",
        "colab_type": "code",
        "outputId": "416a03cc-38b6-467c-fae1-12584981229e",
        "colab": {
          "base_uri": "https://localhost:8080/",
          "height": 333
        }
      },
      "source": [
        "plt.style.use('default')\n",
        "ax = redtail_df.plot(kind='scatter', x='Year', y='Red_Tail_Yr_Total', figsize=(5,3))\n",
        "ax.set_title(\"Yearly Cenus Count of Red Tail Hawks\", fontweight=\"bold\");"
      ],
      "execution_count": 49,
      "outputs": [
        {
          "output_type": "display_data",
          "data": {
            "image/png": "[encoded data removed]",
            "text/plain": [
              "<Figure size 500x300 with 1 Axes>"
            ]
          },
          "metadata": {
            "tags": []
          }
        }
      ]
    },
    {
      "cell_type": "code",
      "metadata": {
        "id": "HCZvnNstcT5G",
        "colab_type": "code",
        "colab": {}
      },
      "source": [
        "# RED SHOULDERED HAWK\n",
        "redshoulder_bird_all_yrs = Kentuck_df[(Kentuck_df.AOU == 3390)]"
      ],
      "execution_count": 0,
      "outputs": []
    },
    {
      "cell_type": "code",
      "metadata": {
        "id": "aZkZQXSmQbnD",
        "colab_type": "code",
        "colab": {
          "base_uri": "https://localhost:8080/",
          "height": 34
        },
        "outputId": "c8e78baa-8760-4ff1-b298-3bd7a2941d4e"
      },
      "source": [
        "# should be 411\n",
        "redshoulder_bird_all_yrs.shape"
      ],
      "execution_count": 56,
      "outputs": [
        {
          "output_type": "execute_result",
          "data": {
            "text/plain": [
              "(411, 14)"
            ]
          },
          "metadata": {
            "tags": []
          },
          "execution_count": 56
        }
      ]
    },
    {
      "cell_type": "code",
      "metadata": {
        "id": "ApjELoJBcv-T",
        "colab_type": "code",
        "colab": {}
      },
      "source": [
        "# SORT BY year from 1966 to present\n",
        "redshoulder_sorted_df = redshoulder_bird_all_yrs.sort_values(by='Year', ascending=True)"
      ],
      "execution_count": 0,
      "outputs": []
    },
    {
      "cell_type": "code",
      "metadata": {
        "id": "qeqa-t9qc0C0",
        "colab_type": "code",
        "colab": {}
      },
      "source": [
        "# reset index\n",
        "redshoulder_sorted_df = redshoulder_sorted_df.reset_index(drop=True)"
      ],
      "execution_count": 0,
      "outputs": []
    },
    {
      "cell_type": "code",
      "metadata": {
        "id": "ArHKsEE_bqOr",
        "colab_type": "code",
        "colab": {}
      },
      "source": [
        "# make index a column\n",
        "redshoulder_sorted_df.reset_index(level=0, inplace=True)"
      ],
      "execution_count": 0,
      "outputs": []
    },
    {
      "cell_type": "code",
      "metadata": {
        "id": "aT41oIV2dEt0",
        "colab_type": "code",
        "outputId": "0caaa4ce-718f-4354-c810-950b0b495bba",
        "colab": {
          "base_uri": "https://localhost:8080/",
          "height": 204
        }
      },
      "source": [
        "redshoulder_sorted_df.tail()"
      ],
      "execution_count": 54,
      "outputs": [
        {
          "output_type": "execute_result",
          "data": {
            "text/html": [
              "<div>\n",
              "<style scoped>\n",
              "    .dataframe tbody tr th:only-of-type {\n",
              "        vertical-align: middle;\n",
              "    }\n",
              "\n",
              "    .dataframe tbody tr th {\n",
              "        vertical-align: top;\n",
              "    }\n",
              "\n",
              "    .dataframe thead th {\n",
              "        text-align: right;\n",
              "    }\n",
              "</style>\n",
              "<table border=\"1\" class=\"dataframe\">\n",
              "  <thead>\n",
              "    <tr style=\"text-align: right;\">\n",
              "      <th></th>\n",
              "      <th>index</th>\n",
              "      <th>RouteDataID</th>\n",
              "      <th>CountryNum</th>\n",
              "      <th>StateNum</th>\n",
              "      <th>Route</th>\n",
              "      <th>RPID</th>\n",
              "      <th>Year</th>\n",
              "      <th>AOU</th>\n",
              "      <th>Count10</th>\n",
              "      <th>Count20</th>\n",
              "      <th>Count30</th>\n",
              "      <th>Count40</th>\n",
              "      <th>Count50</th>\n",
              "      <th>StopTotal</th>\n",
              "      <th>SpeciesTotal</th>\n",
              "    </tr>\n",
              "  </thead>\n",
              "  <tbody>\n",
              "    <tr>\n",
              "      <th>406</th>\n",
              "      <td>406</td>\n",
              "      <td>6368144</td>\n",
              "      <td>840</td>\n",
              "      <td>39</td>\n",
              "      <td>9</td>\n",
              "      <td>101</td>\n",
              "      <td>2018</td>\n",
              "      <td>3390</td>\n",
              "      <td>1</td>\n",
              "      <td>0</td>\n",
              "      <td>1</td>\n",
              "      <td>0</td>\n",
              "      <td>0</td>\n",
              "      <td>2</td>\n",
              "      <td>2</td>\n",
              "    </tr>\n",
              "    <tr>\n",
              "      <th>407</th>\n",
              "      <td>407</td>\n",
              "      <td>6367292</td>\n",
              "      <td>840</td>\n",
              "      <td>39</td>\n",
              "      <td>2</td>\n",
              "      <td>101</td>\n",
              "      <td>2018</td>\n",
              "      <td>3390</td>\n",
              "      <td>0</td>\n",
              "      <td>1</td>\n",
              "      <td>2</td>\n",
              "      <td>1</td>\n",
              "      <td>0</td>\n",
              "      <td>3</td>\n",
              "      <td>4</td>\n",
              "    </tr>\n",
              "    <tr>\n",
              "      <th>408</th>\n",
              "      <td>408</td>\n",
              "      <td>6367580</td>\n",
              "      <td>840</td>\n",
              "      <td>39</td>\n",
              "      <td>145</td>\n",
              "      <td>101</td>\n",
              "      <td>2018</td>\n",
              "      <td>3390</td>\n",
              "      <td>0</td>\n",
              "      <td>0</td>\n",
              "      <td>0</td>\n",
              "      <td>3</td>\n",
              "      <td>1</td>\n",
              "      <td>3</td>\n",
              "      <td>4</td>\n",
              "    </tr>\n",
              "    <tr>\n",
              "      <th>409</th>\n",
              "      <td>409</td>\n",
              "      <td>6368469</td>\n",
              "      <td>840</td>\n",
              "      <td>39</td>\n",
              "      <td>10</td>\n",
              "      <td>101</td>\n",
              "      <td>2018</td>\n",
              "      <td>3390</td>\n",
              "      <td>1</td>\n",
              "      <td>1</td>\n",
              "      <td>0</td>\n",
              "      <td>0</td>\n",
              "      <td>0</td>\n",
              "      <td>2</td>\n",
              "      <td>2</td>\n",
              "    </tr>\n",
              "    <tr>\n",
              "      <th>410</th>\n",
              "      <td>410</td>\n",
              "      <td>6367824</td>\n",
              "      <td>840</td>\n",
              "      <td>39</td>\n",
              "      <td>3</td>\n",
              "      <td>101</td>\n",
              "      <td>2018</td>\n",
              "      <td>3390</td>\n",
              "      <td>1</td>\n",
              "      <td>2</td>\n",
              "      <td>1</td>\n",
              "      <td>1</td>\n",
              "      <td>1</td>\n",
              "      <td>6</td>\n",
              "      <td>6</td>\n",
              "    </tr>\n",
              "  </tbody>\n",
              "</table>\n",
              "</div>"
            ],
            "text/plain": [
              "     index  RouteDataID  CountryNum  ...  Count50  StopTotal  SpeciesTotal\n",
              "406    406      6368144         840  ...        0          2             2\n",
              "407    407      6367292         840  ...        0          3             4\n",
              "408    408      6367580         840  ...        1          3             4\n",
              "409    409      6368469         840  ...        0          2             2\n",
              "410    410      6367824         840  ...        1          6             6\n",
              "\n",
              "[5 rows x 15 columns]"
            ]
          },
          "metadata": {
            "tags": []
          },
          "execution_count": 54
        }
      ]
    },
    {
      "cell_type": "code",
      "metadata": {
        "id": "qWMBv5Nldccs",
        "colab_type": "code",
        "outputId": "0e37f6e6-5334-4aba-d1a5-3bd0d22b66d2",
        "colab": {
          "base_uri": "https://localhost:8080/",
          "height": 34
        }
      },
      "source": [
        "# should be 411\n",
        "redshoulder_sorted_df.shape"
      ],
      "execution_count": 55,
      "outputs": [
        {
          "output_type": "execute_result",
          "data": {
            "text/plain": [
              "(411, 15)"
            ]
          },
          "metadata": {
            "tags": []
          },
          "execution_count": 55
        }
      ]
    },
    {
      "cell_type": "code",
      "metadata": {
        "id": "-VTsRQ2ceDHI",
        "colab_type": "code",
        "colab": {}
      },
      "source": [
        "# Red Shoulder sum checks\n",
        "# Getting sums for some of the years to check my for loop later\n",
        "total_nin_six_six = redshoulder_sorted_df.Year == 1966\n",
        "total_two_thou = redshoulder_sorted_df.Year == 2000\n",
        "total_two_thou_eigh = redshoulder_sorted_df.Year == 2008\n",
        "total_two_svteen = redshoulder_sorted_df.Year == 2017\n",
        "total_two_eig_teen = redshoulder_sorted_df.Year == 2018"
      ],
      "execution_count": 0,
      "outputs": []
    },
    {
      "cell_type": "code",
      "metadata": {
        "id": "6fnZ8QhpeYgf",
        "colab_type": "code",
        "colab": {}
      },
      "source": [
        "# getting sums of years above\n",
        "species_tot_nin_six_six = redshoulder_sorted_df[total_nin_six_six]\n",
        "species_tot_two_thou = redshoulder_sorted_df[total_two_thou]\n",
        "species_tot_two_thou_eight = redshoulder_sorted_df[total_two_thou_eigh]\n",
        "species_tot_two_svn = redshoulder_sorted_df[total_two_svteen]\n",
        "species_tot_two_eig_teen = redshoulder_sorted_df[total_two_eig_teen]"
      ],
      "execution_count": 0,
      "outputs": []
    },
    {
      "cell_type": "code",
      "metadata": {
        "id": "pxXMTZVseeHA",
        "colab_type": "code",
        "outputId": "6f1f48af-7e67-42b3-dbd4-067822811f89",
        "colab": {
          "base_uri": "https://localhost:8080/",
          "height": 102
        }
      },
      "source": [
        "# getting sums of years above \n",
        "# should be 7 = 1966, 15 = 2000, 27 = 2008, 47 = 2017, 62 = 2018\n",
        "print(species_tot_nin_six_six['SpeciesTotal'].sum(axis=0))\n",
        "print(species_tot_two_thou['SpeciesTotal'].sum(axis=0))\n",
        "print(species_tot_two_thou_eight['SpeciesTotal'].sum(axis=0))\n",
        "print(species_tot_two_svn['SpeciesTotal'].sum(axis=0))\n",
        "print(species_tot_two_eig_teen['SpeciesTotal'].sum(axis=0))"
      ],
      "execution_count": 59,
      "outputs": [
        {
          "output_type": "stream",
          "text": [
            "7\n",
            "15\n",
            "27\n",
            "47\n",
            "62\n"
          ],
          "name": "stdout"
        }
      ]
    },
    {
      "cell_type": "code",
      "metadata": {
        "id": "Q7lu5MLSejiL",
        "colab_type": "code",
        "outputId": "dfa0d2e5-1d51-4dd0-dbc1-ab334ed05475",
        "colab": {
          "base_uri": "https://localhost:8080/",
          "height": 49
        }
      },
      "source": [
        "# Creating an empty Dataframe with column names only\n",
        "redshoulder_df = pd.DataFrame(columns=['Year', 'Redshoulder_ID', 'Red_Shoulder_Yr_Total'])\n",
        "redshoulder_df"
      ],
      "execution_count": 60,
      "outputs": [
        {
          "output_type": "execute_result",
          "data": {
            "text/html": [
              "<div>\n",
              "<style scoped>\n",
              "    .dataframe tbody tr th:only-of-type {\n",
              "        vertical-align: middle;\n",
              "    }\n",
              "\n",
              "    .dataframe tbody tr th {\n",
              "        vertical-align: top;\n",
              "    }\n",
              "\n",
              "    .dataframe thead th {\n",
              "        text-align: right;\n",
              "    }\n",
              "</style>\n",
              "<table border=\"1\" class=\"dataframe\">\n",
              "  <thead>\n",
              "    <tr style=\"text-align: right;\">\n",
              "      <th></th>\n",
              "      <th>Year</th>\n",
              "      <th>Redshoulder_ID</th>\n",
              "      <th>Red_Shoulder_Yr_Total</th>\n",
              "    </tr>\n",
              "  </thead>\n",
              "  <tbody>\n",
              "  </tbody>\n",
              "</table>\n",
              "</div>"
            ],
            "text/plain": [
              "Empty DataFrame\n",
              "Columns: [Year, Redshoulder_ID, Red_Shoulder_Yr_Total]\n",
              "Index: []"
            ]
          },
          "metadata": {
            "tags": []
          },
          "execution_count": 60
        }
      ]
    },
    {
      "cell_type": "code",
      "metadata": {
        "id": "JVVV4Yy7euqA",
        "colab_type": "code",
        "colab": {}
      },
      "source": [
        "# Last row should hit the if statement to append: 6365103\n",
        "x = 1966\n",
        "tot = 0\n",
        "for ind in redshoulder_sorted_df.index: \n",
        "     if (redshoulder_sorted_df['Year'][ind] == x):\n",
        "       tot += (redshoulder_sorted_df['SpeciesTotal'][ind])\n",
        "       if redshoulder_sorted_df['index'][ind] == 410:\n",
        "         redshoulder_df = redshoulder_df.append({'Year': int(x), 'Redshoulder_ID': int(3390), 'Red_Shoulder_Yr_Total': int(tot)}, ignore_index=True)\n",
        "         break\n",
        "     else:\n",
        "       redshoulder_df = redshoulder_df.append({'Year': int(x), 'Redshoulder_ID': int(3390), 'Red_Shoulder_Yr_Total': int(tot)}, ignore_index=True)\n",
        "       x += 1\n",
        "       tot = 0\n",
        "       tot += (redshoulder_sorted_df['SpeciesTotal'][ind])"
      ],
      "execution_count": 0,
      "outputs": []
    },
    {
      "cell_type": "code",
      "metadata": {
        "id": "GtkTJExsfjAj",
        "colab_type": "code",
        "outputId": "c5988c45-8b1b-4e07-9b96-8e3e16c58c50",
        "colab": {
          "base_uri": "https://localhost:8080/",
          "height": 204
        }
      },
      "source": [
        "redshoulder_df.head()"
      ],
      "execution_count": 62,
      "outputs": [
        {
          "output_type": "execute_result",
          "data": {
            "text/html": [
              "<div>\n",
              "<style scoped>\n",
              "    .dataframe tbody tr th:only-of-type {\n",
              "        vertical-align: middle;\n",
              "    }\n",
              "\n",
              "    .dataframe tbody tr th {\n",
              "        vertical-align: top;\n",
              "    }\n",
              "\n",
              "    .dataframe thead th {\n",
              "        text-align: right;\n",
              "    }\n",
              "</style>\n",
              "<table border=\"1\" class=\"dataframe\">\n",
              "  <thead>\n",
              "    <tr style=\"text-align: right;\">\n",
              "      <th></th>\n",
              "      <th>Year</th>\n",
              "      <th>Redshoulder_ID</th>\n",
              "      <th>Red_Shoulder_Yr_Total</th>\n",
              "    </tr>\n",
              "  </thead>\n",
              "  <tbody>\n",
              "    <tr>\n",
              "      <th>0</th>\n",
              "      <td>1966</td>\n",
              "      <td>3390</td>\n",
              "      <td>7</td>\n",
              "    </tr>\n",
              "    <tr>\n",
              "      <th>1</th>\n",
              "      <td>1967</td>\n",
              "      <td>3390</td>\n",
              "      <td>8</td>\n",
              "    </tr>\n",
              "    <tr>\n",
              "      <th>2</th>\n",
              "      <td>1968</td>\n",
              "      <td>3390</td>\n",
              "      <td>6</td>\n",
              "    </tr>\n",
              "    <tr>\n",
              "      <th>3</th>\n",
              "      <td>1969</td>\n",
              "      <td>3390</td>\n",
              "      <td>4</td>\n",
              "    </tr>\n",
              "    <tr>\n",
              "      <th>4</th>\n",
              "      <td>1970</td>\n",
              "      <td>3390</td>\n",
              "      <td>8</td>\n",
              "    </tr>\n",
              "  </tbody>\n",
              "</table>\n",
              "</div>"
            ],
            "text/plain": [
              "   Year Redshoulder_ID Red_Shoulder_Yr_Total\n",
              "0  1966           3390                     7\n",
              "1  1967           3390                     8\n",
              "2  1968           3390                     6\n",
              "3  1969           3390                     4\n",
              "4  1970           3390                     8"
            ]
          },
          "metadata": {
            "tags": []
          },
          "execution_count": 62
        }
      ]
    },
    {
      "cell_type": "code",
      "metadata": {
        "id": "7h9ENx9pf02f",
        "colab_type": "code",
        "outputId": "e946b877-7acb-4548-d313-8446f059b15b",
        "colab": {
          "base_uri": "https://localhost:8080/",
          "height": 638
        }
      },
      "source": [
        "# should be 7 = 1966, 15 = 2000, 27 = 2008, 47 = 2017, 62 = 2018\n",
        "redshoulder_df.tail(19)"
      ],
      "execution_count": 63,
      "outputs": [
        {
          "output_type": "execute_result",
          "data": {
            "text/html": [
              "<div>\n",
              "<style scoped>\n",
              "    .dataframe tbody tr th:only-of-type {\n",
              "        vertical-align: middle;\n",
              "    }\n",
              "\n",
              "    .dataframe tbody tr th {\n",
              "        vertical-align: top;\n",
              "    }\n",
              "\n",
              "    .dataframe thead th {\n",
              "        text-align: right;\n",
              "    }\n",
              "</style>\n",
              "<table border=\"1\" class=\"dataframe\">\n",
              "  <thead>\n",
              "    <tr style=\"text-align: right;\">\n",
              "      <th></th>\n",
              "      <th>Year</th>\n",
              "      <th>Redshoulder_ID</th>\n",
              "      <th>Red_Shoulder_Yr_Total</th>\n",
              "    </tr>\n",
              "  </thead>\n",
              "  <tbody>\n",
              "    <tr>\n",
              "      <th>34</th>\n",
              "      <td>2000</td>\n",
              "      <td>3390</td>\n",
              "      <td>15</td>\n",
              "    </tr>\n",
              "    <tr>\n",
              "      <th>35</th>\n",
              "      <td>2001</td>\n",
              "      <td>3390</td>\n",
              "      <td>18</td>\n",
              "    </tr>\n",
              "    <tr>\n",
              "      <th>36</th>\n",
              "      <td>2002</td>\n",
              "      <td>3390</td>\n",
              "      <td>15</td>\n",
              "    </tr>\n",
              "    <tr>\n",
              "      <th>37</th>\n",
              "      <td>2003</td>\n",
              "      <td>3390</td>\n",
              "      <td>13</td>\n",
              "    </tr>\n",
              "    <tr>\n",
              "      <th>38</th>\n",
              "      <td>2004</td>\n",
              "      <td>3390</td>\n",
              "      <td>18</td>\n",
              "    </tr>\n",
              "    <tr>\n",
              "      <th>39</th>\n",
              "      <td>2005</td>\n",
              "      <td>3390</td>\n",
              "      <td>22</td>\n",
              "    </tr>\n",
              "    <tr>\n",
              "      <th>40</th>\n",
              "      <td>2006</td>\n",
              "      <td>3390</td>\n",
              "      <td>33</td>\n",
              "    </tr>\n",
              "    <tr>\n",
              "      <th>41</th>\n",
              "      <td>2007</td>\n",
              "      <td>3390</td>\n",
              "      <td>25</td>\n",
              "    </tr>\n",
              "    <tr>\n",
              "      <th>42</th>\n",
              "      <td>2008</td>\n",
              "      <td>3390</td>\n",
              "      <td>27</td>\n",
              "    </tr>\n",
              "    <tr>\n",
              "      <th>43</th>\n",
              "      <td>2009</td>\n",
              "      <td>3390</td>\n",
              "      <td>41</td>\n",
              "    </tr>\n",
              "    <tr>\n",
              "      <th>44</th>\n",
              "      <td>2010</td>\n",
              "      <td>3390</td>\n",
              "      <td>39</td>\n",
              "    </tr>\n",
              "    <tr>\n",
              "      <th>45</th>\n",
              "      <td>2011</td>\n",
              "      <td>3390</td>\n",
              "      <td>31</td>\n",
              "    </tr>\n",
              "    <tr>\n",
              "      <th>46</th>\n",
              "      <td>2012</td>\n",
              "      <td>3390</td>\n",
              "      <td>48</td>\n",
              "    </tr>\n",
              "    <tr>\n",
              "      <th>47</th>\n",
              "      <td>2013</td>\n",
              "      <td>3390</td>\n",
              "      <td>35</td>\n",
              "    </tr>\n",
              "    <tr>\n",
              "      <th>48</th>\n",
              "      <td>2014</td>\n",
              "      <td>3390</td>\n",
              "      <td>41</td>\n",
              "    </tr>\n",
              "    <tr>\n",
              "      <th>49</th>\n",
              "      <td>2015</td>\n",
              "      <td>3390</td>\n",
              "      <td>28</td>\n",
              "    </tr>\n",
              "    <tr>\n",
              "      <th>50</th>\n",
              "      <td>2016</td>\n",
              "      <td>3390</td>\n",
              "      <td>36</td>\n",
              "    </tr>\n",
              "    <tr>\n",
              "      <th>51</th>\n",
              "      <td>2017</td>\n",
              "      <td>3390</td>\n",
              "      <td>47</td>\n",
              "    </tr>\n",
              "    <tr>\n",
              "      <th>52</th>\n",
              "      <td>2018</td>\n",
              "      <td>3390</td>\n",
              "      <td>62</td>\n",
              "    </tr>\n",
              "  </tbody>\n",
              "</table>\n",
              "</div>"
            ],
            "text/plain": [
              "    Year Redshoulder_ID Red_Shoulder_Yr_Total\n",
              "34  2000           3390                    15\n",
              "35  2001           3390                    18\n",
              "36  2002           3390                    15\n",
              "37  2003           3390                    13\n",
              "38  2004           3390                    18\n",
              "39  2005           3390                    22\n",
              "40  2006           3390                    33\n",
              "41  2007           3390                    25\n",
              "42  2008           3390                    27\n",
              "43  2009           3390                    41\n",
              "44  2010           3390                    39\n",
              "45  2011           3390                    31\n",
              "46  2012           3390                    48\n",
              "47  2013           3390                    35\n",
              "48  2014           3390                    41\n",
              "49  2015           3390                    28\n",
              "50  2016           3390                    36\n",
              "51  2017           3390                    47\n",
              "52  2018           3390                    62"
            ]
          },
          "metadata": {
            "tags": []
          },
          "execution_count": 63
        }
      ]
    },
    {
      "cell_type": "code",
      "metadata": {
        "id": "YjXMH8gHgFtx",
        "colab_type": "code",
        "colab": {}
      },
      "source": [
        "# make ints\n",
        "redshoulder_df['Year'] = redshoulder_df['Year'].astype(str).astype(int)\n",
        "redshoulder_df['Redshoulder_ID'] = redshoulder_df['Redshoulder_ID'].astype(str).astype(int)\n",
        "redshoulder_df['Red_Shoulder_Yr_Total'] = redshoulder_df['Red_Shoulder_Yr_Total'].astype(str).astype(int)"
      ],
      "execution_count": 0,
      "outputs": []
    },
    {
      "cell_type": "code",
      "metadata": {
        "id": "FDEKYFglgVoU",
        "colab_type": "code",
        "outputId": "a57c5af4-d71d-471e-99b2-f7442500574a",
        "colab": {
          "base_uri": "https://localhost:8080/",
          "height": 85
        }
      },
      "source": [
        "redshoulder_df.dtypes"
      ],
      "execution_count": 65,
      "outputs": [
        {
          "output_type": "execute_result",
          "data": {
            "text/plain": [
              "Year                     int64\n",
              "Redshoulder_ID           int64\n",
              "Red_Shoulder_Yr_Total    int64\n",
              "dtype: object"
            ]
          },
          "metadata": {
            "tags": []
          },
          "execution_count": 65
        }
      ]
    },
    {
      "cell_type": "code",
      "metadata": {
        "id": "C4Qap-YwmYoi",
        "colab_type": "code",
        "outputId": "a4dbfdc1-920e-41d2-b8bb-68cc63855930",
        "colab": {
          "base_uri": "https://localhost:8080/",
          "height": 333
        }
      },
      "source": [
        "plt.style.use('default')\n",
        "ax = redshoulder_df.plot(kind='scatter', x='Year', y='Red_Shoulder_Yr_Total', figsize=(5,3))\n",
        "ax.set_title(\"Yearly Cenus Count of RedShoulder Hawks\", fontweight=\"bold\");"
      ],
      "execution_count": 66,
      "outputs": [
        {
          "output_type": "display_data",
          "data": {
            "image/png": "[encoded data removed]",
            "text/plain": [
              "<Figure size 500x300 with 1 Axes>"
            ]
          },
          "metadata": {
            "tags": []
          }
        }
      ]
    },
    {
      "cell_type": "code",
      "metadata": {
        "id": "DOL9C3jfqpin",
        "colab_type": "code",
        "outputId": "c1d6cc40-c81a-483b-e62d-36885d845edd",
        "colab": {
          "base_uri": "https://localhost:8080/",
          "height": 204
        }
      },
      "source": [
        "# merging into one df\n",
        "resulting_df = pd.merge(redtail_df, redshoulder_df, on = ['Year'], how = 'inner')\n",
        "resulting_df.head()"
      ],
      "execution_count": 67,
      "outputs": [
        {
          "output_type": "execute_result",
          "data": {
            "text/html": [
              "<div>\n",
              "<style scoped>\n",
              "    .dataframe tbody tr th:only-of-type {\n",
              "        vertical-align: middle;\n",
              "    }\n",
              "\n",
              "    .dataframe tbody tr th {\n",
              "        vertical-align: top;\n",
              "    }\n",
              "\n",
              "    .dataframe thead th {\n",
              "        text-align: right;\n",
              "    }\n",
              "</style>\n",
              "<table border=\"1\" class=\"dataframe\">\n",
              "  <thead>\n",
              "    <tr style=\"text-align: right;\">\n",
              "      <th></th>\n",
              "      <th>Year</th>\n",
              "      <th>Redtail_ID</th>\n",
              "      <th>Red_Tail_Yr_Total</th>\n",
              "      <th>Redshoulder_ID</th>\n",
              "      <th>Red_Shoulder_Yr_Total</th>\n",
              "    </tr>\n",
              "  </thead>\n",
              "  <tbody>\n",
              "    <tr>\n",
              "      <th>0</th>\n",
              "      <td>1966</td>\n",
              "      <td>3330</td>\n",
              "      <td>5</td>\n",
              "      <td>3390</td>\n",
              "      <td>7</td>\n",
              "    </tr>\n",
              "    <tr>\n",
              "      <th>1</th>\n",
              "      <td>1967</td>\n",
              "      <td>3330</td>\n",
              "      <td>9</td>\n",
              "      <td>3390</td>\n",
              "      <td>8</td>\n",
              "    </tr>\n",
              "    <tr>\n",
              "      <th>2</th>\n",
              "      <td>1968</td>\n",
              "      <td>3330</td>\n",
              "      <td>11</td>\n",
              "      <td>3390</td>\n",
              "      <td>6</td>\n",
              "    </tr>\n",
              "    <tr>\n",
              "      <th>3</th>\n",
              "      <td>1969</td>\n",
              "      <td>3330</td>\n",
              "      <td>7</td>\n",
              "      <td>3390</td>\n",
              "      <td>4</td>\n",
              "    </tr>\n",
              "    <tr>\n",
              "      <th>4</th>\n",
              "      <td>1970</td>\n",
              "      <td>3330</td>\n",
              "      <td>8</td>\n",
              "      <td>3390</td>\n",
              "      <td>8</td>\n",
              "    </tr>\n",
              "  </tbody>\n",
              "</table>\n",
              "</div>"
            ],
            "text/plain": [
              "   Year  Redtail_ID  Red_Tail_Yr_Total  Redshoulder_ID  Red_Shoulder_Yr_Total\n",
              "0  1966        3330                  5            3390                      7\n",
              "1  1967        3330                  9            3390                      8\n",
              "2  1968        3330                 11            3390                      6\n",
              "3  1969        3330                  7            3390                      4\n",
              "4  1970        3330                  8            3390                      8"
            ]
          },
          "metadata": {
            "tags": []
          },
          "execution_count": 67
        }
      ]
    },
    {
      "cell_type": "code",
      "metadata": {
        "id": "tzhn0t2MrGT_",
        "colab_type": "code",
        "outputId": "6017f186-043d-4cff-9fa9-fd9f56210878",
        "colab": {
          "base_uri": "https://localhost:8080/",
          "height": 1000
        }
      },
      "source": [
        "# final merge into one df\n",
        "finished_df = pd.merge(resulting_df, coop_df, on = ['Year'], how = 'inner')\n",
        "finished_df\n",
        "# red tail should be 5 = 1966, 37 = 2000, 28 = 2008, 57 = 2017, 68 = 2018\n",
        "# red shoulder should be 7 = 1966, 15 = 2000, 27 = 2008, 47 = 2017, 62 = 2018\n",
        "# coopers should be 3 = 1966, 9 = 2000, 13 = 2008, 8 = 2017, 14 = 2018"
      ],
      "execution_count": 68,
      "outputs": [
        {
          "output_type": "execute_result",
          "data": {
            "text/html": [
              "<div>\n",
              "<style scoped>\n",
              "    .dataframe tbody tr th:only-of-type {\n",
              "        vertical-align: middle;\n",
              "    }\n",
              "\n",
              "    .dataframe tbody tr th {\n",
              "        vertical-align: top;\n",
              "    }\n",
              "\n",
              "    .dataframe thead th {\n",
              "        text-align: right;\n",
              "    }\n",
              "</style>\n",
              "<table border=\"1\" class=\"dataframe\">\n",
              "  <thead>\n",
              "    <tr style=\"text-align: right;\">\n",
              "      <th></th>\n",
              "      <th>Year</th>\n",
              "      <th>Redtail_ID</th>\n",
              "      <th>Red_Tail_Yr_Total</th>\n",
              "      <th>Redshoulder_ID</th>\n",
              "      <th>Red_Shoulder_Yr_Total</th>\n",
              "      <th>Coopers_ID</th>\n",
              "      <th>Cooper_Hawk_Yr_Total</th>\n",
              "    </tr>\n",
              "  </thead>\n",
              "  <tbody>\n",
              "    <tr>\n",
              "      <th>0</th>\n",
              "      <td>1966</td>\n",
              "      <td>3330</td>\n",
              "      <td>5</td>\n",
              "      <td>3390</td>\n",
              "      <td>7</td>\n",
              "      <td>3330</td>\n",
              "      <td>3</td>\n",
              "    </tr>\n",
              "    <tr>\n",
              "      <th>1</th>\n",
              "      <td>1967</td>\n",
              "      <td>3330</td>\n",
              "      <td>9</td>\n",
              "      <td>3390</td>\n",
              "      <td>8</td>\n",
              "      <td>3330</td>\n",
              "      <td>2</td>\n",
              "    </tr>\n",
              "    <tr>\n",
              "      <th>2</th>\n",
              "      <td>1968</td>\n",
              "      <td>3330</td>\n",
              "      <td>11</td>\n",
              "      <td>3390</td>\n",
              "      <td>6</td>\n",
              "      <td>3330</td>\n",
              "      <td>1</td>\n",
              "    </tr>\n",
              "    <tr>\n",
              "      <th>3</th>\n",
              "      <td>1969</td>\n",
              "      <td>3330</td>\n",
              "      <td>7</td>\n",
              "      <td>3390</td>\n",
              "      <td>4</td>\n",
              "      <td>3330</td>\n",
              "      <td>2</td>\n",
              "    </tr>\n",
              "    <tr>\n",
              "      <th>4</th>\n",
              "      <td>1970</td>\n",
              "      <td>3330</td>\n",
              "      <td>8</td>\n",
              "      <td>3390</td>\n",
              "      <td>8</td>\n",
              "      <td>3330</td>\n",
              "      <td>3</td>\n",
              "    </tr>\n",
              "    <tr>\n",
              "      <th>5</th>\n",
              "      <td>1971</td>\n",
              "      <td>3330</td>\n",
              "      <td>12</td>\n",
              "      <td>3390</td>\n",
              "      <td>2</td>\n",
              "      <td>3330</td>\n",
              "      <td>1</td>\n",
              "    </tr>\n",
              "    <tr>\n",
              "      <th>6</th>\n",
              "      <td>1972</td>\n",
              "      <td>3330</td>\n",
              "      <td>22</td>\n",
              "      <td>3390</td>\n",
              "      <td>2</td>\n",
              "      <td>3330</td>\n",
              "      <td>1</td>\n",
              "    </tr>\n",
              "    <tr>\n",
              "      <th>7</th>\n",
              "      <td>1973</td>\n",
              "      <td>3330</td>\n",
              "      <td>20</td>\n",
              "      <td>3390</td>\n",
              "      <td>5</td>\n",
              "      <td>3330</td>\n",
              "      <td>2</td>\n",
              "    </tr>\n",
              "    <tr>\n",
              "      <th>8</th>\n",
              "      <td>1974</td>\n",
              "      <td>3330</td>\n",
              "      <td>13</td>\n",
              "      <td>3390</td>\n",
              "      <td>7</td>\n",
              "      <td>3330</td>\n",
              "      <td>2</td>\n",
              "    </tr>\n",
              "    <tr>\n",
              "      <th>9</th>\n",
              "      <td>1975</td>\n",
              "      <td>3330</td>\n",
              "      <td>10</td>\n",
              "      <td>3390</td>\n",
              "      <td>9</td>\n",
              "      <td>3330</td>\n",
              "      <td>3</td>\n",
              "    </tr>\n",
              "    <tr>\n",
              "      <th>10</th>\n",
              "      <td>1976</td>\n",
              "      <td>3330</td>\n",
              "      <td>17</td>\n",
              "      <td>3390</td>\n",
              "      <td>5</td>\n",
              "      <td>3330</td>\n",
              "      <td>1</td>\n",
              "    </tr>\n",
              "    <tr>\n",
              "      <th>11</th>\n",
              "      <td>1977</td>\n",
              "      <td>3330</td>\n",
              "      <td>21</td>\n",
              "      <td>3390</td>\n",
              "      <td>7</td>\n",
              "      <td>3330</td>\n",
              "      <td>3</td>\n",
              "    </tr>\n",
              "    <tr>\n",
              "      <th>12</th>\n",
              "      <td>1978</td>\n",
              "      <td>3330</td>\n",
              "      <td>15</td>\n",
              "      <td>3390</td>\n",
              "      <td>3</td>\n",
              "      <td>3330</td>\n",
              "      <td>1</td>\n",
              "    </tr>\n",
              "    <tr>\n",
              "      <th>13</th>\n",
              "      <td>1979</td>\n",
              "      <td>3330</td>\n",
              "      <td>9</td>\n",
              "      <td>3390</td>\n",
              "      <td>1</td>\n",
              "      <td>3330</td>\n",
              "      <td>1</td>\n",
              "    </tr>\n",
              "    <tr>\n",
              "      <th>14</th>\n",
              "      <td>1980</td>\n",
              "      <td>3330</td>\n",
              "      <td>9</td>\n",
              "      <td>3390</td>\n",
              "      <td>3</td>\n",
              "      <td>3330</td>\n",
              "      <td>2</td>\n",
              "    </tr>\n",
              "    <tr>\n",
              "      <th>15</th>\n",
              "      <td>1981</td>\n",
              "      <td>3330</td>\n",
              "      <td>30</td>\n",
              "      <td>3390</td>\n",
              "      <td>6</td>\n",
              "      <td>3330</td>\n",
              "      <td>4</td>\n",
              "    </tr>\n",
              "    <tr>\n",
              "      <th>16</th>\n",
              "      <td>1982</td>\n",
              "      <td>3330</td>\n",
              "      <td>23</td>\n",
              "      <td>3390</td>\n",
              "      <td>7</td>\n",
              "      <td>3330</td>\n",
              "      <td>4</td>\n",
              "    </tr>\n",
              "    <tr>\n",
              "      <th>17</th>\n",
              "      <td>1983</td>\n",
              "      <td>3330</td>\n",
              "      <td>25</td>\n",
              "      <td>3390</td>\n",
              "      <td>8</td>\n",
              "      <td>3330</td>\n",
              "      <td>2</td>\n",
              "    </tr>\n",
              "    <tr>\n",
              "      <th>18</th>\n",
              "      <td>1984</td>\n",
              "      <td>3330</td>\n",
              "      <td>12</td>\n",
              "      <td>3390</td>\n",
              "      <td>2</td>\n",
              "      <td>3330</td>\n",
              "      <td>6</td>\n",
              "    </tr>\n",
              "    <tr>\n",
              "      <th>19</th>\n",
              "      <td>1985</td>\n",
              "      <td>3330</td>\n",
              "      <td>22</td>\n",
              "      <td>3390</td>\n",
              "      <td>3</td>\n",
              "      <td>3330</td>\n",
              "      <td>1</td>\n",
              "    </tr>\n",
              "    <tr>\n",
              "      <th>20</th>\n",
              "      <td>1986</td>\n",
              "      <td>3330</td>\n",
              "      <td>22</td>\n",
              "      <td>3390</td>\n",
              "      <td>5</td>\n",
              "      <td>3330</td>\n",
              "      <td>4</td>\n",
              "    </tr>\n",
              "    <tr>\n",
              "      <th>21</th>\n",
              "      <td>1987</td>\n",
              "      <td>3330</td>\n",
              "      <td>11</td>\n",
              "      <td>3390</td>\n",
              "      <td>4</td>\n",
              "      <td>3330</td>\n",
              "      <td>3</td>\n",
              "    </tr>\n",
              "    <tr>\n",
              "      <th>22</th>\n",
              "      <td>1988</td>\n",
              "      <td>3330</td>\n",
              "      <td>35</td>\n",
              "      <td>3390</td>\n",
              "      <td>6</td>\n",
              "      <td>3330</td>\n",
              "      <td>6</td>\n",
              "    </tr>\n",
              "    <tr>\n",
              "      <th>23</th>\n",
              "      <td>1989</td>\n",
              "      <td>3330</td>\n",
              "      <td>17</td>\n",
              "      <td>3390</td>\n",
              "      <td>3</td>\n",
              "      <td>3330</td>\n",
              "      <td>3</td>\n",
              "    </tr>\n",
              "    <tr>\n",
              "      <th>24</th>\n",
              "      <td>1990</td>\n",
              "      <td>3330</td>\n",
              "      <td>24</td>\n",
              "      <td>3390</td>\n",
              "      <td>7</td>\n",
              "      <td>3330</td>\n",
              "      <td>6</td>\n",
              "    </tr>\n",
              "    <tr>\n",
              "      <th>25</th>\n",
              "      <td>1991</td>\n",
              "      <td>3330</td>\n",
              "      <td>22</td>\n",
              "      <td>3390</td>\n",
              "      <td>3</td>\n",
              "      <td>3330</td>\n",
              "      <td>5</td>\n",
              "    </tr>\n",
              "    <tr>\n",
              "      <th>26</th>\n",
              "      <td>1992</td>\n",
              "      <td>3330</td>\n",
              "      <td>33</td>\n",
              "      <td>3390</td>\n",
              "      <td>5</td>\n",
              "      <td>3330</td>\n",
              "      <td>5</td>\n",
              "    </tr>\n",
              "    <tr>\n",
              "      <th>27</th>\n",
              "      <td>1993</td>\n",
              "      <td>3330</td>\n",
              "      <td>27</td>\n",
              "      <td>3390</td>\n",
              "      <td>9</td>\n",
              "      <td>3330</td>\n",
              "      <td>4</td>\n",
              "    </tr>\n",
              "    <tr>\n",
              "      <th>28</th>\n",
              "      <td>1994</td>\n",
              "      <td>3330</td>\n",
              "      <td>15</td>\n",
              "      <td>3390</td>\n",
              "      <td>10</td>\n",
              "      <td>3330</td>\n",
              "      <td>3</td>\n",
              "    </tr>\n",
              "    <tr>\n",
              "      <th>29</th>\n",
              "      <td>1995</td>\n",
              "      <td>3330</td>\n",
              "      <td>26</td>\n",
              "      <td>3390</td>\n",
              "      <td>7</td>\n",
              "      <td>3330</td>\n",
              "      <td>4</td>\n",
              "    </tr>\n",
              "    <tr>\n",
              "      <th>30</th>\n",
              "      <td>1996</td>\n",
              "      <td>3330</td>\n",
              "      <td>13</td>\n",
              "      <td>3390</td>\n",
              "      <td>7</td>\n",
              "      <td>3330</td>\n",
              "      <td>2</td>\n",
              "    </tr>\n",
              "    <tr>\n",
              "      <th>31</th>\n",
              "      <td>1997</td>\n",
              "      <td>3330</td>\n",
              "      <td>19</td>\n",
              "      <td>3390</td>\n",
              "      <td>4</td>\n",
              "      <td>3330</td>\n",
              "      <td>1</td>\n",
              "    </tr>\n",
              "    <tr>\n",
              "      <th>32</th>\n",
              "      <td>1998</td>\n",
              "      <td>3330</td>\n",
              "      <td>24</td>\n",
              "      <td>3390</td>\n",
              "      <td>4</td>\n",
              "      <td>3330</td>\n",
              "      <td>2</td>\n",
              "    </tr>\n",
              "    <tr>\n",
              "      <th>33</th>\n",
              "      <td>1999</td>\n",
              "      <td>3330</td>\n",
              "      <td>28</td>\n",
              "      <td>3390</td>\n",
              "      <td>8</td>\n",
              "      <td>3330</td>\n",
              "      <td>11</td>\n",
              "    </tr>\n",
              "    <tr>\n",
              "      <th>34</th>\n",
              "      <td>2000</td>\n",
              "      <td>3330</td>\n",
              "      <td>37</td>\n",
              "      <td>3390</td>\n",
              "      <td>15</td>\n",
              "      <td>3330</td>\n",
              "      <td>9</td>\n",
              "    </tr>\n",
              "    <tr>\n",
              "      <th>35</th>\n",
              "      <td>2001</td>\n",
              "      <td>3330</td>\n",
              "      <td>50</td>\n",
              "      <td>3390</td>\n",
              "      <td>18</td>\n",
              "      <td>3330</td>\n",
              "      <td>4</td>\n",
              "    </tr>\n",
              "    <tr>\n",
              "      <th>36</th>\n",
              "      <td>2002</td>\n",
              "      <td>3330</td>\n",
              "      <td>29</td>\n",
              "      <td>3390</td>\n",
              "      <td>15</td>\n",
              "      <td>3330</td>\n",
              "      <td>4</td>\n",
              "    </tr>\n",
              "    <tr>\n",
              "      <th>37</th>\n",
              "      <td>2003</td>\n",
              "      <td>3330</td>\n",
              "      <td>26</td>\n",
              "      <td>3390</td>\n",
              "      <td>13</td>\n",
              "      <td>3330</td>\n",
              "      <td>8</td>\n",
              "    </tr>\n",
              "    <tr>\n",
              "      <th>38</th>\n",
              "      <td>2004</td>\n",
              "      <td>3330</td>\n",
              "      <td>17</td>\n",
              "      <td>3390</td>\n",
              "      <td>18</td>\n",
              "      <td>3330</td>\n",
              "      <td>8</td>\n",
              "    </tr>\n",
              "    <tr>\n",
              "      <th>39</th>\n",
              "      <td>2005</td>\n",
              "      <td>3330</td>\n",
              "      <td>31</td>\n",
              "      <td>3390</td>\n",
              "      <td>22</td>\n",
              "      <td>3330</td>\n",
              "      <td>10</td>\n",
              "    </tr>\n",
              "    <tr>\n",
              "      <th>40</th>\n",
              "      <td>2006</td>\n",
              "      <td>3330</td>\n",
              "      <td>34</td>\n",
              "      <td>3390</td>\n",
              "      <td>33</td>\n",
              "      <td>3330</td>\n",
              "      <td>10</td>\n",
              "    </tr>\n",
              "    <tr>\n",
              "      <th>41</th>\n",
              "      <td>2007</td>\n",
              "      <td>3330</td>\n",
              "      <td>46</td>\n",
              "      <td>3390</td>\n",
              "      <td>25</td>\n",
              "      <td>3330</td>\n",
              "      <td>8</td>\n",
              "    </tr>\n",
              "    <tr>\n",
              "      <th>42</th>\n",
              "      <td>2008</td>\n",
              "      <td>3330</td>\n",
              "      <td>28</td>\n",
              "      <td>3390</td>\n",
              "      <td>27</td>\n",
              "      <td>3330</td>\n",
              "      <td>13</td>\n",
              "    </tr>\n",
              "    <tr>\n",
              "      <th>43</th>\n",
              "      <td>2009</td>\n",
              "      <td>3330</td>\n",
              "      <td>31</td>\n",
              "      <td>3390</td>\n",
              "      <td>41</td>\n",
              "      <td>3330</td>\n",
              "      <td>12</td>\n",
              "    </tr>\n",
              "    <tr>\n",
              "      <th>44</th>\n",
              "      <td>2010</td>\n",
              "      <td>3330</td>\n",
              "      <td>50</td>\n",
              "      <td>3390</td>\n",
              "      <td>39</td>\n",
              "      <td>3330</td>\n",
              "      <td>12</td>\n",
              "    </tr>\n",
              "    <tr>\n",
              "      <th>45</th>\n",
              "      <td>2011</td>\n",
              "      <td>3330</td>\n",
              "      <td>28</td>\n",
              "      <td>3390</td>\n",
              "      <td>31</td>\n",
              "      <td>3330</td>\n",
              "      <td>7</td>\n",
              "    </tr>\n",
              "    <tr>\n",
              "      <th>46</th>\n",
              "      <td>2012</td>\n",
              "      <td>3330</td>\n",
              "      <td>48</td>\n",
              "      <td>3390</td>\n",
              "      <td>48</td>\n",
              "      <td>3330</td>\n",
              "      <td>11</td>\n",
              "    </tr>\n",
              "    <tr>\n",
              "      <th>47</th>\n",
              "      <td>2013</td>\n",
              "      <td>3330</td>\n",
              "      <td>35</td>\n",
              "      <td>3390</td>\n",
              "      <td>35</td>\n",
              "      <td>3330</td>\n",
              "      <td>5</td>\n",
              "    </tr>\n",
              "    <tr>\n",
              "      <th>48</th>\n",
              "      <td>2014</td>\n",
              "      <td>3330</td>\n",
              "      <td>37</td>\n",
              "      <td>3390</td>\n",
              "      <td>41</td>\n",
              "      <td>3330</td>\n",
              "      <td>9</td>\n",
              "    </tr>\n",
              "    <tr>\n",
              "      <th>49</th>\n",
              "      <td>2015</td>\n",
              "      <td>3330</td>\n",
              "      <td>34</td>\n",
              "      <td>3390</td>\n",
              "      <td>28</td>\n",
              "      <td>3330</td>\n",
              "      <td>3</td>\n",
              "    </tr>\n",
              "    <tr>\n",
              "      <th>50</th>\n",
              "      <td>2016</td>\n",
              "      <td>3330</td>\n",
              "      <td>56</td>\n",
              "      <td>3390</td>\n",
              "      <td>36</td>\n",
              "      <td>3330</td>\n",
              "      <td>5</td>\n",
              "    </tr>\n",
              "    <tr>\n",
              "      <th>51</th>\n",
              "      <td>2017</td>\n",
              "      <td>3330</td>\n",
              "      <td>57</td>\n",
              "      <td>3390</td>\n",
              "      <td>47</td>\n",
              "      <td>3330</td>\n",
              "      <td>8</td>\n",
              "    </tr>\n",
              "    <tr>\n",
              "      <th>52</th>\n",
              "      <td>2018</td>\n",
              "      <td>3330</td>\n",
              "      <td>68</td>\n",
              "      <td>3390</td>\n",
              "      <td>62</td>\n",
              "      <td>3330</td>\n",
              "      <td>14</td>\n",
              "    </tr>\n",
              "  </tbody>\n",
              "</table>\n",
              "</div>"
            ],
            "text/plain": [
              "    Year  Redtail_ID  ...  Coopers_ID  Cooper_Hawk_Yr_Total\n",
              "0   1966        3330  ...        3330                     3\n",
              "1   1967        3330  ...        3330                     2\n",
              "2   1968        3330  ...        3330                     1\n",
              "3   1969        3330  ...        3330                     2\n",
              "4   1970        3330  ...        3330                     3\n",
              "5   1971        3330  ...        3330                     1\n",
              "6   1972        3330  ...        3330                     1\n",
              "7   1973        3330  ...        3330                     2\n",
              "8   1974        3330  ...        3330                     2\n",
              "9   1975        3330  ...        3330                     3\n",
              "10  1976        3330  ...        3330                     1\n",
              "11  1977        3330  ...        3330                     3\n",
              "12  1978        3330  ...        3330                     1\n",
              "13  1979        3330  ...        3330                     1\n",
              "14  1980        3330  ...        3330                     2\n",
              "15  1981        3330  ...        3330                     4\n",
              "16  1982        3330  ...        3330                     4\n",
              "17  1983        3330  ...        3330                     2\n",
              "18  1984        3330  ...        3330                     6\n",
              "19  1985        3330  ...        3330                     1\n",
              "20  1986        3330  ...        3330                     4\n",
              "21  1987        3330  ...        3330                     3\n",
              "22  1988        3330  ...        3330                     6\n",
              "23  1989        3330  ...        3330                     3\n",
              "24  1990        3330  ...        3330                     6\n",
              "25  1991        3330  ...        3330                     5\n",
              "26  1992        3330  ...        3330                     5\n",
              "27  1993        3330  ...        3330                     4\n",
              "28  1994        3330  ...        3330                     3\n",
              "29  1995        3330  ...        3330                     4\n",
              "30  1996        3330  ...        3330                     2\n",
              "31  1997        3330  ...        3330                     1\n",
              "32  1998        3330  ...        3330                     2\n",
              "33  1999        3330  ...        3330                    11\n",
              "34  2000        3330  ...        3330                     9\n",
              "35  2001        3330  ...        3330                     4\n",
              "36  2002        3330  ...        3330                     4\n",
              "37  2003        3330  ...        3330                     8\n",
              "38  2004        3330  ...        3330                     8\n",
              "39  2005        3330  ...        3330                    10\n",
              "40  2006        3330  ...        3330                    10\n",
              "41  2007        3330  ...        3330                     8\n",
              "42  2008        3330  ...        3330                    13\n",
              "43  2009        3330  ...        3330                    12\n",
              "44  2010        3330  ...        3330                    12\n",
              "45  2011        3330  ...        3330                     7\n",
              "46  2012        3330  ...        3330                    11\n",
              "47  2013        3330  ...        3330                     5\n",
              "48  2014        3330  ...        3330                     9\n",
              "49  2015        3330  ...        3330                     3\n",
              "50  2016        3330  ...        3330                     5\n",
              "51  2017        3330  ...        3330                     8\n",
              "52  2018        3330  ...        3330                    14\n",
              "\n",
              "[53 rows x 7 columns]"
            ]
          },
          "metadata": {
            "tags": []
          },
          "execution_count": 68
        }
      ]
    },
    {
      "cell_type": "code",
      "metadata": {
        "id": "vcoDOOiTr8wx",
        "colab_type": "code",
        "outputId": "4085d290-53ca-4c1d-8488-d8028fca9394",
        "colab": {
          "base_uri": "https://localhost:8080/",
          "height": 388
        }
      },
      "source": [
        "plt.style.use('default')\n",
        "ax = plt.gca()\n",
        "\n",
        "finished_df.plot(kind='scatter',x='Year',y='Red_Tail_Yr_Total', c = '#f57905', s = 100, alpha = 0.9, figsize=(6,4), ax=ax)\n",
        "finished_df.plot(kind='scatter',x='Year',y='Red_Shoulder_Yr_Total', c = '#1ABC9C', s = 100, alpha = 0.9, figsize=(6,4), ax=ax)\n",
        "finished_df.plot(kind='scatter',x='Year',y='Cooper_Hawk_Yr_Total', c = '#2E86C1', s = 100, alpha = 0.7, figsize=(6,4), ax=ax)\n",
        "ax.set_facecolor(\"#e4f2f2\")\n",
        "\n",
        "plt.show()\n"
      ],
      "execution_count": 69,
      "outputs": [
        {
          "output_type": "display_data",
          "data": {
            "image/png": "[encoded data removed]",
            "text/plain": [
              "<Figure size 600x400 with 1 Axes>"
            ]
          },
          "metadata": {
            "tags": []
          }
        }
      ]
    },
    {
      "cell_type": "code",
      "metadata": {
        "id": "CtthHd09CCKW",
        "colab_type": "code",
        "outputId": "9edd4c0b-03f0-4689-dfb8-1a2633ba05a5",
        "colab": {
          "base_uri": "https://localhost:8080/",
          "height": 111
        }
      },
      "source": [
        "finished_df.head(2)"
      ],
      "execution_count": 70,
      "outputs": [
        {
          "output_type": "execute_result",
          "data": {
            "text/html": [
              "<div>\n",
              "<style scoped>\n",
              "    .dataframe tbody tr th:only-of-type {\n",
              "        vertical-align: middle;\n",
              "    }\n",
              "\n",
              "    .dataframe tbody tr th {\n",
              "        vertical-align: top;\n",
              "    }\n",
              "\n",
              "    .dataframe thead th {\n",
              "        text-align: right;\n",
              "    }\n",
              "</style>\n",
              "<table border=\"1\" class=\"dataframe\">\n",
              "  <thead>\n",
              "    <tr style=\"text-align: right;\">\n",
              "      <th></th>\n",
              "      <th>Year</th>\n",
              "      <th>Redtail_ID</th>\n",
              "      <th>Red_Tail_Yr_Total</th>\n",
              "      <th>Redshoulder_ID</th>\n",
              "      <th>Red_Shoulder_Yr_Total</th>\n",
              "      <th>Coopers_ID</th>\n",
              "      <th>Cooper_Hawk_Yr_Total</th>\n",
              "    </tr>\n",
              "  </thead>\n",
              "  <tbody>\n",
              "    <tr>\n",
              "      <th>0</th>\n",
              "      <td>1966</td>\n",
              "      <td>3330</td>\n",
              "      <td>5</td>\n",
              "      <td>3390</td>\n",
              "      <td>7</td>\n",
              "      <td>3330</td>\n",
              "      <td>3</td>\n",
              "    </tr>\n",
              "    <tr>\n",
              "      <th>1</th>\n",
              "      <td>1967</td>\n",
              "      <td>3330</td>\n",
              "      <td>9</td>\n",
              "      <td>3390</td>\n",
              "      <td>8</td>\n",
              "      <td>3330</td>\n",
              "      <td>2</td>\n",
              "    </tr>\n",
              "  </tbody>\n",
              "</table>\n",
              "</div>"
            ],
            "text/plain": [
              "   Year  Redtail_ID  ...  Coopers_ID  Cooper_Hawk_Yr_Total\n",
              "0  1966        3330  ...        3330                     3\n",
              "1  1967        3330  ...        3330                     2\n",
              "\n",
              "[2 rows x 7 columns]"
            ]
          },
          "metadata": {
            "tags": []
          },
          "execution_count": 70
        }
      ]
    },
    {
      "cell_type": "code",
      "metadata": {
        "id": "mOpyDSN6AILx",
        "colab_type": "code",
        "outputId": "cdfd0415-1096-4b28-8f38-0a302af8c987",
        "colab": {
          "base_uri": "https://localhost:8080/",
          "height": 478
        }
      },
      "source": [
        "plt.style.use('default')\n",
        "from matplotlib.patches import Patch\n",
        "from matplotlib.lines import Line2D\n",
        "\n",
        "fig, ax = plt.subplots(figsize=(7,5))\n",
        "finished_df.plot(x='Year', y='Red_Tail_Yr_Total', color=\"#11ff00\", lw=1, ls='-', marker='o', markersize=10, \n",
        "        markerfacecolor=\"#dbf294\", markeredgewidth=3, markeredgecolor=\"#68ff03\", ax = ax)\n",
        "finished_df.plot(x='Year', y='Red_Shoulder_Yr_Total', color=\"#00f7b1\", lw=1, ls='-', marker='o', markersize=10, \n",
        "        markerfacecolor=\"#00ffe5\", markeredgewidth=3, markeredgecolor=\"#9961ed\", ax = ax)\n",
        "finished_df.plot(x='Year', y='Cooper_Hawk_Yr_Total', color=\"#009cf0\", lw=1, ls='-', marker='o', markersize=10, \n",
        "        markerfacecolor=\"none\", markeredgewidth=3, markeredgecolor=\"#2ab7de\", ax = ax)\n",
        "ax.set_facecolor(\"#e4f2f2\")\n",
        "\n",
        "legend_elements = [Line2D([0], [0], color=\"#11ff00\", lw=1, ls='-', marker='o', markersize=12, \n",
        "        markerfacecolor=\"#dbf294\", markeredgewidth=3, markeredgecolor=\"#68ff03\", label='Red Tail Hawk'),\n",
        "                   Line2D([0], [0], color=\"#00f7b1\", lw=1, ls='-', marker='o', markersize=12, \n",
        "        markerfacecolor=\"#00ffe5\", markeredgewidth=3, markeredgecolor=\"#9961ed\", label='Red Shouldered Hawk'),\n",
        "                  Line2D([0], [0], color=\"#009cf0\", lw=1, ls='-', marker='o', markersize=12, \n",
        "        markerfacecolor=\"none\", markeredgewidth=3, markeredgecolor=\"#2ab7de\", label=\"Cooper's Hawk\")]\n",
        "\n",
        "ax.legend(handles=legend_elements, fontsize = 14)\n",
        "# Set the x and y axes labels\n",
        "ax.set_xlabel(\"Years\", fontsize=16)\n",
        "ax.set_ylabel(\"Yearly Counts At\\n Multiple Locations\", fontsize=14)\n",
        "plt.setp(ax.get_xticklabels(), rotation='horizontal', fontsize=16)\n",
        "plt.setp(ax.get_yticklabels(), rotation='horizontal', fontsize=16)\n",
        "plt.show()"
      ],
      "execution_count": 71,
      "outputs": [
        {
          "output_type": "display_data",
          "data": {
            "image/png": "[encoded data removed]",
            "text/plain": [
              "<Figure size 700x500 with 1 Axes>"
            ]
          },
          "metadata": {
            "tags": []
          }
        }
      ]
    },
    {
      "cell_type": "code",
      "metadata": {
        "id": "Flh8ljAJ9AUo",
        "colab_type": "code",
        "outputId": "832b9c8b-e0de-4c08-82f3-62fe79015542",
        "colab": {
          "base_uri": "https://localhost:8080/",
          "height": 545
        }
      },
      "source": [
        "plt.style.use('default')\n",
        "fig, ax = plt.subplots(figsize = [8,5])\n",
        "finished_df.plot(x='Year', y='Red_Tail_Yr_Total', color = 'orange', marker ='s', markersize= 8, lw = 2, markerfacecolor= 'orange', markeredgecolor='orange', ax = ax)\n",
        "finished_df.plot(x='Year', y='Red_Shoulder_Yr_Total', color = 'green', marker ='^', markersize = 8, lw = 2, ls = '--', markerfacecolor= 'green', markeredgecolor= 'g', ax = ax)\n",
        "finished_df.plot(x='Year', y='Cooper_Hawk_Yr_Total', lw = 4, ls =':', color = 'blue', ax = ax)\n",
        "ax.set_facecolor(\"#e4f2f2\")\n",
        "\n",
        "\n",
        "L=plt.legend(fontsize = 14)\n",
        "L.get_texts()[0].set_text('Red Tail Hawk')\n",
        "L.get_texts()[1].set_text('Red Shouldered Hawk')\n",
        "L.get_texts()[2].set_text(\"Cooper's Hawk\")\n",
        "\n",
        "# Set the x and y axes labels\n",
        "ax.set_xticks(range(1966, 2020, 4))\n",
        "plt.xticks(\n",
        "    rotation=45, \n",
        "    horizontalalignment='right',\n",
        "    fontweight='light',\n",
        "    fontsize='12'  \n",
        ")\n",
        "\n",
        "ax.set_yticks(range(0, 75, 10))\n",
        "plt.yticks(\n",
        "    rotation=25, \n",
        "    horizontalalignment='right',\n",
        "    fontweight='bold',\n",
        "    fontsize='14'  \n",
        ")\n",
        "\n",
        "\n",
        "# Add title and axis names\n",
        "plt.title('3 Most Common Hawk Species in Kentucky\\nCounted in Different Locations Over 50 Years.', fontsize = 14)\n",
        "plt.xlabel('Years', fontsize = 16)\n",
        "plt.ylabel(\"Hawks Counted Per Year.\", fontsize = 14)\n",
        "fig.show()\n",
        "plt.savefig('myfigure.png')"
      ],
      "execution_count": 74,
      "outputs": [
        {
          "output_type": "display_data",
          "data": {
            "image/png": "[encoded data removed]",
            "text/plain": [
              "<Figure size 800x500 with 1 Axes>"
            ]
          },
          "metadata": {
            "tags": []
          }
        }
      ]
    },
    {
      "cell_type": "code",
      "metadata": {
        "id": "nq5Qv6q_O58P",
        "colab_type": "code",
        "colab": {}
      },
      "source": [
        "# Tried to use for plotly\n",
        "import chart_studio.plotly as py"
      ],
      "execution_count": 0,
      "outputs": []
    },
    {
      "cell_type": "code",
      "metadata": {
        "id": "8EwbquTWPzu7",
        "colab_type": "code",
        "colab": {}
      },
      "source": [
        "# Tried to use for plotly\n",
        "py.plot(fig, filename = 'hawks', auto_open=True)"
      ],
      "execution_count": 0,
      "outputs": []
    }
  ]
}